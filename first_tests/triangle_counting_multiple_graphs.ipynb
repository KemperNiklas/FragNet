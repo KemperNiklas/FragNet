{
 "cells": [
  {
   "cell_type": "code",
   "execution_count": 1,
   "metadata": {},
   "outputs": [],
   "source": [
    "%load_ext autoreload\n",
    "%autoreload 2"
   ]
  },
  {
   "cell_type": "code",
   "execution_count": 2,
   "metadata": {},
   "outputs": [
    {
     "name": "stderr",
     "output_type": "stream",
     "text": [
      "Failed to detect the name of this notebook, you can set it manually with the WANDB_NOTEBOOK_NAME environment variable to enable code saving.\n",
      "\u001b[34m\u001b[1mwandb\u001b[0m: Currently logged in as: \u001b[33mniklas-kemper\u001b[0m. Use \u001b[1m`wandb login --relogin`\u001b[0m to force relogin\n"
     ]
    }
   ],
   "source": [
    "enable_wandb = True\n",
    "if enable_wandb:\n",
    "    import wandb\n",
    "    wandb.login()"
   ]
  },
  {
   "cell_type": "code",
   "execution_count": 3,
   "metadata": {},
   "outputs": [],
   "source": [
    "from torch_geometric.datasets import TUDataset"
   ]
  },
  {
   "cell_type": "code",
   "execution_count": 4,
   "metadata": {},
   "outputs": [],
   "source": [
    "from substructures import get_rings, get_substructure_edge_index, get_node_counts\n",
    "import torch\n",
    "def pre_transform(graph):\n",
    "    triangles = get_rings(graph.edge_index, max_k =3)\n",
    "    squares = get_rings(graph.edge_index, min_k = 4, max_k = 4)\n",
    "    substructures_edge_index = [get_substructure_edge_index(substructure) for substructure in [triangles, squares]]\n",
    "    return graph.update({\"substructures_edge_index\": substructures_edge_index, \"y\": get_node_counts(triangles, graph.num_nodes), \"x\": torch.zeros((graph.num_nodes,1))})"
   ]
  },
  {
   "cell_type": "code",
   "execution_count": 5,
   "metadata": {},
   "outputs": [],
   "source": [
    "DATASET_NAME = \"ENZYMES\"\n",
    "dataset = TUDataset(root=f'/tmp/{DATASET_NAME}_node_level', name=DATASET_NAME, pre_transform = pre_transform, use_node_attr= True)"
   ]
  },
  {
   "cell_type": "code",
   "execution_count": 6,
   "metadata": {},
   "outputs": [
    {
     "data": {
      "text/plain": [
       "<matplotlib.axes._subplots.AxesSubplot at 0x7fe324fd6d30>"
      ]
     },
     "execution_count": 6,
     "metadata": {},
     "output_type": "execute_result"
    },
    {
     "data": {
      "image/png": "[encoded data removed]",
      "text/plain": [
       "<Figure size 640x480 with 1 Axes>"
      ]
     },
     "metadata": {},
     "output_type": "display_data"
    }
   ],
   "source": [
    "import seaborn as sns\n",
    "from itertools import chain\n",
    "sns.histplot(list(map(lambda x: int(x), list(chain(*[graph.y for graph in dataset])))))"
   ]
  },
  {
   "cell_type": "code",
   "execution_count": 7,
   "metadata": {},
   "outputs": [],
   "source": [
    "from torch_geometric.loader import DataLoader"
   ]
  },
  {
   "cell_type": "code",
   "execution_count": 8,
   "metadata": {},
   "outputs": [],
   "source": [
    "torch.manual_seed(0)\n",
    "count_dataset = dataset.shuffle()\n",
    "train_num = int(len(count_dataset) * 0.6)\n",
    "val_num = int(len(count_dataset) * 0.2)\n",
    "train_dataset = count_dataset[:train_num]\n",
    "val_dataset = count_dataset[train_num:train_num + val_num]\n",
    "test_dataset = count_dataset[train_num + val_num:]\n",
    "train_loader = DataLoader(train_dataset, batch_size = 16)\n",
    "val_loader = DataLoader(val_dataset, batch_size=16)\n",
    "test_loader = DataLoader(test_dataset, batch_size=16)\n"
   ]
  },
  {
   "cell_type": "code",
   "execution_count": 9,
   "metadata": {},
   "outputs": [],
   "source": [
    "hyper = {\"lr\":0.01, \n",
    "         \"weight_decay\":5e-4, \n",
    "         \"num_layers\":3, \n",
    "         \"batch_size\": 16, \n",
    "         \"hidden_channels\": 16, \n",
    "         \"substructures\": [\"triangles\", \"squares\"], \n",
    "         \"dataset\": DATASET_NAME, \n",
    "         \"target\": \"triangles\", \n",
    "         \"node_level_predictions\": True, \n",
    "         \"max_epochs\": 50}"
   ]
  },
  {
   "cell_type": "code",
   "execution_count": 19,
   "metadata": {},
   "outputs": [],
   "source": [
    "import simple_model_triangles\n",
    "model = simple_model_triangles.SimpleSubstructureNeuralNet(hidden_channels=hyper[\"hidden_channels\"], out_channels=1, in_channels = dataset.num_node_features, num_layers=hyper[\"num_layers\"], num_substructures=2)"
   ]
  },
  {
   "cell_type": "code",
   "execution_count": 20,
   "metadata": {},
   "outputs": [
    {
     "name": "stdout",
     "output_type": "stream",
     "text": [
      "SimpleSubstructureNeuralNet(\n",
      "  (layers): ModuleList(\n",
      "    (0): SubstructureLayer(\n",
      "      (message_neighbor): GINConv(nn=Sequential(\n",
      "        (0): Linear(in_features=1, out_features=32, bias=True)\n",
      "        (1): BatchNorm1d(32, eps=1e-05, momentum=0.1, affine=True, track_running_stats=True)\n",
      "        (2): ReLU()\n",
      "        (3): Linear(in_features=32, out_features=16, bias=True)\n",
      "      ))\n",
      "      (node2substructures): ModuleList(\n",
      "        (0-1): 2 x Sequential(\n",
      "          (0): Linear(in_features=16, out_features=32, bias=True)\n",
      "          (1): ReLU()\n",
      "          (2): Linear(in_features=32, out_features=16, bias=True)\n",
      "        )\n",
      "      )\n",
      "      (substructures2node): ModuleList(\n",
      "        (0-1): 2 x Sequential(\n",
      "          (0): Linear(in_features=16, out_features=32, bias=True)\n",
      "          (1): ReLU()\n",
      "          (2): Linear(in_features=32, out_features=16, bias=True)\n",
      "        )\n",
      "      )\n",
      "    )\n",
      "    (1-2): 2 x SubstructureLayer(\n",
      "      (message_neighbor): GINConv(nn=Sequential(\n",
      "        (0): Linear(in_features=16, out_features=32, bias=True)\n",
      "        (1): BatchNorm1d(32, eps=1e-05, momentum=0.1, affine=True, track_running_stats=True)\n",
      "        (2): ReLU()\n",
      "        (3): Linear(in_features=32, out_features=16, bias=True)\n",
      "      ))\n",
      "      (node2substructures): ModuleList(\n",
      "        (0-1): 2 x Sequential(\n",
      "          (0): Linear(in_features=16, out_features=32, bias=True)\n",
      "          (1): ReLU()\n",
      "          (2): Linear(in_features=32, out_features=16, bias=True)\n",
      "        )\n",
      "      )\n",
      "      (substructures2node): ModuleList(\n",
      "        (0-1): 2 x Sequential(\n",
      "          (0): Linear(in_features=16, out_features=32, bias=True)\n",
      "          (1): ReLU()\n",
      "          (2): Linear(in_features=32, out_features=16, bias=True)\n",
      "        )\n",
      "      )\n",
      "    )\n",
      "  )\n",
      "  (lin): Linear(in_features=16, out_features=1, bias=True)\n",
      ")\n"
     ]
    }
   ],
   "source": [
    "print(model)"
   ]
  },
  {
   "cell_type": "code",
   "execution_count": 21,
   "metadata": {},
   "outputs": [
    {
     "data": {
      "text/html": [
       "Tracking run with wandb version 0.15.5"
      ],
      "text/plain": [
       "<IPython.core.display.HTML object>"
      ]
     },
     "metadata": {},
     "output_type": "display_data"
    },
    {
     "data": {
      "text/html": [
       "Run data is saved locally in <code>./wandb/run-20230719_140957-cei1h1mc</code>"
      ],
      "text/plain": [
       "<IPython.core.display.HTML object>"
      ]
     },
     "metadata": {},
     "output_type": "display_data"
    },
    {
     "data": {
      "text/html": [
       "Syncing run <strong><a href='https://wandb.ai/niklas-kemper/triangle-counting-multiple-datasets/runs/cei1h1mc' target=\"_blank\">triangle counting with linear attention</a></strong> to <a href='https://wandb.ai/niklas-kemper/triangle-counting-multiple-datasets' target=\"_blank\">Weights & Biases</a> (<a href='https://wandb.me/run' target=\"_blank\">docs</a>)<br/>"
      ],
      "text/plain": [
       "<IPython.core.display.HTML object>"
      ]
     },
     "metadata": {},
     "output_type": "display_data"
    },
    {
     "data": {
      "text/html": [
       " View project at <a href='https://wandb.ai/niklas-kemper/triangle-counting-multiple-datasets' target=\"_blank\">https://wandb.ai/niklas-kemper/triangle-counting-multiple-datasets</a>"
      ],
      "text/plain": [
       "<IPython.core.display.HTML object>"
      ]
     },
     "metadata": {},
     "output_type": "display_data"
    },
    {
     "data": {
      "text/html": [
       " View run at <a href='https://wandb.ai/niklas-kemper/triangle-counting-multiple-datasets/runs/cei1h1mc' target=\"_blank\">https://wandb.ai/niklas-kemper/triangle-counting-multiple-datasets/runs/cei1h1mc</a>"
      ],
      "text/plain": [
       "<IPython.core.display.HTML object>"
      ]
     },
     "metadata": {},
     "output_type": "display_data"
    },
    {
     "name": "stderr",
     "output_type": "stream",
     "text": [
      "\u001b[34m\u001b[1mwandb\u001b[0m: logging graph, to disable use `wandb.watch(log_graph=False)`\n",
      "GPU available: False, used: False\n",
      "TPU available: False, using: 0 TPU cores\n",
      "IPU available: False, using: 0 IPUs\n",
      "HPU available: False, using: 0 HPUs\n",
      "\n",
      "  | Name  | Type                        | Params\n",
      "------------------------------------------------------\n",
      "0 | model | SimpleSubstructureNeuralNet | 15.8 K\n",
      "------------------------------------------------------\n",
      "15.8 K    Trainable params\n",
      "0         Non-trainable params\n",
      "15.8 K    Total params\n",
      "0.063     Total estimated model params size (MB)\n",
      "/Users/niklas/anaconda3/envs/substructureML/lib/python3.8/site-packages/pytorch_lightning/trainer/connectors/data_connector.py:432: PossibleUserWarning: The dataloader, val_dataloader, does not have many workers which may be a bottleneck. Consider increasing the value of the `num_workers` argument` (try 8 which is the number of cpus on this machine) in the `DataLoader` init to improve performance.\n",
      "  rank_zero_warn(\n",
      "/Users/niklas/Documents/Studium/Informatik/Masterarbeit/substructureML/first_tests/simple_model_triangles.py:27: UserWarning: Implicit dimension choice for softmax has been deprecated. Change the call to include dim=X as an argument.\n",
      "  substructures_scaling = F.softmax(self.substructures_attention)\n",
      "/Users/niklas/anaconda3/envs/substructureML/lib/python3.8/site-packages/pytorch_lightning/trainer/connectors/data_connector.py:432: PossibleUserWarning: The dataloader, train_dataloader, does not have many workers which may be a bottleneck. Consider increasing the value of the `num_workers` argument` (try 8 which is the number of cpus on this machine) in the `DataLoader` init to improve performance.\n",
      "  rank_zero_warn(\n",
      "`Trainer.fit` stopped: `max_epochs=50` reached.\n"
     ]
    },
    {
     "data": {
      "text/html": [
       "Waiting for W&B process to finish... <strong style=\"color:green\">(success).</strong>"
      ],
      "text/plain": [
       "<IPython.core.display.HTML object>"
      ]
     },
     "metadata": {},
     "output_type": "display_data"
    },
    {
     "data": {
      "application/vnd.jupyter.widget-view+json": {
       "model_id": "7bde559386664adc96f57695d7545bdf",
       "version_major": 2,
       "version_minor": 0
      },
      "text/plain": [
       "VBox(children=(Label(value='0.007 MB of 0.007 MB uploaded (0.000 MB deduped)\\r'), FloatProgress(value=1.0, max…"
      ]
     },
     "metadata": {},
     "output_type": "display_data"
    },
    {
     "data": {
      "text/html": [
       "<style>\n",
       "    table.wandb td:nth-child(1) { padding: 0 10px; text-align: left ; width: auto;} td:nth-child(2) {text-align: left ; width: 100%}\n",
       "    .wandb-row { display: flex; flex-direction: row; flex-wrap: wrap; justify-content: flex-start; width: 100% }\n",
       "    .wandb-col { display: flex; flex-direction: column; flex-basis: 100%; flex: 1; padding: 10px; }\n",
       "    </style>\n",
       "<div class=\"wandb-row\"><div class=\"wandb-col\"><h3>Run history:</h3><br/><table class=\"wandb\"><tr><td>epoch</td><td>▁▁▁▁▂▂▂▂▂▃▃▃▃▃▃▄▄▄▄▄▅▅▅▅▅▅▆▆▆▆▆▇▇▇▇▇▇███</td></tr><tr><td>square_attention</td><td>█▇▅▅▅▄▄▄▃▃▃▃▃▃▃▃▃▃▃▂▂▂▂▂▂▂▂▂▂▂▂▂▂▂▂▁▁▁▁▁</td></tr><tr><td>trainer/global_step</td><td>▁▁▁▁▂▂▂▂▂▃▃▃▃▃▃▄▄▄▄▄▅▅▅▅▅▅▆▆▆▆▆▇▇▇▇▇▇███</td></tr><tr><td>training_loss</td><td>█▄▂▁▁▁▁▁▁▁▁▁▁▁▁▁▁▁▁▁▁▁▁▁▁▁▁▁▁▁▁▁▁▁▁▁▁▁▁▁</td></tr><tr><td>triangle_attention</td><td>▁▂▄▄▄▅▅▅▆▆▆▆▆▆▆▆▆▆▆▇▇▇▇▇▇▇▇▇▇▇▇▇▇▇▇█████</td></tr><tr><td>val_acc</td><td>▁▅▅▂████████████████████████████████████</td></tr><tr><td>val_loss</td><td>█▂▃▇▁▁▁▁▁▁▁▁▁▁▁▁▁▁▁▁▁▁▁▁▁▁▁▁▁▁▁▁▁▁▁▁▁▁▁▁</td></tr></table><br/></div><div class=\"wandb-col\"><h3>Run summary:</h3><br/><table class=\"wandb\"><tr><td>epoch</td><td>49</td></tr><tr><td>square_attention</td><td>-0.07162</td></tr><tr><td>trainer/global_step</td><td>1149</td></tr><tr><td>training_loss</td><td>6e-05</td></tr><tr><td>triangle_attention</td><td>0.07162</td></tr><tr><td>val_acc</td><td>1.0</td></tr><tr><td>val_loss</td><td>6e-05</td></tr></table><br/></div></div>"
      ],
      "text/plain": [
       "<IPython.core.display.HTML object>"
      ]
     },
     "metadata": {},
     "output_type": "display_data"
    },
    {
     "data": {
      "text/html": [
       " View run <strong style=\"color:#cdcd00\">triangle counting with linear attention</strong> at: <a href='https://wandb.ai/niklas-kemper/triangle-counting-multiple-datasets/runs/cei1h1mc' target=\"_blank\">https://wandb.ai/niklas-kemper/triangle-counting-multiple-datasets/runs/cei1h1mc</a><br/>Synced 6 W&B file(s), 1 media file(s), 0 artifact file(s) and 0 other file(s)"
      ],
      "text/plain": [
       "<IPython.core.display.HTML object>"
      ]
     },
     "metadata": {},
     "output_type": "display_data"
    },
    {
     "data": {
      "text/html": [
       "Find logs at: <code>./wandb/run-20230719_140957-cei1h1mc/logs</code>"
      ],
      "text/plain": [
       "<IPython.core.display.HTML object>"
      ]
     },
     "metadata": {},
     "output_type": "display_data"
    }
   ],
   "source": [
    "from trainer import GraphNetNodePredictions\n",
    "from pytorch_lightning.loggers import WandbLogger\n",
    "from pytorch_lightning import Trainer\n",
    "\n",
    "wandb_logger = WandbLogger(project='triangle-counting-multiple-datasets', name= \"triangle counting with linear attention\")\n",
    "wandb_logger.experiment.config.update(hyper)\n",
    "wandb_logger.watch(model, log=\"all\")\n",
    "\n",
    "trainer = Trainer(max_epochs=hyper[\"max_epochs\"], logger= wandb_logger, enable_progress_bar= False, log_every_n_steps=15)\n",
    "model_lightning = GraphNetNodePredictions(model, lr = hyper[\"lr\"], weight_decay = hyper[\"weight_decay\"])\n",
    "\n",
    "trainer.fit(model_lightning, train_dataloaders=train_loader, val_dataloaders= val_loader)\n",
    "wandb.finish()"
   ]
  },
  {
   "cell_type": "code",
   "execution_count": null,
   "metadata": {},
   "outputs": [],
   "source": []
  }
 ],
 "metadata": {
  "kernelspec": {
   "display_name": "substructureML",
   "language": "python",
   "name": "python3"
  },
  "language_info": {
   "codemirror_mode": {
    "name": "ipython",
    "version": 3
   },
   "file_extension": ".py",
   "mimetype": "text/x-python",
   "name": "python",
   "nbconvert_exporter": "python",
   "pygments_lexer": "ipython3",
   "version": "3.8.17"
  },
  "orig_nbformat": 4
 },
 "nbformat": 4,
 "nbformat_minor": 2
}
