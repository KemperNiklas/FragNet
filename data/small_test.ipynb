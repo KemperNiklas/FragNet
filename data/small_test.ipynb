{
 "cells": [
  {
   "cell_type": "code",
   "execution_count": 1,
   "metadata": {},
   "outputs": [],
   "source": [
    "%load_ext autoreload\n",
    "%autoreload 2"
   ]
  },
  {
   "cell_type": "code",
   "execution_count": 2,
   "metadata": {},
   "outputs": [
    {
     "name": "stdout",
     "output_type": "stream",
     "text": [
      "/nfs/homedirs/kempern/substructure-gnns\n"
     ]
    }
   ],
   "source": [
    "%cd .."
   ]
  },
  {
   "cell_type": "code",
   "execution_count": 3,
   "metadata": {},
   "outputs": [],
   "source": [
    "import datasets.data as data"
   ]
  },
  {
   "cell_type": "code",
   "execution_count": 5,
   "metadata": {},
   "outputs": [
    {
     "name": "stderr",
     "output_type": "stream",
     "text": [
      "Downloading https://www.dropbox.com/s/feo9qle74kg48gy/molecules.zip?dl=1\n",
      "Extracting /tmp/ZINC_-8192551027462808601/molecules.zip\n",
      "Downloading https://raw.githubusercontent.com/graphdeeplearning/benchmarking-gnns/master/data/molecules/train.index\n",
      "Downloading https://raw.githubusercontent.com/graphdeeplearning/benchmarking-gnns/master/data/molecules/val.index\n",
      "Downloading https://raw.githubusercontent.com/graphdeeplearning/benchmarking-gnns/master/data/molecules/test.index\n",
      "Processing...\n",
      "Processing train dataset:   0%|          | 0/10000 [00:00<?, ?it/s]/nfs/homedirs/kempern/substructure-gnns/datasets/fragmentations/fragmentations.py:245: UserWarning: The use of `x.T` on tensors of dimension other than 2 to reverse their shape is deprecated and it will throw an error in a future release. Consider `x.mT` to transpose batches of matricesor `x.permute(*torch.arange(x.ndim - 1, -1, -1))` to reverse the dimensions of a tensor. (Triggered internally at  /opt/conda/conda-bld/pytorch_1646755903507/work/aten/src/ATen/native/TensorShape.cpp:2318.)\n",
      "  graph.fragments_edge_index = torch.tensor(edges, dtype = torch.long).T.contiguous()\n",
      "Processing train dataset: 100%|██████████| 10000/10000 [00:18<00:00, 552.15it/s]\n",
      "Processing val dataset: 100%|██████████| 1000/1000 [00:02<00:00, 432.66it/s]\n",
      "Processing test dataset: 100%|██████████| 1000/1000 [00:01<00:00, 590.13it/s]\n",
      "Done!\n"
     ]
    }
   ],
   "source": [
    "train_loader, _, _, _, _ = data.load_fragmentation(\"ZINC\", fragmentation_method = [\"Rings\", \"fragment\", 15], remove_node_features=False, one_hot_degree=False, one_hot_edge_features=True, loader_params = {\"batch_size\":32, \"num_workers\":2})"
   ]
  },
  {
   "cell_type": "code",
   "execution_count": 6,
   "metadata": {},
   "outputs": [
    {
     "data": {
      "text/plain": [
       "FragmentDataBatch(x=[750, 30], x_batch=[750], x_ptr=[33], edge_index=[2, 1612], edge_attr=[1612, 4], y=[32], mol=[32], substructures=[32], fragments=[88, 15], fragments_batch=[88], fragments_ptr=[33], fragments_edge_index=[2, 490], batch=[750], ptr=[33])"
      ]
     },
     "execution_count": 6,
     "metadata": {},
     "output_type": "execute_result"
    }
   ],
   "source": [
    "next(iter(train_loader))"
   ]
  },
  {
   "cell_type": "code",
   "execution_count": 13,
   "metadata": {},
   "outputs": [
    {
     "data": {
      "text/plain": [
       "torch.Size([2, 490])"
      ]
     },
     "execution_count": 13,
     "metadata": {},
     "output_type": "execute_result"
    }
   ],
   "source": [
    "next(iter(train_loader)).fragments_edge_index.shape"
   ]
  },
  {
   "cell_type": "code",
   "execution_count": 7,
   "metadata": {},
   "outputs": [],
   "source": [
    "from models.gcn import HimpNet"
   ]
  },
  {
   "cell_type": "code",
   "execution_count": 10,
   "metadata": {},
   "outputs": [],
   "source": [
    "model = HimpNet(hidden_channels= 10, out_channels=1, in_channels = 30, in_channels_substructure=15, in_channels_edge=4, num_layers = 3, dropout = 0)"
   ]
  },
  {
   "cell_type": "code",
   "execution_count": 11,
   "metadata": {},
   "outputs": [
    {
     "data": {
      "text/plain": [
       "HimpNet(\n",
       "  (atom_encoder): Linear(in_features=30, out_features=10, bias=True)\n",
       "  (clique_encoder): Linear(in_features=15, out_features=10, bias=True)\n",
       "  (bond_encoders): ModuleList(\n",
       "    (0): Linear(in_features=4, out_features=10, bias=True)\n",
       "    (1): Linear(in_features=4, out_features=10, bias=True)\n",
       "    (2): Linear(in_features=4, out_features=10, bias=True)\n",
       "  )\n",
       "  (atom_convs): ModuleList(\n",
       "    (0): GINEConv(nn=Sequential(\n",
       "      (0): Linear(in_features=10, out_features=20, bias=True)\n",
       "      (1): BatchNorm1d(20, eps=1e-05, momentum=0.1, affine=True, track_running_stats=True)\n",
       "      (2): ReLU()\n",
       "      (3): Linear(in_features=20, out_features=10, bias=True)\n",
       "    ))\n",
       "    (1): GINEConv(nn=Sequential(\n",
       "      (0): Linear(in_features=10, out_features=20, bias=True)\n",
       "      (1): BatchNorm1d(20, eps=1e-05, momentum=0.1, affine=True, track_running_stats=True)\n",
       "      (2): ReLU()\n",
       "      (3): Linear(in_features=20, out_features=10, bias=True)\n",
       "    ))\n",
       "    (2): GINEConv(nn=Sequential(\n",
       "      (0): Linear(in_features=10, out_features=20, bias=True)\n",
       "      (1): BatchNorm1d(20, eps=1e-05, momentum=0.1, affine=True, track_running_stats=True)\n",
       "      (2): ReLU()\n",
       "      (3): Linear(in_features=20, out_features=10, bias=True)\n",
       "    ))\n",
       "  )\n",
       "  (atom_batch_norms): ModuleList(\n",
       "    (0): BatchNorm1d(10, eps=1e-05, momentum=0.1, affine=True, track_running_stats=True)\n",
       "    (1): BatchNorm1d(10, eps=1e-05, momentum=0.1, affine=True, track_running_stats=True)\n",
       "    (2): BatchNorm1d(10, eps=1e-05, momentum=0.1, affine=True, track_running_stats=True)\n",
       "  )\n",
       "  (clique_convs): ModuleList(\n",
       "    (0): GINConv(nn=Sequential(\n",
       "      (0): Linear(in_features=10, out_features=20, bias=True)\n",
       "      (1): BatchNorm1d(20, eps=1e-05, momentum=0.1, affine=True, track_running_stats=True)\n",
       "      (2): ReLU()\n",
       "      (3): Linear(in_features=20, out_features=10, bias=True)\n",
       "    ))\n",
       "    (1): GINConv(nn=Sequential(\n",
       "      (0): Linear(in_features=10, out_features=20, bias=True)\n",
       "      (1): BatchNorm1d(20, eps=1e-05, momentum=0.1, affine=True, track_running_stats=True)\n",
       "      (2): ReLU()\n",
       "      (3): Linear(in_features=20, out_features=10, bias=True)\n",
       "    ))\n",
       "    (2): GINConv(nn=Sequential(\n",
       "      (0): Linear(in_features=10, out_features=20, bias=True)\n",
       "      (1): BatchNorm1d(20, eps=1e-05, momentum=0.1, affine=True, track_running_stats=True)\n",
       "      (2): ReLU()\n",
       "      (3): Linear(in_features=20, out_features=10, bias=True)\n",
       "    ))\n",
       "  )\n",
       "  (clique_batch_norms): ModuleList(\n",
       "    (0): BatchNorm1d(10, eps=1e-05, momentum=0.1, affine=True, track_running_stats=True)\n",
       "    (1): BatchNorm1d(10, eps=1e-05, momentum=0.1, affine=True, track_running_stats=True)\n",
       "    (2): BatchNorm1d(10, eps=1e-05, momentum=0.1, affine=True, track_running_stats=True)\n",
       "  )\n",
       "  (atom2clique_lins): ModuleList(\n",
       "    (0): Linear(in_features=10, out_features=10, bias=True)\n",
       "    (1): Linear(in_features=10, out_features=10, bias=True)\n",
       "    (2): Linear(in_features=10, out_features=10, bias=True)\n",
       "  )\n",
       "  (clique2atom_lins): ModuleList(\n",
       "    (0): Linear(in_features=10, out_features=10, bias=True)\n",
       "    (1): Linear(in_features=10, out_features=10, bias=True)\n",
       "    (2): Linear(in_features=10, out_features=10, bias=True)\n",
       "  )\n",
       "  (atom_lin): Linear(in_features=10, out_features=10, bias=True)\n",
       "  (clique_lin): Linear(in_features=10, out_features=10, bias=True)\n",
       "  (lin): Linear(in_features=10, out_features=1, bias=True)\n",
       ")"
      ]
     },
     "execution_count": 11,
     "metadata": {},
     "output_type": "execute_result"
    }
   ],
   "source": [
    "model"
   ]
  },
  {
   "cell_type": "code",
   "execution_count": 12,
   "metadata": {},
   "outputs": [],
   "source": [
    "batch = next(iter(train_loader))"
   ]
  },
  {
   "cell_type": "code",
   "execution_count": 13,
   "metadata": {},
   "outputs": [
    {
     "data": {
      "text/plain": [
       "tensor([[0.0811],\n",
       "        [0.2122],\n",
       "        [0.1038],\n",
       "        [0.1140],\n",
       "        [0.2938],\n",
       "        [0.1383],\n",
       "        [0.4233],\n",
       "        [0.2544],\n",
       "        [0.1944],\n",
       "        [0.1489],\n",
       "        [0.1642],\n",
       "        [0.0613],\n",
       "        [0.0684],\n",
       "        [0.2217],\n",
       "        [0.1592],\n",
       "        [0.0545],\n",
       "        [0.0855],\n",
       "        [0.2265],\n",
       "        [0.1594],\n",
       "        [0.0894],\n",
       "        [0.1676],\n",
       "        [0.2198],\n",
       "        [0.2011],\n",
       "        [0.1514],\n",
       "        [0.2293],\n",
       "        [0.0333],\n",
       "        [0.0917],\n",
       "        [0.0306],\n",
       "        [0.1045],\n",
       "        [0.1892],\n",
       "        [0.1560],\n",
       "        [0.2030]], grad_fn=<AddmmBackward0>)"
      ]
     },
     "execution_count": 13,
     "metadata": {},
     "output_type": "execute_result"
    }
   ],
   "source": [
    "model(batch)"
   ]
  },
  {
   "cell_type": "code",
   "execution_count": null,
   "metadata": {},
   "outputs": [],
   "source": []
  }
 ],
 "metadata": {
  "kernelspec": {
   "display_name": "substructureML2",
   "language": "python",
   "name": "python3"
  },
  "language_info": {
   "codemirror_mode": {
    "name": "ipython",
    "version": 3
   },
   "file_extension": ".py",
   "mimetype": "text/x-python",
   "name": "python",
   "nbconvert_exporter": "python",
   "pygments_lexer": "ipython3",
   "version": "3.8.17"
  },
  "orig_nbformat": 4
 },
 "nbformat": 4,
 "nbformat_minor": 2
}
