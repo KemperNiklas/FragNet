{
 "cells": [
  {
   "cell_type": "code",
   "execution_count": 1,
   "metadata": {},
   "outputs": [],
   "source": [
    "%load_ext autoreload\n",
    "%autoreload 2"
   ]
  },
  {
   "cell_type": "code",
   "execution_count": 2,
   "metadata": {},
   "outputs": [],
   "source": [
    "from torch_geometric.datasets import ZINC"
   ]
  },
  {
   "cell_type": "code",
   "execution_count": 3,
   "metadata": {},
   "outputs": [],
   "source": [
    "from graph_to_mol import ZINC_Graph_Add_Mol"
   ]
  },
  {
   "cell_type": "code",
   "execution_count": 4,
   "metadata": {},
   "outputs": [
    {
     "name": "stdout",
     "output_type": "stream",
     "text": [
      "/nfs/homedirs/kempern/substructure-gnns\n"
     ]
    }
   ],
   "source": [
    "%cd /nfs/homedirs/kempern/substructure-gnns"
   ]
  },
  {
   "cell_type": "code",
   "execution_count": 5,
   "metadata": {},
   "outputs": [],
   "source": [
    "data = ZINC(\"datasets/data/ZINC/ZINC_mol\", subset = True, pre_transform= ZINC_Graph_Add_Mol())"
   ]
  },
  {
   "cell_type": "code",
   "execution_count": 6,
   "metadata": {},
   "outputs": [
    {
     "data": {
      "text/plain": [
       "2000"
      ]
     },
     "execution_count": 6,
     "metadata": {},
     "output_type": "execute_result"
    }
   ],
   "source": [
    "from torch.utils.data import random_split\n",
    "a, b = random_split(data, [int(0.2 * len(data)), len(data) - int(0.2 * len(data))])\n",
    "len(a)"
   ]
  },
  {
   "cell_type": "code",
   "execution_count": 7,
   "metadata": {},
   "outputs": [],
   "source": [
    "import datasets.fragmentations.fragmentations as frag"
   ]
  },
  {
   "cell_type": "code",
   "execution_count": 8,
   "metadata": {},
   "outputs": [],
   "source": [
    "from torch_geometric.loader import DataLoader\n",
    "s = frag.RingsPaths(vocab_size = 15, max_ring = 10, cut_leafs = False)\n",
    "t = frag.HigherLevelGraph(vocab_size = 16, neighbor = \"tree\", higher_edge_features=True)\n",
    "data_pre = t(s(data[0]))\n",
    "data_pre2 = t(s(data[1]))\n",
    "dataloader = DataLoader([data_pre, data_pre2],batch_size=2, follow_batch = [\"x\", \"fragments\"])"
   ]
  },
  {
   "cell_type": "code",
   "execution_count": 9,
   "metadata": {},
   "outputs": [
    {
     "data": {
      "image/png": "[encoded data removed]",
      "text/plain": [
       "<rdkit.Chem.rdchem.RWMol at 0x7f2b6ad34540>"
      ]
     },
     "execution_count": 9,
     "metadata": {},
     "output_type": "execute_result"
    }
   ],
   "source": [
    "data[80].mol"
   ]
  },
  {
   "cell_type": "code",
   "execution_count": 10,
   "metadata": {},
   "outputs": [
    {
     "data": {
      "text/plain": [
       "tensor([0, 0, 1, 1, 0, 0, 0, 0, 0, 0, 0, 0, 0, 0, 0, 0, 0, 0, 0, 0, 0, 0, 0, 0,\n",
       "        0, 0, 0, 0, 0, 0, 0, 0, 0, 0, 0, 0, 0, 0, 0, 0, 0, 0, 0, 0, 0, 0, 0, 0,\n",
       "        0, 0, 0, 0, 0, 0, 0, 0])"
      ]
     },
     "execution_count": 10,
     "metadata": {},
     "output_type": "execute_result"
    }
   ],
   "source": [
    "next(iter(dataloader)).higher_edge_types"
   ]
  },
  {
   "cell_type": "code",
   "execution_count": 11,
   "metadata": {},
   "outputs": [
    {
     "data": {
      "text/plain": [
       "tensor([0, 0, 0, 0, 0, 0, 0, 0, 0, 0, 0, 0, 0, 0, 0, 0, 0, 0, 0, 0, 0, 0, 0, 0,\n",
       "        0, 0, 0, 0, 0, 0, 0, 0, 0, 0, 0, 0, 0, 0, 0, 0, 0, 0, 0, 0, 0, 0, 0, 0,\n",
       "        0, 0, 0, 0, 0, 0, 0, 0, 0, 0, 0, 0, 0, 0, 0, 0, 1, 1, 1, 1, 1, 1, 1, 1,\n",
       "        1, 1, 1, 1, 1, 1, 1, 1, 1, 1, 1, 1, 1, 1, 1, 1, 1, 1, 1, 1, 1, 1, 1, 1,\n",
       "        1, 1, 1, 1, 1, 1, 1, 1, 1, 1, 1, 1, 1, 1, 1, 1, 1, 1, 1, 1, 1, 1, 1, 1])"
      ]
     },
     "execution_count": 11,
     "metadata": {},
     "output_type": "execute_result"
    }
   ],
   "source": [
    "batch = next(iter(dataloader))\n",
    "edge_batch = batch.x_batch[batch.edge_index[0]]\n",
    "edge_batch"
   ]
  },
  {
   "cell_type": "code",
   "execution_count": 12,
   "metadata": {},
   "outputs": [
    {
     "data": {
      "image/svg+xml": [
       "<svg xmlns=\"http://www.w3.org/2000/svg\" xmlns:rdkit=\"http://www.rdkit.org/xml\" xmlns:xlink=\"http://www.w3.org/1999/xlink\" version=\"1.1\" baseProfile=\"full\" xml:space=\"preserve\" width=\"200px\" height=\"200px\" viewBox=\"0 0 200 200\">\n",
       "<!-- END OF HEADER -->\n",
       "<rect style=\"opacity:1.0;fill:#FFFFFF;stroke:none\" width=\"200.0\" height=\"200.0\" x=\"0.0\" y=\"0.0\"> </rect>\n",
       "<path class=\"bond-0 atom-0 atom-1\" d=\"M 85.3,138.2 L 82.0,123.9 L 86.5,122.9 L 90.2,138.8 Z\" style=\"fill:#F69591;fill-rule:evenodd;fill-opacity:1;stroke:#F69591;stroke-width:1.0px;stroke-linecap:butt;stroke-linejoin:miter;stroke-opacity:1;\"/>\n",
       "<path class=\"bond-1 atom-1 atom-2\" d=\"M 83.6,125.6 L 67.9,120.8 L 69.3,116.4 L 84.9,121.2 Z\" style=\"fill:#F69591;fill-rule:evenodd;fill-opacity:1;stroke:#F69591;stroke-width:1.0px;stroke-linecap:butt;stroke-linejoin:miter;stroke-opacity:1;\"/>\n",
       "<path class=\"bond-2 atom-2 atom-3\" d=\"M 70.2,120.3 L 58.2,131.5 L 55.1,128.1 L 67.0,117.0 Z\" style=\"fill:#CBA9E4;fill-rule:evenodd;fill-opacity:1;stroke:#CBA9E4;stroke-width:1.0px;stroke-linecap:butt;stroke-linejoin:miter;stroke-opacity:1;\"/>\n",
       "<path class=\"bond-3 atom-2 atom-28\" d=\"M 66.4,119.1 L 62.6,103.2 L 67.1,102.2 L 70.8,118.1 Z\" style=\"fill:#CBA9E4;fill-rule:evenodd;fill-opacity:1;stroke:#CBA9E4;stroke-width:1.0px;stroke-linecap:butt;stroke-linejoin:miter;stroke-opacity:1;\"/>\n",
       "<path class=\"bond-4 atom-3 atom-4\" d=\"M 56.0,132.0 L 40.3,127.3 L 41.6,122.9 L 57.3,127.6 Z\" style=\"fill:#CBA9E4;fill-rule:evenodd;fill-opacity:1;stroke:#CBA9E4;stroke-width:1.0px;stroke-linecap:butt;stroke-linejoin:miter;stroke-opacity:1;\"/>\n",
       "<path class=\"bond-5 atom-4 atom-5\" d=\"M 38.7,125.6 L 35.0,109.6 L 39.5,108.6 L 43.2,124.5 Z\" style=\"fill:#CBA9E4;fill-rule:evenodd;fill-opacity:1;stroke:#CBA9E4;stroke-width:1.0px;stroke-linecap:butt;stroke-linejoin:miter;stroke-opacity:1;\"/>\n",
       "<path class=\"bond-6 atom-5 atom-6\" d=\"M 36.6,111.3 L 20.9,106.6 L 22.3,102.2 L 37.9,106.9 Z\" style=\"fill:#CBA9E4;fill-rule:evenodd;fill-opacity:1;stroke:#CBA9E4;stroke-width:1.0px;stroke-linecap:butt;stroke-linejoin:miter;stroke-opacity:1;\"/>\n",
       "<path class=\"bond-7 atom-5 atom-27\" d=\"M 38.8,110.8 L 37.3,109.1 L 49.2,97.9 L 50.8,99.6 Z\" style=\"fill:#CBA9E4;fill-rule:evenodd;fill-opacity:1;stroke:#CBA9E4;stroke-width:1.0px;stroke-linecap:butt;stroke-linejoin:miter;stroke-opacity:1;\"/>\n",
       "<path class=\"bond-7 atom-5 atom-27\" d=\"M 37.3,109.1 L 35.7,107.5 L 47.6,96.3 L 49.2,97.9 Z\" style=\"fill:#CBA9E4;fill-rule:evenodd;fill-opacity:1;stroke:#CBA9E4;stroke-width:1.0px;stroke-linecap:butt;stroke-linejoin:miter;stroke-opacity:1;\"/>\n",
       "<path class=\"bond-8 atom-6 atom-7\" d=\"M 19.4,104.9 L 15.6,88.9 L 20.1,87.9 L 23.8,103.9 Z\" style=\"fill:#CBA9E4;fill-rule:evenodd;fill-opacity:1;stroke:#CBA9E4;stroke-width:1.0px;stroke-linecap:butt;stroke-linejoin:miter;stroke-opacity:1;\"/>\n",
       "<path class=\"bond-9 atom-7 atom-8\" d=\"M 16.3,86.8 L 28.3,75.6 L 31.4,78.9 L 19.4,90.1 Z\" style=\"fill:#CBA9E4;fill-rule:evenodd;fill-opacity:1;stroke:#CBA9E4;stroke-width:1.0px;stroke-linecap:butt;stroke-linejoin:miter;stroke-opacity:1;\"/>\n",
       "<path class=\"bond-10 atom-8 atom-9\" d=\"M 27.6,77.8 L 23.9,61.8 L 28.3,60.8 L 32.1,76.7 Z\" style=\"fill:#F1D2FA;fill-rule:evenodd;fill-opacity:1;stroke:#F1D2FA;stroke-width:1.0px;stroke-linecap:butt;stroke-linejoin:miter;stroke-opacity:1;\"/>\n",
       "<path class=\"bond-11 atom-8 atom-10\" d=\"M 30.5,75.0 L 46.2,79.8 L 44.8,84.2 L 29.2,79.4 Z\" style=\"fill:#CBA9E4;fill-rule:evenodd;fill-opacity:1;stroke:#CBA9E4;stroke-width:1.0px;stroke-linecap:butt;stroke-linejoin:miter;stroke-opacity:1;\"/>\n",
       "<path class=\"bond-12 atom-10 atom-11\" d=\"M 43.9,80.3 L 55.9,69.1 L 59.0,72.5 L 47.1,83.7 Z\" style=\"fill:#F69591;fill-rule:evenodd;fill-opacity:1;stroke:#F69591;stroke-width:1.0px;stroke-linecap:butt;stroke-linejoin:miter;stroke-opacity:1;\"/>\n",
       "<path class=\"bond-13 atom-10 atom-27\" d=\"M 47.7,81.5 L 51.4,97.4 L 47.0,98.5 L 43.3,82.5 Z\" style=\"fill:#CBA9E4;fill-rule:evenodd;fill-opacity:1;stroke:#CBA9E4;stroke-width:1.0px;stroke-linecap:butt;stroke-linejoin:miter;stroke-opacity:1;\"/>\n",
       "<path class=\"bond-14 atom-11 atom-12\" d=\"M 58.1,68.6 L 73.8,73.4 L 72.4,77.7 L 56.8,73.0 Z\" style=\"fill:#F69591;fill-rule:evenodd;fill-opacity:1;stroke:#F69591;stroke-width:1.0px;stroke-linecap:butt;stroke-linejoin:miter;stroke-opacity:1;\"/>\n",
       "<path class=\"bond-15 atom-12 atom-13\" d=\"M 75.3,75.0 L 79.1,91.0 L 74.6,92.0 L 70.9,76.1 Z\" style=\"fill:#CBA9E4;fill-rule:evenodd;fill-opacity:1;stroke:#CBA9E4;stroke-width:1.0px;stroke-linecap:butt;stroke-linejoin:miter;stroke-opacity:1;\"/>\n",
       "<path class=\"bond-16 atom-12 atom-26\" d=\"M 71.5,73.9 L 83.5,62.7 L 86.6,66.0 L 74.7,77.2 Z\" style=\"fill:#CBA9E4;fill-rule:evenodd;fill-opacity:1;stroke:#CBA9E4;stroke-width:1.0px;stroke-linecap:butt;stroke-linejoin:miter;stroke-opacity:1;\"/>\n",
       "<path class=\"bond-17 atom-13 atom-14\" d=\"M 77.5,89.3 L 93.1,94.1 L 91.8,98.4 L 76.2,93.7 Z\" style=\"fill:#CBA9E4;fill-rule:evenodd;fill-opacity:1;stroke:#CBA9E4;stroke-width:1.0px;stroke-linecap:butt;stroke-linejoin:miter;stroke-opacity:1;\"/>\n",
       "<path class=\"bond-18 atom-14 atom-15\" d=\"M 90.9,94.6 L 102.9,83.4 L 106.0,86.7 L 94.1,97.9 Z\" style=\"fill:#CBA9E4;fill-rule:evenodd;fill-opacity:1;stroke:#CBA9E4;stroke-width:1.0px;stroke-linecap:butt;stroke-linejoin:miter;stroke-opacity:1;\"/>\n",
       "<path class=\"bond-19 atom-15 atom-16\" d=\"M 105.1,82.9 L 120.8,87.6 L 119.4,92.0 L 103.8,87.2 Z\" style=\"fill:#F1D2FA;fill-rule:evenodd;fill-opacity:1;stroke:#F1D2FA;stroke-width:1.0px;stroke-linecap:butt;stroke-linejoin:miter;stroke-opacity:1;\"/>\n",
       "<path class=\"bond-20 atom-15 atom-25\" d=\"M 102.2,85.6 L 98.5,69.6 L 102.9,68.6 L 106.7,84.5 Z\" style=\"fill:#CBA9E4;fill-rule:evenodd;fill-opacity:1;stroke:#CBA9E4;stroke-width:1.0px;stroke-linecap:butt;stroke-linejoin:miter;stroke-opacity:1;\"/>\n",
       "<path class=\"bond-21 atom-16 atom-17\" d=\"M 117.9,89.1 L 122.7,73.5 L 127.0,74.8 L 122.3,90.5 Z\" style=\"fill:#F1D2FA;fill-rule:evenodd;fill-opacity:1;stroke:#F1D2FA;stroke-width:1.0px;stroke-linecap:butt;stroke-linejoin:miter;stroke-opacity:1;\"/>\n",
       "<path class=\"bond-22 atom-16 atom-18\" d=\"M 122.3,90.5 L 117.5,106.1 L 113.2,104.8 L 117.9,89.1 Z\" style=\"fill:#F1D2FA;fill-rule:evenodd;fill-opacity:1;stroke:#F1D2FA;stroke-width:1.0px;stroke-linecap:butt;stroke-linejoin:miter;stroke-opacity:1;\"/>\n",
       "<path class=\"bond-23 atom-16 atom-19\" d=\"M 120.8,87.6 L 136.4,92.4 L 135.1,96.8 L 119.4,92.0 Z\" style=\"fill:#F1D2FA;fill-rule:evenodd;fill-opacity:1;stroke:#F1D2FA;stroke-width:1.0px;stroke-linecap:butt;stroke-linejoin:miter;stroke-opacity:1;\"/>\n",
       "<path class=\"bond-24 atom-19 atom-20\" d=\"M 134.4,92.7 L 147.4,82.9 L 150.2,86.5 L 137.1,96.4 Z\" style=\"fill:#88D7DF;fill-rule:evenodd;fill-opacity:1;stroke:#88D7DF;stroke-width:1.0px;stroke-linecap:butt;stroke-linejoin:miter;stroke-opacity:1;\"/>\n",
       "<path class=\"bond-25 atom-19 atom-24\" d=\"M 137.9,93.8 L 143.3,109.3 L 139.0,110.8 L 133.6,95.3 Z\" style=\"fill:#88D7DF;fill-rule:evenodd;fill-opacity:1;stroke:#88D7DF;stroke-width:1.0px;stroke-linecap:butt;stroke-linejoin:miter;stroke-opacity:1;\"/>\n",
       "<path class=\"bond-26 atom-20 atom-21\" d=\"M 150.1,82.8 L 163.6,92.2 L 160.9,95.9 L 147.5,86.6 Z\" style=\"fill:#88D7DF;fill-rule:evenodd;fill-opacity:1;stroke:#88D7DF;stroke-width:1.0px;stroke-linecap:butt;stroke-linejoin:miter;stroke-opacity:1;\"/>\n",
       "<path class=\"bond-27 atom-21 atom-22\" d=\"M 161.5,91.9 L 177.0,86.5 L 178.5,90.8 L 163.0,96.2 Z\" style=\"fill:#F1D2FA;fill-rule:evenodd;fill-opacity:1;stroke:#F1D2FA;stroke-width:1.0px;stroke-linecap:butt;stroke-linejoin:miter;stroke-opacity:1;\"/>\n",
       "<path class=\"bond-28 atom-21 atom-23\" d=\"M 164.4,94.7 L 159.7,110.4 L 155.3,109.0 L 160.1,93.4 Z\" style=\"fill:#88D7DF;fill-rule:evenodd;fill-opacity:1;stroke:#88D7DF;stroke-width:1.0px;stroke-linecap:butt;stroke-linejoin:miter;stroke-opacity:1;\"/>\n",
       "<path class=\"bond-29 atom-23 atom-24\" d=\"M 157.5,112.0 L 141.2,112.3 L 141.1,107.7 L 157.5,107.4 Z\" style=\"fill:#88D7DF;fill-rule:evenodd;fill-opacity:1;stroke:#88D7DF;stroke-width:1.0px;stroke-linecap:butt;stroke-linejoin:miter;stroke-opacity:1;\"/>\n",
       "<path class=\"bond-30 atom-25 atom-26\" d=\"M 100.1,71.3 L 84.4,66.6 L 85.7,62.2 L 101.4,66.9 Z\" style=\"fill:#CBA9E4;fill-rule:evenodd;fill-opacity:1;stroke:#CBA9E4;stroke-width:1.0px;stroke-linecap:butt;stroke-linejoin:miter;stroke-opacity:1;\"/>\n",
       "<path class=\"bond-31 atom-27 atom-28\" d=\"M 49.9,95.7 L 65.5,100.5 L 64.2,104.9 L 48.5,100.1 Z\" style=\"fill:#CBA9E4;fill-rule:evenodd;fill-opacity:1;stroke:#CBA9E4;stroke-width:1.0px;stroke-linecap:butt;stroke-linejoin:miter;stroke-opacity:1;\"/>\n",
       "<ellipse cx=\"88.0\" cy=\"139.3\" rx=\"2.9\" ry=\"2.9\" class=\"atom-0\" style=\"fill:#F69591;fill-rule:evenodd;stroke:#F69591;stroke-width:1.0px;stroke-linecap:butt;stroke-linejoin:miter;stroke-opacity:1\"/>\n",
       "<ellipse cx=\"86.6\" cy=\"123.8\" rx=\"6.4\" ry=\"3.9\" class=\"atom-1\" style=\"fill:#F69591;fill-rule:evenodd;stroke:#F69591;stroke-width:1.0px;stroke-linecap:butt;stroke-linejoin:miter;stroke-opacity:1\"/>\n",
       "<path class=\"atom-2\" d=\"M 68.6,115.2 L 69.1,115.2 L 69.6,115.2 L 70.1,115.3 L 70.6,115.4 L 71.1,115.5 L 71.6,115.6 L 72.0,115.8 L 72.4,116.0 L 72.8,116.2 L 73.2,116.5 L 73.5,116.7 L 73.8,117.0 L 74.0,117.3 L 74.2,117.6 L 74.4,117.9 L 74.5,118.2 L 74.6,118.5 L 74.7,118.9 L 74.7,119.2 L 74.6,119.5 L 74.5,119.8 L 74.4,120.2 L 74.2,120.5 L 74.0,120.8 L 73.8,121.0 L 73.5,121.3 L 73.2,121.6 L 72.8,121.8 L 72.4,122.0 L 72.0,122.2 L 71.6,122.4 L 71.1,122.5 L 70.6,122.7 L 70.1,122.8 L 69.6,122.8 L 69.1,122.9 L 68.6,122.9 L 68.6,119.0 Z\" style=\"fill:#CBA9E4;fill-rule:evenodd;fill-opacity:1;stroke:#CBA9E4;stroke-width:1.0px;stroke-linecap:butt;stroke-linejoin:miter;stroke-opacity:1;\"/>\n",
       "<path class=\"atom-2\" d=\"M 68.6,122.9 L 68.1,122.9 L 67.6,122.8 L 67.1,122.8 L 66.6,122.7 L 66.1,122.5 L 65.6,122.4 L 65.2,122.2 L 64.8,122.0 L 64.4,121.8 L 64.0,121.6 L 63.7,121.3 L 63.4,121.0 L 63.2,120.8 L 62.9,120.5 L 62.8,120.2 L 62.6,119.8 L 62.6,119.5 L 62.5,119.2 L 62.5,118.9 L 62.6,118.5 L 62.6,118.2 L 62.8,117.9 L 62.9,117.6 L 63.2,117.3 L 63.4,117.0 L 63.7,116.7 L 64.0,116.5 L 64.4,116.2 L 64.8,116.0 L 65.2,115.8 L 65.6,115.6 L 66.1,115.5 L 66.6,115.4 L 67.1,115.3 L 67.6,115.2 L 68.1,115.2 L 68.6,115.2 L 68.6,119.0 Z\" style=\"fill:#F69591;fill-rule:evenodd;fill-opacity:1;stroke:#F69591;stroke-width:1.0px;stroke-linecap:butt;stroke-linejoin:miter;stroke-opacity:1;\"/>\n",
       "<ellipse cx=\"56.6\" cy=\"130.2\" rx=\"6.1\" ry=\"3.9\" class=\"atom-3\" style=\"fill:#CBA9E4;fill-rule:evenodd;stroke:#CBA9E4;stroke-width:1.0px;stroke-linecap:butt;stroke-linejoin:miter;stroke-opacity:1\"/>\n",
       "<ellipse cx=\"38.2\" cy=\"125.4\" rx=\"6.4\" ry=\"3.8\" class=\"atom-4\" style=\"fill:#CBA9E4;fill-rule:evenodd;stroke:#CBA9E4;stroke-width:1.0px;stroke-linecap:butt;stroke-linejoin:miter;stroke-opacity:1\"/>\n",
       "<path class=\"atom-5\" d=\"M 37.3,105.6 L 37.8,105.7 L 38.3,105.7 L 38.8,105.8 L 39.3,105.9 L 39.8,106.0 L 40.2,106.1 L 40.7,106.3 L 41.1,106.5 L 41.5,106.7 L 41.8,107.0 L 42.2,107.2 L 42.4,107.5 L 42.7,107.8 L 42.9,108.1 L 43.1,108.4 L 43.2,108.7 L 43.3,109.0 L 43.3,109.3 L 43.3,109.7 L 43.3,110.0 L 43.2,110.3 L 43.1,110.6 L 42.9,111.0 L 42.7,111.3 L 42.4,111.5 L 42.2,111.8 L 41.8,112.1 L 41.5,112.3 L 41.1,112.5 L 40.7,112.7 L 40.2,112.9 L 39.8,113.0 L 39.3,113.2 L 38.8,113.3 L 38.3,113.3 L 37.8,113.4 L 37.3,113.4 L 37.3,109.5 Z\" style=\"fill:#CBA9E4;fill-rule:evenodd;fill-opacity:1;stroke:#CBA9E4;stroke-width:1.0px;stroke-linecap:butt;stroke-linejoin:miter;stroke-opacity:1;\"/>\n",
       "<path class=\"atom-5\" d=\"M 37.3,113.4 L 36.7,113.4 L 36.2,113.3 L 35.7,113.3 L 35.2,113.2 L 34.7,113.0 L 34.3,112.9 L 33.8,112.7 L 33.4,112.5 L 33.0,112.3 L 32.7,112.1 L 32.4,111.8 L 32.1,111.5 L 31.8,111.3 L 31.6,111.0 L 31.4,110.6 L 31.3,110.3 L 31.2,110.0 L 31.2,109.7 L 31.2,109.3 L 31.2,109.0 L 31.3,108.7 L 31.4,108.4 L 31.6,108.1 L 31.8,107.8 L 32.1,107.5 L 32.4,107.2 L 32.7,107.0 L 33.0,106.7 L 33.4,106.5 L 33.8,106.3 L 34.3,106.1 L 34.7,106.0 L 35.2,105.9 L 35.7,105.8 L 36.2,105.7 L 36.7,105.7 L 37.3,105.6 L 37.3,109.5 Z\" style=\"fill:#CBA9E4;fill-rule:evenodd;fill-opacity:1;stroke:#CBA9E4;stroke-width:1.0px;stroke-linecap:butt;stroke-linejoin:miter;stroke-opacity:1;\"/>\n",
       "<ellipse cx=\"18.8\" cy=\"104.8\" rx=\"6.1\" ry=\"3.9\" class=\"atom-6\" style=\"fill:#CBA9E4;fill-rule:evenodd;stroke:#CBA9E4;stroke-width:1.0px;stroke-linecap:butt;stroke-linejoin:miter;stroke-opacity:1\"/>\n",
       "<ellipse cx=\"15.1\" cy=\"88.8\" rx=\"6.0\" ry=\"3.8\" class=\"atom-7\" style=\"fill:#CBA9E4;fill-rule:evenodd;stroke:#CBA9E4;stroke-width:1.0px;stroke-linecap:butt;stroke-linejoin:miter;stroke-opacity:1\"/>\n",
       "<path class=\"atom-8\" d=\"M 29.8,73.8 L 30.3,73.8 L 30.9,73.8 L 31.4,73.9 L 31.9,74.0 L 32.4,74.1 L 32.8,74.2 L 33.3,74.4 L 33.7,74.6 L 34.1,74.8 L 34.5,75.1 L 34.8,75.3 L 35.1,75.6 L 35.3,75.9 L 35.6,76.2 L 35.7,76.5 L 35.9,76.8 L 36.0,77.1 L 36.0,77.5 L 36.0,77.8 L 36.0,78.1 L 35.9,78.5 L 35.7,78.8 L 35.6,79.1 L 35.3,79.4 L 35.1,79.7 L 34.8,80.0 L 34.5,80.2 L 34.1,80.4 L 33.7,80.7 L 33.3,80.9 L 32.8,81.0 L 32.4,81.2 L 31.9,81.3 L 31.4,81.4 L 30.9,81.5 L 30.3,81.5 L 29.8,81.5 L 29.8,77.6 Z\" style=\"fill:#CBA9E4;fill-rule:evenodd;fill-opacity:1;stroke:#CBA9E4;stroke-width:1.0px;stroke-linecap:butt;stroke-linejoin:miter;stroke-opacity:1;\"/>\n",
       "<path class=\"atom-8\" d=\"M 29.8,81.5 L 29.3,81.5 L 28.8,81.5 L 28.3,81.4 L 27.8,81.3 L 27.3,81.2 L 26.8,81.0 L 26.4,80.9 L 25.9,80.7 L 25.5,80.4 L 25.2,80.2 L 24.8,80.0 L 24.5,79.7 L 24.3,79.4 L 24.1,79.1 L 23.9,78.8 L 23.8,78.5 L 23.7,78.1 L 23.6,77.8 L 23.6,77.5 L 23.7,77.1 L 23.8,76.8 L 23.9,76.5 L 24.1,76.2 L 24.3,75.9 L 24.5,75.6 L 24.8,75.3 L 25.2,75.1 L 25.5,74.8 L 25.9,74.6 L 26.4,74.4 L 26.8,74.2 L 27.3,74.1 L 27.8,74.0 L 28.3,73.9 L 28.8,73.8 L 29.3,73.8 L 29.8,73.8 L 29.8,77.6 Z\" style=\"fill:#F1D2FA;fill-rule:evenodd;fill-opacity:1;stroke:#F1D2FA;stroke-width:1.0px;stroke-linecap:butt;stroke-linejoin:miter;stroke-opacity:1;\"/>\n",
       "<ellipse cx=\"30.9\" cy=\"61.7\" rx=\"9.8\" ry=\"3.9\" class=\"atom-9\" style=\"fill:#F1D2FA;fill-rule:evenodd;stroke:#F1D2FA;stroke-width:1.0px;stroke-linecap:butt;stroke-linejoin:miter;stroke-opacity:1\"/>\n",
       "<path class=\"atom-10\" d=\"M 45.5,78.5 L 46.2,78.5 L 46.9,78.6 L 47.7,78.6 L 48.4,78.7 L 49.0,78.9 L 49.7,79.0 L 50.3,79.2 L 50.9,79.4 L 51.5,79.6 L 52.0,79.8 L 52.4,80.1 L 52.8,80.3 L 53.2,80.6 L 53.5,80.9 L 53.8,81.2 L 53.9,81.6 L 54.1,81.9 L 54.1,82.2 L 54.1,82.5 L 54.1,82.9 L 53.9,83.2 L 53.8,83.5 L 53.5,83.8 L 53.2,84.1 L 52.8,84.4 L 52.4,84.7 L 52.0,84.9 L 51.5,85.2 L 50.9,85.4 L 50.3,85.6 L 49.7,85.7 L 49.0,85.9 L 48.4,86.0 L 47.7,86.1 L 46.9,86.2 L 46.2,86.2 L 45.5,86.2 L 45.5,82.4 Z\" style=\"fill:#CBA9E4;fill-rule:evenodd;fill-opacity:1;stroke:#CBA9E4;stroke-width:1.0px;stroke-linecap:butt;stroke-linejoin:miter;stroke-opacity:1;\"/>\n",
       "<path class=\"atom-10\" d=\"M 45.5,86.2 L 44.8,86.2 L 44.0,86.2 L 43.3,86.1 L 42.6,86.0 L 41.9,85.9 L 41.3,85.7 L 40.6,85.6 L 40.1,85.4 L 39.5,85.2 L 39.0,84.9 L 38.5,84.7 L 38.1,84.4 L 37.8,84.1 L 37.5,83.8 L 37.2,83.5 L 37.0,83.2 L 36.9,82.9 L 36.8,82.5 L 36.8,82.2 L 36.9,81.9 L 37.0,81.6 L 37.2,81.2 L 37.5,80.9 L 37.8,80.6 L 38.1,80.3 L 38.5,80.1 L 39.0,79.8 L 39.5,79.6 L 40.1,79.4 L 40.6,79.2 L 41.3,79.0 L 41.9,78.9 L 42.6,78.7 L 43.3,78.6 L 44.0,78.6 L 44.8,78.5 L 45.5,78.5 L 45.5,82.4 Z\" style=\"fill:#F69591;fill-rule:evenodd;fill-opacity:1;stroke:#F69591;stroke-width:1.0px;stroke-linecap:butt;stroke-linejoin:miter;stroke-opacity:1;\"/>\n",
       "<ellipse cx=\"57.4\" cy=\"71.2\" rx=\"8.2\" ry=\"3.9\" class=\"atom-11\" style=\"fill:#F69591;fill-rule:evenodd;stroke:#F69591;stroke-width:1.0px;stroke-linecap:butt;stroke-linejoin:miter;stroke-opacity:1\"/>\n",
       "<path class=\"atom-12\" d=\"M 73.1,72.1 L 73.8,72.1 L 74.6,72.1 L 75.3,72.2 L 76.0,72.3 L 76.6,72.4 L 77.3,72.6 L 77.9,72.7 L 78.5,72.9 L 79.0,73.1 L 79.6,73.4 L 80.0,73.6 L 80.4,73.9 L 80.8,74.2 L 81.1,74.5 L 81.3,74.8 L 81.5,75.1 L 81.6,75.4 L 81.7,75.8 L 81.7,76.1 L 81.6,76.4 L 81.5,76.7 L 81.3,77.1 L 81.1,77.4 L 80.8,77.7 L 80.4,77.9 L 80.0,78.2 L 79.6,78.5 L 79.0,78.7 L 78.5,78.9 L 77.9,79.1 L 77.3,79.3 L 76.6,79.4 L 76.0,79.6 L 75.3,79.7 L 74.6,79.7 L 73.8,79.8 L 73.1,79.8 L 73.1,75.9 Z\" style=\"fill:#CBA9E4;fill-rule:evenodd;fill-opacity:1;stroke:#CBA9E4;stroke-width:1.0px;stroke-linecap:butt;stroke-linejoin:miter;stroke-opacity:1;\"/>\n",
       "<path class=\"atom-12\" d=\"M 73.1,79.8 L 72.4,79.8 L 71.6,79.7 L 70.9,79.7 L 70.2,79.6 L 69.6,79.4 L 68.9,79.3 L 68.3,79.1 L 67.7,78.9 L 67.2,78.7 L 66.6,78.5 L 66.2,78.2 L 65.8,77.9 L 65.4,77.7 L 65.1,77.4 L 64.9,77.1 L 64.7,76.7 L 64.6,76.4 L 64.5,76.1 L 64.5,75.8 L 64.6,75.4 L 64.7,75.1 L 64.9,74.8 L 65.1,74.5 L 65.4,74.2 L 65.8,73.9 L 66.2,73.6 L 66.6,73.4 L 67.2,73.1 L 67.7,72.9 L 68.3,72.7 L 68.9,72.6 L 69.6,72.4 L 70.2,72.3 L 70.9,72.2 L 71.6,72.1 L 72.4,72.1 L 73.1,72.1 L 73.1,75.9 Z\" style=\"fill:#F69591;fill-rule:evenodd;fill-opacity:1;stroke:#F69591;stroke-width:1.0px;stroke-linecap:butt;stroke-linejoin:miter;stroke-opacity:1;\"/>\n",
       "<ellipse cx=\"72.4\" cy=\"91.9\" rx=\"8.4\" ry=\"3.9\" class=\"atom-13\" style=\"fill:#CBA9E4;fill-rule:evenodd;stroke:#CBA9E4;stroke-width:1.0px;stroke-linecap:butt;stroke-linejoin:miter;stroke-opacity:1\"/>\n",
       "<ellipse cx=\"92.5\" cy=\"96.6\" rx=\"8.8\" ry=\"3.9\" class=\"atom-14\" style=\"fill:#CBA9E4;fill-rule:evenodd;stroke:#CBA9E4;stroke-width:1.0px;stroke-linecap:butt;stroke-linejoin:miter;stroke-opacity:1\"/>\n",
       "<path class=\"atom-15\" d=\"M 104.4,81.6 L 105.2,81.6 L 105.9,81.7 L 106.6,81.7 L 107.3,81.8 L 108.0,81.9 L 108.6,82.1 L 109.3,82.3 L 109.8,82.5 L 110.4,82.7 L 110.9,82.9 L 111.4,83.2 L 111.8,83.4 L 112.1,83.7 L 112.4,84.0 L 112.7,84.3 L 112.8,84.6 L 113.0,84.9 L 113.0,85.3 L 113.0,85.6 L 113.0,85.9 L 112.8,86.2 L 112.7,86.6 L 112.4,86.9 L 112.1,87.2 L 111.8,87.4 L 111.4,87.7 L 110.9,88.0 L 110.4,88.2 L 109.8,88.4 L 109.3,88.6 L 108.6,88.8 L 108.0,88.9 L 107.3,89.0 L 106.6,89.1 L 105.9,89.2 L 105.2,89.2 L 104.4,89.3 L 104.4,85.4 Z\" style=\"fill:#CBA9E4;fill-rule:evenodd;fill-opacity:1;stroke:#CBA9E4;stroke-width:1.0px;stroke-linecap:butt;stroke-linejoin:miter;stroke-opacity:1;\"/>\n",
       "<path class=\"atom-15\" d=\"M 104.4,89.3 L 103.7,89.2 L 103.0,89.2 L 102.3,89.1 L 101.6,89.0 L 100.9,88.9 L 100.2,88.8 L 99.6,88.6 L 99.0,88.4 L 98.5,88.2 L 98.0,88.0 L 97.5,87.7 L 97.1,87.4 L 96.7,87.2 L 96.4,86.9 L 96.2,86.6 L 96.0,86.2 L 95.9,85.9 L 95.8,85.6 L 95.8,85.3 L 95.9,84.9 L 96.0,84.6 L 96.2,84.3 L 96.4,84.0 L 96.7,83.7 L 97.1,83.4 L 97.5,83.2 L 98.0,82.9 L 98.5,82.7 L 99.0,82.5 L 99.6,82.3 L 100.2,82.1 L 100.9,81.9 L 101.6,81.8 L 102.3,81.7 L 103.0,81.7 L 103.7,81.6 L 104.4,81.6 L 104.4,85.4 Z\" style=\"fill:#F1D2FA;fill-rule:evenodd;fill-opacity:1;stroke:#F1D2FA;stroke-width:1.0px;stroke-linecap:butt;stroke-linejoin:miter;stroke-opacity:1;\"/>\n",
       "<path class=\"atom-16\" d=\"M 120.1,86.3 L 120.8,86.3 L 121.4,86.4 L 122.1,86.5 L 122.8,86.5 L 123.4,86.7 L 124.0,86.8 L 124.6,87.0 L 125.1,87.2 L 125.6,87.4 L 126.1,87.6 L 126.5,87.9 L 126.9,88.1 L 127.3,88.4 L 127.6,88.7 L 127.8,89.0 L 120.1,90.2 Z\" style=\"fill:#F1D2FA;fill-rule:evenodd;fill-opacity:1;stroke:#F1D2FA;stroke-width:1.0px;stroke-linecap:butt;stroke-linejoin:miter;stroke-opacity:1;\"/>\n",
       "<path class=\"atom-16\" d=\"M 127.8,89.0 L 128.0,89.3 L 128.1,89.6 L 128.2,89.9 L 128.2,90.3 L 128.1,90.6 L 128.0,90.9 L 127.9,91.2 L 127.7,91.5 L 127.4,91.8 L 127.1,92.1 L 126.7,92.4 L 126.3,92.6 L 125.9,92.9 L 125.4,93.1 L 124.9,93.3 L 120.1,90.2 Z\" style=\"fill:#F1D2FA;fill-rule:evenodd;fill-opacity:1;stroke:#F1D2FA;stroke-width:1.0px;stroke-linecap:butt;stroke-linejoin:miter;stroke-opacity:1;\"/>\n",
       "<path class=\"atom-16\" d=\"M 124.9,93.3 L 124.3,93.5 L 123.7,93.6 L 123.1,93.8 L 122.4,93.9 L 121.8,94.0 L 121.1,94.0 L 120.4,94.0 L 119.8,94.0 L 119.1,94.0 L 118.4,94.0 L 117.8,93.9 L 117.1,93.8 L 116.5,93.6 L 115.9,93.5 L 115.3,93.3 L 120.1,90.2 Z\" style=\"fill:#F1D2FA;fill-rule:evenodd;fill-opacity:1;stroke:#F1D2FA;stroke-width:1.0px;stroke-linecap:butt;stroke-linejoin:miter;stroke-opacity:1;\"/>\n",
       "<path class=\"atom-16\" d=\"M 115.3,93.3 L 114.8,93.1 L 114.3,92.9 L 113.9,92.6 L 113.5,92.4 L 113.1,92.1 L 112.8,91.8 L 112.5,91.5 L 112.3,91.2 L 112.2,90.9 L 112.1,90.6 L 112.0,90.3 L 112.0,89.9 L 112.1,89.6 L 112.2,89.3 L 112.4,89.0 L 120.1,90.2 Z\" style=\"fill:#F1D2FA;fill-rule:evenodd;fill-opacity:1;stroke:#F1D2FA;stroke-width:1.0px;stroke-linecap:butt;stroke-linejoin:miter;stroke-opacity:1;\"/>\n",
       "<path class=\"atom-16\" d=\"M 112.4,89.0 L 112.6,88.7 L 112.9,88.4 L 113.3,88.1 L 113.7,87.9 L 114.1,87.6 L 114.6,87.4 L 115.1,87.2 L 115.6,87.0 L 116.2,86.8 L 116.8,86.7 L 117.4,86.5 L 118.1,86.5 L 118.8,86.4 L 119.4,86.3 L 120.1,86.3 L 120.1,90.2 Z\" style=\"fill:#EFD994;fill-rule:evenodd;fill-opacity:1;stroke:#EFD994;stroke-width:1.0px;stroke-linecap:butt;stroke-linejoin:miter;stroke-opacity:1;\"/>\n",
       "<ellipse cx=\"129.1\" cy=\"74.5\" rx=\"9.0\" ry=\"3.9\" class=\"atom-17\" style=\"fill:#F1D2FA;fill-rule:evenodd;stroke:#F1D2FA;stroke-width:1.0px;stroke-linecap:butt;stroke-linejoin:miter;stroke-opacity:1\"/>\n",
       "<ellipse cx=\"119.7\" cy=\"105.9\" rx=\"9.1\" ry=\"3.9\" class=\"atom-18\" style=\"fill:#F1D2FA;fill-rule:evenodd;stroke:#F1D2FA;stroke-width:1.0px;stroke-linecap:butt;stroke-linejoin:miter;stroke-opacity:1\"/>\n",
       "<path class=\"atom-19\" d=\"M 131.4,91.1 L 132.1,91.1 L 132.8,91.1 L 133.5,91.2 L 134.2,91.3 L 134.9,91.4 L 135.5,91.6 L 136.1,91.7 L 136.7,91.9 L 137.2,92.2 L 137.7,92.4 L 138.2,92.6 L 138.6,92.9 L 139.0,93.2 L 139.3,93.5 L 139.5,93.8 L 139.7,94.1 L 139.8,94.5 L 139.9,94.8 L 139.9,95.1 L 139.8,95.4 L 139.7,95.8 L 139.5,96.1 L 139.3,96.4 L 139.0,96.7 L 138.6,97.0 L 138.2,97.2 L 137.7,97.5 L 137.2,97.7 L 136.7,97.9 L 136.1,98.1 L 135.5,98.3 L 134.9,98.5 L 134.2,98.6 L 133.5,98.7 L 132.8,98.7 L 132.1,98.8 L 131.4,98.8 L 131.4,94.9 Z\" style=\"fill:#88D7DF;fill-rule:evenodd;fill-opacity:1;stroke:#88D7DF;stroke-width:1.0px;stroke-linecap:butt;stroke-linejoin:miter;stroke-opacity:1;\"/>\n",
       "<path class=\"atom-19\" d=\"M 131.4,98.8 L 130.6,98.8 L 129.9,98.7 L 129.2,98.7 L 128.5,98.6 L 127.8,98.5 L 127.2,98.3 L 126.6,98.1 L 126.0,97.9 L 125.5,97.7 L 125.0,97.5 L 124.5,97.2 L 124.1,97.0 L 123.8,96.7 L 123.5,96.4 L 123.2,96.1 L 123.0,95.8 L 122.9,95.4 L 122.8,95.1 L 122.8,94.8 L 122.9,94.5 L 123.0,94.1 L 123.2,93.8 L 123.5,93.5 L 123.8,93.2 L 124.1,92.9 L 124.5,92.6 L 125.0,92.4 L 125.5,92.2 L 126.0,91.9 L 126.6,91.7 L 127.2,91.6 L 127.8,91.4 L 128.5,91.3 L 129.2,91.2 L 129.9,91.1 L 130.6,91.1 L 131.4,91.1 L 131.4,94.9 Z\" style=\"fill:#F1D2FA;fill-rule:evenodd;fill-opacity:1;stroke:#F1D2FA;stroke-width:1.0px;stroke-linecap:butt;stroke-linejoin:miter;stroke-opacity:1;\"/>\n",
       "<ellipse cx=\"148.8\" cy=\"85.1\" rx=\"9.0\" ry=\"3.9\" class=\"atom-20\" style=\"fill:#88D7DF;fill-rule:evenodd;stroke:#88D7DF;stroke-width:1.0px;stroke-linecap:butt;stroke-linejoin:miter;stroke-opacity:1\"/>\n",
       "<path class=\"atom-21\" d=\"M 166.6,90.6 L 167.4,90.6 L 168.1,90.6 L 168.8,90.7 L 169.5,90.8 L 170.2,90.9 L 170.9,91.1 L 171.5,91.2 L 172.1,91.4 L 172.6,91.6 L 173.1,91.9 L 173.6,92.1 L 174.0,92.4 L 174.4,92.7 L 174.7,93.0 L 174.9,93.3 L 175.1,93.6 L 175.2,93.9 L 175.3,94.3 L 175.3,94.6 L 175.2,94.9 L 175.1,95.2 L 174.9,95.5 L 174.7,95.9 L 174.4,96.1 L 174.0,96.4 L 173.6,96.7 L 173.1,97.0 L 172.6,97.2 L 172.1,97.4 L 171.5,97.6 L 170.9,97.8 L 170.2,97.9 L 169.5,98.0 L 168.8,98.1 L 168.1,98.2 L 167.4,98.2 L 166.6,98.3 L 166.6,94.4 Z\" style=\"fill:#88D7DF;fill-rule:evenodd;fill-opacity:1;stroke:#88D7DF;stroke-width:1.0px;stroke-linecap:butt;stroke-linejoin:miter;stroke-opacity:1;\"/>\n",
       "<path class=\"atom-21\" d=\"M 166.6,98.3 L 165.9,98.2 L 165.2,98.2 L 164.4,98.1 L 163.7,98.0 L 163.1,97.9 L 162.4,97.8 L 161.8,97.6 L 161.2,97.4 L 160.6,97.2 L 160.1,97.0 L 159.7,96.7 L 159.2,96.4 L 158.9,96.1 L 158.6,95.9 L 158.3,95.5 L 158.1,95.2 L 158.0,94.9 L 158.0,94.6 L 158.0,94.3 L 158.0,93.9 L 158.1,93.6 L 158.3,93.3 L 158.6,93.0 L 158.9,92.7 L 159.2,92.4 L 159.7,92.1 L 160.1,91.9 L 160.6,91.6 L 161.2,91.4 L 161.8,91.2 L 162.4,91.1 L 163.1,90.9 L 163.7,90.8 L 164.4,90.7 L 165.2,90.6 L 165.9,90.6 L 166.6,90.6 L 166.6,94.4 Z\" style=\"fill:#F1D2FA;fill-rule:evenodd;fill-opacity:1;stroke:#F1D2FA;stroke-width:1.0px;stroke-linecap:butt;stroke-linejoin:miter;stroke-opacity:1;\"/>\n",
       "<ellipse cx=\"182.1\" cy=\"89.1\" rx=\"8.8\" ry=\"3.9\" class=\"atom-22\" style=\"fill:#F1D2FA;fill-rule:evenodd;stroke:#F1D2FA;stroke-width:1.0px;stroke-linecap:butt;stroke-linejoin:miter;stroke-opacity:1\"/>\n",
       "<ellipse cx=\"161.9\" cy=\"110.1\" rx=\"8.8\" ry=\"3.9\" class=\"atom-23\" style=\"fill:#88D7DF;fill-rule:evenodd;stroke:#88D7DF;stroke-width:1.0px;stroke-linecap:butt;stroke-linejoin:miter;stroke-opacity:1\"/>\n",
       "<ellipse cx=\"136.5\" cy=\"110.4\" rx=\"9.1\" ry=\"3.9\" class=\"atom-24\" style=\"fill:#88D7DF;fill-rule:evenodd;stroke:#88D7DF;stroke-width:1.0px;stroke-linecap:butt;stroke-linejoin:miter;stroke-opacity:1\"/>\n",
       "<ellipse cx=\"105.1\" cy=\"69.5\" rx=\"8.8\" ry=\"3.9\" class=\"atom-25\" style=\"fill:#CBA9E4;fill-rule:evenodd;stroke:#CBA9E4;stroke-width:1.0px;stroke-linecap:butt;stroke-linejoin:miter;stroke-opacity:1\"/>\n",
       "<ellipse cx=\"85.0\" cy=\"64.7\" rx=\"8.8\" ry=\"3.9\" class=\"atom-26\" style=\"fill:#CBA9E4;fill-rule:evenodd;stroke:#CBA9E4;stroke-width:1.0px;stroke-linecap:butt;stroke-linejoin:miter;stroke-opacity:1\"/>\n",
       "<path class=\"atom-27\" d=\"M 49.2,94.5 L 49.9,94.5 L 50.7,94.5 L 51.4,94.6 L 52.1,94.7 L 52.8,94.8 L 53.5,94.9 L 54.1,95.1 L 54.7,95.3 L 55.3,95.5 L 55.8,95.8 L 56.2,96.0 L 56.6,96.3 L 57.0,96.6 L 57.3,96.9 L 57.6,97.2 L 57.7,97.5 L 57.9,97.8 L 57.9,98.2 L 57.9,98.5 L 57.9,98.8 L 57.7,99.1 L 57.6,99.5 L 57.3,99.8 L 57.0,100.1 L 56.6,100.3 L 56.2,100.6 L 55.8,100.9 L 55.3,101.1 L 54.7,101.3 L 54.1,101.5 L 53.5,101.7 L 52.8,101.8 L 52.1,102.0 L 51.4,102.1 L 50.7,102.1 L 49.9,102.2 L 49.2,102.2 L 49.2,98.3 Z\" style=\"fill:#CBA9E4;fill-rule:evenodd;fill-opacity:1;stroke:#CBA9E4;stroke-width:1.0px;stroke-linecap:butt;stroke-linejoin:miter;stroke-opacity:1;\"/>\n",
       "<path class=\"atom-27\" d=\"M 49.2,102.2 L 48.5,102.2 L 47.7,102.1 L 47.0,102.1 L 46.3,102.0 L 45.6,101.8 L 44.9,101.7 L 44.3,101.5 L 43.7,101.3 L 43.2,101.1 L 42.6,100.9 L 42.2,100.6 L 41.8,100.3 L 41.4,100.1 L 41.1,99.8 L 40.8,99.5 L 40.7,99.1 L 40.5,98.8 L 40.5,98.5 L 40.5,98.2 L 40.5,97.8 L 40.7,97.5 L 40.8,97.2 L 41.1,96.9 L 41.4,96.6 L 41.8,96.3 L 42.2,96.0 L 42.6,95.8 L 43.2,95.5 L 43.7,95.3 L 44.3,95.1 L 44.9,94.9 L 45.6,94.8 L 46.3,94.7 L 47.0,94.6 L 47.7,94.5 L 48.5,94.5 L 49.2,94.5 L 49.2,98.3 Z\" style=\"fill:#CBA9E4;fill-rule:evenodd;fill-opacity:1;stroke:#CBA9E4;stroke-width:1.0px;stroke-linecap:butt;stroke-linejoin:miter;stroke-opacity:1;\"/>\n",
       "<ellipse cx=\"69.4\" cy=\"103.1\" rx=\"8.9\" ry=\"3.9\" class=\"atom-28\" style=\"fill:#CBA9E4;fill-rule:evenodd;stroke:#CBA9E4;stroke-width:1.0px;stroke-linecap:butt;stroke-linejoin:miter;stroke-opacity:1\"/>\n",
       "<path class=\"bond-0 atom-0 atom-1\" d=\"M 88.0,139.3 L 84.9,126.3\" style=\"fill:none;fill-rule:evenodd;stroke:#000000;stroke-width:1.0px;stroke-linecap:butt;stroke-linejoin:miter;stroke-opacity:1\"/>\n",
       "<path class=\"bond-1 atom-1 atom-2\" d=\"M 81.6,122.6 L 73.4,120.1\" style=\"fill:none;fill-rule:evenodd;stroke:#000000;stroke-width:1.0px;stroke-linecap:butt;stroke-linejoin:miter;stroke-opacity:1\"/>\n",
       "<path class=\"bond-2 atom-2 atom-3\" d=\"M 65.4,121.6 L 59.7,126.9\" style=\"fill:none;fill-rule:evenodd;stroke:#000000;stroke-width:1.0px;stroke-linecap:butt;stroke-linejoin:miter;stroke-opacity:1\"/>\n",
       "<path class=\"bond-2 atom-2 atom-3\" d=\"M 63.8,119.8 L 58.0,125.1\" style=\"fill:none;fill-rule:evenodd;stroke:#000000;stroke-width:1.0px;stroke-linecap:butt;stroke-linejoin:miter;stroke-opacity:1\"/>\n",
       "<path class=\"bond-3 atom-2 atom-28\" d=\"M 67.9,115.7 L 65.6,105.6\" style=\"fill:none;fill-rule:evenodd;stroke:#000000;stroke-width:1.0px;stroke-linecap:butt;stroke-linejoin:miter;stroke-opacity:1\"/>\n",
       "<path class=\"bond-4 atom-3 atom-4\" d=\"M 51.8,128.4 L 43.3,125.8\" style=\"fill:none;fill-rule:evenodd;stroke:#000000;stroke-width:1.0px;stroke-linecap:butt;stroke-linejoin:miter;stroke-opacity:1\"/>\n",
       "<path class=\"bond-5 atom-4 atom-5\" d=\"M 40.3,122.2 L 38.1,112.8\" style=\"fill:none;fill-rule:evenodd;stroke:#000000;stroke-width:1.0px;stroke-linecap:butt;stroke-linejoin:miter;stroke-opacity:1\"/>\n",
       "<path class=\"bond-5 atom-4 atom-5\" d=\"M 42.7,121.7 L 40.5,112.2\" style=\"fill:none;fill-rule:evenodd;stroke:#000000;stroke-width:1.0px;stroke-linecap:butt;stroke-linejoin:miter;stroke-opacity:1\"/>\n",
       "<path class=\"bond-6 atom-5 atom-6\" d=\"M 32.4,107.7 L 23.7,105.0\" style=\"fill:none;fill-rule:evenodd;stroke:#000000;stroke-width:1.0px;stroke-linecap:butt;stroke-linejoin:miter;stroke-opacity:1\"/>\n",
       "<path class=\"bond-7 atom-5 atom-27\" d=\"M 40.3,106.3 L 46.1,100.9\" style=\"fill:none;fill-rule:evenodd;stroke:#000000;stroke-width:1.0px;stroke-linecap:butt;stroke-linejoin:miter;stroke-opacity:1\"/>\n",
       "<path class=\"bond-8 atom-6 atom-7\" d=\"M 20.9,101.5 L 18.5,91.3\" style=\"fill:none;fill-rule:evenodd;stroke:#000000;stroke-width:1.0px;stroke-linecap:butt;stroke-linejoin:miter;stroke-opacity:1\"/>\n",
       "<path class=\"bond-8 atom-6 atom-7\" d=\"M 23.3,100.9 L 20.9,90.8\" style=\"fill:none;fill-rule:evenodd;stroke:#000000;stroke-width:1.0px;stroke-linecap:butt;stroke-linejoin:miter;stroke-opacity:1\"/>\n",
       "<path class=\"bond-9 atom-7 atom-8\" d=\"M 19.9,86.5 L 26.7,80.2\" style=\"fill:none;fill-rule:evenodd;stroke:#000000;stroke-width:1.0px;stroke-linecap:butt;stroke-linejoin:miter;stroke-opacity:1\"/>\n",
       "<path class=\"bond-10 atom-8 atom-9\" d=\"M 29.1,74.4 L 26.8,64.2\" style=\"fill:none;fill-rule:evenodd;stroke:#000000;stroke-width:1.0px;stroke-linecap:butt;stroke-linejoin:miter;stroke-opacity:1\"/>\n",
       "<path class=\"bond-11 atom-8 atom-10\" d=\"M 34.7,78.7 L 38.8,80.0\" style=\"fill:none;fill-rule:evenodd;stroke:#000000;stroke-width:1.0px;stroke-linecap:butt;stroke-linejoin:miter;stroke-opacity:1\"/>\n",
       "<path class=\"bond-11 atom-8 atom-10\" d=\"M 34.0,81.1 L 38.1,82.3\" style=\"fill:none;fill-rule:evenodd;stroke:#000000;stroke-width:1.0px;stroke-linecap:butt;stroke-linejoin:miter;stroke-opacity:1\"/>\n",
       "<path class=\"bond-12 atom-10 atom-11\" d=\"M 48.6,79.1 L 54.3,73.7\" style=\"fill:none;fill-rule:evenodd;stroke:#000000;stroke-width:1.0px;stroke-linecap:butt;stroke-linejoin:miter;stroke-opacity:1\"/>\n",
       "<path class=\"bond-13 atom-10 atom-27\" d=\"M 46.2,84.9 L 48.5,95.0\" style=\"fill:none;fill-rule:evenodd;stroke:#000000;stroke-width:1.0px;stroke-linecap:butt;stroke-linejoin:miter;stroke-opacity:1\"/>\n",
       "<path class=\"bond-14 atom-11 atom-12\" d=\"M 63.8,72.7 L 66.5,73.5\" style=\"fill:none;fill-rule:evenodd;stroke:#000000;stroke-width:1.0px;stroke-linecap:butt;stroke-linejoin:miter;stroke-opacity:1\"/>\n",
       "<path class=\"bond-15 atom-12 atom-13\" d=\"M 73.8,78.4 L 76.1,88.6\" style=\"fill:none;fill-rule:evenodd;stroke:#000000;stroke-width:1.0px;stroke-linecap:butt;stroke-linejoin:miter;stroke-opacity:1\"/>\n",
       "<path class=\"bond-16 atom-12 atom-26\" d=\"M 76.2,72.7 L 81.9,67.3\" style=\"fill:none;fill-rule:evenodd;stroke:#000000;stroke-width:1.0px;stroke-linecap:butt;stroke-linejoin:miter;stroke-opacity:1\"/>\n",
       "<path class=\"bond-17 atom-13 atom-14\" d=\"M 78.9,92.1 L 85.7,94.2\" style=\"fill:none;fill-rule:evenodd;stroke:#000000;stroke-width:1.0px;stroke-linecap:butt;stroke-linejoin:miter;stroke-opacity:1\"/>\n",
       "<path class=\"bond-18 atom-14 atom-15\" d=\"M 95.5,93.4 L 101.4,87.9\" style=\"fill:none;fill-rule:evenodd;stroke:#000000;stroke-width:1.0px;stroke-linecap:butt;stroke-linejoin:miter;stroke-opacity:1\"/>\n",
       "<path class=\"bond-19 atom-15 atom-16\" d=\"M 111.1,87.1 L 113.8,87.9\" style=\"fill:none;fill-rule:evenodd;stroke:#000000;stroke-width:1.0px;stroke-linecap:butt;stroke-linejoin:miter;stroke-opacity:1\"/>\n",
       "<path class=\"bond-20 atom-15 atom-25\" d=\"M 103.8,82.2 L 101.4,72.1\" style=\"fill:none;fill-rule:evenodd;stroke:#000000;stroke-width:1.0px;stroke-linecap:butt;stroke-linejoin:miter;stroke-opacity:1\"/>\n",
       "<path class=\"bond-21 atom-16 atom-17\" d=\"M 122.1,87.3 L 125.1,77.5\" style=\"fill:none;fill-rule:evenodd;stroke:#000000;stroke-width:1.0px;stroke-linecap:butt;stroke-linejoin:miter;stroke-opacity:1\"/>\n",
       "<path class=\"bond-21 atom-16 atom-17\" d=\"M 119.8,86.6 L 122.8,76.7\" style=\"fill:none;fill-rule:evenodd;stroke:#000000;stroke-width:1.0px;stroke-linecap:butt;stroke-linejoin:miter;stroke-opacity:1\"/>\n",
       "<path class=\"bond-22 atom-16 atom-18\" d=\"M 117.8,93.1 L 115.0,102.2\" style=\"fill:none;fill-rule:evenodd;stroke:#000000;stroke-width:1.0px;stroke-linecap:butt;stroke-linejoin:miter;stroke-opacity:1\"/>\n",
       "<path class=\"bond-22 atom-16 atom-18\" d=\"M 120.2,93.8 L 117.4,102.9\" style=\"fill:none;fill-rule:evenodd;stroke:#000000;stroke-width:1.0px;stroke-linecap:butt;stroke-linejoin:miter;stroke-opacity:1\"/>\n",
       "<path class=\"bond-23 atom-16 atom-19\" d=\"M 126.4,91.7 L 128.9,92.5\" style=\"fill:none;fill-rule:evenodd;stroke:#000000;stroke-width:1.0px;stroke-linecap:butt;stroke-linejoin:miter;stroke-opacity:1\"/>\n",
       "<path class=\"bond-24 atom-19 atom-20\" d=\"M 137.9,92.9 L 144.9,87.6\" style=\"fill:none;fill-rule:evenodd;stroke:#000000;stroke-width:1.0px;stroke-linecap:butt;stroke-linejoin:miter;stroke-opacity:1\"/>\n",
       "<path class=\"bond-24 atom-19 atom-20\" d=\"M 139.4,94.9 L 146.4,89.6\" style=\"fill:none;fill-rule:evenodd;stroke:#000000;stroke-width:1.0px;stroke-linecap:butt;stroke-linejoin:miter;stroke-opacity:1\"/>\n",
       "<path class=\"bond-25 atom-19 atom-24\" d=\"M 136.8,97.5 L 140.1,107.2\" style=\"fill:none;fill-rule:evenodd;stroke:#000000;stroke-width:1.0px;stroke-linecap:butt;stroke-linejoin:miter;stroke-opacity:1\"/>\n",
       "<path class=\"bond-26 atom-20 atom-21\" d=\"M 153.0,87.6 L 160.0,92.4\" style=\"fill:none;fill-rule:evenodd;stroke:#000000;stroke-width:1.0px;stroke-linecap:butt;stroke-linejoin:miter;stroke-opacity:1\"/>\n",
       "<path class=\"bond-27 atom-21 atom-22\" d=\"M 170.5,91.2 L 175.4,89.5\" style=\"fill:none;fill-rule:evenodd;stroke:#000000;stroke-width:1.0px;stroke-linecap:butt;stroke-linejoin:miter;stroke-opacity:1\"/>\n",
       "<path class=\"bond-28 atom-21 atom-23\" d=\"M 161.4,96.9 L 158.4,106.8\" style=\"fill:none;fill-rule:evenodd;stroke:#000000;stroke-width:1.0px;stroke-linecap:butt;stroke-linejoin:miter;stroke-opacity:1\"/>\n",
       "<path class=\"bond-29 atom-23 atom-24\" d=\"M 155.2,109.8 L 143.5,110.0\" style=\"fill:none;fill-rule:evenodd;stroke:#000000;stroke-width:1.0px;stroke-linecap:butt;stroke-linejoin:miter;stroke-opacity:1\"/>\n",
       "<path class=\"bond-29 atom-23 atom-24\" d=\"M 155.1,107.3 L 143.4,107.5\" style=\"fill:none;fill-rule:evenodd;stroke:#000000;stroke-width:1.0px;stroke-linecap:butt;stroke-linejoin:miter;stroke-opacity:1\"/>\n",
       "<path class=\"bond-30 atom-25 atom-26\" d=\"M 98.4,68.4 L 91.8,66.4\" style=\"fill:none;fill-rule:evenodd;stroke:#000000;stroke-width:1.0px;stroke-linecap:butt;stroke-linejoin:miter;stroke-opacity:1\"/>\n",
       "<path class=\"bond-31 atom-27 atom-28\" d=\"M 55.9,100.0 L 62.5,102.0\" style=\"fill:none;fill-rule:evenodd;stroke:#000000;stroke-width:1.0px;stroke-linecap:butt;stroke-linejoin:miter;stroke-opacity:1\"/>\n",
       "<path class=\"bond-31 atom-27 atom-28\" d=\"M 55.2,102.3 L 61.8,104.3\" style=\"fill:none;fill-rule:evenodd;stroke:#000000;stroke-width:1.0px;stroke-linecap:butt;stroke-linejoin:miter;stroke-opacity:1\"/>\n",
       "<path class=\"atom-1\" d=\"M 82.1 123.4 Q 82.1 122.3, 82.7 121.7 Q 83.2 121.0, 84.3 121.0 Q 85.3 121.0, 85.8 121.7 Q 86.4 122.3, 86.4 123.4 Q 86.4 124.5, 85.8 125.2 Q 85.3 125.8, 84.3 125.8 Q 83.2 125.8, 82.7 125.2 Q 82.1 124.5, 82.1 123.4 M 84.3 125.3 Q 85.0 125.3, 85.3 124.8 Q 85.7 124.3, 85.7 123.4 Q 85.7 122.5, 85.3 122.0 Q 85.0 121.6, 84.3 121.6 Q 83.5 121.6, 83.2 122.0 Q 82.8 122.5, 82.8 123.4 Q 82.8 124.3, 83.2 124.8 Q 83.5 125.3, 84.3 125.3 \" fill=\"#000000\"/>\n",
       "<path class=\"atom-1\" d=\"M 87.0 125.0 L 87.6 125.0 L 87.6 125.6 L 87.0 125.6 L 87.0 125.0 M 87.0 122.7 L 87.6 122.7 L 87.6 123.4 L 87.0 123.4 L 87.0 122.7 \" fill=\"#000000\"/>\n",
       "<path class=\"atom-1\" d=\"M 88.6 125.2 L 89.6 125.2 L 89.6 121.7 L 88.5 122.1 L 88.4 121.7 L 89.8 121.1 L 90.3 121.1 L 90.3 125.2 L 91.2 125.2 L 91.2 125.7 L 88.6 125.7 L 88.6 125.2 \" fill=\"#000000\"/>\n",
       "<path class=\"atom-2\" d=\"M 64.3 118.6 Q 64.3 117.5, 64.8 116.9 Q 65.4 116.3, 66.4 116.3 Q 67.4 116.3, 67.9 117.0 L 67.4 117.3 Q 67.1 116.8, 66.4 116.8 Q 65.7 116.8, 65.3 117.3 Q 65.0 117.8, 65.0 118.6 Q 65.0 119.6, 65.3 120.0 Q 65.7 120.5, 66.5 120.5 Q 67.0 120.5, 67.6 120.2 L 67.8 120.7 Q 67.5 120.8, 67.2 120.9 Q 66.8 121.0, 66.4 121.0 Q 65.4 121.0, 64.8 120.4 Q 64.3 119.8, 64.3 118.6 \" fill=\"#000000\"/>\n",
       "<path class=\"atom-2\" d=\"M 68.4 120.2 L 69.0 120.2 L 69.0 120.9 L 68.4 120.9 L 68.4 120.2 M 68.4 118.0 L 69.0 118.0 L 69.0 118.6 L 68.4 118.6 L 68.4 118.0 \" fill=\"#000000\"/>\n",
       "<path class=\"atom-2\" d=\"M 69.8 117.2 Q 69.9 116.8, 70.4 116.5 Q 70.8 116.3, 71.3 116.3 Q 72.0 116.3, 72.4 116.7 Q 72.8 117.0, 72.8 117.7 Q 72.8 118.4, 72.3 119.0 Q 71.8 119.7, 70.7 120.4 L 72.9 120.4 L 72.9 121.0 L 69.8 121.0 L 69.8 120.5 Q 70.6 119.9, 71.1 119.5 Q 71.7 119.0, 71.9 118.6 Q 72.2 118.2, 72.2 117.8 Q 72.2 117.3, 71.9 117.1 Q 71.7 116.8, 71.3 116.8 Q 70.9 116.8, 70.7 117.0 Q 70.4 117.1, 70.3 117.4 L 69.8 117.2 \" fill=\"#000000\"/>\n",
       "<path class=\"atom-3\" d=\"M 52.3 129.8 Q 52.3 128.7, 52.9 128.1 Q 53.4 127.5, 54.5 127.5 Q 55.4 127.5, 55.9 128.1 L 55.5 128.5 Q 55.1 128.0, 54.5 128.0 Q 53.8 128.0, 53.4 128.5 Q 53.0 128.9, 53.0 129.8 Q 53.0 130.8, 53.4 131.2 Q 53.8 131.7, 54.5 131.7 Q 55.0 131.7, 55.6 131.4 L 55.8 131.9 Q 55.6 132.0, 55.2 132.1 Q 54.8 132.2, 54.4 132.2 Q 53.4 132.2, 52.9 131.6 Q 52.3 131.0, 52.3 129.8 \" fill=\"#000000\"/>\n",
       "<path class=\"atom-3\" d=\"M 56.4 131.4 L 57.1 131.4 L 57.1 132.1 L 56.4 132.1 L 56.4 131.4 M 56.4 129.1 L 57.1 129.1 L 57.1 129.8 L 56.4 129.8 L 56.4 129.1 \" fill=\"#000000\"/>\n",
       "<path class=\"atom-3\" d=\"M 60.0 129.7 Q 60.5 129.9, 60.7 130.1 Q 60.9 130.4, 60.9 130.9 Q 60.9 131.3, 60.7 131.6 Q 60.5 131.9, 60.2 132.1 Q 59.8 132.2, 59.3 132.2 Q 58.9 132.2, 58.5 132.1 Q 58.1 131.9, 57.8 131.5 L 58.2 131.1 Q 58.5 131.5, 58.7 131.6 Q 59.0 131.7, 59.3 131.7 Q 59.8 131.7, 60.0 131.5 Q 60.3 131.3, 60.3 130.9 Q 60.3 130.4, 60.0 130.2 Q 59.7 130.0, 59.2 130.0 L 58.8 130.0 L 58.8 129.5 L 59.1 129.5 Q 59.6 129.5, 59.9 129.3 Q 60.2 129.1, 60.2 128.7 Q 60.2 128.4, 60.0 128.2 Q 59.7 128.0, 59.4 128.0 Q 59.0 128.0, 58.7 128.1 Q 58.5 128.3, 58.3 128.6 L 57.9 128.4 Q 58.0 128.0, 58.4 127.7 Q 58.8 127.5, 59.4 127.5 Q 60.0 127.5, 60.4 127.8 Q 60.8 128.1, 60.8 128.7 Q 60.8 129.0, 60.6 129.3 Q 60.4 129.6, 60.0 129.7 \" fill=\"#000000\"/>\n",
       "<path class=\"atom-4\" d=\"M 33.7 125.1 Q 33.7 123.9, 34.2 123.3 Q 34.8 122.7, 35.8 122.7 Q 36.7 122.7, 37.3 123.4 L 36.8 123.8 Q 36.5 123.3, 35.8 123.3 Q 35.1 123.3, 34.7 123.7 Q 34.4 124.2, 34.4 125.1 Q 34.4 126.0, 34.7 126.5 Q 35.1 126.9, 35.9 126.9 Q 36.4 126.9, 37.0 126.6 L 37.2 127.1 Q 36.9 127.3, 36.5 127.4 Q 36.2 127.5, 35.8 127.5 Q 34.8 127.5, 34.2 126.9 Q 33.7 126.2, 33.7 125.1 \" fill=\"#000000\"/>\n",
       "<path class=\"atom-4\" d=\"M 37.8 126.6 L 38.4 126.6 L 38.4 127.3 L 37.8 127.3 L 37.8 126.6 M 37.8 124.4 L 38.4 124.4 L 38.4 125.0 L 37.8 125.0 L 37.8 124.4 \" fill=\"#000000\"/>\n",
       "<path class=\"atom-4\" d=\"M 42.2 125.8 L 42.8 125.8 L 42.8 126.3 L 42.2 126.3 L 42.2 127.4 L 41.6 127.4 L 41.6 126.3 L 39.2 126.3 L 39.2 125.9 L 41.2 122.8 L 42.2 122.8 L 42.2 125.8 M 39.9 125.8 L 41.6 125.8 L 41.6 123.2 L 39.9 125.8 \" fill=\"#000000\"/>\n",
       "<path class=\"atom-5\" d=\"M 32.9 109.1 Q 32.9 108.0, 33.5 107.4 Q 34.0 106.8, 35.1 106.8 Q 36.0 106.8, 36.5 107.5 L 36.1 107.8 Q 35.7 107.3, 35.1 107.3 Q 34.4 107.3, 34.0 107.8 Q 33.6 108.3, 33.6 109.1 Q 33.6 110.1, 34.0 110.5 Q 34.4 111.0, 35.1 111.0 Q 35.6 111.0, 36.2 110.7 L 36.4 111.2 Q 36.2 111.3, 35.8 111.4 Q 35.4 111.5, 35.0 111.5 Q 34.0 111.5, 33.5 110.9 Q 32.9 110.3, 32.9 109.1 \" fill=\"#000000\"/>\n",
       "<path class=\"atom-5\" d=\"M 37.0 110.7 L 37.7 110.7 L 37.7 111.4 L 37.0 111.4 L 37.0 110.7 M 37.0 108.4 L 37.7 108.4 L 37.7 109.1 L 37.0 109.1 L 37.0 108.4 \" fill=\"#000000\"/>\n",
       "<path class=\"atom-5\" d=\"M 40.1 108.6 Q 40.5 108.6, 40.8 108.7 Q 41.2 108.9, 41.4 109.2 Q 41.6 109.6, 41.6 110.0 Q 41.6 110.5, 41.3 110.8 Q 41.1 111.2, 40.7 111.3 Q 40.3 111.5, 39.9 111.5 Q 39.5 111.5, 39.1 111.4 Q 38.7 111.2, 38.4 110.9 L 38.8 110.5 Q 39.0 110.7, 39.3 110.9 Q 39.6 111.0, 39.9 111.0 Q 40.3 111.0, 40.6 110.7 Q 40.9 110.5, 40.9 110.0 Q 40.9 109.5, 40.6 109.3 Q 40.3 109.1, 39.9 109.1 Q 39.5 109.1, 39.0 109.2 L 38.7 109.1 L 38.9 106.8 L 41.3 106.8 L 41.2 107.4 L 39.4 107.4 L 39.3 108.7 Q 39.7 108.6, 40.1 108.6 \" fill=\"#000000\"/>\n",
       "<path class=\"atom-6\" d=\"M 14.5 104.4 Q 14.5 103.2, 15.0 102.6 Q 15.6 102.0, 16.6 102.0 Q 17.6 102.0, 18.1 102.7 L 17.6 103.1 Q 17.3 102.6, 16.6 102.6 Q 15.9 102.6, 15.5 103.0 Q 15.2 103.5, 15.2 104.4 Q 15.2 105.3, 15.5 105.8 Q 15.9 106.3, 16.7 106.3 Q 17.2 106.3, 17.8 105.9 L 18.0 106.4 Q 17.7 106.6, 17.4 106.7 Q 17.0 106.8, 16.6 106.8 Q 15.6 106.8, 15.0 106.2 Q 14.5 105.5, 14.5 104.4 \" fill=\"#000000\"/>\n",
       "<path class=\"atom-6\" d=\"M 18.6 105.9 L 19.2 105.9 L 19.2 106.6 L 18.6 106.6 L 18.6 105.9 M 18.6 103.7 L 19.2 103.7 L 19.2 104.4 L 18.6 104.4 L 18.6 103.7 \" fill=\"#000000\"/>\n",
       "<path class=\"atom-6\" d=\"M 21.8 103.8 Q 22.2 103.8, 22.5 104.0 Q 22.8 104.2, 23.0 104.5 Q 23.2 104.8, 23.2 105.2 Q 23.2 105.7, 23.0 106.0 Q 22.8 106.4, 22.4 106.6 Q 22.1 106.8, 21.6 106.8 Q 20.8 106.8, 20.4 106.2 Q 20.0 105.6, 20.0 104.5 Q 20.0 103.3, 20.5 102.7 Q 21.0 102.0, 22.0 102.0 Q 22.3 102.0, 22.5 102.1 Q 22.8 102.2, 23.0 102.3 L 22.8 102.7 Q 22.4 102.6, 22.0 102.6 Q 21.3 102.6, 21.0 103.0 Q 20.7 103.4, 20.6 104.3 Q 20.9 104.1, 21.2 103.9 Q 21.5 103.8, 21.8 103.8 M 21.6 106.2 Q 21.9 106.2, 22.1 106.1 Q 22.3 106.0, 22.4 105.7 Q 22.5 105.5, 22.5 105.2 Q 22.5 104.8, 22.3 104.6 Q 22.1 104.3, 21.7 104.3 Q 21.4 104.3, 21.1 104.5 Q 20.8 104.6, 20.6 104.8 Q 20.7 105.5, 20.9 105.9 Q 21.2 106.2, 21.6 106.2 \" fill=\"#000000\"/>\n",
       "<path class=\"atom-7\" d=\"M 10.9 88.4 Q 10.9 87.3, 11.4 86.7 Q 11.9 86.1, 13.0 86.1 Q 13.9 86.1, 14.4 86.8 L 14.0 87.1 Q 13.6 86.6, 13.0 86.6 Q 12.3 86.6, 11.9 87.1 Q 11.5 87.6, 11.5 88.4 Q 11.5 89.4, 11.9 89.8 Q 12.3 90.3, 13.0 90.3 Q 13.6 90.3, 14.1 90.0 L 14.3 90.5 Q 14.1 90.6, 13.7 90.7 Q 13.4 90.8, 13.0 90.8 Q 11.9 90.8, 11.4 90.2 Q 10.9 89.6, 10.9 88.4 \" fill=\"#000000\"/>\n",
       "<path class=\"atom-7\" d=\"M 14.9 90.0 L 15.6 90.0 L 15.6 90.7 L 14.9 90.7 L 14.9 90.0 M 14.9 87.8 L 15.6 87.8 L 15.6 88.4 L 14.9 88.4 L 14.9 87.8 \" fill=\"#000000\"/>\n",
       "<path class=\"atom-7\" d=\"M 18.8 86.7 L 16.3 86.7 L 16.3 86.1 L 19.4 86.1 L 19.4 86.6 L 17.5 90.8 L 16.9 90.8 L 18.8 86.7 \" fill=\"#000000\"/>\n",
       "<path class=\"atom-8\" d=\"M 25.4 77.3 Q 25.4 76.1, 26.0 75.5 Q 26.5 74.9, 27.5 74.9 Q 28.5 74.9, 29.0 75.6 L 28.6 75.9 Q 28.2 75.4, 27.5 75.4 Q 26.8 75.4, 26.5 75.9 Q 26.1 76.4, 26.1 77.3 Q 26.1 78.2, 26.5 78.6 Q 26.9 79.1, 27.6 79.1 Q 28.1 79.1, 28.7 78.8 L 28.9 79.3 Q 28.7 79.5, 28.3 79.5 Q 27.9 79.6, 27.5 79.6 Q 26.5 79.6, 26.0 79.0 Q 25.4 78.4, 25.4 77.3 \" fill=\"#000000\"/>\n",
       "<path class=\"atom-8\" d=\"M 29.5 78.8 L 30.2 78.8 L 30.2 79.5 L 29.5 79.5 L 29.5 78.8 M 29.5 76.6 L 30.2 76.6 L 30.2 77.2 L 29.5 77.2 L 29.5 76.6 \" fill=\"#000000\"/>\n",
       "<path class=\"atom-8\" d=\"M 33.3 77.1 Q 33.7 77.3, 34.0 77.6 Q 34.2 77.9, 34.2 78.3 Q 34.2 78.7, 34.0 79.0 Q 33.8 79.3, 33.4 79.5 Q 33.1 79.6, 32.6 79.6 Q 31.8 79.6, 31.4 79.3 Q 30.9 78.9, 30.9 78.3 Q 30.9 77.9, 31.1 77.6 Q 31.3 77.4, 31.7 77.1 Q 31.4 77.0, 31.3 76.7 Q 31.1 76.5, 31.1 76.1 Q 31.1 75.5, 31.5 75.2 Q 31.9 74.9, 32.6 74.9 Q 33.2 74.9, 33.6 75.2 Q 34.0 75.5, 34.0 76.1 Q 34.0 76.4, 33.8 76.7 Q 33.7 76.9, 33.3 77.1 M 32.6 75.4 Q 32.2 75.4, 32.0 75.6 Q 31.7 75.8, 31.7 76.1 Q 31.7 76.3, 31.9 76.5 Q 32.0 76.6, 32.2 76.7 Q 32.5 76.8, 32.8 77.0 Q 33.1 76.8, 33.2 76.6 Q 33.4 76.3, 33.4 76.1 Q 33.4 75.8, 33.2 75.6 Q 32.9 75.4, 32.6 75.4 M 32.6 79.2 Q 33.0 79.2, 33.3 78.9 Q 33.5 78.7, 33.5 78.3 Q 33.5 78.1, 33.4 77.9 Q 33.3 77.7, 33.1 77.6 Q 32.9 77.6, 32.5 77.4 L 32.2 77.3 Q 31.9 77.5, 31.7 77.8 Q 31.6 78.0, 31.6 78.3 Q 31.6 78.7, 31.9 78.9 Q 32.1 79.2, 32.6 79.2 \" fill=\"#000000\"/>\n",
       "<path class=\"atom-9\" d=\"M 24.0 61.3 Q 24.0 60.2, 24.5 59.6 Q 25.1 58.9, 26.1 58.9 Q 27.1 58.9, 27.7 59.6 Q 28.2 60.2, 28.2 61.3 Q 28.2 62.4, 27.7 63.1 Q 27.1 63.7, 26.1 63.7 Q 25.1 63.7, 24.5 63.1 Q 24.0 62.4, 24.0 61.3 M 26.1 63.2 Q 26.8 63.2, 27.2 62.7 Q 27.6 62.2, 27.6 61.3 Q 27.6 60.4, 27.2 59.9 Q 26.8 59.5, 26.1 59.5 Q 25.4 59.5, 25.0 59.9 Q 24.6 60.4, 24.6 61.3 Q 24.6 62.2, 25.0 62.7 Q 25.4 63.2, 26.1 63.2 \" fill=\"#000000\"/>\n",
       "<path class=\"atom-9\" d=\"M 28.9 62.9 L 29.5 62.9 L 29.5 63.5 L 28.9 63.5 L 28.9 62.9 M 28.9 60.6 L 29.5 60.6 L 29.5 61.3 L 28.9 61.3 L 28.9 60.6 \" fill=\"#000000\"/>\n",
       "<path class=\"atom-9\" d=\"M 31.8 58.9 Q 32.7 58.9, 33.1 59.5 Q 33.5 60.1, 33.5 61.2 Q 33.5 62.4, 33.0 63.1 Q 32.5 63.7, 31.5 63.7 Q 31.2 63.7, 31.0 63.6 Q 30.7 63.6, 30.5 63.4 L 30.7 63.0 Q 31.1 63.2, 31.5 63.2 Q 32.1 63.2, 32.5 62.7 Q 32.8 62.3, 32.8 61.5 Q 32.6 61.7, 32.3 61.8 Q 32.0 61.9, 31.7 61.9 Q 31.3 61.9, 31.0 61.7 Q 30.6 61.5, 30.5 61.2 Q 30.3 60.9, 30.3 60.5 Q 30.3 60.0, 30.5 59.7 Q 30.7 59.3, 31.0 59.1 Q 31.4 58.9, 31.8 58.9 M 30.9 60.5 Q 30.9 60.9, 31.2 61.1 Q 31.4 61.4, 31.8 61.4 Q 32.1 61.4, 32.4 61.3 Q 32.6 61.1, 32.8 60.9 Q 32.8 60.2, 32.6 59.8 Q 32.3 59.5, 31.8 59.5 Q 31.6 59.5, 31.4 59.6 Q 31.2 59.7, 31.1 60.0 Q 30.9 60.2, 30.9 60.5 \" fill=\"#000000\"/>\n",
       "<path class=\"atom-9\" d=\"M 34.2 59.0 L 34.9 59.0 L 34.9 61.0 L 37.2 61.0 L 37.2 59.0 L 37.9 59.0 L 37.9 63.6 L 37.2 63.6 L 37.2 61.5 L 34.9 61.5 L 34.9 63.6 L 34.2 63.6 L 34.2 59.0 \" fill=\"#000000\"/>\n",
       "<path class=\"atom-10\" d=\"M 39.4 82.0 Q 39.4 80.9, 39.9 80.3 Q 40.5 79.6, 41.5 79.6 Q 42.4 79.6, 42.9 80.3 L 42.5 80.7 Q 42.1 80.2, 41.5 80.2 Q 40.8 80.2, 40.4 80.7 Q 40.0 81.1, 40.0 82.0 Q 40.0 82.9, 40.4 83.4 Q 40.8 83.9, 41.6 83.9 Q 42.1 83.9, 42.7 83.6 L 42.8 84.1 Q 42.6 84.2, 42.2 84.3 Q 41.9 84.4, 41.5 84.4 Q 40.5 84.4, 39.9 83.8 Q 39.4 83.2, 39.4 82.0 \" fill=\"#000000\"/>\n",
       "<path class=\"atom-10\" d=\"M 43.5 83.6 L 44.1 83.6 L 44.1 84.2 L 43.5 84.2 L 43.5 83.6 M 43.5 81.3 L 44.1 81.3 L 44.1 82.0 L 43.5 82.0 L 43.5 81.3 \" fill=\"#000000\"/>\n",
       "<path class=\"atom-10\" d=\"M 45.1 83.8 L 46.1 83.8 L 46.1 80.3 L 45.0 80.7 L 44.9 80.3 L 46.3 79.7 L 46.8 79.7 L 46.8 83.8 L 47.7 83.8 L 47.7 84.3 L 45.1 84.3 L 45.1 83.8 \" fill=\"#000000\"/>\n",
       "<path class=\"atom-10\" d=\"M 49.9 84.4 Q 49.1 84.4, 48.6 83.8 Q 48.2 83.1, 48.2 82.0 Q 48.2 80.9, 48.6 80.3 Q 49.0 79.6, 49.9 79.6 Q 50.8 79.6, 51.2 80.3 Q 51.6 80.9, 51.6 82.0 Q 51.6 83.1, 51.2 83.8 Q 50.8 84.4, 49.9 84.4 M 49.9 83.9 Q 50.4 83.9, 50.7 83.4 Q 50.9 82.9, 50.9 82.0 Q 50.9 81.1, 50.7 80.6 Q 50.4 80.2, 49.9 80.2 Q 49.4 80.2, 49.1 80.6 Q 48.9 81.1, 48.9 82.0 Q 48.9 82.9, 49.1 83.4 Q 49.4 83.9, 49.9 83.9 \" fill=\"#000000\"/>\n",
       "<path class=\"atom-11\" d=\"M 51.6 70.8 Q 51.6 69.7, 52.2 69.1 Q 52.7 68.5, 53.7 68.5 Q 54.7 68.5, 55.2 69.1 L 54.8 69.5 Q 54.4 69.0, 53.7 69.0 Q 53.0 69.0, 52.7 69.5 Q 52.3 69.9, 52.3 70.8 Q 52.3 71.7, 52.7 72.2 Q 53.1 72.7, 53.8 72.7 Q 54.3 72.7, 54.9 72.4 L 55.1 72.9 Q 54.9 73.0, 54.5 73.1 Q 54.1 73.2, 53.7 73.2 Q 52.7 73.2, 52.2 72.6 Q 51.6 72.0, 51.6 70.8 \" fill=\"#000000\"/>\n",
       "<path class=\"atom-11\" d=\"M 55.7 72.4 L 56.4 72.4 L 56.4 73.0 L 55.7 73.0 L 55.7 72.4 M 55.7 70.1 L 56.4 70.1 L 56.4 70.8 L 55.7 70.8 L 55.7 70.1 \" fill=\"#000000\"/>\n",
       "<path class=\"atom-11\" d=\"M 57.4 72.6 L 58.4 72.6 L 58.4 69.2 L 57.3 69.5 L 57.1 69.1 L 58.5 68.5 L 59.0 68.6 L 59.0 72.6 L 59.9 72.6 L 59.9 73.1 L 57.4 73.1 L 57.4 72.6 \" fill=\"#000000\"/>\n",
       "<path class=\"atom-11\" d=\"M 60.7 72.6 L 61.7 72.6 L 61.7 69.2 L 60.6 69.5 L 60.4 69.1 L 61.9 68.5 L 62.3 68.6 L 62.3 72.6 L 63.2 72.6 L 63.2 73.1 L 60.7 73.1 L 60.7 72.6 \" fill=\"#000000\"/>\n",
       "<path class=\"atom-12\" d=\"M 67.8 73.3 L 69.3 75.7 Q 69.4 76.0, 69.7 76.4 Q 69.9 76.8, 69.9 76.9 L 69.9 73.3 L 70.5 73.3 L 70.5 77.9 L 69.9 77.9 L 68.3 75.2 Q 68.1 74.9, 67.9 74.5 Q 67.7 74.2, 67.6 74.1 L 67.6 77.9 L 67.0 77.9 L 67.0 73.3 L 67.8 73.3 \" fill=\"#000000\"/>\n",
       "<path class=\"atom-12\" d=\"M 71.3 77.1 L 72.0 77.1 L 72.0 77.8 L 71.3 77.8 L 71.3 77.1 M 71.3 74.9 L 72.0 74.9 L 72.0 75.5 L 71.3 75.5 L 71.3 74.9 \" fill=\"#000000\"/>\n",
       "<path class=\"atom-12\" d=\"M 73.0 77.4 L 74.0 77.4 L 74.0 73.9 L 72.9 74.3 L 72.7 73.9 L 74.2 73.2 L 74.6 73.3 L 74.6 77.4 L 75.5 77.4 L 75.5 77.9 L 73.0 77.9 L 73.0 77.4 \" fill=\"#000000\"/>\n",
       "<path class=\"atom-12\" d=\"M 76.1 74.1 Q 76.2 73.7, 76.6 73.5 Q 77.1 73.2, 77.6 73.2 Q 78.3 73.2, 78.7 73.6 Q 79.1 74.0, 79.1 74.6 Q 79.1 75.3, 78.6 76.0 Q 78.1 76.6, 77.0 77.4 L 79.2 77.4 L 79.2 77.9 L 76.1 77.9 L 76.1 77.5 Q 76.9 76.8, 77.4 76.4 Q 77.9 75.9, 78.2 75.5 Q 78.4 75.1, 78.4 74.7 Q 78.4 74.2, 78.2 74.0 Q 78.0 73.7, 77.6 73.7 Q 77.2 73.7, 77.0 73.9 Q 76.7 74.0, 76.6 74.4 L 76.1 74.1 \" fill=\"#000000\"/>\n",
       "<path class=\"atom-13\" d=\"M 66.4 91.5 Q 66.4 90.4, 67.0 89.8 Q 67.5 89.1, 68.6 89.1 Q 69.5 89.1, 70.0 89.8 L 69.6 90.2 Q 69.2 89.7, 68.6 89.7 Q 67.9 89.7, 67.5 90.2 Q 67.1 90.6, 67.1 91.5 Q 67.1 92.4, 67.5 92.9 Q 67.9 93.4, 68.6 93.4 Q 69.1 93.4, 69.7 93.1 L 69.9 93.6 Q 69.7 93.7, 69.3 93.8 Q 68.9 93.9, 68.5 93.9 Q 67.5 93.9, 67.0 93.3 Q 66.4 92.7, 66.4 91.5 \" fill=\"#000000\"/>\n",
       "<path class=\"atom-13\" d=\"M 70.5 93.1 L 71.2 93.1 L 71.2 93.7 L 70.5 93.7 L 70.5 93.1 M 70.5 90.8 L 71.2 90.8 L 71.2 91.5 L 70.5 91.5 L 70.5 90.8 \" fill=\"#000000\"/>\n",
       "<path class=\"atom-13\" d=\"M 72.2 93.3 L 73.2 93.3 L 73.2 89.8 L 72.1 90.2 L 71.9 89.8 L 73.4 89.2 L 73.8 89.3 L 73.8 93.3 L 74.7 93.3 L 74.7 93.8 L 72.2 93.8 L 72.2 93.3 \" fill=\"#000000\"/>\n",
       "<path class=\"atom-13\" d=\"M 77.5 91.4 Q 77.9 91.5, 78.2 91.8 Q 78.4 92.1, 78.4 92.6 Q 78.4 93.0, 78.2 93.3 Q 78.0 93.6, 77.6 93.7 Q 77.3 93.9, 76.8 93.9 Q 76.3 93.9, 75.9 93.7 Q 75.6 93.6, 75.3 93.2 L 75.6 92.8 Q 75.9 93.1, 76.2 93.3 Q 76.4 93.4, 76.8 93.4 Q 77.2 93.4, 77.5 93.2 Q 77.7 92.9, 77.7 92.6 Q 77.7 92.1, 77.5 91.9 Q 77.2 91.7, 76.6 91.7 L 76.3 91.7 L 76.3 91.2 L 76.6 91.2 Q 77.1 91.2, 77.4 91.0 Q 77.6 90.7, 77.6 90.3 Q 77.6 90.0, 77.4 89.9 Q 77.2 89.7, 76.8 89.7 Q 76.4 89.7, 76.2 89.8 Q 75.9 89.9, 75.8 90.3 L 75.3 90.1 Q 75.5 89.7, 75.9 89.4 Q 76.2 89.1, 76.8 89.1 Q 77.5 89.1, 77.9 89.5 Q 78.3 89.8, 78.3 90.3 Q 78.3 90.7, 78.1 91.0 Q 77.9 91.2, 77.5 91.4 \" fill=\"#000000\"/>\n",
       "<path class=\"atom-14\" d=\"M 86.3 96.3 Q 86.3 95.1, 86.8 94.5 Q 87.4 93.9, 88.4 93.9 Q 89.3 93.9, 89.9 94.6 L 89.4 94.9 Q 89.0 94.4, 88.4 94.4 Q 87.7 94.4, 87.3 94.9 Q 86.9 95.4, 86.9 96.3 Q 86.9 97.2, 87.3 97.7 Q 87.7 98.1, 88.5 98.1 Q 89.0 98.1, 89.6 97.8 L 89.7 98.3 Q 89.5 98.5, 89.1 98.6 Q 88.8 98.6, 88.4 98.6 Q 87.4 98.6, 86.8 98.0 Q 86.3 97.4, 86.3 96.3 \" fill=\"#000000\"/>\n",
       "<path class=\"atom-14\" d=\"M 90.4 97.8 L 91.0 97.8 L 91.0 98.5 L 90.4 98.5 L 90.4 97.8 M 90.4 95.6 L 91.0 95.6 L 91.0 96.2 L 90.4 96.2 L 90.4 95.6 \" fill=\"#000000\"/>\n",
       "<path class=\"atom-14\" d=\"M 92.0 98.1 L 93.1 98.1 L 93.1 94.6 L 91.9 94.9 L 91.8 94.6 L 93.2 93.9 L 93.7 94.0 L 93.7 98.1 L 94.6 98.1 L 94.6 98.6 L 92.0 98.6 L 92.0 98.1 \" fill=\"#000000\"/>\n",
       "<path class=\"atom-14\" d=\"M 98.1 97.0 L 98.7 97.0 L 98.7 97.5 L 98.1 97.5 L 98.1 98.6 L 97.5 98.6 L 97.5 97.5 L 95.1 97.5 L 95.1 97.1 L 97.2 94.0 L 98.1 94.0 L 98.1 97.0 M 95.9 97.0 L 97.5 97.0 L 97.5 94.4 L 95.9 97.0 \" fill=\"#000000\"/>\n",
       "<path class=\"atom-15\" d=\"M 99.1 82.7 L 100.6 85.2 Q 100.8 85.4, 101.0 85.9 Q 101.2 86.3, 101.2 86.4 L 101.2 82.7 L 101.9 82.7 L 101.9 87.4 L 101.2 87.4 L 99.6 84.7 Q 99.4 84.4, 99.2 84.0 Q 99.0 83.7, 98.9 83.6 L 98.9 87.4 L 98.3 87.4 L 98.3 82.7 L 99.1 82.7 \" fill=\"#000000\"/>\n",
       "<path class=\"atom-15\" d=\"M 102.7 86.6 L 103.3 86.6 L 103.3 87.3 L 102.7 87.3 L 102.7 86.6 M 102.7 84.4 L 103.3 84.4 L 103.3 85.0 L 102.7 85.0 L 102.7 84.4 \" fill=\"#000000\"/>\n",
       "<path class=\"atom-15\" d=\"M 104.3 86.9 L 105.3 86.9 L 105.3 83.4 L 104.2 83.7 L 104.1 83.4 L 105.5 82.7 L 105.9 82.8 L 105.9 86.9 L 106.9 86.9 L 106.9 87.4 L 104.3 87.4 L 104.3 86.9 \" fill=\"#000000\"/>\n",
       "<path class=\"atom-15\" d=\"M 109.1 84.5 Q 109.5 84.5, 109.8 84.7 Q 110.1 84.8, 110.3 85.2 Q 110.5 85.5, 110.5 85.9 Q 110.5 86.4, 110.3 86.7 Q 110.1 87.1, 109.7 87.3 Q 109.3 87.4, 108.9 87.4 Q 108.4 87.4, 108.0 87.3 Q 107.7 87.1, 107.4 86.8 L 107.8 86.4 Q 108.0 86.7, 108.3 86.8 Q 108.6 86.9, 108.9 86.9 Q 109.3 86.9, 109.6 86.7 Q 109.9 86.4, 109.9 85.9 Q 109.9 85.4, 109.6 85.2 Q 109.3 85.0, 108.8 85.0 Q 108.4 85.0, 108.0 85.2 L 107.6 85.0 L 107.8 82.7 L 110.2 82.7 L 110.2 83.3 L 108.4 83.3 L 108.2 84.6 Q 108.7 84.5, 109.1 84.5 \" fill=\"#000000\"/>\n",
       "<path class=\"atom-16\" d=\"M 114.6 91.4 Q 114.6 91.5, 114.8 91.5 Q 115.0 91.6, 115.3 91.7 Q 115.5 91.7, 115.8 91.7 Q 116.2 91.7, 116.5 91.5 Q 116.7 91.3, 116.7 90.9 Q 116.7 90.7, 116.6 90.5 Q 116.5 90.4, 116.3 90.3 Q 116.1 90.2, 115.7 90.1 Q 115.3 90.0, 115.1 89.9 Q 114.8 89.7, 114.6 89.5 Q 114.5 89.3, 114.5 88.8 Q 114.5 88.2, 114.9 87.9 Q 115.3 87.5, 116.1 87.5 Q 116.6 87.5, 117.2 87.8 L 117.1 88.3 Q 116.5 88.1, 116.1 88.1 Q 115.6 88.1, 115.4 88.2 Q 115.1 88.4, 115.1 88.8 Q 115.1 89.0, 115.3 89.2 Q 115.4 89.3, 115.6 89.4 Q 115.8 89.5, 116.1 89.6 Q 116.5 89.7, 116.7 89.8 Q 117.0 90.0, 117.2 90.2 Q 117.4 90.5, 117.4 90.9 Q 117.4 91.6, 116.9 91.9 Q 116.5 92.3, 115.8 92.3 Q 115.4 92.3, 115.1 92.2 Q 114.7 92.1, 114.4 91.9 L 114.6 91.4 \" fill=\"#000000\"/>\n",
       "<path class=\"atom-16\" d=\"M 117.9 91.4 L 118.6 91.4 L 118.6 92.0 L 117.9 92.0 L 117.9 91.4 M 117.9 89.1 L 118.6 89.1 L 118.6 89.8 L 117.9 89.8 L 117.9 89.1 \" fill=\"#000000\"/>\n",
       "<path class=\"atom-16\" d=\"M 119.5 91.6 L 120.6 91.6 L 120.6 88.2 L 119.4 88.5 L 119.3 88.1 L 120.7 87.5 L 121.2 87.6 L 121.2 91.6 L 122.1 91.6 L 122.1 92.2 L 119.5 92.2 L 119.5 91.6 \" fill=\"#000000\"/>\n",
       "<path class=\"atom-16\" d=\"M 124.4 89.3 Q 124.8 89.3, 125.1 89.4 Q 125.5 89.6, 125.6 89.9 Q 125.8 90.3, 125.8 90.7 Q 125.8 91.1, 125.6 91.5 Q 125.4 91.8, 125.1 92.0 Q 124.7 92.2, 124.3 92.2 Q 123.4 92.2, 123.0 91.6 Q 122.6 91.1, 122.6 90.0 Q 122.6 88.7, 123.1 88.1 Q 123.6 87.5, 124.6 87.5 Q 124.9 87.5, 125.1 87.5 Q 125.4 87.6, 125.6 87.7 L 125.4 88.2 Q 125.0 88.0, 124.6 88.0 Q 124.0 88.0, 123.6 88.4 Q 123.3 88.8, 123.3 89.7 Q 123.5 89.5, 123.8 89.4 Q 124.1 89.3, 124.4 89.3 M 124.3 91.7 Q 124.5 91.7, 124.7 91.5 Q 124.9 91.4, 125.0 91.2 Q 125.2 90.9, 125.2 90.7 Q 125.2 90.3, 124.9 90.0 Q 124.7 89.8, 124.3 89.8 Q 124.0 89.8, 123.7 89.9 Q 123.5 90.0, 123.3 90.2 Q 123.3 91.0, 123.5 91.3 Q 123.8 91.7, 124.3 91.7 \" fill=\"#000000\"/>\n",
       "<path class=\"atom-17\" d=\"M 122.7 74.2 Q 122.7 73.0, 123.3 72.4 Q 123.8 71.8, 124.9 71.8 Q 125.9 71.8, 126.4 72.4 Q 127.0 73.0, 127.0 74.2 Q 127.0 75.3, 126.4 75.9 Q 125.9 76.6, 124.9 76.6 Q 123.8 76.6, 123.3 75.9 Q 122.7 75.3, 122.7 74.2 M 124.9 76.0 Q 125.6 76.0, 125.9 75.6 Q 126.3 75.1, 126.3 74.2 Q 126.3 73.2, 125.9 72.8 Q 125.6 72.3, 124.9 72.3 Q 124.1 72.3, 123.8 72.8 Q 123.4 73.2, 123.4 74.2 Q 123.4 75.1, 123.8 75.6 Q 124.1 76.0, 124.9 76.0 \" fill=\"#000000\"/>\n",
       "<path class=\"atom-17\" d=\"M 127.6 75.7 L 128.2 75.7 L 128.2 76.4 L 127.6 76.4 L 127.6 75.7 M 127.6 73.5 L 128.2 73.5 L 128.2 74.1 L 127.6 74.1 L 127.6 73.5 \" fill=\"#000000\"/>\n",
       "<path class=\"atom-17\" d=\"M 129.2 76.0 L 130.3 76.0 L 130.3 72.5 L 129.1 72.8 L 129.0 72.5 L 130.4 71.8 L 130.9 71.9 L 130.9 76.0 L 131.8 76.0 L 131.8 76.5 L 129.2 76.5 L 129.2 76.0 \" fill=\"#000000\"/>\n",
       "<path class=\"atom-17\" d=\"M 134.8 72.4 L 132.3 72.4 L 132.3 71.8 L 135.4 71.8 L 135.4 72.3 L 133.5 76.5 L 132.9 76.5 L 134.8 72.4 \" fill=\"#000000\"/>\n",
       "<path class=\"atom-18\" d=\"M 113.2 105.5 Q 113.2 104.4, 113.8 103.8 Q 114.3 103.1, 115.3 103.1 Q 116.4 103.1, 116.9 103.8 Q 117.5 104.4, 117.5 105.5 Q 117.5 106.6, 116.9 107.3 Q 116.4 107.9, 115.3 107.9 Q 114.3 107.9, 113.8 107.3 Q 113.2 106.6, 113.2 105.5 M 115.3 107.4 Q 116.1 107.4, 116.4 106.9 Q 116.8 106.4, 116.8 105.5 Q 116.8 104.6, 116.4 104.1 Q 116.1 103.7, 115.3 103.7 Q 114.6 103.7, 114.3 104.1 Q 113.9 104.6, 113.9 105.5 Q 113.9 106.4, 114.3 106.9 Q 114.6 107.4, 115.3 107.4 \" fill=\"#000000\"/>\n",
       "<path class=\"atom-18\" d=\"M 118.1 107.1 L 118.7 107.1 L 118.7 107.7 L 118.1 107.7 L 118.1 107.1 M 118.1 104.8 L 118.7 104.8 L 118.7 105.5 L 118.1 105.5 L 118.1 104.8 \" fill=\"#000000\"/>\n",
       "<path class=\"atom-18\" d=\"M 119.8 107.3 L 120.8 107.3 L 120.8 103.8 L 119.6 104.2 L 119.5 103.8 L 120.9 103.2 L 121.4 103.2 L 121.4 107.3 L 122.3 107.3 L 122.3 107.8 L 119.8 107.8 L 119.8 107.3 \" fill=\"#000000\"/>\n",
       "<path class=\"atom-18\" d=\"M 125.2 105.4 Q 125.6 105.5, 125.9 105.8 Q 126.1 106.1, 126.1 106.5 Q 126.1 106.9, 125.9 107.2 Q 125.7 107.5, 125.3 107.7 Q 125.0 107.9, 124.5 107.9 Q 123.7 107.9, 123.3 107.5 Q 122.8 107.2, 122.8 106.5 Q 122.8 106.2, 123.0 105.9 Q 123.2 105.6, 123.6 105.4 Q 123.3 105.2, 123.2 105.0 Q 123.0 104.7, 123.0 104.3 Q 123.0 103.8, 123.4 103.4 Q 123.8 103.1, 124.5 103.1 Q 125.2 103.1, 125.5 103.4 Q 125.9 103.8, 125.9 104.3 Q 125.9 104.7, 125.8 104.9 Q 125.6 105.2, 125.2 105.4 M 124.5 103.6 Q 124.1 103.6, 123.9 103.8 Q 123.7 104.0, 123.7 104.3 Q 123.7 104.6, 123.8 104.7 Q 124.0 104.9, 124.2 105.0 Q 124.4 105.1, 124.8 105.2 Q 125.1 105.0, 125.2 104.8 Q 125.3 104.6, 125.3 104.3 Q 125.3 104.0, 125.1 103.8 Q 124.9 103.6, 124.5 103.6 M 124.5 107.4 Q 124.9 107.4, 125.2 107.2 Q 125.5 106.9, 125.5 106.5 Q 125.5 106.3, 125.3 106.1 Q 125.2 106.0, 125.0 105.9 Q 124.8 105.8, 124.4 105.7 L 124.1 105.6 Q 123.8 105.8, 123.6 106.0 Q 123.5 106.2, 123.5 106.5 Q 123.5 106.9, 123.8 107.2 Q 124.0 107.4, 124.5 107.4 \" fill=\"#000000\"/>\n",
       "<path class=\"atom-19\" d=\"M 125.3 94.6 Q 125.3 93.4, 125.9 92.8 Q 126.4 92.2, 127.4 92.2 Q 128.4 92.2, 128.9 92.9 L 128.5 93.2 Q 128.1 92.8, 127.4 92.8 Q 126.7 92.8, 126.4 93.2 Q 126.0 93.7, 126.0 94.6 Q 126.0 95.5, 126.4 96.0 Q 126.8 96.4, 127.5 96.4 Q 128.0 96.4, 128.6 96.1 L 128.8 96.6 Q 128.6 96.8, 128.2 96.9 Q 127.8 97.0, 127.4 97.0 Q 126.4 97.0, 125.9 96.3 Q 125.3 95.7, 125.3 94.6 \" fill=\"#000000\"/>\n",
       "<path class=\"atom-19\" d=\"M 129.4 96.1 L 130.1 96.1 L 130.1 96.8 L 129.4 96.8 L 129.4 96.1 M 129.4 93.9 L 130.1 93.9 L 130.1 94.5 L 129.4 94.5 L 129.4 93.9 \" fill=\"#000000\"/>\n",
       "<path class=\"atom-19\" d=\"M 131.1 96.4 L 132.1 96.4 L 132.1 92.9 L 131.0 93.3 L 130.8 92.9 L 132.3 92.2 L 132.7 92.3 L 132.7 96.4 L 133.6 96.4 L 133.6 96.9 L 131.1 96.9 L 131.1 96.4 \" fill=\"#000000\"/>\n",
       "<path class=\"atom-19\" d=\"M 135.7 92.2 Q 136.5 92.2, 137.0 92.8 Q 137.4 93.3, 137.4 94.4 Q 137.4 95.7, 136.9 96.3 Q 136.3 97.0, 135.4 97.0 Q 135.1 97.0, 134.8 96.9 Q 134.6 96.8, 134.3 96.7 L 134.6 96.2 Q 134.9 96.4, 135.3 96.4 Q 136.0 96.4, 136.3 96.0 Q 136.7 95.6, 136.7 94.7 Q 136.5 94.9, 136.2 95.1 Q 135.9 95.2, 135.6 95.2 Q 135.2 95.2, 134.8 95.0 Q 134.5 94.8, 134.3 94.5 Q 134.2 94.2, 134.2 93.8 Q 134.2 93.3, 134.4 93.0 Q 134.6 92.6, 134.9 92.4 Q 135.3 92.2, 135.7 92.2 M 134.8 93.8 Q 134.8 94.2, 135.0 94.4 Q 135.3 94.6, 135.7 94.6 Q 136.0 94.6, 136.2 94.5 Q 136.5 94.4, 136.7 94.2 Q 136.7 93.4, 136.4 93.1 Q 136.2 92.8, 135.7 92.8 Q 135.5 92.8, 135.3 92.9 Q 135.0 93.0, 134.9 93.2 Q 134.8 93.5, 134.8 93.8 \" fill=\"#000000\"/>\n",
       "<path class=\"atom-20\" d=\"M 142.5 84.7 Q 142.5 83.5, 143.0 82.9 Q 143.6 82.3, 144.6 82.3 Q 145.5 82.3, 146.0 83.0 L 145.6 83.4 Q 145.2 82.9, 144.6 82.9 Q 143.9 82.9, 143.5 83.3 Q 143.1 83.8, 143.1 84.7 Q 143.1 85.6, 143.5 86.1 Q 143.9 86.6, 144.7 86.6 Q 145.2 86.6, 145.8 86.2 L 145.9 86.7 Q 145.7 86.9, 145.3 87.0 Q 145.0 87.1, 144.6 87.1 Q 143.6 87.1, 143.0 86.5 Q 142.5 85.9, 142.5 84.7 \" fill=\"#000000\"/>\n",
       "<path class=\"atom-20\" d=\"M 146.6 86.3 L 147.2 86.3 L 147.2 86.9 L 146.6 86.9 L 146.6 86.3 M 146.6 84.0 L 147.2 84.0 L 147.2 84.7 L 146.6 84.7 L 146.6 84.0 \" fill=\"#000000\"/>\n",
       "<path class=\"atom-20\" d=\"M 148.0 83.3 Q 148.2 82.8, 148.6 82.6 Q 149.0 82.3, 149.5 82.3 Q 150.2 82.3, 150.6 82.7 Q 151.0 83.1, 151.0 83.8 Q 151.0 84.5, 150.5 85.1 Q 150.0 85.7, 149.0 86.5 L 151.1 86.5 L 151.1 87.0 L 148.0 87.0 L 148.0 86.6 Q 148.9 86.0, 149.4 85.5 Q 149.9 85.1, 150.1 84.6 Q 150.4 84.2, 150.4 83.8 Q 150.4 83.4, 150.2 83.1 Q 149.9 82.9, 149.5 82.9 Q 149.2 82.9, 148.9 83.0 Q 148.7 83.2, 148.5 83.5 L 148.0 83.3 \" fill=\"#000000\"/>\n",
       "<path class=\"atom-20\" d=\"M 153.5 87.1 Q 152.6 87.1, 152.2 86.4 Q 151.8 85.8, 151.8 84.7 Q 151.8 83.6, 152.2 83.0 Q 152.6 82.3, 153.5 82.3 Q 154.3 82.3, 154.7 83.0 Q 155.2 83.6, 155.2 84.7 Q 155.2 85.8, 154.7 86.4 Q 154.3 87.1, 153.5 87.1 M 153.5 86.6 Q 154.0 86.6, 154.2 86.1 Q 154.5 85.6, 154.5 84.7 Q 154.5 83.8, 154.2 83.3 Q 154.0 82.9, 153.5 82.9 Q 153.0 82.9, 152.7 83.3 Q 152.4 83.8, 152.4 84.7 Q 152.4 85.6, 152.7 86.1 Q 153.0 86.6, 153.5 86.6 \" fill=\"#000000\"/>\n",
       "<path class=\"atom-21\" d=\"M 161.2 91.7 L 162.7 94.2 Q 162.9 94.4, 163.1 94.9 Q 163.4 95.3, 163.4 95.3 L 163.4 91.7 L 164.0 91.7 L 164.0 96.4 L 163.4 96.4 L 161.7 93.7 Q 161.6 93.4, 161.3 93.0 Q 161.2 92.7, 161.1 92.6 L 161.1 96.4 L 160.5 96.4 L 160.5 91.7 L 161.2 91.7 \" fill=\"#000000\"/>\n",
       "<path class=\"atom-21\" d=\"M 164.8 95.6 L 165.5 95.6 L 165.5 96.3 L 164.8 96.3 L 164.8 95.6 M 164.8 93.4 L 165.5 93.4 L 165.5 94.0 L 164.8 94.0 L 164.8 93.4 \" fill=\"#000000\"/>\n",
       "<path class=\"atom-21\" d=\"M 166.2 92.6 Q 166.4 92.2, 166.8 91.9 Q 167.2 91.7, 167.8 91.7 Q 168.5 91.7, 168.9 92.1 Q 169.2 92.5, 169.2 93.1 Q 169.2 93.8, 168.7 94.5 Q 168.2 95.1, 167.2 95.9 L 169.3 95.9 L 169.3 96.4 L 166.2 96.4 L 166.2 95.9 Q 167.1 95.3, 167.6 94.9 Q 168.1 94.4, 168.3 94.0 Q 168.6 93.6, 168.6 93.2 Q 168.6 92.7, 168.4 92.5 Q 168.1 92.2, 167.8 92.2 Q 167.4 92.2, 167.1 92.4 Q 166.9 92.5, 166.7 92.9 L 166.2 92.6 \" fill=\"#000000\"/>\n",
       "<path class=\"atom-21\" d=\"M 170.2 95.9 L 171.2 95.9 L 171.2 92.4 L 170.1 92.7 L 170.0 92.4 L 171.4 91.7 L 171.9 91.8 L 171.9 95.9 L 172.8 95.9 L 172.8 96.4 L 170.2 96.4 L 170.2 95.9 \" fill=\"#000000\"/>\n",
       "<path class=\"atom-22\" d=\"M 175.9 88.7 Q 175.9 87.5, 176.5 86.9 Q 177.0 86.3, 178.0 86.3 Q 179.0 86.3, 179.5 87.0 L 179.1 87.4 Q 178.7 86.9, 178.0 86.9 Q 177.3 86.9, 177.0 87.3 Q 176.6 87.8, 176.6 88.7 Q 176.6 89.6, 177.0 90.1 Q 177.4 90.6, 178.1 90.6 Q 178.6 90.6, 179.2 90.2 L 179.4 90.7 Q 179.2 90.9, 178.8 91.0 Q 178.4 91.1, 178.0 91.1 Q 177.0 91.1, 176.5 90.5 Q 175.9 89.8, 175.9 88.7 \" fill=\"#000000\"/>\n",
       "<path class=\"atom-22\" d=\"M 180.0 90.3 L 180.7 90.3 L 180.7 90.9 L 180.0 90.9 L 180.0 90.3 M 180.0 88.0 L 180.7 88.0 L 180.7 88.7 L 180.0 88.7 L 180.0 88.0 \" fill=\"#000000\"/>\n",
       "<path class=\"atom-22\" d=\"M 181.5 87.3 Q 181.6 86.8, 182.0 86.6 Q 182.4 86.3, 183.0 86.3 Q 183.7 86.3, 184.1 86.7 Q 184.5 87.1, 184.5 87.8 Q 184.5 88.5, 184.0 89.1 Q 183.5 89.7, 182.4 90.5 L 184.6 90.5 L 184.6 91.0 L 181.4 91.0 L 181.4 90.6 Q 182.3 90.0, 182.8 89.5 Q 183.3 89.0, 183.6 88.6 Q 183.8 88.2, 183.8 87.8 Q 183.8 87.4, 183.6 87.1 Q 183.4 86.9, 183.0 86.9 Q 182.6 86.9, 182.4 87.0 Q 182.1 87.2, 181.9 87.5 L 181.5 87.3 \" fill=\"#000000\"/>\n",
       "<path class=\"atom-22\" d=\"M 185.2 87.3 Q 185.4 86.8, 185.8 86.6 Q 186.2 86.3, 186.8 86.3 Q 187.5 86.3, 187.9 86.7 Q 188.3 87.1, 188.3 87.8 Q 188.3 88.5, 187.7 89.1 Q 187.2 89.7, 186.2 90.5 L 188.3 90.5 L 188.3 91.0 L 185.2 91.0 L 185.2 90.6 Q 186.1 90.0, 186.6 89.5 Q 187.1 89.0, 187.4 88.6 Q 187.6 88.2, 187.6 87.8 Q 187.6 87.4, 187.4 87.1 Q 187.2 86.9, 186.8 86.9 Q 186.4 86.9, 186.2 87.0 Q 185.9 87.2, 185.7 87.5 L 185.2 87.3 \" fill=\"#000000\"/>\n",
       "<path class=\"atom-23\" d=\"M 155.7 109.7 Q 155.7 108.6, 156.2 108.0 Q 156.8 107.4, 157.8 107.4 Q 158.8 107.4, 159.3 108.0 L 158.9 108.4 Q 158.5 107.9, 157.8 107.9 Q 157.1 107.9, 156.7 108.4 Q 156.4 108.8, 156.4 109.7 Q 156.4 110.6, 156.8 111.1 Q 157.1 111.6, 157.9 111.6 Q 158.4 111.6, 159.0 111.3 L 159.2 111.8 Q 158.9 111.9, 158.6 112.0 Q 158.2 112.1, 157.8 112.1 Q 156.8 112.1, 156.2 111.5 Q 155.7 110.9, 155.7 109.7 \" fill=\"#000000\"/>\n",
       "<path class=\"atom-23\" d=\"M 159.8 111.3 L 160.5 111.3 L 160.5 111.9 L 159.8 111.9 L 159.8 111.3 M 159.8 109.0 L 160.5 109.0 L 160.5 109.7 L 159.8 109.7 L 159.8 109.0 \" fill=\"#000000\"/>\n",
       "<path class=\"atom-23\" d=\"M 161.2 108.3 Q 161.4 107.9, 161.8 107.6 Q 162.2 107.4, 162.8 107.4 Q 163.5 107.4, 163.9 107.7 Q 164.3 108.1, 164.3 108.8 Q 164.3 109.5, 163.8 110.1 Q 163.2 110.8, 162.2 111.5 L 164.3 111.5 L 164.3 112.0 L 161.2 112.0 L 161.2 111.6 Q 162.1 111.0, 162.6 110.5 Q 163.1 110.1, 163.4 109.7 Q 163.6 109.3, 163.6 108.8 Q 163.6 108.4, 163.4 108.1 Q 163.2 107.9, 162.8 107.9 Q 162.4 107.9, 162.2 108.0 Q 161.9 108.2, 161.7 108.5 L 161.2 108.3 \" fill=\"#000000\"/>\n",
       "<path class=\"atom-23\" d=\"M 167.2 109.6 Q 167.7 109.7, 167.9 110.0 Q 168.1 110.3, 168.1 110.8 Q 168.1 111.2, 167.9 111.5 Q 167.7 111.8, 167.4 112.0 Q 167.0 112.1, 166.5 112.1 Q 166.0 112.1, 165.7 111.9 Q 165.3 111.8, 165.0 111.4 L 165.4 111.0 Q 165.7 111.3, 165.9 111.5 Q 166.1 111.6, 166.5 111.6 Q 166.9 111.6, 167.2 111.4 Q 167.5 111.1, 167.5 110.8 Q 167.5 110.3, 167.2 110.1 Q 166.9 109.9, 166.4 109.9 L 166.0 109.9 L 166.0 109.4 L 166.3 109.4 Q 166.8 109.4, 167.1 109.2 Q 167.4 109.0, 167.4 108.5 Q 167.4 108.2, 167.1 108.1 Q 166.9 107.9, 166.5 107.9 Q 166.1 107.9, 165.9 108.0 Q 165.7 108.2, 165.5 108.5 L 165.0 108.3 Q 165.2 107.9, 165.6 107.6 Q 166.0 107.4, 166.5 107.4 Q 167.2 107.4, 167.6 107.7 Q 168.0 108.0, 168.0 108.5 Q 168.0 108.9, 167.8 109.2 Q 167.6 109.5, 167.2 109.6 \" fill=\"#000000\"/>\n",
       "<path class=\"atom-24\" d=\"M 130.0 110.0 Q 130.0 108.9, 130.6 108.3 Q 131.1 107.7, 132.1 107.7 Q 133.1 107.7, 133.6 108.4 L 133.2 108.7 Q 132.8 108.2, 132.1 108.2 Q 131.4 108.2, 131.1 108.7 Q 130.7 109.2, 130.7 110.0 Q 130.7 111.0, 131.1 111.4 Q 131.5 111.9, 132.2 111.9 Q 132.7 111.9, 133.3 111.6 L 133.5 112.1 Q 133.3 112.2, 132.9 112.3 Q 132.5 112.4, 132.1 112.4 Q 131.1 112.4, 130.6 111.8 Q 130.0 111.2, 130.0 110.0 \" fill=\"#000000\"/>\n",
       "<path class=\"atom-24\" d=\"M 134.1 111.6 L 134.8 111.6 L 134.8 112.3 L 134.1 112.3 L 134.1 111.6 M 134.1 109.4 L 134.8 109.4 L 134.8 110.0 L 134.1 110.0 L 134.1 109.4 \" fill=\"#000000\"/>\n",
       "<path class=\"atom-24\" d=\"M 135.6 108.6 Q 135.7 108.2, 136.1 107.9 Q 136.6 107.7, 137.1 107.7 Q 137.8 107.7, 138.2 108.1 Q 138.6 108.4, 138.6 109.1 Q 138.6 109.8, 138.1 110.4 Q 137.6 111.1, 136.5 111.8 L 138.7 111.8 L 138.7 112.4 L 135.6 112.4 L 135.6 111.9 Q 136.4 111.3, 136.9 110.9 Q 137.4 110.4, 137.7 110.0 Q 137.9 109.6, 137.9 109.1 Q 137.9 108.7, 137.7 108.5 Q 137.5 108.2, 137.1 108.2 Q 136.7 108.2, 136.5 108.4 Q 136.2 108.5, 136.1 108.8 L 135.6 108.6 \" fill=\"#000000\"/>\n",
       "<path class=\"atom-24\" d=\"M 142.4 110.8 L 142.9 110.8 L 142.9 111.3 L 142.4 111.3 L 142.4 112.4 L 141.7 112.4 L 141.7 111.3 L 139.3 111.3 L 139.3 110.9 L 141.4 107.7 L 142.4 107.7 L 142.4 110.8 M 140.1 110.8 L 141.7 110.8 L 141.7 108.2 L 140.1 110.8 \" fill=\"#000000\"/>\n",
       "<path class=\"atom-25\" d=\"M 98.9 69.1 Q 98.9 68.0, 99.5 67.4 Q 100.0 66.8, 101.0 66.8 Q 102.0 66.8, 102.5 67.4 L 102.1 67.8 Q 101.7 67.3, 101.0 67.3 Q 100.3 67.3, 100.0 67.8 Q 99.6 68.2, 99.6 69.1 Q 99.6 70.0, 100.0 70.5 Q 100.4 71.0, 101.1 71.0 Q 101.6 71.0, 102.2 70.7 L 102.4 71.2 Q 102.2 71.3, 101.8 71.4 Q 101.4 71.5, 101.0 71.5 Q 100.0 71.5, 99.5 70.9 Q 98.9 70.3, 98.9 69.1 \" fill=\"#000000\"/>\n",
       "<path class=\"atom-25\" d=\"M 103.0 70.7 L 103.7 70.7 L 103.7 71.3 L 103.0 71.3 L 103.0 70.7 M 103.0 68.4 L 103.7 68.4 L 103.7 69.1 L 103.0 69.1 L 103.0 68.4 \" fill=\"#000000\"/>\n",
       "<path class=\"atom-25\" d=\"M 104.4 67.7 Q 104.6 67.3, 105.0 67.0 Q 105.4 66.8, 106.0 66.8 Q 106.7 66.8, 107.1 67.1 Q 107.5 67.5, 107.5 68.2 Q 107.5 68.9, 107.0 69.5 Q 106.5 70.2, 105.4 70.9 L 107.6 70.9 L 107.6 71.5 L 104.4 71.5 L 104.4 71.0 Q 105.3 70.4, 105.8 69.9 Q 106.3 69.5, 106.6 69.1 Q 106.8 68.7, 106.8 68.2 Q 106.8 67.8, 106.6 67.5 Q 106.4 67.3, 106.0 67.3 Q 105.6 67.3, 105.4 67.4 Q 105.1 67.6, 104.9 67.9 L 104.4 67.7 \" fill=\"#000000\"/>\n",
       "<path class=\"atom-25\" d=\"M 109.9 68.6 Q 110.3 68.6, 110.6 68.7 Q 111.0 68.9, 111.2 69.2 Q 111.4 69.5, 111.4 70.0 Q 111.4 70.5, 111.1 70.8 Q 110.9 71.2, 110.5 71.3 Q 110.1 71.5, 109.7 71.5 Q 109.3 71.5, 108.9 71.4 Q 108.5 71.2, 108.2 70.9 L 108.6 70.5 Q 108.8 70.7, 109.1 70.9 Q 109.4 71.0, 109.7 71.0 Q 110.1 71.0, 110.4 70.7 Q 110.7 70.5, 110.7 70.0 Q 110.7 69.5, 110.4 69.3 Q 110.1 69.0, 109.7 69.0 Q 109.3 69.0, 108.8 69.2 L 108.5 69.1 L 108.7 66.8 L 111.1 66.8 L 111.0 67.3 L 109.2 67.3 L 109.1 68.7 Q 109.5 68.6, 109.9 68.6 \" fill=\"#000000\"/>\n",
       "<path class=\"atom-26\" d=\"M 78.8 64.4 Q 78.8 63.2, 79.3 62.6 Q 79.9 62.0, 80.9 62.0 Q 81.9 62.0, 82.4 62.7 L 81.9 63.0 Q 81.6 62.6, 80.9 62.6 Q 80.2 62.6, 79.8 63.0 Q 79.5 63.5, 79.5 64.4 Q 79.5 65.3, 79.8 65.8 Q 80.2 66.2, 81.0 66.2 Q 81.5 66.2, 82.1 65.9 L 82.3 66.4 Q 82.0 66.6, 81.7 66.7 Q 81.3 66.8, 80.9 66.8 Q 79.9 66.8, 79.3 66.1 Q 78.8 65.5, 78.8 64.4 \" fill=\"#000000\"/>\n",
       "<path class=\"atom-26\" d=\"M 82.9 65.9 L 83.6 65.9 L 83.6 66.6 L 82.9 66.6 L 82.9 65.9 M 82.9 63.7 L 83.6 63.7 L 83.6 64.3 L 82.9 64.3 L 82.9 63.7 \" fill=\"#000000\"/>\n",
       "<path class=\"atom-26\" d=\"M 84.3 62.9 Q 84.5 62.5, 84.9 62.3 Q 85.3 62.0, 85.9 62.0 Q 86.6 62.0, 87.0 62.4 Q 87.4 62.8, 87.4 63.4 Q 87.4 64.1, 86.8 64.8 Q 86.3 65.4, 85.3 66.2 L 87.4 66.2 L 87.4 66.7 L 84.3 66.7 L 84.3 66.3 Q 85.2 65.6, 85.7 65.2 Q 86.2 64.7, 86.4 64.3 Q 86.7 63.9, 86.7 63.5 Q 86.7 63.0, 86.5 62.8 Q 86.3 62.5, 85.9 62.5 Q 85.5 62.5, 85.2 62.7 Q 85.0 62.8, 84.8 63.2 L 84.3 62.9 \" fill=\"#000000\"/>\n",
       "<path class=\"atom-26\" d=\"M 89.9 63.8 Q 90.3 63.8, 90.6 64.0 Q 90.9 64.2, 91.1 64.5 Q 91.3 64.8, 91.3 65.2 Q 91.3 65.7, 91.1 66.0 Q 90.9 66.4, 90.6 66.6 Q 90.2 66.8, 89.7 66.8 Q 88.9 66.8, 88.5 66.2 Q 88.1 65.6, 88.1 64.5 Q 88.1 63.3, 88.6 62.7 Q 89.1 62.0, 90.1 62.0 Q 90.4 62.0, 90.6 62.1 Q 90.9 62.1, 91.1 62.3 L 90.9 62.7 Q 90.5 62.5, 90.1 62.5 Q 89.5 62.5, 89.1 63.0 Q 88.8 63.4, 88.7 64.3 Q 89.0 64.0, 89.3 63.9 Q 89.6 63.8, 89.9 63.8 M 89.8 66.2 Q 90.0 66.2, 90.2 66.1 Q 90.4 66.0, 90.5 65.7 Q 90.6 65.5, 90.6 65.2 Q 90.6 64.8, 90.4 64.6 Q 90.2 64.3, 89.8 64.3 Q 89.5 64.3, 89.2 64.5 Q 88.9 64.6, 88.7 64.8 Q 88.8 65.5, 89.0 65.9 Q 89.3 66.2, 89.8 66.2 \" fill=\"#000000\"/>\n",
       "<path class=\"atom-27\" d=\"M 43.0 98.0 Q 43.0 96.8, 43.6 96.2 Q 44.1 95.6, 45.1 95.6 Q 46.1 95.6, 46.6 96.3 L 46.2 96.6 Q 45.8 96.1, 45.1 96.1 Q 44.4 96.1, 44.1 96.6 Q 43.7 97.1, 43.7 98.0 Q 43.7 98.9, 44.1 99.3 Q 44.5 99.8, 45.2 99.8 Q 45.7 99.8, 46.3 99.5 L 46.5 100.0 Q 46.3 100.2, 45.9 100.2 Q 45.5 100.3, 45.1 100.3 Q 44.1 100.3, 43.6 99.7 Q 43.0 99.1, 43.0 98.0 \" fill=\"#000000\"/>\n",
       "<path class=\"atom-27\" d=\"M 47.1 99.5 L 47.8 99.5 L 47.8 100.2 L 47.1 100.2 L 47.1 99.5 M 47.1 97.3 L 47.8 97.3 L 47.8 97.9 L 47.1 97.9 L 47.1 97.3 \" fill=\"#000000\"/>\n",
       "<path class=\"atom-27\" d=\"M 48.5 96.5 Q 48.7 96.1, 49.1 95.8 Q 49.5 95.6, 50.1 95.6 Q 50.8 95.6, 51.2 96.0 Q 51.6 96.3, 51.6 97.0 Q 51.6 97.7, 51.1 98.4 Q 50.6 99.0, 49.5 99.8 L 51.7 99.8 L 51.7 100.3 L 48.5 100.3 L 48.5 99.8 Q 49.4 99.2, 49.9 98.8 Q 50.4 98.3, 50.7 97.9 Q 50.9 97.5, 50.9 97.1 Q 50.9 96.6, 50.7 96.4 Q 50.5 96.1, 50.1 96.1 Q 49.7 96.1, 49.5 96.3 Q 49.2 96.4, 49.0 96.7 L 48.5 96.5 \" fill=\"#000000\"/>\n",
       "<path class=\"atom-27\" d=\"M 54.7 96.2 L 52.3 96.2 L 52.3 95.6 L 55.4 95.6 L 55.4 96.1 L 53.5 100.3 L 52.9 100.3 L 54.7 96.2 \" fill=\"#000000\"/>\n",
       "<path class=\"atom-28\" d=\"M 63.1 102.7 Q 63.1 101.6, 63.6 100.9 Q 64.2 100.3, 65.2 100.3 Q 66.1 100.3, 66.7 101.0 L 66.2 101.4 Q 65.9 100.9, 65.2 100.9 Q 64.5 100.9, 64.1 101.3 Q 63.7 101.8, 63.7 102.7 Q 63.7 103.6, 64.1 104.1 Q 64.5 104.6, 65.3 104.6 Q 65.8 104.6, 66.4 104.3 L 66.6 104.7 Q 66.3 104.9, 65.9 105.0 Q 65.6 105.1, 65.2 105.1 Q 64.2 105.1, 63.6 104.5 Q 63.1 103.9, 63.1 102.7 \" fill=\"#000000\"/>\n",
       "<path class=\"atom-28\" d=\"M 67.2 104.3 L 67.8 104.3 L 67.8 104.9 L 67.2 104.9 L 67.2 104.3 M 67.2 102.0 L 67.8 102.0 L 67.8 102.7 L 67.2 102.7 L 67.2 102.0 \" fill=\"#000000\"/>\n",
       "<path class=\"atom-28\" d=\"M 68.6 101.3 Q 68.8 100.8, 69.2 100.6 Q 69.6 100.3, 70.2 100.3 Q 70.9 100.3, 71.2 100.7 Q 71.6 101.1, 71.6 101.8 Q 71.6 102.5, 71.1 103.1 Q 70.6 103.7, 69.6 104.5 L 71.7 104.5 L 71.7 105.0 L 68.6 105.0 L 68.6 104.6 Q 69.5 104.0, 70.0 103.5 Q 70.5 103.1, 70.7 102.6 Q 71.0 102.2, 71.0 101.8 Q 71.0 101.4, 70.8 101.1 Q 70.5 100.9, 70.2 100.9 Q 69.8 100.9, 69.5 101.0 Q 69.3 101.2, 69.1 101.5 L 68.6 101.3 \" fill=\"#000000\"/>\n",
       "<path class=\"atom-28\" d=\"M 74.7 102.6 Q 75.2 102.8, 75.4 103.0 Q 75.7 103.3, 75.7 103.8 Q 75.7 104.2, 75.5 104.5 Q 75.2 104.8, 74.9 104.9 Q 74.5 105.1, 74.0 105.1 Q 73.3 105.1, 72.8 104.7 Q 72.4 104.4, 72.4 103.8 Q 72.4 103.4, 72.6 103.1 Q 72.8 102.8, 73.2 102.6 Q 72.9 102.4, 72.7 102.2 Q 72.5 101.9, 72.5 101.5 Q 72.5 101.0, 72.9 100.7 Q 73.3 100.3, 74.0 100.3 Q 74.7 100.3, 75.1 100.7 Q 75.5 101.0, 75.5 101.5 Q 75.5 101.9, 75.3 102.1 Q 75.1 102.4, 74.7 102.6 M 74.0 100.8 Q 73.6 100.8, 73.4 101.0 Q 73.2 101.2, 73.2 101.5 Q 73.2 101.8, 73.3 101.9 Q 73.5 102.1, 73.7 102.2 Q 73.9 102.3, 74.3 102.4 Q 74.6 102.2, 74.7 102.0 Q 74.8 101.8, 74.8 101.5 Q 74.8 101.2, 74.6 101.0 Q 74.4 100.8, 74.0 100.8 M 74.0 104.6 Q 74.5 104.6, 74.7 104.4 Q 75.0 104.1, 75.0 103.8 Q 75.0 103.5, 74.9 103.3 Q 74.7 103.2, 74.5 103.1 Q 74.3 103.0, 73.9 102.9 L 73.6 102.8 Q 73.3 103.0, 73.2 103.2 Q 73.0 103.5, 73.0 103.8 Q 73.0 104.1, 73.3 104.4 Q 73.6 104.6, 74.0 104.6 \" fill=\"#000000\"/>\n",
       "</svg>"
      ],
      "text/plain": [
       "<IPython.core.display.SVG object>"
      ]
     },
     "metadata": {},
     "output_type": "display_data"
    },
    {
     "data": {
      "image/svg+xml": [
       "<svg xmlns:xlink=\"http://www.w3.org/1999/xlink\" xmlns=\"http://www.w3.org/2000/svg\" width=\"460.8pt\" height=\"345.6pt\" viewBox=\"0 0 460.8 345.6\" version=\"1.1\">\n",
       " <metadata>\n",
       "  <rdf:RDF xmlns:dc=\"http://purl.org/dc/elements/1.1/\" xmlns:cc=\"http://creativecommons.org/ns#\" xmlns:rdf=\"http://www.w3.org/1999/02/22-rdf-syntax-ns#\">\n",
       "   <cc:Work>\n",
       "    <dc:type rdf:resource=\"http://purl.org/dc/dcmitype/StillImage\"/>\n",
       "    <dc:date>2024-01-16T14:59:10.972061</dc:date>\n",
       "    <dc:format>image/svg+xml</dc:format>\n",
       "    <dc:creator>\n",
       "     <cc:Agent>\n",
       "      <dc:title>Matplotlib v3.7.1, https://matplotlib.org/</dc:title>\n",
       "     </cc:Agent>\n",
       "    </dc:creator>\n",
       "   </cc:Work>\n",
       "  </rdf:RDF>\n",
       " </metadata>\n",
       " <defs>\n",
       "  <style type=\"text/css\">*{stroke-linejoin: round; stroke-linecap: butt}</style>\n",
       " </defs>\n",
       " <g id=\"figure_1\">\n",
       "  <g id=\"patch_1\">\n",
       "   <path d=\"M 0 345.6  L 460.8 345.6  L 460.8 0  L 0 0  z \" style=\"fill: #ffffff\"/>\n",
       "  </g>\n",
       "  <g id=\"axes_1\">\n",
       "   <g id=\"LineCollection_1\">\n",
       "    <path d=\"M 140.459881 234.173098  L 197.295653 284.491636  \" clip-path=\"url(#p80004bd0a1)\" style=\"fill: none; stroke: #000000\"/>\n",
       "    <path d=\"M 140.459881 234.173098  L 100.178013 155.488893  \" clip-path=\"url(#p80004bd0a1)\" style=\"fill: none; stroke: #000000\"/>\n",
       "    <path d=\"M 100.178013 155.488893  L 88.589752 64.564364  \" clip-path=\"url(#p80004bd0a1)\" style=\"fill: none; stroke: #000000\"/>\n",
       "    <path d=\"M 100.178013 155.488893  L 152.41489 90.597343  \" clip-path=\"url(#p80004bd0a1)\" style=\"fill: none; stroke: #000000\"/>\n",
       "    <path d=\"M 214.952444 106.527598  L 152.41489 90.597343  \" clip-path=\"url(#p80004bd0a1)\" style=\"fill: none; stroke: #000000\"/>\n",
       "    <path d=\"M 214.952444 106.527598  L 263.786986 133.629377  \" clip-path=\"url(#p80004bd0a1)\" style=\"fill: none; stroke: #000000\"/>\n",
       "    <path d=\"M 340.315623 176.100589  L 296.343347 151.697229  \" clip-path=\"url(#p80004bd0a1)\" style=\"fill: none; stroke: #000000\"/>\n",
       "    <path d=\"M 340.315623 176.100589  L 383.730248 148.557286  \" clip-path=\"url(#p80004bd0a1)\" style=\"fill: none; stroke: #000000\"/>\n",
       "    <path d=\"M 263.786986 133.629377  L 280.065167 142.663303  \" clip-path=\"url(#p80004bd0a1)\" style=\"fill: none; stroke: #000000\"/>\n",
       "    <path d=\"M 285.003055 112.882175  L 280.065167 142.663303  \" clip-path=\"url(#p80004bd0a1)\" style=\"fill: none; stroke: #000000\"/>\n",
       "    <path d=\"M 275.127278 172.444431  L 280.065167 142.663303  \" clip-path=\"url(#p80004bd0a1)\" style=\"fill: none; stroke: #000000\"/>\n",
       "    <path d=\"M 296.343347 151.697229  L 280.065167 142.663303  \" clip-path=\"url(#p80004bd0a1)\" style=\"fill: none; stroke: #000000\"/>\n",
       "   </g>\n",
       "   <g id=\"PathCollection_1\">\n",
       "    <defs>\n",
       "     <path id=\"C0_0_fc9391f55f\" d=\"M 0 4.472136  C 1.186024 4.472136 2.323632 4.000923 3.162278 3.162278  C 4.000923 2.323632 4.472136 1.186024 4.472136 -0  C 4.472136 -1.186024 4.000923 -2.323632 3.162278 -3.162278  C 2.323632 -4.000923 1.186024 -4.472136 0 -4.472136  C -1.186024 -4.472136 -2.323632 -4.000923 -3.162278 -3.162278  C -4.000923 -2.323632 -4.472136 -1.186024 -4.472136 0  C -4.472136 1.186024 -4.000923 2.323632 -3.162278 3.162278  C -2.323632 4.000923 -1.186024 4.472136 0 4.472136  z \"/>\n",
       "    </defs>\n",
       "    <g clip-path=\"url(#p80004bd0a1)\">\n",
       "     <use xlink:href=\"#C0_0_fc9391f55f\" x=\"140.459881\" y=\"234.173098\" style=\"fill: #cbaae5; stroke: #cbaae5\"/>\n",
       "    </g>\n",
       "    <g clip-path=\"url(#p80004bd0a1)\">\n",
       "     <use xlink:href=\"#C0_0_fc9391f55f\" x=\"100.178013\" y=\"155.488893\" style=\"fill: #cbaae5; stroke: #cbaae5\"/>\n",
       "    </g>\n",
       "    <g clip-path=\"url(#p80004bd0a1)\">\n",
       "     <use xlink:href=\"#C0_0_fc9391f55f\" x=\"214.952444\" y=\"106.527598\" style=\"fill: #cbaae5; stroke: #cbaae5\"/>\n",
       "    </g>\n",
       "    <g clip-path=\"url(#p80004bd0a1)\">\n",
       "     <use xlink:href=\"#C0_0_fc9391f55f\" x=\"340.315623\" y=\"176.100589\" style=\"fill: #89d7e0; stroke: #89d7e0\"/>\n",
       "    </g>\n",
       "    <g clip-path=\"url(#p80004bd0a1)\">\n",
       "     <use xlink:href=\"#C0_0_fc9391f55f\" x=\"197.295653\" y=\"284.491636\" style=\"fill: #f79691; stroke: #f79691\"/>\n",
       "    </g>\n",
       "    <g clip-path=\"url(#p80004bd0a1)\">\n",
       "     <use xlink:href=\"#C0_0_fc9391f55f\" x=\"88.589752\" y=\"64.564364\" style=\"fill: #f1d2fa; stroke: #f1d2fa\"/>\n",
       "    </g>\n",
       "    <g clip-path=\"url(#p80004bd0a1)\">\n",
       "     <use xlink:href=\"#C0_0_fc9391f55f\" x=\"152.41489\" y=\"90.597343\" style=\"fill: #f79691; stroke: #f79691\"/>\n",
       "    </g>\n",
       "    <g clip-path=\"url(#p80004bd0a1)\">\n",
       "     <use xlink:href=\"#C0_0_fc9391f55f\" x=\"263.786986\" y=\"133.629377\" style=\"fill: #f1d2fa; stroke: #f1d2fa\"/>\n",
       "    </g>\n",
       "    <g clip-path=\"url(#p80004bd0a1)\">\n",
       "     <use xlink:href=\"#C0_0_fc9391f55f\" x=\"285.003055\" y=\"112.882175\" style=\"fill: #f1d2fa; stroke: #f1d2fa\"/>\n",
       "    </g>\n",
       "    <g clip-path=\"url(#p80004bd0a1)\">\n",
       "     <use xlink:href=\"#C0_0_fc9391f55f\" x=\"275.127278\" y=\"172.444431\" style=\"fill: #f1d2fa; stroke: #f1d2fa\"/>\n",
       "    </g>\n",
       "    <g clip-path=\"url(#p80004bd0a1)\">\n",
       "     <use xlink:href=\"#C0_0_fc9391f55f\" x=\"296.343347\" y=\"151.697229\" style=\"fill: #f1d2fa; stroke: #f1d2fa\"/>\n",
       "    </g>\n",
       "    <g clip-path=\"url(#p80004bd0a1)\">\n",
       "     <use xlink:href=\"#C0_0_fc9391f55f\" x=\"383.730248\" y=\"148.557286\" style=\"fill: #f1d2fa; stroke: #f1d2fa\"/>\n",
       "    </g>\n",
       "    <g clip-path=\"url(#p80004bd0a1)\">\n",
       "     <use xlink:href=\"#C0_0_fc9391f55f\" x=\"280.065167\" y=\"142.663303\" style=\"fill: #f0d995; stroke: #f0d995\"/>\n",
       "    </g>\n",
       "   </g>\n",
       "  </g>\n",
       " </g>\n",
       " <defs>\n",
       "  <clipPath id=\"p80004bd0a1\">\n",
       "   <rect x=\"57.6\" y=\"41.472\" width=\"357.12\" height=\"266.112\"/>\n",
       "  </clipPath>\n",
       " </defs>\n",
       "</svg>"
      ],
      "text/plain": [
       "<IPython.core.display.SVG object>"
      ]
     },
     "metadata": {},
     "output_type": "display_data"
    },
    {
     "data": {
      "image/png": "[encoded data removed]",
      "text/plain": [
       "<Figure size 640x480 with 1 Axes>"
      ]
     },
     "metadata": {},
     "output_type": "display_data"
    },
    {
     "data": {
      "text/plain": [
       "<Figure size 50x50 with 0 Axes>"
      ]
     },
     "metadata": {},
     "output_type": "display_data"
    }
   ],
   "source": [
    "from IPython.display import SVG\n",
    "from visualization.visualize_molecules import to_SVG\n",
    "rings_edges = frag.RingsPaths(vocab_size = 15, max_ring = 10, cut_leafs = False)\n",
    "higher_level = frag.HigherLevelGraph(vocab_size = 16, neighbor = \"tree\")\n",
    "SVG_1, SVG_2  = to_SVG(higher_level(rings_edges(data[0])), higher_level= True, add_idx=True)\n",
    "display(SVG(SVG_1))\n",
    "display(SVG(SVG_2))\n"
   ]
  },
  {
   "cell_type": "code",
   "execution_count": 13,
   "metadata": {},
   "outputs": [
    {
     "data": {
      "text/plain": [
       "29"
      ]
     },
     "execution_count": 13,
     "metadata": {},
     "output_type": "execute_result"
    }
   ],
   "source": [
    "data_pre.x.size(0)"
   ]
  },
  {
   "cell_type": "code",
   "execution_count": 14,
   "metadata": {},
   "outputs": [
    {
     "name": "stderr",
     "output_type": "stream",
     "text": [
      "/nfs/homedirs/kempern/anaconda3/envs/substructureML2/lib/python3.8/site-packages/torch/nn/init.py:403: UserWarning: Initializing zero-element tensors is a no-op\n",
      "  warnings.warn(\"Initializing zero-element tensors is a no-op\")\n",
      "/nfs/homedirs/kempern/anaconda3/envs/substructureML2/lib/python3.8/site-packages/torch/nn/modules/loss.py:96: UserWarning: Using a target size (torch.Size([2])) that is different to the input size (torch.Size([2, 1])). This will likely lead to incorrect results due to broadcasting. Please ensure they have the same size.\n",
      "  return F.l1_loss(input, target, reduction=self.reduction)\n"
     ]
    }
   ],
   "source": [
    "from models.hlg import HLG, HLGAlternative\n",
    "from models.lightning_models import mae_loss\n",
    "import torch\n",
    "torch.autograd.set_detect_anomaly(True)\n",
    "message_types = {\"atom2atom\": False, \"atom2frag\": True, \"frag2edge\": False, \"atom2edge\": False, \"edge2edge\": False, \"edge2frag\": False, \"atom2mol\": False, \"mol2edge\": False, \"edge2mol\": False, \"frag2mol\": False, \"mol2atom\": False, \"mol2frag\": False, \"atomfrag2atom\": False, \"frag2frag\": True}\n",
    "h = HLGAlternative(data_pre.x.size(1), 10,11, hidden_channels=32, hidden_channels_edge=32, hidden_channels_frag=32, hidden_channels_mol = 8, out_channels=1, num_layers = 3, num_layers_message_before= 0, num_layers_message_after=1, message_types = message_types, attention = False, higher_level_edge_features= \"basic\", concat = 20, residuals = True, process_after = 2)\n",
    "batch = next(iter(dataloader))\n",
    "xhat = h(batch)\n",
    "loss = mae_loss(xhat, batch, \"train\")\n",
    "loss.backward()"
   ]
  },
  {
   "cell_type": "code",
   "execution_count": 15,
   "metadata": {},
   "outputs": [],
   "source": [
    "from models.gcn import CliqueEncoder, HimpNet, HimpNetAlternative\n",
    "\n",
    "h = HimpNet(data_pre.x.size(0), 11, 10,10,1, 3, 0,linear_atom_encoder= False,encoding_size_scaling= True, rbf = 10, degree_scaling = False, inter_message_passing = False, higher_message_passing =False, low_high_edges = False, fragment_specific= False, reduction = \"mean\", concat = False, graph_rep = False, graph_rep_node = False, learned_edge_rep=True, higher_level_edge_features=True)\n",
    "batch = next(iter(dataloader))\n",
    "xhat = h(batch)\n",
    "loss = mae_loss(xhat, batch, \"train\")\n",
    "loss.backward()"
   ]
  },
  {
   "cell_type": "code",
   "execution_count": null,
   "metadata": {},
   "outputs": [],
   "source": []
  },
  {
   "cell_type": "code",
   "execution_count": 25,
   "metadata": {},
   "outputs": [
    {
     "data": {
      "text/plain": [
       "tensor([[-0.1303],\n",
       "        [-0.1294]], grad_fn=<AddmmBackward0>)"
      ]
     },
     "execution_count": 25,
     "metadata": {},
     "output_type": "execute_result"
    }
   ],
   "source": [
    "from models.gcn import CliqueEncoder, HimpNet, HimpNetAlternative, HimpNetSmall\n",
    "h = HimpNetSmall(data_pre.x.size(0),4,4,120, 1, 3,0,False, True, 0, higher_message_passing=True, learned_edge_rep=True, atom_feature_params = {\"num_atom_types\": 30, \"num_atom_features\" :1}, edge_feature_params= {\"num_bond_types\": 4, \"num_bond_features\":1})\n",
    "#c = CliqueEncoder(11, 4, encoding_size_scaling=False)\n",
    "h(next(iter(dataloader)))\n",
    "#h(data_pre)"
   ]
  },
  {
   "cell_type": "code",
   "execution_count": 27,
   "metadata": {},
   "outputs": [
    {
     "data": {
      "text/plain": [
       "HimpNetSmall(\n",
       "  (atom_encoder): AtomEncoder(\n",
       "    (embeddings): ModuleList(\n",
       "      (0): Embedding(30, 120)\n",
       "    )\n",
       "  )\n",
       "  (clique_encoder): CliqueEncoder(\n",
       "    (embedding): Embedding(4, 120)\n",
       "  )\n",
       "  (bond_encoder): BondEncoder(\n",
       "    (embeddings): ModuleList(\n",
       "      (0): Embedding(4, 120)\n",
       "    )\n",
       "  )\n",
       "  (atom2bond): ModuleList(\n",
       "    (0): InterMessage(\n",
       "      (transform): Sequential(\n",
       "        (0): Linear(in_features=120, out_features=120, bias=True)\n",
       "        (1): ReLU()\n",
       "      )\n",
       "    )\n",
       "    (1): InterMessage(\n",
       "      (transform): Sequential(\n",
       "        (0): Linear(in_features=120, out_features=120, bias=True)\n",
       "        (1): ReLU()\n",
       "      )\n",
       "    )\n",
       "    (2): InterMessage(\n",
       "      (transform): Sequential(\n",
       "        (0): Linear(in_features=120, out_features=120, bias=True)\n",
       "        (1): ReLU()\n",
       "      )\n",
       "    )\n",
       "  )\n",
       "  (bond_batch_norms): ModuleList(\n",
       "    (0): BatchNorm1d(120, eps=1e-05, momentum=0.1, affine=True, track_running_stats=True)\n",
       "    (1): BatchNorm1d(120, eps=1e-05, momentum=0.1, affine=True, track_running_stats=True)\n",
       "    (2): BatchNorm1d(120, eps=1e-05, momentum=0.1, affine=True, track_running_stats=True)\n",
       "  )\n",
       "  (bond_convs): ModuleList(\n",
       "    (0): Linear(in_features=120, out_features=120, bias=True)\n",
       "    (1): Linear(in_features=120, out_features=120, bias=True)\n",
       "    (2): Linear(in_features=120, out_features=120, bias=True)\n",
       "  )\n",
       "  (atom_convs): ModuleList(\n",
       "    (0): GINEConv(nn=Sequential(\n",
       "      (0): Linear(in_features=120, out_features=120, bias=True)\n",
       "      (1): BatchNorm1d(120, eps=1e-05, momentum=0.1, affine=True, track_running_stats=True)\n",
       "      (2): ReLU()\n",
       "      (3): Linear(in_features=120, out_features=120, bias=True)\n",
       "    ))\n",
       "    (1): GINEConv(nn=Sequential(\n",
       "      (0): Linear(in_features=120, out_features=120, bias=True)\n",
       "      (1): BatchNorm1d(120, eps=1e-05, momentum=0.1, affine=True, track_running_stats=True)\n",
       "      (2): ReLU()\n",
       "      (3): Linear(in_features=120, out_features=120, bias=True)\n",
       "    ))\n",
       "    (2): GINEConv(nn=Sequential(\n",
       "      (0): Linear(in_features=120, out_features=120, bias=True)\n",
       "      (1): BatchNorm1d(120, eps=1e-05, momentum=0.1, affine=True, track_running_stats=True)\n",
       "      (2): ReLU()\n",
       "      (3): Linear(in_features=120, out_features=120, bias=True)\n",
       "    ))\n",
       "  )\n",
       "  (atom_batch_norms): ModuleList(\n",
       "    (0): BatchNorm1d(120, eps=1e-05, momentum=0.1, affine=True, track_running_stats=True)\n",
       "    (1): BatchNorm1d(120, eps=1e-05, momentum=0.1, affine=True, track_running_stats=True)\n",
       "    (2): BatchNorm1d(120, eps=1e-05, momentum=0.1, affine=True, track_running_stats=True)\n",
       "  )\n",
       "  (clique_convs): ModuleList(\n",
       "    (0): GINConv(nn=Sequential(\n",
       "      (0): Linear(in_features=120, out_features=120, bias=True)\n",
       "      (1): BatchNorm1d(120, eps=1e-05, momentum=0.1, affine=True, track_running_stats=True)\n",
       "      (2): ReLU()\n",
       "      (3): Linear(in_features=120, out_features=120, bias=True)\n",
       "    ))\n",
       "    (1): GINConv(nn=Sequential(\n",
       "      (0): Linear(in_features=120, out_features=120, bias=True)\n",
       "      (1): BatchNorm1d(120, eps=1e-05, momentum=0.1, affine=True, track_running_stats=True)\n",
       "      (2): ReLU()\n",
       "      (3): Linear(in_features=120, out_features=120, bias=True)\n",
       "    ))\n",
       "    (2): GINConv(nn=Sequential(\n",
       "      (0): Linear(in_features=120, out_features=120, bias=True)\n",
       "      (1): BatchNorm1d(120, eps=1e-05, momentum=0.1, affine=True, track_running_stats=True)\n",
       "      (2): ReLU()\n",
       "      (3): Linear(in_features=120, out_features=120, bias=True)\n",
       "    ))\n",
       "  )\n",
       "  (clique_batch_norms): ModuleList(\n",
       "    (0): BatchNorm1d(120, eps=1e-05, momentum=0.1, affine=True, track_running_stats=True)\n",
       "    (1): BatchNorm1d(120, eps=1e-05, momentum=0.1, affine=True, track_running_stats=True)\n",
       "    (2): BatchNorm1d(120, eps=1e-05, momentum=0.1, affine=True, track_running_stats=True)\n",
       "  )\n",
       "  (atom2clique): ModuleList(\n",
       "    (0): InterMessage(\n",
       "      (transform): Sequential(\n",
       "        (0): Linear(in_features=120, out_features=120, bias=True)\n",
       "        (1): ReLU()\n",
       "      )\n",
       "    )\n",
       "    (1): InterMessage(\n",
       "      (transform): Sequential(\n",
       "        (0): Linear(in_features=120, out_features=120, bias=True)\n",
       "        (1): ReLU()\n",
       "      )\n",
       "    )\n",
       "    (2): InterMessage(\n",
       "      (transform): Sequential(\n",
       "        (0): Linear(in_features=120, out_features=120, bias=True)\n",
       "        (1): ReLU()\n",
       "      )\n",
       "    )\n",
       "  )\n",
       "  (clique2atom): ModuleList(\n",
       "    (0): InterMessage(\n",
       "      (transform): Sequential(\n",
       "        (0): Linear(in_features=120, out_features=120, bias=True)\n",
       "        (1): ReLU()\n",
       "      )\n",
       "    )\n",
       "    (1): InterMessage(\n",
       "      (transform): Sequential(\n",
       "        (0): Linear(in_features=120, out_features=120, bias=True)\n",
       "        (1): ReLU()\n",
       "      )\n",
       "    )\n",
       "    (2): InterMessage(\n",
       "      (transform): Sequential(\n",
       "        (0): Linear(in_features=120, out_features=120, bias=True)\n",
       "        (1): ReLU()\n",
       "      )\n",
       "    )\n",
       "  )\n",
       "  (clique_out): MLP(\n",
       "    (nn): Sequential(\n",
       "      (0): Linear(in_features=120, out_features=120, bias=True)\n",
       "      (1): ReLU()\n",
       "      (2): Linear(in_features=120, out_features=120, bias=True)\n",
       "      (3): ReLU()\n",
       "    )\n",
       "  )\n",
       "  (atom_out): MLP(\n",
       "    (nn): Sequential(\n",
       "      (0): Linear(in_features=120, out_features=120, bias=True)\n",
       "      (1): ReLU()\n",
       "      (2): Linear(in_features=120, out_features=120, bias=True)\n",
       "      (3): ReLU()\n",
       "    )\n",
       "  )\n",
       "  (edge_out): MLP(\n",
       "    (nn): Sequential(\n",
       "      (0): Linear(in_features=120, out_features=120, bias=True)\n",
       "      (1): ReLU()\n",
       "      (2): Linear(in_features=120, out_features=120, bias=True)\n",
       "      (3): ReLU()\n",
       "    )\n",
       "  )\n",
       "  (out): MLP(\n",
       "    (nn): Sequential(\n",
       "      (0): Linear(in_features=120, out_features=60, bias=True)\n",
       "      (1): ReLU()\n",
       "      (2): Linear(in_features=60, out_features=1, bias=True)\n",
       "    )\n",
       "  )\n",
       ")"
      ]
     },
     "execution_count": 27,
     "metadata": {},
     "output_type": "execute_result"
    }
   ],
   "source": [
    "h"
   ]
  },
  {
   "cell_type": "code",
   "execution_count": 26,
   "metadata": {},
   "outputs": [
    {
     "name": "stdout",
     "output_type": "stream",
     "text": [
      "+----------------------------------+------------+\n",
      "|             Modules              | Parameters |\n",
      "+----------------------------------+------------+\n",
      "| atom_encoder.embeddings.0.weight |    3600    |\n",
      "| clique_encoder.embedding.weight  |    480     |\n",
      "| bond_encoder.embeddings.0.weight |    480     |\n",
      "|  atom2bond.0.transform.0.weight  |   14400    |\n",
      "|   atom2bond.0.transform.0.bias   |    120     |\n",
      "|  atom2bond.1.transform.0.weight  |   14400    |\n",
      "|   atom2bond.1.transform.0.bias   |    120     |\n",
      "|  atom2bond.2.transform.0.weight  |   14400    |\n",
      "|   atom2bond.2.transform.0.bias   |    120     |\n",
      "|    bond_batch_norms.0.weight     |    120     |\n",
      "|     bond_batch_norms.0.bias      |    120     |\n",
      "|    bond_batch_norms.1.weight     |    120     |\n",
      "|     bond_batch_norms.1.bias      |    120     |\n",
      "|    bond_batch_norms.2.weight     |    120     |\n",
      "|     bond_batch_norms.2.bias      |    120     |\n",
      "|       bond_convs.0.weight        |   14400    |\n",
      "|        bond_convs.0.bias         |    120     |\n",
      "|       bond_convs.1.weight        |   14400    |\n",
      "|        bond_convs.1.bias         |    120     |\n",
      "|       bond_convs.2.weight        |   14400    |\n",
      "|        bond_convs.2.bias         |    120     |\n",
      "|         atom_convs.0.eps         |     1      |\n",
      "|     atom_convs.0.nn.0.weight     |   14400    |\n",
      "|      atom_convs.0.nn.0.bias      |    120     |\n",
      "|     atom_convs.0.nn.1.weight     |    120     |\n",
      "|      atom_convs.0.nn.1.bias      |    120     |\n",
      "|     atom_convs.0.nn.3.weight     |   14400    |\n",
      "|      atom_convs.0.nn.3.bias      |    120     |\n",
      "|     atom_convs.0.lin.weight      |   14400    |\n",
      "|      atom_convs.0.lin.bias       |    120     |\n",
      "|         atom_convs.1.eps         |     1      |\n",
      "|     atom_convs.1.nn.0.weight     |   14400    |\n",
      "|      atom_convs.1.nn.0.bias      |    120     |\n",
      "|     atom_convs.1.nn.1.weight     |    120     |\n",
      "|      atom_convs.1.nn.1.bias      |    120     |\n",
      "|     atom_convs.1.nn.3.weight     |   14400    |\n",
      "|      atom_convs.1.nn.3.bias      |    120     |\n",
      "|     atom_convs.1.lin.weight      |   14400    |\n",
      "|      atom_convs.1.lin.bias       |    120     |\n",
      "|         atom_convs.2.eps         |     1      |\n",
      "|     atom_convs.2.nn.0.weight     |   14400    |\n",
      "|      atom_convs.2.nn.0.bias      |    120     |\n",
      "|     atom_convs.2.nn.1.weight     |    120     |\n",
      "|      atom_convs.2.nn.1.bias      |    120     |\n",
      "|     atom_convs.2.nn.3.weight     |   14400    |\n",
      "|      atom_convs.2.nn.3.bias      |    120     |\n",
      "|     atom_convs.2.lin.weight      |   14400    |\n",
      "|      atom_convs.2.lin.bias       |    120     |\n",
      "|    atom_batch_norms.0.weight     |    120     |\n",
      "|     atom_batch_norms.0.bias      |    120     |\n",
      "|    atom_batch_norms.1.weight     |    120     |\n",
      "|     atom_batch_norms.1.bias      |    120     |\n",
      "|    atom_batch_norms.2.weight     |    120     |\n",
      "|     atom_batch_norms.2.bias      |    120     |\n",
      "|        clique_convs.0.eps        |     1      |\n",
      "|    clique_convs.0.nn.0.weight    |   14400    |\n",
      "|     clique_convs.0.nn.0.bias     |    120     |\n",
      "|    clique_convs.0.nn.1.weight    |    120     |\n",
      "|     clique_convs.0.nn.1.bias     |    120     |\n",
      "|    clique_convs.0.nn.3.weight    |   14400    |\n",
      "|     clique_convs.0.nn.3.bias     |    120     |\n",
      "|        clique_convs.1.eps        |     1      |\n",
      "|    clique_convs.1.nn.0.weight    |   14400    |\n",
      "|     clique_convs.1.nn.0.bias     |    120     |\n",
      "|    clique_convs.1.nn.1.weight    |    120     |\n",
      "|     clique_convs.1.nn.1.bias     |    120     |\n",
      "|    clique_convs.1.nn.3.weight    |   14400    |\n",
      "|     clique_convs.1.nn.3.bias     |    120     |\n",
      "|        clique_convs.2.eps        |     1      |\n",
      "|    clique_convs.2.nn.0.weight    |   14400    |\n",
      "|     clique_convs.2.nn.0.bias     |    120     |\n",
      "|    clique_convs.2.nn.1.weight    |    120     |\n",
      "|     clique_convs.2.nn.1.bias     |    120     |\n",
      "|    clique_convs.2.nn.3.weight    |   14400    |\n",
      "|     clique_convs.2.nn.3.bias     |    120     |\n",
      "|   clique_batch_norms.0.weight    |    120     |\n",
      "|    clique_batch_norms.0.bias     |    120     |\n",
      "|   clique_batch_norms.1.weight    |    120     |\n",
      "|    clique_batch_norms.1.bias     |    120     |\n",
      "|   clique_batch_norms.2.weight    |    120     |\n",
      "|    clique_batch_norms.2.bias     |    120     |\n",
      "| atom2clique.0.transform.0.weight |   14400    |\n",
      "|  atom2clique.0.transform.0.bias  |    120     |\n",
      "| atom2clique.1.transform.0.weight |   14400    |\n",
      "|  atom2clique.1.transform.0.bias  |    120     |\n",
      "| atom2clique.2.transform.0.weight |   14400    |\n",
      "|  atom2clique.2.transform.0.bias  |    120     |\n",
      "| clique2atom.0.transform.0.weight |   14400    |\n",
      "|  clique2atom.0.transform.0.bias  |    120     |\n",
      "| clique2atom.1.transform.0.weight |   14400    |\n",
      "|  clique2atom.1.transform.0.bias  |    120     |\n",
      "| clique2atom.2.transform.0.weight |   14400    |\n",
      "|  clique2atom.2.transform.0.bias  |    120     |\n",
      "|      clique_out.nn.0.weight      |   14400    |\n",
      "|       clique_out.nn.0.bias       |    120     |\n",
      "|      clique_out.nn.2.weight      |   14400    |\n",
      "|       clique_out.nn.2.bias       |    120     |\n",
      "|       atom_out.nn.0.weight       |   14400    |\n",
      "|        atom_out.nn.0.bias        |    120     |\n",
      "|       atom_out.nn.2.weight       |   14400    |\n",
      "|        atom_out.nn.2.bias        |    120     |\n",
      "|       edge_out.nn.0.weight       |   14400    |\n",
      "|        edge_out.nn.0.bias        |    120     |\n",
      "|       edge_out.nn.2.weight       |   14400    |\n",
      "|        edge_out.nn.2.bias        |    120     |\n",
      "|         out.nn.0.weight          |    7200    |\n",
      "|          out.nn.0.bias           |     60     |\n",
      "|         out.nn.2.weight          |     60     |\n",
      "|          out.nn.2.bias           |     1      |\n",
      "+----------------------------------+------------+\n",
      "Total Trainable Params: 494647\n"
     ]
    },
    {
     "data": {
      "text/plain": [
       "494647"
      ]
     },
     "execution_count": 26,
     "metadata": {},
     "output_type": "execute_result"
    }
   ],
   "source": [
    "from prettytable import PrettyTable\n",
    "\n",
    "def count_parameters(model):\n",
    "    table = PrettyTable([\"Modules\", \"Parameters\"])\n",
    "    total_params = 0\n",
    "    for name, parameter in model.named_parameters():\n",
    "        if not parameter.requires_grad:\n",
    "            continue\n",
    "        params = parameter.numel()\n",
    "        table.add_row([name, params])\n",
    "        total_params += params\n",
    "    print(table)\n",
    "    print(f\"Total Trainable Params: {total_params}\")\n",
    "    return total_params\n",
    "    \n",
    "count_parameters(h)"
   ]
  },
  {
   "cell_type": "code",
   "execution_count": 4,
   "metadata": {},
   "outputs": [
    {
     "name": "stderr",
     "output_type": "stream",
     "text": [
      "Downloading https://www.dropbox.com/s/feo9qle74kg48gy/molecules.zip?dl=1\n"
     ]
    },
    {
     "name": "stderr",
     "output_type": "stream",
     "text": [
      "Extracting /tmp/ZINC/ZINC_-6717772075685411597/molecules.zip\n",
      "Downloading https://raw.githubusercontent.com/graphdeeplearning/benchmarking-gnns/master/data/molecules/train.index\n",
      "Downloading https://raw.githubusercontent.com/graphdeeplearning/benchmarking-gnns/master/data/molecules/val.index\n",
      "Downloading https://raw.githubusercontent.com/graphdeeplearning/benchmarking-gnns/master/data/molecules/test.index\n",
      "Processing...\n",
      "Processing train dataset: 100%|██████████| 10000/10000 [00:48<00:00, 205.25it/s]\n",
      "Processing val dataset: 100%|██████████| 1000/1000 [00:05<00:00, 192.83it/s]\n",
      "Processing test dataset: 100%|██████████| 1000/1000 [00:04<00:00, 226.87it/s]\n",
      "Done!\n"
     ]
    }
   ],
   "source": [
    "from datasets.data import load_fragmentation\n",
    "d = load_fragmentation(\"ZINC\", False, False, False, False, fragmentation_method = [\"RingsPaths\", \"higher_level_graph_tree\", {\"vocab_size\": 30, \"max_ring\": 15}], loader_params={\"batch_size\": 128, \"num_workers\": 2}, encoding = [{\"name\":\"random-walk\", \"walk_length\": 7}])"
   ]
  },
  {
   "cell_type": "code",
   "execution_count": 9,
   "metadata": {},
   "outputs": [
    {
     "data": {
      "text/plain": [
       "FragmentDataBatch(x=[2889, 1], x_batch=[2889], x_ptr=[129], edge_index=[2, 6180], edge_attr=[6180], y=[128], mol=[128], substructures=[128], fragment_types=[1462, 2], fragments=[1462, 30], fragments_batch=[1462], fragments_ptr=[129], fragments_edge_index=[2, 4282], low_high_edge_index=[2, 6300], higher_edge_index=[2, 2688], random_walk_pe=[2889, 7], batch=[2889], ptr=[129])"
      ]
     },
     "execution_count": 9,
     "metadata": {},
     "output_type": "execute_result"
    }
   ],
   "source": [
    "next(iter(d[0]))"
   ]
  },
  {
   "cell_type": "code",
   "execution_count": 11,
   "metadata": {},
   "outputs": [
    {
     "data": {
      "text/plain": [
       "tensor([[ 0.1290],\n",
       "        [ 0.1518],\n",
       "        [ 0.0963],\n",
       "        [ 0.1720],\n",
       "        [ 0.1145],\n",
       "        [ 0.0919],\n",
       "        [ 0.0746],\n",
       "        [ 0.0526],\n",
       "        [ 0.1042],\n",
       "        [ 0.0888],\n",
       "        [ 0.0414],\n",
       "        [ 0.0067],\n",
       "        [ 0.0239],\n",
       "        [ 0.2410],\n",
       "        [ 0.0147],\n",
       "        [ 0.1615],\n",
       "        [ 0.1638],\n",
       "        [ 0.1164],\n",
       "        [ 0.0566],\n",
       "        [ 0.0895],\n",
       "        [ 0.0942],\n",
       "        [ 0.0273],\n",
       "        [ 0.1094],\n",
       "        [ 0.1518],\n",
       "        [ 0.1618],\n",
       "        [ 0.0477],\n",
       "        [ 0.0360],\n",
       "        [ 0.1143],\n",
       "        [ 0.1350],\n",
       "        [ 0.1486],\n",
       "        [ 0.1153],\n",
       "        [ 0.0691],\n",
       "        [-0.0009],\n",
       "        [ 0.2047],\n",
       "        [-0.0433],\n",
       "        [ 0.1526],\n",
       "        [ 0.1835],\n",
       "        [ 0.0236],\n",
       "        [ 0.2161],\n",
       "        [ 0.0908],\n",
       "        [ 0.0956],\n",
       "        [ 0.1096],\n",
       "        [ 0.0884],\n",
       "        [ 0.1283],\n",
       "        [ 0.0764],\n",
       "        [ 0.0669],\n",
       "        [ 0.1444],\n",
       "        [ 0.0812],\n",
       "        [ 0.0958],\n",
       "        [ 0.0757],\n",
       "        [ 0.2050],\n",
       "        [ 0.1037],\n",
       "        [ 0.1519],\n",
       "        [ 0.0748],\n",
       "        [ 0.1211],\n",
       "        [ 0.0719],\n",
       "        [ 0.1031],\n",
       "        [ 0.0336],\n",
       "        [ 0.0466],\n",
       "        [ 0.1085],\n",
       "        [ 0.1326],\n",
       "        [ 0.1368],\n",
       "        [-0.0310],\n",
       "        [-0.0346],\n",
       "        [ 0.1256],\n",
       "        [-0.0471],\n",
       "        [ 0.0491],\n",
       "        [ 0.0913],\n",
       "        [ 0.1171],\n",
       "        [ 0.0449],\n",
       "        [ 0.2028],\n",
       "        [ 0.0301],\n",
       "        [ 0.1663],\n",
       "        [ 0.0319],\n",
       "        [ 0.1263],\n",
       "        [ 0.0559],\n",
       "        [ 0.1375],\n",
       "        [-0.0043],\n",
       "        [ 0.0746],\n",
       "        [ 0.1112],\n",
       "        [ 0.0650],\n",
       "        [ 0.0222],\n",
       "        [ 0.1245],\n",
       "        [-0.0148],\n",
       "        [ 0.0327],\n",
       "        [ 0.0749],\n",
       "        [ 0.0986],\n",
       "        [ 0.1490],\n",
       "        [ 0.1580],\n",
       "        [ 0.1260],\n",
       "        [ 0.1110],\n",
       "        [ 0.1211],\n",
       "        [ 0.1795],\n",
       "        [ 0.0962],\n",
       "        [ 0.0583],\n",
       "        [ 0.1458],\n",
       "        [ 0.0554],\n",
       "        [ 0.0263],\n",
       "        [ 0.1028],\n",
       "        [ 0.0486],\n",
       "        [ 0.0767],\n",
       "        [ 0.0306],\n",
       "        [ 0.1358],\n",
       "        [ 0.1099],\n",
       "        [ 0.0370],\n",
       "        [-0.0175],\n",
       "        [ 0.0725],\n",
       "        [ 0.0606],\n",
       "        [ 0.0231],\n",
       "        [-0.0259],\n",
       "        [ 0.1090],\n",
       "        [ 0.1331],\n",
       "        [ 0.0904],\n",
       "        [ 0.1472],\n",
       "        [ 0.0842],\n",
       "        [ 0.1155],\n",
       "        [ 0.1612],\n",
       "        [ 0.1061],\n",
       "        [ 0.1877],\n",
       "        [ 0.1060],\n",
       "        [ 0.0679],\n",
       "        [ 0.0730],\n",
       "        [ 0.1563],\n",
       "        [ 0.0629],\n",
       "        [ 0.1097],\n",
       "        [ 0.1737],\n",
       "        [ 0.0992],\n",
       "        [ 0.1761]], grad_fn=<AddmmBackward0>)"
      ]
     },
     "execution_count": 11,
     "metadata": {},
     "output_type": "execute_result"
    }
   ],
   "source": [
    "from models.gcn import CliqueEncoder, HimpNet\n",
    "h = HimpNet(1, 11, 10,10,1, 3, 0,linear_atom_encoder= False,encoding_size_scaling= True, degree_scaling = False, inter_message_passing = True, higher_message_passing =True, low_high_edges = False, fragment_specific= True, reduction = \"mean\", concat = False, additional_atom_features = [(\"random_walk_pe\",7)])\n",
    "#c = CliqueEncoder(11, 4, encoding_size_scaling=False)\n",
    "h(next(iter(d[0])))"
   ]
  },
  {
   "cell_type": "code",
   "execution_count": null,
   "metadata": {},
   "outputs": [],
   "source": []
  },
  {
   "cell_type": "code",
   "execution_count": 7,
   "metadata": {},
   "outputs": [
    {
     "name": "stderr",
     "output_type": "stream",
     "text": [
      "  0%|          | 0/10000 [00:00<?, ?it/s]"
     ]
    },
    {
     "name": "stderr",
     "output_type": "stream",
     "text": [
      "100%|██████████| 10000/10000 [09:36<00:00, 17.35it/s]\n"
     ]
    }
   ],
   "source": [
    "from tqdm import tqdm\n",
    "vocab_constructor = frag.MagnetVocab(max_vocab_size = 100)\n",
    "for d in tqdm(data):\n",
    "    vocab_constructor(d)\n",
    "vocab = vocab_constructor.get_vocab()"
   ]
  },
  {
   "cell_type": "code",
   "execution_count": 19,
   "metadata": {},
   "outputs": [],
   "source": [
    "vocab_constructor_brics = frag.BRICSVocab(max_vocab_size = 100)\n",
    "for d in data:\n",
    "    vocab_constructor_brics(d)\n",
    "vocab_brics = vocab_constructor_brics.get_vocab()"
   ]
  },
  {
   "cell_type": "code",
   "execution_count": 20,
   "metadata": {},
   "outputs": [
    {
     "name": "stderr",
     "output_type": "stream",
     "text": [
      "100%|██████████| 10000/10000 [00:07<00:00, 1323.67it/s]\n"
     ]
    },
    {
     "name": "stdout",
     "output_type": "stream",
     "text": [
      "INFO::Added 10 atoms, 90 principal subgraphs to extract\n"
     ]
    },
    {
     "name": "stderr",
     "output_type": "stream",
     "text": [
      "100%|██████████| 90/90 [08:16<00:00,  5.52s/it]"
     ]
    },
    {
     "name": "stdout",
     "output_type": "stream",
     "text": [
      "INFO::sorting vocab by atom num\n"
     ]
    },
    {
     "name": "stderr",
     "output_type": "stream",
     "text": [
      "\n"
     ]
    }
   ],
   "source": [
    "vocab_constructor_psm = frag.PrincipalSubgraphVocab(max_vocab_size=100, vocab_path= \"/tmp/psm_vocab\")\n",
    "for d in data:\n",
    "    vocab_constructor_psm(d)\n",
    "vocab_psm = vocab_constructor_psm.get_vocab()"
   ]
  },
  {
   "cell_type": "code",
   "execution_count": 8,
   "metadata": {},
   "outputs": [
    {
     "data": {
      "text/plain": [
       "tensor([[ 0,  1,  2,  2,  3,  4,  5,  6,  7,  8,  9, 10, 10, 11, 12, 12, 13, 14,\n",
       "         15, 15, 16, 17, 18, 19, 19, 20, 21, 22, 23, 24, 25, 26, 27, 28],\n",
       "        [ 0,  0,  0,  1,  1,  1,  1,  1,  1,  1,  2,  1,  3,  3,  3,  4,  4,  4,\n",
       "          4,  5,  5,  5,  5,  5,  6,  6,  6,  2,  6,  6,  4,  4,  1,  1]])"
      ]
     },
     "execution_count": 8,
     "metadata": {},
     "output_type": "execute_result"
    }
   ],
   "source": [
    "magnet = frag.Magnet(vocab)\n",
    "substructures = frag.FragmentRepresentation(vocab_size=100)\n",
    "substructures(magnet(data[0])).fragments_edge_index"
   ]
  },
  {
   "cell_type": "code",
   "execution_count": 50,
   "metadata": {},
   "outputs": [
    {
     "data": {
      "image/svg+xml": [
       "<svg xmlns=\"http://www.w3.org/2000/svg\" xmlns:rdkit=\"http://www.rdkit.org/xml\" xmlns:xlink=\"http://www.w3.org/1999/xlink\" version=\"1.1\" baseProfile=\"full\" xml:space=\"preserve\" width=\"200px\" height=\"200px\" viewBox=\"0 0 200 200\">\n",
       "<!-- END OF HEADER -->\n",
       "<rect style=\"opacity:1.0;fill:#FFFFFF;stroke:none\" width=\"200.0\" height=\"200.0\" x=\"0.0\" y=\"0.0\"> </rect>\n",
       "<path class=\"bond-0 atom-0 atom-1\" d=\"M 54.9,60.9 L 58.0,77.6 L 52.7,78.6 L 49.3,59.9 Z\" style=\"fill:#97C4D4;fill-rule:evenodd;fill-opacity:1;stroke:#97C4D4;stroke-width:1.0px;stroke-linecap:butt;stroke-linejoin:miter;stroke-opacity:1;\"/>\n",
       "<path class=\"bond-1 atom-1 atom-2\" d=\"M 56.2,75.6 L 72.3,81.3 L 72.4,87.0 L 54.5,80.6 Z\" style=\"fill:#97C4D4;fill-rule:evenodd;fill-opacity:1;stroke:#97C4D4;stroke-width:1.0px;stroke-linecap:butt;stroke-linejoin:miter;stroke-opacity:1;\"/>\n",
       "<path class=\"bond-2 atom-1 atom-19\" d=\"M 57.1,80.1 L 44.1,91.2 L 39.1,88.4 L 53.6,76.1 Z\" style=\"fill:#97C4D4;fill-rule:evenodd;fill-opacity:1;stroke:#97C4D4;stroke-width:1.0px;stroke-linecap:butt;stroke-linejoin:miter;stroke-opacity:1;\"/>\n",
       "<path class=\"bond-3 atom-2 atom-3\" d=\"M 76.2,86.0 L 79.3,102.7 L 74.1,103.7 L 70.6,85.0 Z\" style=\"fill:#97C4D4;fill-rule:evenodd;fill-opacity:1;stroke:#97C4D4;stroke-width:1.0px;stroke-linecap:butt;stroke-linejoin:miter;stroke-opacity:1;\"/>\n",
       "<path class=\"bond-4 atom-3 atom-4\" d=\"M 77.6,100.7 L 93.6,106.4 L 93.7,112.1 L 75.8,105.7 Z\" style=\"fill:#97C4D4;fill-rule:evenodd;fill-opacity:1;stroke:#97C4D4;stroke-width:1.0px;stroke-linecap:butt;stroke-linejoin:miter;stroke-opacity:1;\"/>\n",
       "<path class=\"bond-5 atom-4 atom-5\" d=\"M 94.4,106.2 L 107.4,95.2 L 110.8,99.3 L 96.3,111.6 Z\" style=\"fill:#97C4D4;fill-rule:evenodd;fill-opacity:1;stroke:#97C4D4;stroke-width:1.0px;stroke-linecap:butt;stroke-linejoin:miter;stroke-opacity:1;\"/>\n",
       "<path class=\"bond-6 atom-4 atom-6\" d=\"M 97.6,111.0 L 100.7,127.8 L 95.4,128.7 L 92.0,110.0 Z\" style=\"fill:#97C4D4;fill-rule:evenodd;fill-opacity:1;stroke:#97C4D4;stroke-width:1.0px;stroke-linecap:butt;stroke-linejoin:miter;stroke-opacity:1;\"/>\n",
       "<path class=\"bond-7 atom-6 atom-7\" d=\"M 99.8,130.3 L 86.8,141.3 L 81.9,138.6 L 96.3,126.2 Z\" style=\"fill:#97C4D4;fill-rule:evenodd;fill-opacity:1;stroke:#97C4D4;stroke-width:1.0px;stroke-linecap:butt;stroke-linejoin:miter;stroke-opacity:1;\"/>\n",
       "<path class=\"bond-8 atom-6 atom-8\" d=\"M 99.0,125.8 L 115.0,131.5 L 115.1,137.1 L 97.2,130.8 Z\" style=\"fill:#97C4D4;fill-rule:evenodd;fill-opacity:1;stroke:#97C4D4;stroke-width:1.0px;stroke-linecap:butt;stroke-linejoin:miter;stroke-opacity:1;\"/>\n",
       "<path class=\"bond-9 atom-8 atom-9\" d=\"M 115.8,131.3 L 127.2,121.6 L 132.2,124.3 L 117.7,136.7 Z\" style=\"fill:#97C4D4;fill-rule:evenodd;fill-opacity:1;stroke:#97C4D4;stroke-width:1.0px;stroke-linecap:butt;stroke-linejoin:miter;stroke-opacity:1;\"/>\n",
       "<path class=\"bond-10 atom-9 atom-10\" d=\"M 133.2,120.5 L 147.4,125.5 L 147.5,131.2 L 129.6,124.8 Z\" style=\"fill:#C8E5DB;fill-rule:evenodd;fill-opacity:1;stroke:#C8E5DB;stroke-width:1.0px;stroke-linecap:butt;stroke-linejoin:miter;stroke-opacity:1;\"/>\n",
       "<path class=\"bond-11 atom-9 atom-18\" d=\"M 127.5,120.8 L 124.8,106.0 L 129.6,103.1 L 133.1,121.8 Z\" style=\"fill:#C8E5DB;fill-rule:evenodd;fill-opacity:1;stroke:#C8E5DB;stroke-width:1.0px;stroke-linecap:butt;stroke-linejoin:miter;stroke-opacity:1;\"/>\n",
       "<path class=\"bond-12 atom-10 atom-11\" d=\"M 148.2,125.4 L 159.6,115.6 L 164.6,118.4 L 150.1,130.7 Z\" style=\"fill:#C8E5DB;fill-rule:evenodd;fill-opacity:1;stroke:#C8E5DB;stroke-width:1.0px;stroke-linecap:butt;stroke-linejoin:miter;stroke-opacity:1;\"/>\n",
       "<path class=\"bond-13 atom-11 atom-12\" d=\"M 159.9,114.9 L 157.2,100.1 L 162.0,97.2 L 165.5,115.9 Z\" style=\"fill:#C8E5DB;fill-rule:evenodd;fill-opacity:1;stroke:#C8E5DB;stroke-width:1.0px;stroke-linecap:butt;stroke-linejoin:miter;stroke-opacity:1;\"/>\n",
       "<path class=\"bond-14 atom-12 atom-13\" d=\"M 159.2,94.3 L 170.6,84.6 L 175.6,87.3 L 161.1,99.7 Z\" style=\"fill:#97C4D4;fill-rule:evenodd;fill-opacity:1;stroke:#97C4D4;stroke-width:1.0px;stroke-linecap:butt;stroke-linejoin:miter;stroke-opacity:1;\"/>\n",
       "<path class=\"bond-15 atom-12 atom-17\" d=\"M 156.6,99.5 L 142.5,94.4 L 142.4,88.8 L 160.3,95.1 Z\" style=\"fill:#C8E5DB;fill-rule:evenodd;fill-opacity:1;stroke:#C8E5DB;stroke-width:1.0px;stroke-linecap:butt;stroke-linejoin:miter;stroke-opacity:1;\"/>\n",
       "<path class=\"bond-16 atom-13 atom-14\" d=\"M 173.7,82.0 L 186.6,71.0 L 190.1,75.0 L 175.6,87.3 Z\" style=\"fill:#97C4D4;fill-rule:evenodd;fill-opacity:1;stroke:#97C4D4;stroke-width:1.0px;stroke-linecap:butt;stroke-linejoin:miter;stroke-opacity:1;\"/>\n",
       "<path class=\"bond-17 atom-13 atom-15\" d=\"M 177.2,85.1 L 188.3,98.1 L 184.2,101.5 L 171.9,87.0 Z\" style=\"fill:#97C4D4;fill-rule:evenodd;fill-opacity:1;stroke:#97C4D4;stroke-width:1.0px;stroke-linecap:butt;stroke-linejoin:miter;stroke-opacity:1;\"/>\n",
       "<path class=\"bond-18 atom-13 atom-16\" d=\"M 170.6,85.5 L 159.5,72.6 L 163.6,69.1 L 175.9,83.6 Z\" style=\"fill:#97C4D4;fill-rule:evenodd;fill-opacity:1;stroke:#97C4D4;stroke-width:1.0px;stroke-linecap:butt;stroke-linejoin:miter;stroke-opacity:1;\"/>\n",
       "<path class=\"bond-19 atom-17 atom-18\" d=\"M 141.7,94.6 L 130.3,104.3 L 125.3,101.6 L 139.8,89.2 Z\" style=\"fill:#C8E5DB;fill-rule:evenodd;fill-opacity:1;stroke:#C8E5DB;stroke-width:1.0px;stroke-linecap:butt;stroke-linejoin:miter;stroke-opacity:1;\"/>\n",
       "<path class=\"bond-20 atom-19 atom-20\" d=\"M 43.7,92.2 L 44.8,107.2 L 39.7,109.6 L 38.2,90.6 Z\" style=\"fill:#DE9688;fill-rule:evenodd;fill-opacity:1;stroke:#DE9688;stroke-width:1.0px;stroke-linecap:butt;stroke-linejoin:miter;stroke-opacity:1;\"/>\n",
       "<path class=\"bond-21 atom-19 atom-23\" d=\"M 38.3,92.6 L 23.7,89.0 L 23.0,83.4 L 41.5,87.9 Z\" style=\"fill:#DE9688;fill-rule:evenodd;fill-opacity:1;stroke:#DE9688;stroke-width:1.0px;stroke-linecap:butt;stroke-linejoin:miter;stroke-opacity:1;\"/>\n",
       "<path class=\"bond-22 atom-20 atom-21\" d=\"M 41.5,112.6 L 25.8,119.1 L 23.7,114.2 L 41.3,106.9 Z\" style=\"fill:#DE9688;fill-rule:evenodd;fill-opacity:1;stroke:#DE9688;stroke-width:1.0px;stroke-linecap:butt;stroke-linejoin:miter;stroke-opacity:1;\"/>\n",
       "<path class=\"bond-23 atom-21 atom-22\" d=\"M 22.7,118.4 L 11.7,105.4 L 14.4,100.4 L 26.8,114.9 Z\" style=\"fill:#DE9688;fill-rule:evenodd;fill-opacity:1;stroke:#DE9688;stroke-width:1.0px;stroke-linecap:butt;stroke-linejoin:miter;stroke-opacity:1;\"/>\n",
       "<path class=\"bond-24 atom-22 atom-23\" d=\"M 11.2,99.1 L 19.1,86.3 L 24.6,87.4 L 14.7,103.6 Z\" style=\"fill:#DE9688;fill-rule:evenodd;fill-opacity:1;stroke:#DE9688;stroke-width:1.0px;stroke-linecap:butt;stroke-linejoin:miter;stroke-opacity:1;\"/>\n",
       "<ellipse cx=\"51.9\" cy=\"59.4\" rx=\"3.3\" ry=\"3.3\" class=\"atom-0\" style=\"fill:#97C4D4;fill-rule:evenodd;stroke:#97C4D4;stroke-width:1.0px;stroke-linecap:butt;stroke-linejoin:miter;stroke-opacity:1\"/>\n",
       "<path class=\"atom-1\" d=\"M 56.9,74.2 L 57.3,74.2 L 57.7,74.3 L 58.1,74.3 L 58.5,74.4 L 58.9,74.5 L 59.3,74.7 L 59.6,74.8 L 60.0,75.0 L 60.3,75.2 L 60.6,75.5 L 60.9,75.7 L 61.1,76.0 L 61.3,76.3 L 61.5,76.6 L 61.7,76.9 L 61.8,77.2 L 61.9,77.5 L 61.9,77.8 L 61.9,78.1 L 56.9,78.1 Z\" style=\"fill:#97C4D4;fill-rule:evenodd;fill-opacity:1;stroke:#97C4D4;stroke-width:1.0px;stroke-linecap:butt;stroke-linejoin:miter;stroke-opacity:1;\"/>\n",
       "<path class=\"atom-1\" d=\"M 61.9,78.1 L 61.9,78.5 L 61.9,78.8 L 61.8,79.1 L 61.7,79.4 L 61.5,79.7 L 61.3,80.0 L 61.1,80.3 L 60.9,80.5 L 60.6,80.8 L 60.3,81.0 L 60.0,81.2 L 59.6,81.4 L 59.3,81.6 L 58.9,81.7 L 58.5,81.8 L 58.1,81.9 L 57.7,82.0 L 57.3,82.0 L 56.9,82.0 L 56.9,78.1 Z\" style=\"fill:#97C4D4;fill-rule:evenodd;fill-opacity:1;stroke:#97C4D4;stroke-width:1.0px;stroke-linecap:butt;stroke-linejoin:miter;stroke-opacity:1;\"/>\n",
       "<path class=\"atom-1\" d=\"M 56.9,82.0 L 56.4,82.0 L 56.0,82.0 L 55.6,81.9 L 55.2,81.8 L 54.8,81.7 L 54.4,81.6 L 54.1,81.4 L 53.7,81.2 L 53.4,81.0 L 53.1,80.8 L 52.9,80.5 L 52.6,80.3 L 52.4,80.0 L 52.2,79.7 L 52.1,79.4 L 51.9,79.1 L 51.8,78.8 L 51.8,78.5 L 51.8,78.1 L 56.9,78.1 Z\" style=\"fill:#97C4D4;fill-rule:evenodd;fill-opacity:1;stroke:#97C4D4;stroke-width:1.0px;stroke-linecap:butt;stroke-linejoin:miter;stroke-opacity:1;\"/>\n",
       "<path class=\"atom-1\" d=\"M 51.8,78.1 L 51.8,77.8 L 51.8,77.5 L 51.9,77.2 L 52.1,76.9 L 52.2,76.6 L 52.4,76.3 L 52.6,76.0 L 52.9,75.7 L 53.1,75.5 L 53.4,75.2 L 53.7,75.0 L 54.1,74.8 L 54.4,74.7 L 54.8,74.5 L 55.2,74.4 L 55.6,74.3 L 56.0,74.3 L 56.4,74.2 L 56.9,74.2 L 56.9,78.1 Z\" style=\"fill:#C591A7;fill-rule:evenodd;fill-opacity:1;stroke:#C591A7;stroke-width:1.0px;stroke-linecap:butt;stroke-linejoin:miter;stroke-opacity:1;\"/>\n",
       "<path class=\"atom-2\" d=\"M 73.3,81.2 L 73.5,81.2 L 73.8,81.2 L 74.1,81.3 L 74.4,81.3 L 74.6,81.4 L 74.9,81.6 L 75.1,81.7 L 75.4,81.9 L 75.6,82.1 L 75.8,82.3 L 75.9,82.5 L 76.1,82.7 L 76.2,83.0 L 76.4,83.2 L 76.4,83.5 L 76.5,83.8 L 76.6,84.1 L 76.6,84.3 L 76.6,84.6 L 76.6,84.9 L 76.5,85.2 L 76.4,85.5 L 76.4,85.7 L 76.2,86.0 L 76.1,86.2 L 75.9,86.5 L 75.8,86.7 L 75.6,86.9 L 75.4,87.1 L 75.1,87.2 L 74.9,87.4 L 74.6,87.5 L 74.4,87.6 L 74.1,87.7 L 73.8,87.8 L 73.5,87.8 L 73.3,87.8 L 73.3,84.5 Z\" style=\"fill:#97C4D4;fill-rule:evenodd;fill-opacity:1;stroke:#97C4D4;stroke-width:1.0px;stroke-linecap:butt;stroke-linejoin:miter;stroke-opacity:1;\"/>\n",
       "<path class=\"atom-2\" d=\"M 73.3,87.8 L 73.0,87.8 L 72.7,87.8 L 72.4,87.7 L 72.2,87.6 L 71.9,87.5 L 71.6,87.4 L 71.4,87.2 L 71.2,87.1 L 71.0,86.9 L 70.8,86.7 L 70.6,86.5 L 70.4,86.2 L 70.3,86.0 L 70.2,85.7 L 70.1,85.5 L 70.0,85.2 L 70.0,84.9 L 69.9,84.6 L 69.9,84.3 L 70.0,84.1 L 70.0,83.8 L 70.1,83.5 L 70.2,83.2 L 70.3,83.0 L 70.4,82.7 L 70.6,82.5 L 70.8,82.3 L 71.0,82.1 L 71.2,81.9 L 71.4,81.7 L 71.6,81.6 L 71.9,81.4 L 72.2,81.3 L 72.4,81.3 L 72.7,81.2 L 73.0,81.2 L 73.3,81.2 L 73.3,84.5 Z\" style=\"fill:#97C4D4;fill-rule:evenodd;fill-opacity:1;stroke:#97C4D4;stroke-width:1.0px;stroke-linecap:butt;stroke-linejoin:miter;stroke-opacity:1;\"/>\n",
       "<path class=\"atom-3\" d=\"M 74.1,99.4 L 74.6,99.4 L 75.2,99.4 L 75.7,99.5 L 76.3,99.6 L 76.8,99.7 L 77.3,99.9 L 77.8,100.0 L 78.2,100.2 L 78.6,100.4 L 79.0,100.7 L 79.4,100.9 L 79.7,101.2 L 80.0,101.5 L 80.2,101.8 L 80.4,102.1 L 80.5,102.4 L 80.6,102.7 L 80.7,103.0 L 80.7,103.3 L 80.6,103.7 L 80.5,104.0 L 80.4,104.3 L 80.2,104.6 L 80.0,104.9 L 79.7,105.2 L 79.4,105.5 L 79.0,105.7 L 78.6,105.9 L 78.2,106.1 L 77.8,106.3 L 77.3,106.5 L 76.8,106.7 L 76.3,106.8 L 75.7,106.9 L 75.2,106.9 L 74.6,107.0 L 74.1,107.0 L 74.1,103.2 Z\" style=\"fill:#97C4D4;fill-rule:evenodd;fill-opacity:1;stroke:#97C4D4;stroke-width:1.0px;stroke-linecap:butt;stroke-linejoin:miter;stroke-opacity:1;\"/>\n",
       "<path class=\"atom-3\" d=\"M 74.1,107.0 L 73.5,107.0 L 72.9,106.9 L 72.4,106.9 L 71.9,106.8 L 71.3,106.7 L 70.8,106.5 L 70.4,106.3 L 69.9,106.1 L 69.5,105.9 L 69.1,105.7 L 68.7,105.5 L 68.4,105.2 L 68.2,104.9 L 67.9,104.6 L 67.7,104.3 L 67.6,104.0 L 67.5,103.7 L 67.5,103.3 L 67.5,103.0 L 67.5,102.7 L 67.6,102.4 L 67.7,102.1 L 67.9,101.8 L 68.2,101.5 L 68.4,101.2 L 68.7,100.9 L 69.1,100.7 L 69.5,100.4 L 69.9,100.2 L 70.4,100.0 L 70.8,99.9 L 71.3,99.7 L 71.9,99.6 L 72.4,99.5 L 72.9,99.4 L 73.5,99.4 L 74.1,99.4 L 74.1,103.2 Z\" style=\"fill:#97C4D4;fill-rule:evenodd;fill-opacity:1;stroke:#97C4D4;stroke-width:1.0px;stroke-linecap:butt;stroke-linejoin:miter;stroke-opacity:1;\"/>\n",
       "<path class=\"atom-4\" d=\"M 94.6,106.2 L 94.9,106.2 L 95.2,106.3 L 95.4,106.3 L 95.7,106.4 L 96.0,106.5 L 96.2,106.6 L 96.4,106.8 L 96.7,106.9 L 96.9,107.1 L 97.1,107.3 L 97.2,107.5 L 97.4,107.7 L 97.5,108.0 L 97.7,108.2 L 97.8,108.5 L 97.8,108.7 L 97.9,109.0 L 97.9,109.3 L 97.9,109.6 L 94.6,109.6 Z\" style=\"fill:#97C4D4;fill-rule:evenodd;fill-opacity:1;stroke:#97C4D4;stroke-width:1.0px;stroke-linecap:butt;stroke-linejoin:miter;stroke-opacity:1;\"/>\n",
       "<path class=\"atom-4\" d=\"M 97.9,109.6 L 97.9,109.8 L 97.9,110.1 L 97.8,110.4 L 97.8,110.6 L 97.7,110.9 L 97.5,111.1 L 97.4,111.4 L 97.2,111.6 L 97.1,111.8 L 96.9,112.0 L 96.7,112.2 L 96.4,112.3 L 96.2,112.5 L 96.0,112.6 L 95.7,112.7 L 95.4,112.8 L 95.2,112.8 L 94.9,112.9 L 94.6,112.9 L 94.6,109.6 Z\" style=\"fill:#97C4D4;fill-rule:evenodd;fill-opacity:1;stroke:#97C4D4;stroke-width:1.0px;stroke-linecap:butt;stroke-linejoin:miter;stroke-opacity:1;\"/>\n",
       "<path class=\"atom-4\" d=\"M 94.6,112.9 L 94.3,112.9 L 94.1,112.8 L 93.8,112.8 L 93.5,112.7 L 93.3,112.6 L 93.0,112.5 L 92.8,112.3 L 92.6,112.2 L 92.4,112.0 L 92.2,111.8 L 92.0,111.6 L 91.8,111.4 L 91.7,111.1 L 91.6,110.9 L 91.5,110.6 L 91.4,110.4 L 91.3,110.1 L 91.3,109.8 L 91.3,109.6 L 94.6,109.6 Z\" style=\"fill:#97C4D4;fill-rule:evenodd;fill-opacity:1;stroke:#97C4D4;stroke-width:1.0px;stroke-linecap:butt;stroke-linejoin:miter;stroke-opacity:1;\"/>\n",
       "<path class=\"atom-4\" d=\"M 91.3,109.6 L 91.3,109.3 L 91.3,109.0 L 91.4,108.7 L 91.5,108.5 L 91.6,108.2 L 91.7,108.0 L 91.8,107.7 L 92.0,107.5 L 92.2,107.3 L 92.4,107.1 L 92.6,106.9 L 92.8,106.8 L 93.0,106.6 L 93.3,106.5 L 93.5,106.4 L 93.8,106.3 L 94.1,106.3 L 94.3,106.2 L 94.6,106.2 L 94.6,109.6 Z\" style=\"fill:#C591A7;fill-rule:evenodd;fill-opacity:1;stroke:#C591A7;stroke-width:1.0px;stroke-linecap:butt;stroke-linejoin:miter;stroke-opacity:1;\"/>\n",
       "<ellipse cx=\"109.1\" cy=\"97.3\" rx=\"3.5\" ry=\"3.9\" class=\"atom-5\" style=\"fill:#97C4D4;fill-rule:evenodd;stroke:#97C4D4;stroke-width:1.0px;stroke-linecap:butt;stroke-linejoin:miter;stroke-opacity:1\"/>\n",
       "<path class=\"atom-6\" d=\"M 98.1,124.5 L 98.3,124.5 L 98.5,124.5 L 98.8,124.6 L 99.0,124.7 L 99.2,124.8 L 99.4,124.9 L 99.6,125.1 L 99.8,125.3 L 100.0,125.5 L 100.2,125.7 L 100.3,125.9 L 100.5,126.2 L 100.6,126.5 L 100.7,126.7 L 100.8,127.0 L 100.9,127.3 L 100.9,127.6 L 100.9,128.0 L 100.9,128.3 L 98.1,128.3 Z\" style=\"fill:#97C4D4;fill-rule:evenodd;fill-opacity:1;stroke:#97C4D4;stroke-width:1.0px;stroke-linecap:butt;stroke-linejoin:miter;stroke-opacity:1;\"/>\n",
       "<path class=\"atom-6\" d=\"M 100.9,128.3 L 100.9,128.6 L 100.9,128.9 L 100.9,129.2 L 100.8,129.5 L 100.7,129.8 L 100.6,130.1 L 100.5,130.3 L 100.3,130.6 L 100.2,130.8 L 100.0,131.1 L 99.8,131.3 L 99.6,131.5 L 99.4,131.6 L 99.2,131.8 L 99.0,131.9 L 98.8,132.0 L 98.5,132.0 L 98.3,132.1 L 98.1,132.1 L 98.1,128.3 Z\" style=\"fill:#97C4D4;fill-rule:evenodd;fill-opacity:1;stroke:#97C4D4;stroke-width:1.0px;stroke-linecap:butt;stroke-linejoin:miter;stroke-opacity:1;\"/>\n",
       "<path class=\"atom-6\" d=\"M 98.1,132.1 L 97.8,132.1 L 97.6,132.0 L 97.4,132.0 L 97.1,131.9 L 96.9,131.8 L 96.7,131.6 L 96.5,131.5 L 96.3,131.3 L 96.1,131.1 L 95.9,130.8 L 95.8,130.6 L 95.6,130.3 L 95.5,130.1 L 95.4,129.8 L 95.3,129.5 L 95.3,129.2 L 95.2,128.9 L 95.2,128.6 L 95.2,128.3 L 98.1,128.3 Z\" style=\"fill:#97C4D4;fill-rule:evenodd;fill-opacity:1;stroke:#97C4D4;stroke-width:1.0px;stroke-linecap:butt;stroke-linejoin:miter;stroke-opacity:1;\"/>\n",
       "<path class=\"atom-6\" d=\"M 95.2,128.3 L 95.2,128.0 L 95.2,127.6 L 95.3,127.3 L 95.3,127.0 L 95.4,126.7 L 95.5,126.5 L 95.6,126.2 L 95.8,125.9 L 95.9,125.7 L 96.1,125.5 L 96.3,125.3 L 96.5,125.1 L 96.7,124.9 L 96.9,124.8 L 97.1,124.7 L 97.4,124.6 L 97.6,124.5 L 97.8,124.5 L 98.1,124.5 L 98.1,128.3 Z\" style=\"fill:#C591A7;fill-rule:evenodd;fill-opacity:1;stroke:#C591A7;stroke-width:1.0px;stroke-linecap:butt;stroke-linejoin:miter;stroke-opacity:1;\"/>\n",
       "<ellipse cx=\"83.6\" cy=\"140.6\" rx=\"3.3\" ry=\"3.3\" class=\"atom-7\" style=\"fill:#97C4D4;fill-rule:evenodd;stroke:#97C4D4;stroke-width:1.0px;stroke-linecap:butt;stroke-linejoin:miter;stroke-opacity:1\"/>\n",
       "<path class=\"atom-8\" d=\"M 116.0,131.3 L 116.3,131.3 L 116.5,131.4 L 116.8,131.4 L 117.1,131.5 L 117.4,131.6 L 117.6,131.7 L 117.8,131.9 L 118.1,132.0 L 118.3,132.2 L 118.5,132.4 L 118.7,132.7 L 118.8,132.9 L 119.0,133.1 L 119.1,133.4 L 119.2,133.7 L 119.2,133.9 L 119.3,134.2 L 119.3,134.5 L 119.3,134.8 L 119.3,135.1 L 119.2,135.3 L 119.2,135.6 L 119.1,135.9 L 119.0,136.1 L 118.8,136.4 L 118.7,136.6 L 118.5,136.8 L 118.3,137.0 L 118.1,137.2 L 117.8,137.4 L 117.6,137.5 L 117.4,137.7 L 117.1,137.8 L 116.8,137.9 L 116.5,137.9 L 116.3,138.0 L 116.0,138.0 L 116.0,134.6 Z\" style=\"fill:#97C4D4;fill-rule:evenodd;fill-opacity:1;stroke:#97C4D4;stroke-width:1.0px;stroke-linecap:butt;stroke-linejoin:miter;stroke-opacity:1;\"/>\n",
       "<path class=\"atom-8\" d=\"M 116.0,138.0 L 115.7,138.0 L 115.4,137.9 L 115.1,137.9 L 114.9,137.8 L 114.6,137.7 L 114.4,137.5 L 114.1,137.4 L 113.9,137.2 L 113.7,137.0 L 113.5,136.8 L 113.3,136.6 L 113.1,136.4 L 113.0,136.1 L 112.9,135.9 L 112.8,135.6 L 112.7,135.3 L 112.7,135.1 L 112.7,134.8 L 112.7,134.5 L 112.7,134.2 L 112.7,133.9 L 112.8,133.7 L 112.9,133.4 L 113.0,133.1 L 113.1,132.9 L 113.3,132.7 L 113.5,132.4 L 113.7,132.2 L 113.9,132.0 L 114.1,131.9 L 114.4,131.7 L 114.6,131.6 L 114.9,131.5 L 115.1,131.4 L 115.4,131.4 L 115.7,131.3 L 116.0,131.3 L 116.0,134.6 Z\" style=\"fill:#97C4D4;fill-rule:evenodd;fill-opacity:1;stroke:#97C4D4;stroke-width:1.0px;stroke-linecap:butt;stroke-linejoin:miter;stroke-opacity:1;\"/>\n",
       "<path class=\"atom-9\" d=\"M 130.5,119.0 L 130.7,119.0 L 131.0,119.0 L 131.3,119.1 L 131.6,119.2 L 131.8,119.3 L 132.1,119.4 L 132.3,119.5 L 132.5,119.7 L 132.8,119.9 L 133.0,120.1 L 133.1,120.3 L 133.3,120.6 L 133.4,120.8 L 133.5,121.1 L 133.6,121.3 L 133.7,121.6 L 133.8,121.9 L 133.8,122.2 L 133.8,122.4 L 133.8,122.7 L 133.7,123.0 L 133.6,123.3 L 133.5,123.5 L 133.4,123.8 L 133.3,124.1 L 133.1,124.3 L 133.0,124.5 L 132.8,124.7 L 132.5,124.9 L 132.3,125.1 L 132.1,125.2 L 131.8,125.3 L 131.6,125.4 L 131.3,125.5 L 131.0,125.6 L 130.7,125.6 L 130.5,125.6 L 130.5,122.3 Z\" style=\"fill:#C8E5DB;fill-rule:evenodd;fill-opacity:1;stroke:#C8E5DB;stroke-width:1.0px;stroke-linecap:butt;stroke-linejoin:miter;stroke-opacity:1;\"/>\n",
       "<path class=\"atom-9\" d=\"M 130.5,125.6 L 130.2,125.6 L 129.9,125.6 L 129.6,125.5 L 129.3,125.4 L 129.1,125.3 L 128.8,125.2 L 128.6,125.1 L 128.4,124.9 L 128.2,124.7 L 128.0,124.5 L 127.8,124.3 L 127.6,124.1 L 127.5,123.8 L 127.4,123.5 L 127.3,123.3 L 127.2,123.0 L 127.2,122.7 L 127.1,122.4 L 127.1,122.2 L 127.2,121.9 L 127.2,121.6 L 127.3,121.3 L 127.4,121.1 L 127.5,120.8 L 127.6,120.6 L 127.8,120.3 L 128.0,120.1 L 128.2,119.9 L 128.4,119.7 L 128.6,119.5 L 128.8,119.4 L 129.1,119.3 L 129.3,119.2 L 129.6,119.1 L 129.9,119.0 L 130.2,119.0 L 130.5,119.0 L 130.5,122.3 Z\" style=\"fill:#97C4D4;fill-rule:evenodd;fill-opacity:1;stroke:#97C4D4;stroke-width:1.0px;stroke-linecap:butt;stroke-linejoin:miter;stroke-opacity:1;\"/>\n",
       "<ellipse cx=\"148.4\" cy=\"128.7\" rx=\"3.3\" ry=\"3.3\" class=\"atom-10\" style=\"fill:#C8E5DB;fill-rule:evenodd;stroke:#C8E5DB;stroke-width:1.0px;stroke-linecap:butt;stroke-linejoin:miter;stroke-opacity:1\"/>\n",
       "<ellipse cx=\"162.9\" cy=\"116.3\" rx=\"3.3\" ry=\"3.3\" class=\"atom-11\" style=\"fill:#C8E5DB;fill-rule:evenodd;stroke:#C8E5DB;stroke-width:1.0px;stroke-linecap:butt;stroke-linejoin:miter;stroke-opacity:1\"/>\n",
       "<path class=\"atom-12\" d=\"M 159.4,94.3 L 159.7,94.3 L 160.0,94.4 L 160.3,94.4 L 160.5,94.5 L 160.8,94.6 L 161.0,94.7 L 161.3,94.9 L 161.5,95.1 L 161.7,95.2 L 161.9,95.4 L 162.1,95.7 L 162.2,95.9 L 162.4,96.1 L 162.5,96.4 L 162.6,96.7 L 162.7,96.9 L 162.7,97.2 L 162.7,97.5 L 162.7,97.8 L 162.7,98.1 L 162.7,98.3 L 162.6,98.6 L 162.5,98.9 L 162.4,99.1 L 162.2,99.4 L 162.1,99.6 L 161.9,99.8 L 161.7,100.0 L 161.5,100.2 L 161.3,100.4 L 161.0,100.6 L 160.8,100.7 L 160.5,100.8 L 160.3,100.9 L 160.0,100.9 L 159.7,101.0 L 159.4,101.0 L 159.4,97.6 Z\" style=\"fill:#C8E5DB;fill-rule:evenodd;fill-opacity:1;stroke:#C8E5DB;stroke-width:1.0px;stroke-linecap:butt;stroke-linejoin:miter;stroke-opacity:1;\"/>\n",
       "<path class=\"atom-12\" d=\"M 159.4,101.0 L 159.1,101.0 L 158.9,100.9 L 158.6,100.9 L 158.3,100.8 L 158.0,100.7 L 157.8,100.6 L 157.6,100.4 L 157.3,100.2 L 157.1,100.0 L 156.9,99.8 L 156.7,99.6 L 156.6,99.4 L 156.4,99.1 L 156.3,98.9 L 156.2,98.6 L 156.2,98.3 L 156.1,98.1 L 156.1,97.8 L 156.1,97.5 L 156.1,97.2 L 156.2,96.9 L 156.2,96.7 L 156.3,96.4 L 156.4,96.1 L 156.6,95.9 L 156.7,95.7 L 156.9,95.4 L 157.1,95.2 L 157.3,95.1 L 157.6,94.9 L 157.8,94.7 L 158.0,94.6 L 158.3,94.5 L 158.6,94.4 L 158.9,94.4 L 159.1,94.3 L 159.4,94.3 L 159.4,97.6 Z\" style=\"fill:#97C4D4;fill-rule:evenodd;fill-opacity:1;stroke:#97C4D4;stroke-width:1.0px;stroke-linecap:butt;stroke-linejoin:miter;stroke-opacity:1;\"/>\n",
       "<path class=\"atom-13\" d=\"M 173.9,82.0 L 174.2,82.0 L 174.4,82.0 L 174.7,82.1 L 175.0,82.2 L 175.2,82.3 L 175.5,82.4 L 175.7,82.5 L 176.0,82.7 L 176.2,82.9 L 176.4,83.1 L 176.5,83.3 L 176.7,83.5 L 176.8,83.8 L 177.0,84.0 L 177.1,84.3 L 173.9,85.3 Z\" style=\"fill:#97C4D4;fill-rule:evenodd;fill-opacity:1;stroke:#97C4D4;stroke-width:1.0px;stroke-linecap:butt;stroke-linejoin:miter;stroke-opacity:1;\"/>\n",
       "<path class=\"atom-13\" d=\"M 177.1,84.3 L 177.1,84.6 L 177.2,84.8 L 177.2,85.1 L 177.2,85.4 L 177.2,85.7 L 177.2,85.9 L 177.1,86.2 L 177.0,86.5 L 176.9,86.7 L 176.8,87.0 L 176.6,87.2 L 176.5,87.4 L 176.3,87.6 L 176.1,87.8 L 175.9,88.0 L 173.9,85.3 Z\" style=\"fill:#97C4D4;fill-rule:evenodd;fill-opacity:1;stroke:#97C4D4;stroke-width:1.0px;stroke-linecap:butt;stroke-linejoin:miter;stroke-opacity:1;\"/>\n",
       "<path class=\"atom-13\" d=\"M 175.9,88.0 L 175.6,88.2 L 175.4,88.3 L 175.1,88.4 L 174.9,88.5 L 174.6,88.6 L 174.3,88.6 L 174.0,88.6 L 173.8,88.6 L 173.5,88.6 L 173.2,88.6 L 172.9,88.5 L 172.7,88.4 L 172.4,88.3 L 172.2,88.2 L 171.9,88.0 L 173.9,85.3 Z\" style=\"fill:#97C4D4;fill-rule:evenodd;fill-opacity:1;stroke:#97C4D4;stroke-width:1.0px;stroke-linecap:butt;stroke-linejoin:miter;stroke-opacity:1;\"/>\n",
       "<path class=\"atom-13\" d=\"M 171.9,88.0 L 171.7,87.8 L 171.5,87.6 L 171.3,87.4 L 171.2,87.2 L 171.0,87.0 L 170.9,86.7 L 170.8,86.5 L 170.7,86.2 L 170.6,85.9 L 170.6,85.7 L 170.6,85.4 L 170.6,85.1 L 170.6,84.8 L 170.7,84.6 L 170.7,84.3 L 173.9,85.3 Z\" style=\"fill:#97C4D4;fill-rule:evenodd;fill-opacity:1;stroke:#97C4D4;stroke-width:1.0px;stroke-linecap:butt;stroke-linejoin:miter;stroke-opacity:1;\"/>\n",
       "<path class=\"atom-13\" d=\"M 170.7,84.3 L 170.8,84.0 L 170.9,83.8 L 171.1,83.5 L 171.2,83.3 L 171.4,83.1 L 171.6,82.9 L 171.8,82.7 L 172.1,82.5 L 172.3,82.4 L 172.5,82.3 L 172.8,82.2 L 173.1,82.1 L 173.3,82.0 L 173.6,82.0 L 173.9,82.0 L 173.9,85.3 Z\" style=\"fill:#C591A7;fill-rule:evenodd;fill-opacity:1;stroke:#C591A7;stroke-width:1.0px;stroke-linecap:butt;stroke-linejoin:miter;stroke-opacity:1;\"/>\n",
       "<ellipse cx=\"188.4\" cy=\"73.0\" rx=\"2.5\" ry=\"3.8\" class=\"atom-14\" style=\"fill:#97C4D4;fill-rule:evenodd;stroke:#97C4D4;stroke-width:1.0px;stroke-linecap:butt;stroke-linejoin:miter;stroke-opacity:1\"/>\n",
       "<ellipse cx=\"186.2\" cy=\"99.8\" rx=\"2.5\" ry=\"3.8\" class=\"atom-15\" style=\"fill:#97C4D4;fill-rule:evenodd;stroke:#97C4D4;stroke-width:1.0px;stroke-linecap:butt;stroke-linejoin:miter;stroke-opacity:1\"/>\n",
       "<ellipse cx=\"161.6\" cy=\"70.8\" rx=\"2.5\" ry=\"3.8\" class=\"atom-16\" style=\"fill:#97C4D4;fill-rule:evenodd;stroke:#97C4D4;stroke-width:1.0px;stroke-linecap:butt;stroke-linejoin:miter;stroke-opacity:1\"/>\n",
       "<ellipse cx=\"141.5\" cy=\"91.3\" rx=\"3.3\" ry=\"3.3\" class=\"atom-17\" style=\"fill:#C8E5DB;fill-rule:evenodd;stroke:#C8E5DB;stroke-width:1.0px;stroke-linecap:butt;stroke-linejoin:miter;stroke-opacity:1\"/>\n",
       "<ellipse cx=\"127.0\" cy=\"103.6\" rx=\"3.3\" ry=\"3.3\" class=\"atom-18\" style=\"fill:#C8E5DB;fill-rule:evenodd;stroke:#C8E5DB;stroke-width:1.0px;stroke-linecap:butt;stroke-linejoin:miter;stroke-opacity:1\"/>\n",
       "<path class=\"atom-19\" d=\"M 40.9,87.1 L 41.1,87.1 L 41.4,87.2 L 41.7,87.2 L 42.0,87.3 L 42.2,87.4 L 42.5,87.5 L 42.7,87.7 L 43.0,87.9 L 43.2,88.0 L 43.4,88.2 L 43.5,88.5 L 43.7,88.7 L 43.8,88.9 L 44.0,89.2 L 44.0,89.5 L 44.1,89.7 L 44.2,90.0 L 44.2,90.3 L 44.2,90.6 L 44.2,90.9 L 44.1,91.1 L 44.0,91.4 L 44.0,91.7 L 43.8,91.9 L 43.7,92.2 L 43.5,92.4 L 43.4,92.6 L 43.2,92.8 L 43.0,93.0 L 42.7,93.2 L 42.5,93.3 L 42.2,93.5 L 42.0,93.6 L 41.7,93.7 L 41.4,93.7 L 41.1,93.8 L 40.9,93.8 L 40.9,90.4 Z\" style=\"fill:#DE9688;fill-rule:evenodd;fill-opacity:1;stroke:#DE9688;stroke-width:1.0px;stroke-linecap:butt;stroke-linejoin:miter;stroke-opacity:1;\"/>\n",
       "<path class=\"atom-19\" d=\"M 40.9,93.8 L 40.6,93.8 L 40.3,93.7 L 40.0,93.7 L 39.8,93.6 L 39.5,93.5 L 39.2,93.3 L 39.0,93.2 L 38.8,93.0 L 38.6,92.8 L 38.4,92.6 L 38.2,92.4 L 38.0,92.2 L 37.9,91.9 L 37.8,91.7 L 37.7,91.4 L 37.6,91.1 L 37.6,90.9 L 37.5,90.6 L 37.5,90.3 L 37.6,90.0 L 37.6,89.7 L 37.7,89.5 L 37.8,89.2 L 37.9,88.9 L 38.0,88.7 L 38.2,88.5 L 38.4,88.2 L 38.6,88.0 L 38.8,87.9 L 39.0,87.7 L 39.2,87.5 L 39.5,87.4 L 39.8,87.3 L 40.0,87.2 L 40.3,87.2 L 40.6,87.1 L 40.9,87.1 L 40.9,90.4 Z\" style=\"fill:#97C4D4;fill-rule:evenodd;fill-opacity:1;stroke:#97C4D4;stroke-width:1.0px;stroke-linecap:butt;stroke-linejoin:miter;stroke-opacity:1;\"/>\n",
       "<ellipse cx=\"42.3\" cy=\"109.4\" rx=\"3.3\" ry=\"3.3\" class=\"atom-20\" style=\"fill:#DE9688;fill-rule:evenodd;stroke:#DE9688;stroke-width:1.0px;stroke-linecap:butt;stroke-linejoin:miter;stroke-opacity:1\"/>\n",
       "<ellipse cx=\"24.8\" cy=\"116.7\" rx=\"2.5\" ry=\"3.9\" class=\"atom-21\" style=\"fill:#DE9688;fill-rule:evenodd;stroke:#DE9688;stroke-width:1.0px;stroke-linecap:butt;stroke-linejoin:miter;stroke-opacity:1\"/>\n",
       "<ellipse cx=\"12.4\" cy=\"102.2\" rx=\"3.3\" ry=\"3.3\" class=\"atom-22\" style=\"fill:#DE9688;fill-rule:evenodd;stroke:#DE9688;stroke-width:1.0px;stroke-linecap:butt;stroke-linejoin:miter;stroke-opacity:1\"/>\n",
       "<ellipse cx=\"22.4\" cy=\"86.0\" rx=\"3.3\" ry=\"3.3\" class=\"atom-23\" style=\"fill:#DE9688;fill-rule:evenodd;stroke:#DE9688;stroke-width:1.0px;stroke-linecap:butt;stroke-linejoin:miter;stroke-opacity:1\"/>\n",
       "<path class=\"bond-0 atom-0 atom-1\" d=\"M 51.9,59.4 L 54.7,74.8\" style=\"fill:none;fill-rule:evenodd;stroke:#000000;stroke-width:1.0px;stroke-linecap:butt;stroke-linejoin:miter;stroke-opacity:1\"/>\n",
       "<path class=\"bond-1 atom-1 atom-2\" d=\"M 58.0,79.1 L 73.3,84.5\" style=\"fill:none;fill-rule:evenodd;stroke:#000000;stroke-width:1.0px;stroke-linecap:butt;stroke-linejoin:miter;stroke-opacity:1\"/>\n",
       "<path class=\"bond-2 atom-1 atom-19\" d=\"M 52.6,80.4 L 40.9,90.4\" style=\"fill:none;fill-rule:evenodd;stroke:#000000;stroke-width:1.0px;stroke-linecap:butt;stroke-linejoin:miter;stroke-opacity:1\"/>\n",
       "<path class=\"bond-3 atom-2 atom-3\" d=\"M 73.3,84.5 L 76.1,99.9\" style=\"fill:none;fill-rule:evenodd;stroke:#000000;stroke-width:1.0px;stroke-linecap:butt;stroke-linejoin:miter;stroke-opacity:1\"/>\n",
       "<path class=\"bond-4 atom-3 atom-4\" d=\"M 79.4,104.1 L 94.6,109.6\" style=\"fill:none;fill-rule:evenodd;stroke:#000000;stroke-width:1.0px;stroke-linecap:butt;stroke-linejoin:miter;stroke-opacity:1\"/>\n",
       "<path class=\"bond-5 atom-4 atom-5\" d=\"M 94.9,111.2 L 106.9,101.0\" style=\"fill:none;fill-rule:evenodd;stroke:#000000;stroke-width:1.0px;stroke-linecap:butt;stroke-linejoin:miter;stroke-opacity:1\"/>\n",
       "<path class=\"bond-5 atom-4 atom-5\" d=\"M 93.1,109.0 L 105.1,98.8\" style=\"fill:none;fill-rule:evenodd;stroke:#000000;stroke-width:1.0px;stroke-linecap:butt;stroke-linejoin:miter;stroke-opacity:1\"/>\n",
       "<path class=\"bond-6 atom-4 atom-6\" d=\"M 94.6,109.6 L 97.5,124.9\" style=\"fill:none;fill-rule:evenodd;stroke:#000000;stroke-width:1.0px;stroke-linecap:butt;stroke-linejoin:miter;stroke-opacity:1\"/>\n",
       "<path class=\"bond-7 atom-6 atom-7\" d=\"M 95.4,130.5 L 83.6,140.6\" style=\"fill:none;fill-rule:evenodd;stroke:#000000;stroke-width:1.0px;stroke-linecap:butt;stroke-linejoin:miter;stroke-opacity:1\"/>\n",
       "<path class=\"bond-8 atom-6 atom-8\" d=\"M 100.7,129.2 L 116.0,134.6\" style=\"fill:none;fill-rule:evenodd;stroke:#000000;stroke-width:1.0px;stroke-linecap:butt;stroke-linejoin:miter;stroke-opacity:1\"/>\n",
       "<path class=\"bond-9 atom-8 atom-9\" d=\"M 116.0,134.6 L 130.5,122.3\" style=\"fill:none;fill-rule:evenodd;stroke:#000000;stroke-width:1.0px;stroke-linecap:butt;stroke-linejoin:miter;stroke-opacity:1\"/>\n",
       "<path class=\"bond-10 atom-9 atom-10\" d=\"M 130.5,122.3 L 148.4,128.7\" style=\"fill:none;fill-rule:evenodd;stroke:#000000;stroke-width:1.0px;stroke-linecap:butt;stroke-linejoin:miter;stroke-opacity:1\"/>\n",
       "<path class=\"bond-10 atom-9 atom-10\" d=\"M 133.0,120.2 L 147.8,125.4\" style=\"fill:none;fill-rule:evenodd;stroke:#000000;stroke-width:1.0px;stroke-linecap:butt;stroke-linejoin:miter;stroke-opacity:1\"/>\n",
       "<path class=\"bond-11 atom-9 atom-18\" d=\"M 130.5,122.3 L 127.0,103.6\" style=\"fill:none;fill-rule:evenodd;stroke:#000000;stroke-width:1.0px;stroke-linecap:butt;stroke-linejoin:miter;stroke-opacity:1\"/>\n",
       "<path class=\"bond-12 atom-10 atom-11\" d=\"M 148.4,128.7 L 162.9,116.3\" style=\"fill:none;fill-rule:evenodd;stroke:#000000;stroke-width:1.0px;stroke-linecap:butt;stroke-linejoin:miter;stroke-opacity:1\"/>\n",
       "<path class=\"bond-13 atom-11 atom-12\" d=\"M 162.9,116.3 L 159.4,97.6\" style=\"fill:none;fill-rule:evenodd;stroke:#000000;stroke-width:1.0px;stroke-linecap:butt;stroke-linejoin:miter;stroke-opacity:1\"/>\n",
       "<path class=\"bond-13 atom-11 atom-12\" d=\"M 159.8,115.2 L 156.9,99.8\" style=\"fill:none;fill-rule:evenodd;stroke:#000000;stroke-width:1.0px;stroke-linecap:butt;stroke-linejoin:miter;stroke-opacity:1\"/>\n",
       "<path class=\"bond-14 atom-12 atom-13\" d=\"M 159.4,97.6 L 173.9,85.3\" style=\"fill:none;fill-rule:evenodd;stroke:#000000;stroke-width:1.0px;stroke-linecap:butt;stroke-linejoin:miter;stroke-opacity:1\"/>\n",
       "<path class=\"bond-15 atom-12 atom-17\" d=\"M 159.4,97.6 L 141.5,91.3\" style=\"fill:none;fill-rule:evenodd;stroke:#000000;stroke-width:1.0px;stroke-linecap:butt;stroke-linejoin:miter;stroke-opacity:1\"/>\n",
       "<path class=\"bond-16 atom-13 atom-14\" d=\"M 173.9,85.3 L 186.1,74.9\" style=\"fill:none;fill-rule:evenodd;stroke:#000000;stroke-width:1.0px;stroke-linecap:butt;stroke-linejoin:miter;stroke-opacity:1\"/>\n",
       "<path class=\"bond-17 atom-13 atom-15\" d=\"M 173.9,85.3 L 184.0,97.2\" style=\"fill:none;fill-rule:evenodd;stroke:#000000;stroke-width:1.0px;stroke-linecap:butt;stroke-linejoin:miter;stroke-opacity:1\"/>\n",
       "<path class=\"bond-18 atom-13 atom-16\" d=\"M 173.9,85.3 L 163.8,73.5\" style=\"fill:none;fill-rule:evenodd;stroke:#000000;stroke-width:1.0px;stroke-linecap:butt;stroke-linejoin:miter;stroke-opacity:1\"/>\n",
       "<path class=\"bond-19 atom-17 atom-18\" d=\"M 141.5,91.3 L 127.0,103.6\" style=\"fill:none;fill-rule:evenodd;stroke:#000000;stroke-width:1.0px;stroke-linecap:butt;stroke-linejoin:miter;stroke-opacity:1\"/>\n",
       "<path class=\"bond-19 atom-17 atom-18\" d=\"M 142.1,94.5 L 130.1,104.7\" style=\"fill:none;fill-rule:evenodd;stroke:#000000;stroke-width:1.0px;stroke-linecap:butt;stroke-linejoin:miter;stroke-opacity:1\"/>\n",
       "<path class=\"bond-20 atom-19 atom-20\" d=\"M 40.9,90.4 L 42.3,109.4\" style=\"fill:none;fill-rule:evenodd;stroke:#000000;stroke-width:1.0px;stroke-linecap:butt;stroke-linejoin:miter;stroke-opacity:1\"/>\n",
       "<path class=\"bond-20 atom-19 atom-20\" d=\"M 38.2,92.7 L 39.3,107.6\" style=\"fill:none;fill-rule:evenodd;stroke:#000000;stroke-width:1.0px;stroke-linecap:butt;stroke-linejoin:miter;stroke-opacity:1\"/>\n",
       "<path class=\"bond-21 atom-19 atom-23\" d=\"M 40.9,90.4 L 22.4,86.0\" style=\"fill:none;fill-rule:evenodd;stroke:#000000;stroke-width:1.0px;stroke-linecap:butt;stroke-linejoin:miter;stroke-opacity:1\"/>\n",
       "<path class=\"bond-22 atom-20 atom-21\" d=\"M 42.3,109.4 L 27.1,115.7\" style=\"fill:none;fill-rule:evenodd;stroke:#000000;stroke-width:1.0px;stroke-linecap:butt;stroke-linejoin:miter;stroke-opacity:1\"/>\n",
       "<path class=\"bond-23 atom-21 atom-22\" d=\"M 22.4,113.9 L 12.4,102.2\" style=\"fill:none;fill-rule:evenodd;stroke:#000000;stroke-width:1.0px;stroke-linecap:butt;stroke-linejoin:miter;stroke-opacity:1\"/>\n",
       "<path class=\"bond-24 atom-22 atom-23\" d=\"M 12.4,102.2 L 22.4,86.0\" style=\"fill:none;fill-rule:evenodd;stroke:#000000;stroke-width:1.0px;stroke-linecap:butt;stroke-linejoin:miter;stroke-opacity:1\"/>\n",
       "<path class=\"bond-24 atom-22 atom-23\" d=\"M 15.9,101.9 L 23.7,89.2\" style=\"fill:none;fill-rule:evenodd;stroke:#000000;stroke-width:1.0px;stroke-linecap:butt;stroke-linejoin:miter;stroke-opacity:1\"/>\n",
       "<path d=\"M 72.5,84.2 L 73.3,84.5 L 73.4,85.3\" style=\"fill:none;stroke:#000000;stroke-width:1.0px;stroke-linecap:butt;stroke-linejoin:miter;stroke-opacity:1;\"/>\n",
       "<path d=\"M 93.9,109.3 L 94.6,109.6 L 94.8,110.3\" style=\"fill:none;stroke:#000000;stroke-width:1.0px;stroke-linecap:butt;stroke-linejoin:miter;stroke-opacity:1;\"/>\n",
       "<path d=\"M 115.2,134.4 L 116.0,134.6 L 116.7,134.0\" style=\"fill:none;stroke:#000000;stroke-width:1.0px;stroke-linecap:butt;stroke-linejoin:miter;stroke-opacity:1;\"/>\n",
       "<path d=\"M 147.5,128.4 L 148.4,128.7 L 149.1,128.1\" style=\"fill:none;stroke:#000000;stroke-width:1.0px;stroke-linecap:butt;stroke-linejoin:miter;stroke-opacity:1;\"/>\n",
       "<path d=\"M 162.1,117.0 L 162.9,116.3 L 162.7,115.4\" style=\"fill:none;stroke:#000000;stroke-width:1.0px;stroke-linecap:butt;stroke-linejoin:miter;stroke-opacity:1;\"/>\n",
       "<path d=\"M 142.4,91.6 L 141.5,91.3 L 140.8,91.9\" style=\"fill:none;stroke:#000000;stroke-width:1.0px;stroke-linecap:butt;stroke-linejoin:miter;stroke-opacity:1;\"/>\n",
       "<path d=\"M 127.2,104.5 L 127.0,103.6 L 127.7,103.0\" style=\"fill:none;stroke:#000000;stroke-width:1.0px;stroke-linecap:butt;stroke-linejoin:miter;stroke-opacity:1;\"/>\n",
       "<path d=\"M 42.3,108.5 L 42.3,109.4 L 41.6,109.7\" style=\"fill:none;stroke:#000000;stroke-width:1.0px;stroke-linecap:butt;stroke-linejoin:miter;stroke-opacity:1;\"/>\n",
       "<path d=\"M 12.9,102.8 L 12.4,102.2 L 12.9,101.4\" style=\"fill:none;stroke:#000000;stroke-width:1.0px;stroke-linecap:butt;stroke-linejoin:miter;stroke-opacity:1;\"/>\n",
       "<path d=\"M 23.3,86.2 L 22.4,86.0 L 21.9,86.8\" style=\"fill:none;stroke:#000000;stroke-width:1.0px;stroke-linecap:butt;stroke-linejoin:miter;stroke-opacity:1;\"/>\n",
       "<path class=\"atom-1\" d=\"M 53.3 78.1 Q 53.3 76.8, 53.9 76.1 Q 54.5 75.4, 55.7 75.4 Q 56.8 75.4, 57.4 76.2 L 56.9 76.6 Q 56.5 76.0, 55.7 76.0 Q 54.9 76.0, 54.5 76.6 Q 54.0 77.1, 54.0 78.1 Q 54.0 79.2, 54.5 79.7 Q 54.9 80.3, 55.8 80.3 Q 56.4 80.3, 57.1 79.9 L 57.3 80.5 Q 57.0 80.7, 56.6 80.8 Q 56.2 80.9, 55.7 80.9 Q 54.5 80.9, 53.9 80.2 Q 53.3 79.5, 53.3 78.1 \" fill=\"#000000\"/>\n",
       "<path class=\"atom-1\" d=\"M 58.1 76.4 L 59.1 76.4 L 59.1 75.4 L 59.5 75.4 L 59.5 76.4 L 60.5 76.4 L 60.5 76.7 L 59.5 76.7 L 59.5 77.7 L 59.1 77.7 L 59.1 76.7 L 58.1 76.7 L 58.1 76.4 \" fill=\"#000000\"/>\n",
       "<path class=\"atom-3\" d=\"M 69.4 100.5 L 70.1 100.5 L 70.1 102.8 L 72.9 102.8 L 72.9 100.5 L 73.6 100.5 L 73.6 105.9 L 72.9 105.9 L 72.9 103.4 L 70.1 103.4 L 70.1 105.9 L 69.4 105.9 L 69.4 100.5 \" fill=\"#000000\"/>\n",
       "<path class=\"atom-3\" d=\"M 75.5 100.5 L 77.3 103.3 Q 77.5 103.6, 77.7 104.1 Q 78.0 104.6, 78.0 104.7 L 78.0 100.5 L 78.7 100.5 L 78.7 105.9 L 78.0 105.9 L 76.1 102.8 Q 75.9 102.4, 75.7 102.0 Q 75.4 101.6, 75.4 101.4 L 75.4 105.9 L 74.7 105.9 L 74.7 100.5 L 75.5 100.5 \" fill=\"#000000\"/>\n",
       "<path class=\"atom-5\" d=\"M 106.6 97.2 Q 106.6 96.0, 107.3 95.2 Q 107.9 94.5, 109.1 94.5 Q 110.3 94.5, 110.9 95.2 Q 111.6 96.0, 111.6 97.2 Q 111.6 98.6, 110.9 99.3 Q 110.3 100.0, 109.1 100.0 Q 107.9 100.0, 107.3 99.3 Q 106.6 98.6, 106.6 97.2 M 109.1 99.4 Q 109.9 99.4, 110.4 98.9 Q 110.8 98.3, 110.8 97.2 Q 110.8 96.2, 110.4 95.7 Q 109.9 95.1, 109.1 95.1 Q 108.3 95.1, 107.8 95.6 Q 107.4 96.2, 107.4 97.2 Q 107.4 98.3, 107.8 98.9 Q 108.3 99.4, 109.1 99.4 \" fill=\"#000000\"/>\n",
       "<path class=\"atom-6\" d=\"M 96.9 125.6 L 98.6 128.4 Q 98.8 128.7, 99.1 129.2 Q 99.4 129.7, 99.4 129.8 L 99.4 125.6 L 100.1 125.6 L 100.1 131.0 L 99.4 131.0 L 97.5 127.8 Q 97.3 127.5, 97.0 127.1 Q 96.8 126.6, 96.7 126.5 L 96.7 131.0 L 96.0 131.0 L 96.0 125.6 L 96.9 125.6 \" fill=\"#000000\"/>\n",
       "<path class=\"atom-14\" d=\"M 186.8 70.3 L 190.0 70.3 L 190.0 70.9 L 187.5 70.9 L 187.5 72.5 L 189.7 72.5 L 189.7 73.2 L 187.5 73.2 L 187.5 75.7 L 186.8 75.7 L 186.8 70.3 \" fill=\"#000000\"/>\n",
       "<path class=\"atom-15\" d=\"M 184.6 97.1 L 187.8 97.1 L 187.8 97.7 L 185.3 97.7 L 185.3 99.4 L 187.6 99.4 L 187.6 100.0 L 185.3 100.0 L 185.3 102.5 L 184.6 102.5 L 184.6 97.1 \" fill=\"#000000\"/>\n",
       "<path class=\"atom-16\" d=\"M 160.0 68.1 L 163.2 68.1 L 163.2 68.8 L 160.7 68.8 L 160.7 70.4 L 162.9 70.4 L 162.9 71.0 L 160.7 71.0 L 160.7 73.5 L 160.0 73.5 L 160.0 68.1 \" fill=\"#000000\"/>\n",
       "<path class=\"atom-21\" d=\"M 23.2 118.5 Q 23.3 118.5, 23.5 118.6 Q 23.8 118.7, 24.1 118.8 Q 24.3 118.9, 24.6 118.9 Q 25.1 118.9, 25.4 118.6 Q 25.7 118.4, 25.7 117.9 Q 25.7 117.6, 25.6 117.5 Q 25.4 117.3, 25.2 117.2 Q 25.0 117.1, 24.6 117.0 Q 24.1 116.8, 23.8 116.7 Q 23.5 116.5, 23.3 116.3 Q 23.1 116.0, 23.1 115.5 Q 23.1 114.8, 23.6 114.4 Q 24.1 114.0, 25.0 114.0 Q 25.6 114.0, 26.3 114.3 L 26.1 114.9 Q 25.5 114.6, 25.0 114.6 Q 24.5 114.6, 24.2 114.8 Q 23.9 115.0, 23.9 115.4 Q 23.9 115.7, 24.0 115.9 Q 24.2 116.0, 24.4 116.1 Q 24.6 116.2, 25.0 116.3 Q 25.5 116.5, 25.8 116.6 Q 26.1 116.8, 26.3 117.1 Q 26.5 117.4, 26.5 117.9 Q 26.5 118.7, 26.0 119.1 Q 25.5 119.5, 24.7 119.5 Q 24.2 119.5, 23.8 119.4 Q 23.4 119.3, 23.0 119.1 L 23.2 118.5 \" fill=\"#000000\"/>\n",
       "</svg>"
      ],
      "text/plain": [
       "<IPython.core.display.SVG object>"
      ]
     },
     "execution_count": 50,
     "metadata": {},
     "output_type": "execute_result"
    },
    {
     "data": {
      "image/png": "[encoded data removed]",
      "text/plain": [
       "<Figure size 640x480 with 1 Axes>"
      ]
     },
     "metadata": {},
     "output_type": "display_data"
    }
   ],
   "source": [
    "from IPython.display import SVG\n",
    "from visualization.visualize_molecules import to_SVG\n",
    "rings_edges = frag.RingsEdges(max_ring= 15)\n",
    "higher_level = frag.HigherLevelGraph(vocab_size = 40, neighbor = \"tree\")\n",
    "SVG(to_SVG(higher_level(rings_edges(data[40])), higher_level= True))"
   ]
  },
  {
   "cell_type": "code",
   "execution_count": 37,
   "metadata": {},
   "outputs": [
    {
     "data": {
      "text/plain": [
       "FragmentData(x=[29, 1], edge_index=[2, 64], edge_attr=[64], y=[1], mol=<rdkit.Chem.rdchem.RWMol object at 0x7fad09519130>, substructures=[29], fragments=[13, 41], fragments_edge_index=[2, 42], higher_edge_index=[2, 24])"
      ]
     },
     "execution_count": 37,
     "metadata": {},
     "output_type": "execute_result"
    }
   ],
   "source": [
    "graph"
   ]
  },
  {
   "cell_type": "code",
   "execution_count": 36,
   "metadata": {},
   "outputs": [
    {
     "data": {
      "image/png": "[encoded data removed]",
      "text/plain": [
       "<Figure size 640x480 with 1 Axes>"
      ]
     },
     "metadata": {},
     "output_type": "display_data"
    }
   ],
   "source": [
    "import networkx as nx\n",
    "import numpy as np\n",
    "rings_paths = frag.RingsPathsJunctions()\n",
    "higher_level = frag.HigherLevelGraph(vocab_size = 40, neighbor = \"tree\")\n",
    "graph = higher_level(rings_paths(data[0]))\n",
    "g = nx.Graph()\n",
    "g.add_nodes_from(range(graph.fragments.size(0)))\n",
    "g.add_edges_from([(int(edge[0]), int(edge[1])) for edge in graph.higher_edge_index.T])\n",
    "pos = [(np.random.randint(0, 10), np.random.randint(0, 10)) for i in range(g.number_of_nodes())]\n",
    "nx.draw(g, pos)"
   ]
  },
  {
   "cell_type": "code",
   "execution_count": 31,
   "metadata": {},
   "outputs": [
    {
     "data": {
      "text/plain": [
       "EdgeView([(tensor(0), tensor(4)), (tensor(4), tensor(0)), (tensor(0), tensor(1)), (tensor(1), tensor(0)), (tensor(1), tensor(5)), (tensor(5), tensor(1)), (tensor(1), tensor(6)), (tensor(6), tensor(1)), (tensor(2), tensor(6)), (tensor(6), tensor(2)), (tensor(2), tensor(7)), (tensor(7), tensor(2)), (tensor(7), tensor(12)), (tensor(12), tensor(7)), (tensor(8), tensor(12)), (tensor(12), tensor(8)), (tensor(9), tensor(12)), (tensor(12), tensor(9)), (tensor(10), tensor(12)), (tensor(12), tensor(10)), (tensor(3), tensor(10)), (tensor(10), tensor(3)), (tensor(3), tensor(11)), (tensor(11), tensor(3))])"
      ]
     },
     "execution_count": 31,
     "metadata": {},
     "output_type": "execute_result"
    }
   ],
   "source": [
    "g.edges"
   ]
  },
  {
   "cell_type": "code",
   "execution_count": 29,
   "metadata": {},
   "outputs": [
    {
     "data": {
      "text/plain": [
       "tensor([[ 0,  4],\n",
       "        [ 4,  0],\n",
       "        [ 0,  1],\n",
       "        [ 1,  0],\n",
       "        [ 1,  5],\n",
       "        [ 5,  1],\n",
       "        [ 1,  6],\n",
       "        [ 6,  1],\n",
       "        [ 2,  6],\n",
       "        [ 6,  2],\n",
       "        [ 2,  7],\n",
       "        [ 7,  2],\n",
       "        [ 7, 12],\n",
       "        [12,  7],\n",
       "        [ 8, 12],\n",
       "        [12,  8],\n",
       "        [ 9, 12],\n",
       "        [12,  9],\n",
       "        [10, 12],\n",
       "        [12, 10],\n",
       "        [ 3, 10],\n",
       "        [10,  3],\n",
       "        [ 3, 11],\n",
       "        [11,  3]])"
      ]
     },
     "execution_count": 29,
     "metadata": {},
     "output_type": "execute_result"
    }
   ],
   "source": [
    "graph.higher_edge_index.T"
   ]
  },
  {
   "cell_type": "code",
   "execution_count": 32,
   "metadata": {},
   "outputs": [
    {
     "data": {
      "image/svg+xml": [
       "<svg xmlns=\"http://www.w3.org/2000/svg\" xmlns:rdkit=\"http://www.rdkit.org/xml\" xmlns:xlink=\"http://www.w3.org/1999/xlink\" version=\"1.1\" baseProfile=\"full\" xml:space=\"preserve\" width=\"200px\" height=\"200px\" viewBox=\"0 0 200 200\">\n",
       "<!-- END OF HEADER -->\n",
       "<rect style=\"opacity:1.0;fill:#FFFFFF;stroke:none\" width=\"200.0\" height=\"200.0\" x=\"0.0\" y=\"0.0\"> </rect>\n",
       "<path class=\"bond-0 atom-0 atom-1\" d=\"M 86.1,121.5 L 90.1,138.6 L 85.8,139.6 L 82.4,124.9 Z\" style=\"fill:#A7F0FC;fill-rule:evenodd;fill-opacity:1;stroke:#A7F0FC;stroke-width:0.0px;stroke-linecap:butt;stroke-linejoin:miter;stroke-opacity:1;\"/>\n",
       "<path class=\"bond-1 atom-1 atom-2\" d=\"M 70.4,116.7 L 86.1,121.5 L 82.4,124.9 L 69.2,120.9 L 68.6,118.4 Z\" style=\"fill:#A7F0FC;fill-rule:evenodd;fill-opacity:1;stroke:#A7F0FC;stroke-width:0.0px;stroke-linecap:butt;stroke-linejoin:miter;stroke-opacity:1;\"/>\n",
       "<path class=\"bond-2 atom-2 atom-3\" d=\"M 66.2,117.7 L 68.6,118.4 L 69.2,120.9 L 57.2,132.1 L 56.1,127.2 Z\" style=\"fill:#818FFB;fill-rule:evenodd;fill-opacity:1;stroke:#818FFB;stroke-width:0.0px;stroke-linecap:butt;stroke-linejoin:miter;stroke-opacity:1;\"/>\n",
       "<path class=\"bond-3 atom-2 atom-28\" d=\"M 66.7,100.8 L 70.4,116.7 L 68.6,118.4 L 66.2,117.7 L 63.0,104.2 Z\" style=\"fill:#818FFB;fill-rule:evenodd;fill-opacity:1;stroke:#818FFB;stroke-width:0.0px;stroke-linecap:butt;stroke-linejoin:miter;stroke-opacity:1;\"/>\n",
       "<path class=\"bond-4 atom-3 atom-4\" d=\"M 42.8,123.1 L 56.1,127.2 L 57.2,132.1 L 39.1,126.6 Z\" style=\"fill:#818FFB;fill-rule:evenodd;fill-opacity:1;stroke:#818FFB;stroke-width:0.0px;stroke-linecap:butt;stroke-linejoin:miter;stroke-opacity:1;\"/>\n",
       "<path class=\"bond-5 atom-4 atom-5\" d=\"M 37.3,108.9 L 39.7,109.7 L 42.8,123.1 L 39.1,126.6 L 35.4,110.6 Z\" style=\"fill:#818FFB;fill-rule:evenodd;fill-opacity:1;stroke:#818FFB;stroke-width:0.0px;stroke-linecap:butt;stroke-linejoin:miter;stroke-opacity:1;\"/>\n",
       "<path class=\"bond-6 atom-5 atom-6\" d=\"M 23.4,102.4 L 36.7,106.5 L 37.3,108.9 L 35.4,110.6 L 19.7,105.9 Z\" style=\"fill:#818FFB;fill-rule:evenodd;fill-opacity:1;stroke:#818FFB;stroke-width:0.0px;stroke-linecap:butt;stroke-linejoin:miter;stroke-opacity:1;\"/>\n",
       "<path class=\"bond-7 atom-5 atom-27\" d=\"M 46.8,97.0 L 49.2,97.7 L 49.8,100.2 L 39.7,109.7 L 37.3,108.9 L 36.7,106.5 Z\" style=\"fill:#818FFB;fill-rule:evenodd;fill-opacity:1;stroke:#818FFB;stroke-width:0.0px;stroke-linecap:butt;stroke-linejoin:miter;stroke-opacity:1;\"/>\n",
       "<path class=\"bond-8 atom-6 atom-7\" d=\"M 15.5,87.5 L 20.3,89.0 L 23.4,102.4 L 19.7,105.9 Z\" style=\"fill:#818FFB;fill-rule:evenodd;fill-opacity:1;stroke:#818FFB;stroke-width:0.0px;stroke-linecap:butt;stroke-linejoin:miter;stroke-opacity:1;\"/>\n",
       "<path class=\"bond-9 atom-7 atom-8\" d=\"M 29.2,74.6 L 30.4,79.5 L 20.3,89.0 L 15.5,87.5 Z\" style=\"fill:#818FFB;fill-rule:evenodd;fill-opacity:1;stroke:#818FFB;stroke-width:0.0px;stroke-linecap:butt;stroke-linejoin:miter;stroke-opacity:1;\"/>\n",
       "<path class=\"bond-11 atom-8 atom-10\" d=\"M 29.2,74.6 L 44.9,79.3 L 45.5,81.8 L 43.6,83.5 L 30.4,79.5 Z\" style=\"fill:#818FFB;fill-rule:evenodd;fill-opacity:1;stroke:#818FFB;stroke-width:0.0px;stroke-linecap:butt;stroke-linejoin:miter;stroke-opacity:1;\"/>\n",
       "<path class=\"bond-12 atom-10 atom-11\" d=\"M 56.9,68.1 L 58.0,73.0 L 47.9,82.5 L 45.5,81.8 L 44.9,79.3 Z\" style=\"fill:#A7F0FC;fill-rule:evenodd;fill-opacity:1;stroke:#A7F0FC;stroke-width:0.0px;stroke-linecap:butt;stroke-linejoin:miter;stroke-opacity:1;\"/>\n",
       "<path class=\"bond-13 atom-10 atom-27\" d=\"M 45.5,81.8 L 47.9,82.5 L 51.0,96.0 L 49.2,97.7 L 46.8,97.0 L 43.6,83.5 Z\" style=\"fill:#818FFB;fill-rule:evenodd;fill-opacity:1;stroke:#818FFB;stroke-width:0.0px;stroke-linecap:butt;stroke-linejoin:miter;stroke-opacity:1;\"/>\n",
       "<path class=\"bond-14 atom-11 atom-12\" d=\"M 56.9,68.1 L 72.5,72.9 L 73.1,75.3 L 71.3,77.1 L 58.0,73.0 Z\" style=\"fill:#A7F0FC;fill-rule:evenodd;fill-opacity:1;stroke:#A7F0FC;stroke-width:0.0px;stroke-linecap:butt;stroke-linejoin:miter;stroke-opacity:1;\"/>\n",
       "<path class=\"bond-15 atom-12 atom-13\" d=\"M 73.1,75.3 L 75.5,76.1 L 78.7,89.6 L 75.0,93.0 L 71.3,77.1 Z\" style=\"fill:#8E8297;fill-rule:evenodd;fill-opacity:1;stroke:#8E8297;stroke-width:0.0px;stroke-linecap:butt;stroke-linejoin:miter;stroke-opacity:1;\"/>\n",
       "<path class=\"bond-16 atom-12 atom-26\" d=\"M 84.5,61.7 L 85.6,66.6 L 75.5,76.1 L 73.1,75.3 L 72.5,72.9 Z\" style=\"fill:#8E8297;fill-rule:evenodd;fill-opacity:1;stroke:#8E8297;stroke-width:0.0px;stroke-linecap:butt;stroke-linejoin:miter;stroke-opacity:1;\"/>\n",
       "<path class=\"bond-17 atom-13 atom-14\" d=\"M 78.7,89.6 L 91.9,93.6 L 93.1,98.5 L 75.0,93.0 Z\" style=\"fill:#8E8297;fill-rule:evenodd;fill-opacity:1;stroke:#8E8297;stroke-width:0.0px;stroke-linecap:butt;stroke-linejoin:miter;stroke-opacity:1;\"/>\n",
       "<path class=\"bond-18 atom-14 atom-15\" d=\"M 102.0,84.1 L 104.4,84.8 L 105.0,87.3 L 93.1,98.5 L 91.9,93.6 Z\" style=\"fill:#8E8297;fill-rule:evenodd;fill-opacity:1;stroke:#8E8297;stroke-width:0.0px;stroke-linecap:butt;stroke-linejoin:miter;stroke-opacity:1;\"/>\n",
       "<path class=\"bond-19 atom-15 atom-16\" d=\"M 106.3,83.1 L 118.6,86.9 L 120.1,89.6 L 117.4,91.1 L 105.0,87.3 L 104.4,84.8 Z\" style=\"fill:#C9C885;fill-rule:evenodd;fill-opacity:1;stroke:#C9C885;stroke-width:0.0px;stroke-linecap:butt;stroke-linejoin:miter;stroke-opacity:1;\"/>\n",
       "<path class=\"bond-20 atom-15 atom-25\" d=\"M 102.6,67.2 L 106.3,83.1 L 104.4,84.8 L 102.0,84.1 L 98.9,70.6 Z\" style=\"fill:#8E8297;fill-rule:evenodd;fill-opacity:1;stroke:#8E8297;stroke-width:0.0px;stroke-linecap:butt;stroke-linejoin:miter;stroke-opacity:1;\"/>\n",
       "<path class=\"bond-21 atom-16 atom-17\" d=\"M 122.8,73.3 L 126.9,74.6 L 122.8,88.1 L 120.1,89.6 L 118.6,86.9 Z\" style=\"fill:#C9C885;fill-rule:evenodd;fill-opacity:1;stroke:#C9C885;stroke-width:0.0px;stroke-linecap:butt;stroke-linejoin:miter;stroke-opacity:1;\"/>\n",
       "<path class=\"bond-22 atom-16 atom-18\" d=\"M 120.1,89.6 L 121.6,92.3 L 117.4,105.9 L 113.3,104.6 L 117.4,91.1 Z\" style=\"fill:#C9C885;fill-rule:evenodd;fill-opacity:1;stroke:#C9C885;stroke-width:0.0px;stroke-linecap:butt;stroke-linejoin:miter;stroke-opacity:1;\"/>\n",
       "<path class=\"bond-23 atom-16 atom-19\" d=\"M 122.8,88.1 L 135.3,91.9 L 135.8,94.4 L 134.1,96.1 L 121.6,92.3 L 120.1,89.6 Z\" style=\"fill:#C9C885;fill-rule:evenodd;fill-opacity:1;stroke:#C9C885;stroke-width:0.0px;stroke-linecap:butt;stroke-linejoin:miter;stroke-opacity:1;\"/>\n",
       "<path class=\"bond-24 atom-19 atom-20\" d=\"M 148.8,81.8 L 148.9,87.2 L 138.3,95.1 L 135.8,94.4 L 135.3,91.9 Z\" style=\"fill:#A0918F;fill-rule:evenodd;fill-opacity:1;stroke:#A0918F;stroke-width:0.0px;stroke-linecap:butt;stroke-linejoin:miter;stroke-opacity:1;\"/>\n",
       "<path class=\"bond-25 atom-19 atom-24\" d=\"M 135.8,94.4 L 138.3,95.1 L 142.7,107.6 L 139.6,112.0 L 134.1,96.1 Z\" style=\"fill:#A0918F;fill-rule:evenodd;fill-opacity:1;stroke:#A0918F;stroke-width:0.0px;stroke-linecap:butt;stroke-linejoin:miter;stroke-opacity:1;\"/>\n",
       "<path class=\"bond-26 atom-20 atom-21\" d=\"M 148.8,81.8 L 164.8,93.0 L 159.7,94.7 L 148.9,87.2 Z\" style=\"fill:#A0918F;fill-rule:evenodd;fill-opacity:1;stroke:#A0918F;stroke-width:0.0px;stroke-linecap:butt;stroke-linejoin:miter;stroke-opacity:1;\"/>\n",
       "<path class=\"bond-28 atom-21 atom-23\" d=\"M 164.8,93.0 L 159.1,111.7 L 155.9,107.3 L 159.7,94.7 Z\" style=\"fill:#A0918F;fill-rule:evenodd;fill-opacity:1;stroke:#A0918F;stroke-width:0.0px;stroke-linecap:butt;stroke-linejoin:miter;stroke-opacity:1;\"/>\n",
       "<path class=\"bond-29 atom-23 atom-24\" d=\"M 155.9,107.3 L 159.1,111.7 L 139.6,112.0 L 142.7,107.6 Z\" style=\"fill:#A0918F;fill-rule:evenodd;fill-opacity:1;stroke:#A0918F;stroke-width:0.0px;stroke-linecap:butt;stroke-linejoin:miter;stroke-opacity:1;\"/>\n",
       "<path class=\"bond-30 atom-25 atom-26\" d=\"M 84.5,61.7 L 102.6,67.2 L 98.9,70.6 L 85.6,66.6 Z\" style=\"fill:#8E8297;fill-rule:evenodd;fill-opacity:1;stroke:#8E8297;stroke-width:0.0px;stroke-linecap:butt;stroke-linejoin:miter;stroke-opacity:1;\"/>\n",
       "<path class=\"bond-31 atom-27 atom-28\" d=\"M 51.0,96.0 L 66.7,100.8 L 63.0,104.2 L 49.8,100.2 L 49.2,97.7 Z\" style=\"fill:#818FFB;fill-rule:evenodd;fill-opacity:1;stroke:#818FFB;stroke-width:0.0px;stroke-linecap:butt;stroke-linejoin:miter;stroke-opacity:1;\"/>\n",
       "<ellipse cx=\"88.0\" cy=\"139.1\" rx=\"3.3\" ry=\"3.3\" class=\"atom-0\" style=\"fill:#A7F0FC;fill-rule:evenodd;stroke:#A7F0FC;stroke-width:1.0px;stroke-linecap:butt;stroke-linejoin:miter;stroke-opacity:1\"/>\n",
       "<ellipse cx=\"86.6\" cy=\"123.6\" rx=\"6.4\" ry=\"3.9\" class=\"atom-1\" style=\"fill:#A7F0FC;fill-rule:evenodd;stroke:#A7F0FC;stroke-width:1.0px;stroke-linecap:butt;stroke-linejoin:miter;stroke-opacity:1\"/>\n",
       "<ellipse cx=\"68.6\" cy=\"118.8\" rx=\"6.1\" ry=\"3.9\" class=\"atom-2\" style=\"fill:#96C5FB;fill-rule:evenodd;stroke:#96C5FB;stroke-width:1.0px;stroke-linecap:butt;stroke-linejoin:miter;stroke-opacity:1\"/>\n",
       "<ellipse cx=\"56.6\" cy=\"130.0\" rx=\"6.1\" ry=\"3.9\" class=\"atom-3\" style=\"fill:#818FFB;fill-rule:evenodd;stroke:#818FFB;stroke-width:1.0px;stroke-linecap:butt;stroke-linejoin:miter;stroke-opacity:1\"/>\n",
       "<ellipse cx=\"38.2\" cy=\"125.2\" rx=\"6.4\" ry=\"3.8\" class=\"atom-4\" style=\"fill:#818FFB;fill-rule:evenodd;stroke:#818FFB;stroke-width:1.0px;stroke-linecap:butt;stroke-linejoin:miter;stroke-opacity:1\"/>\n",
       "<ellipse cx=\"37.3\" cy=\"109.3\" rx=\"6.1\" ry=\"3.9\" class=\"atom-5\" style=\"fill:#818FFB;fill-rule:evenodd;stroke:#818FFB;stroke-width:1.0px;stroke-linecap:butt;stroke-linejoin:miter;stroke-opacity:1\"/>\n",
       "<ellipse cx=\"18.8\" cy=\"104.6\" rx=\"6.1\" ry=\"3.9\" class=\"atom-6\" style=\"fill:#818FFB;fill-rule:evenodd;stroke:#818FFB;stroke-width:1.0px;stroke-linecap:butt;stroke-linejoin:miter;stroke-opacity:1\"/>\n",
       "<ellipse cx=\"15.1\" cy=\"88.6\" rx=\"6.0\" ry=\"3.8\" class=\"atom-7\" style=\"fill:#818FFB;fill-rule:evenodd;stroke:#818FFB;stroke-width:1.0px;stroke-linecap:butt;stroke-linejoin:miter;stroke-opacity:1\"/>\n",
       "<ellipse cx=\"29.8\" cy=\"77.4\" rx=\"6.2\" ry=\"3.9\" class=\"atom-8\" style=\"fill:#818FFB;fill-rule:evenodd;stroke:#818FFB;stroke-width:1.0px;stroke-linecap:butt;stroke-linejoin:miter;stroke-opacity:1\"/>\n",
       "<ellipse cx=\"30.9\" cy=\"61.5\" rx=\"9.8\" ry=\"3.9\" class=\"atom-9\" style=\"fill:#AAB48C;fill-rule:evenodd;stroke:#AAB48C;stroke-width:1.0px;stroke-linecap:butt;stroke-linejoin:miter;stroke-opacity:1\"/>\n",
       "<ellipse cx=\"45.5\" cy=\"82.2\" rx=\"8.6\" ry=\"3.9\" class=\"atom-10\" style=\"fill:#96C5FB;fill-rule:evenodd;stroke:#96C5FB;stroke-width:1.0px;stroke-linecap:butt;stroke-linejoin:miter;stroke-opacity:1\"/>\n",
       "<ellipse cx=\"57.4\" cy=\"71.0\" rx=\"8.2\" ry=\"3.9\" class=\"atom-11\" style=\"fill:#A7F0FC;fill-rule:evenodd;stroke:#A7F0FC;stroke-width:1.0px;stroke-linecap:butt;stroke-linejoin:miter;stroke-opacity:1\"/>\n",
       "<ellipse cx=\"73.1\" cy=\"75.7\" rx=\"8.6\" ry=\"3.8\" class=\"atom-12\" style=\"fill:#9BC1CF;fill-rule:evenodd;stroke:#9BC1CF;stroke-width:1.0px;stroke-linecap:butt;stroke-linejoin:miter;stroke-opacity:1\"/>\n",
       "<ellipse cx=\"72.4\" cy=\"91.7\" rx=\"8.4\" ry=\"3.9\" class=\"atom-13\" style=\"fill:#8E8297;fill-rule:evenodd;stroke:#8E8297;stroke-width:1.0px;stroke-linecap:butt;stroke-linejoin:miter;stroke-opacity:1\"/>\n",
       "<ellipse cx=\"92.5\" cy=\"96.4\" rx=\"8.8\" ry=\"3.9\" class=\"atom-14\" style=\"fill:#8E8297;fill-rule:evenodd;stroke:#8E8297;stroke-width:1.0px;stroke-linecap:butt;stroke-linejoin:miter;stroke-opacity:1\"/>\n",
       "<ellipse cx=\"104.4\" cy=\"85.2\" rx=\"8.6\" ry=\"3.8\" class=\"atom-15\" style=\"fill:#AEA98E;fill-rule:evenodd;stroke:#AEA98E;stroke-width:1.0px;stroke-linecap:butt;stroke-linejoin:miter;stroke-opacity:1\"/>\n",
       "<ellipse cx=\"120.1\" cy=\"90.0\" rx=\"8.1\" ry=\"3.9\" class=\"atom-16\" style=\"fill:#C9C885;fill-rule:evenodd;stroke:#C9C885;stroke-width:1.0px;stroke-linecap:butt;stroke-linejoin:miter;stroke-opacity:1\"/>\n",
       "<ellipse cx=\"129.1\" cy=\"74.3\" rx=\"9.0\" ry=\"3.9\" class=\"atom-17\" style=\"fill:#C9C885;fill-rule:evenodd;stroke:#C9C885;stroke-width:1.0px;stroke-linecap:butt;stroke-linejoin:miter;stroke-opacity:1\"/>\n",
       "<ellipse cx=\"119.7\" cy=\"105.7\" rx=\"9.1\" ry=\"3.9\" class=\"atom-18\" style=\"fill:#C9C885;fill-rule:evenodd;stroke:#C9C885;stroke-width:1.0px;stroke-linecap:butt;stroke-linejoin:miter;stroke-opacity:1\"/>\n",
       "<ellipse cx=\"131.4\" cy=\"94.7\" rx=\"8.5\" ry=\"3.9\" class=\"atom-19\" style=\"fill:#B5AE8A;fill-rule:evenodd;stroke:#B5AE8A;stroke-width:1.0px;stroke-linecap:butt;stroke-linejoin:miter;stroke-opacity:1\"/>\n",
       "<ellipse cx=\"148.8\" cy=\"84.9\" rx=\"9.0\" ry=\"3.9\" class=\"atom-20\" style=\"fill:#A0918F;fill-rule:evenodd;stroke:#A0918F;stroke-width:1.0px;stroke-linecap:butt;stroke-linejoin:miter;stroke-opacity:1\"/>\n",
       "<ellipse cx=\"166.6\" cy=\"94.2\" rx=\"8.7\" ry=\"3.8\" class=\"atom-21\" style=\"fill:#A0918F;fill-rule:evenodd;stroke:#A0918F;stroke-width:1.0px;stroke-linecap:butt;stroke-linejoin:miter;stroke-opacity:1\"/>\n",
       "<ellipse cx=\"182.1\" cy=\"88.9\" rx=\"8.8\" ry=\"3.9\" class=\"atom-22\" style=\"fill:#AAB48C;fill-rule:evenodd;stroke:#AAB48C;stroke-width:1.0px;stroke-linecap:butt;stroke-linejoin:miter;stroke-opacity:1\"/>\n",
       "<ellipse cx=\"161.9\" cy=\"109.9\" rx=\"8.8\" ry=\"3.9\" class=\"atom-23\" style=\"fill:#A0918F;fill-rule:evenodd;stroke:#A0918F;stroke-width:1.0px;stroke-linecap:butt;stroke-linejoin:miter;stroke-opacity:1\"/>\n",
       "<ellipse cx=\"136.5\" cy=\"110.2\" rx=\"9.1\" ry=\"3.9\" class=\"atom-24\" style=\"fill:#A0918F;fill-rule:evenodd;stroke:#A0918F;stroke-width:1.0px;stroke-linecap:butt;stroke-linejoin:miter;stroke-opacity:1\"/>\n",
       "<ellipse cx=\"105.1\" cy=\"69.3\" rx=\"8.8\" ry=\"3.9\" class=\"atom-25\" style=\"fill:#8E8297;fill-rule:evenodd;stroke:#8E8297;stroke-width:1.0px;stroke-linecap:butt;stroke-linejoin:miter;stroke-opacity:1\"/>\n",
       "<ellipse cx=\"85.0\" cy=\"64.5\" rx=\"8.8\" ry=\"3.9\" class=\"atom-26\" style=\"fill:#8E8297;fill-rule:evenodd;stroke:#8E8297;stroke-width:1.0px;stroke-linecap:butt;stroke-linejoin:miter;stroke-opacity:1\"/>\n",
       "<ellipse cx=\"49.2\" cy=\"98.1\" rx=\"8.7\" ry=\"3.9\" class=\"atom-27\" style=\"fill:#818FFB;fill-rule:evenodd;stroke:#818FFB;stroke-width:1.0px;stroke-linecap:butt;stroke-linejoin:miter;stroke-opacity:1\"/>\n",
       "<ellipse cx=\"69.4\" cy=\"102.9\" rx=\"8.9\" ry=\"3.9\" class=\"atom-28\" style=\"fill:#818FFB;fill-rule:evenodd;stroke:#818FFB;stroke-width:1.0px;stroke-linecap:butt;stroke-linejoin:miter;stroke-opacity:1\"/>\n",
       "<path class=\"bond-0 atom-0 atom-1\" d=\"M 88.0,139.1 L 86.5,132.6\" style=\"fill:none;fill-rule:evenodd;stroke:#000000;stroke-width:1.0px;stroke-linecap:butt;stroke-linejoin:miter;stroke-opacity:1\"/>\n",
       "<path class=\"bond-0 atom-0 atom-1\" d=\"M 86.5,132.6 L 84.9,126.1\" style=\"fill:none;fill-rule:evenodd;stroke:#FF0000;stroke-width:1.0px;stroke-linecap:butt;stroke-linejoin:miter;stroke-opacity:1\"/>\n",
       "<path class=\"bond-1 atom-1 atom-2\" d=\"M 81.6,122.4 L 77.5,121.1\" style=\"fill:none;fill-rule:evenodd;stroke:#FF0000;stroke-width:1.0px;stroke-linecap:butt;stroke-linejoin:miter;stroke-opacity:1\"/>\n",
       "<path class=\"bond-1 atom-1 atom-2\" d=\"M 77.5,121.1 L 73.4,119.9\" style=\"fill:none;fill-rule:evenodd;stroke:#000000;stroke-width:1.0px;stroke-linecap:butt;stroke-linejoin:miter;stroke-opacity:1\"/>\n",
       "<path class=\"bond-2 atom-2 atom-3\" d=\"M 65.4,121.4 L 59.7,126.7\" style=\"fill:none;fill-rule:evenodd;stroke:#000000;stroke-width:1.0px;stroke-linecap:butt;stroke-linejoin:miter;stroke-opacity:1\"/>\n",
       "<path class=\"bond-3 atom-2 atom-28\" d=\"M 67.9,115.5 L 65.6,105.4\" style=\"fill:none;fill-rule:evenodd;stroke:#000000;stroke-width:1.0px;stroke-linecap:butt;stroke-linejoin:miter;stroke-opacity:1\"/>\n",
       "<path class=\"bond-3 atom-2 atom-28\" d=\"M 65.5,116.1 L 63.2,106.0\" style=\"fill:none;fill-rule:evenodd;stroke:#000000;stroke-width:1.0px;stroke-linecap:butt;stroke-linejoin:miter;stroke-opacity:1\"/>\n",
       "<path class=\"bond-4 atom-3 atom-4\" d=\"M 51.8,128.1 L 43.3,125.6\" style=\"fill:none;fill-rule:evenodd;stroke:#000000;stroke-width:1.0px;stroke-linecap:butt;stroke-linejoin:miter;stroke-opacity:1\"/>\n",
       "<path class=\"bond-4 atom-3 atom-4\" d=\"M 52.5,125.8 L 44.0,123.2\" style=\"fill:none;fill-rule:evenodd;stroke:#000000;stroke-width:1.0px;stroke-linecap:butt;stroke-linejoin:miter;stroke-opacity:1\"/>\n",
       "<path class=\"bond-5 atom-4 atom-5\" d=\"M 40.3,122.0 L 38.1,112.6\" style=\"fill:none;fill-rule:evenodd;stroke:#000000;stroke-width:1.0px;stroke-linecap:butt;stroke-linejoin:miter;stroke-opacity:1\"/>\n",
       "<path class=\"bond-6 atom-5 atom-6\" d=\"M 32.4,107.4 L 23.7,104.8\" style=\"fill:none;fill-rule:evenodd;stroke:#000000;stroke-width:1.0px;stroke-linecap:butt;stroke-linejoin:miter;stroke-opacity:1\"/>\n",
       "<path class=\"bond-7 atom-5 atom-27\" d=\"M 40.3,106.1 L 46.1,100.7\" style=\"fill:none;fill-rule:evenodd;stroke:#000000;stroke-width:1.0px;stroke-linecap:butt;stroke-linejoin:miter;stroke-opacity:1\"/>\n",
       "<path class=\"bond-7 atom-5 atom-27\" d=\"M 38.6,104.3 L 44.4,98.9\" style=\"fill:none;fill-rule:evenodd;stroke:#000000;stroke-width:1.0px;stroke-linecap:butt;stroke-linejoin:miter;stroke-opacity:1\"/>\n",
       "<path class=\"bond-8 atom-6 atom-7\" d=\"M 20.9,101.3 L 18.5,91.1\" style=\"fill:none;fill-rule:evenodd;stroke:#000000;stroke-width:1.0px;stroke-linecap:butt;stroke-linejoin:miter;stroke-opacity:1\"/>\n",
       "<path class=\"bond-8 atom-6 atom-7\" d=\"M 23.3,100.7 L 20.9,90.6\" style=\"fill:none;fill-rule:evenodd;stroke:#000000;stroke-width:1.0px;stroke-linecap:butt;stroke-linejoin:miter;stroke-opacity:1\"/>\n",
       "<path class=\"bond-9 atom-7 atom-8\" d=\"M 19.9,86.3 L 26.7,80.0\" style=\"fill:none;fill-rule:evenodd;stroke:#000000;stroke-width:1.0px;stroke-linecap:butt;stroke-linejoin:miter;stroke-opacity:1\"/>\n",
       "<path class=\"bond-10 atom-8 atom-9\" d=\"M 29.1,74.1 L 28.0,69.1\" style=\"fill:none;fill-rule:evenodd;stroke:#000000;stroke-width:1.0px;stroke-linecap:butt;stroke-linejoin:miter;stroke-opacity:1\"/>\n",
       "<path class=\"bond-10 atom-8 atom-9\" d=\"M 28.0,69.1 L 26.8,64.0\" style=\"fill:none;fill-rule:evenodd;stroke:#FF0000;stroke-width:1.0px;stroke-linecap:butt;stroke-linejoin:miter;stroke-opacity:1\"/>\n",
       "<path class=\"bond-11 atom-8 atom-10\" d=\"M 34.7,78.5 L 38.8,79.8\" style=\"fill:none;fill-rule:evenodd;stroke:#000000;stroke-width:1.0px;stroke-linecap:butt;stroke-linejoin:miter;stroke-opacity:1\"/>\n",
       "<path class=\"bond-11 atom-8 atom-10\" d=\"M 34.0,80.9 L 38.1,82.1\" style=\"fill:none;fill-rule:evenodd;stroke:#000000;stroke-width:1.0px;stroke-linecap:butt;stroke-linejoin:miter;stroke-opacity:1\"/>\n",
       "<path class=\"bond-12 atom-10 atom-11\" d=\"M 48.6,78.9 L 54.3,73.5\" style=\"fill:none;fill-rule:evenodd;stroke:#000000;stroke-width:1.0px;stroke-linecap:butt;stroke-linejoin:miter;stroke-opacity:1\"/>\n",
       "<path class=\"bond-13 atom-10 atom-27\" d=\"M 46.2,84.7 L 48.5,94.8\" style=\"fill:none;fill-rule:evenodd;stroke:#000000;stroke-width:1.0px;stroke-linecap:butt;stroke-linejoin:miter;stroke-opacity:1\"/>\n",
       "<path class=\"bond-14 atom-11 atom-12\" d=\"M 63.8,72.5 L 65.1,72.9\" style=\"fill:none;fill-rule:evenodd;stroke:#000000;stroke-width:1.0px;stroke-linecap:butt;stroke-linejoin:miter;stroke-opacity:1\"/>\n",
       "<path class=\"bond-14 atom-11 atom-12\" d=\"M 65.1,72.9 L 66.5,73.3\" style=\"fill:none;fill-rule:evenodd;stroke:#0000FF;stroke-width:1.0px;stroke-linecap:butt;stroke-linejoin:miter;stroke-opacity:1\"/>\n",
       "<path class=\"bond-15 atom-12 atom-13\" d=\"M 73.8,78.2 L 75.0,83.3\" style=\"fill:none;fill-rule:evenodd;stroke:#0000FF;stroke-width:1.0px;stroke-linecap:butt;stroke-linejoin:miter;stroke-opacity:1\"/>\n",
       "<path class=\"bond-15 atom-12 atom-13\" d=\"M 75.0,83.3 L 76.1,88.4\" style=\"fill:none;fill-rule:evenodd;stroke:#000000;stroke-width:1.0px;stroke-linecap:butt;stroke-linejoin:miter;stroke-opacity:1\"/>\n",
       "<path class=\"bond-16 atom-12 atom-26\" d=\"M 76.2,72.5 L 79.0,69.8\" style=\"fill:none;fill-rule:evenodd;stroke:#0000FF;stroke-width:1.0px;stroke-linecap:butt;stroke-linejoin:miter;stroke-opacity:1\"/>\n",
       "<path class=\"bond-16 atom-12 atom-26\" d=\"M 79.0,69.8 L 81.9,67.1\" style=\"fill:none;fill-rule:evenodd;stroke:#000000;stroke-width:1.0px;stroke-linecap:butt;stroke-linejoin:miter;stroke-opacity:1\"/>\n",
       "<path class=\"bond-17 atom-13 atom-14\" d=\"M 78.9,91.9 L 85.7,94.0\" style=\"fill:none;fill-rule:evenodd;stroke:#000000;stroke-width:1.0px;stroke-linecap:butt;stroke-linejoin:miter;stroke-opacity:1\"/>\n",
       "<path class=\"bond-18 atom-14 atom-15\" d=\"M 95.5,93.2 L 98.4,90.5\" style=\"fill:none;fill-rule:evenodd;stroke:#000000;stroke-width:1.0px;stroke-linecap:butt;stroke-linejoin:miter;stroke-opacity:1\"/>\n",
       "<path class=\"bond-18 atom-14 atom-15\" d=\"M 98.4,90.5 L 101.4,87.7\" style=\"fill:none;fill-rule:evenodd;stroke:#0000FF;stroke-width:1.0px;stroke-linecap:butt;stroke-linejoin:miter;stroke-opacity:1\"/>\n",
       "<path class=\"bond-19 atom-15 atom-16\" d=\"M 111.1,86.9 L 112.5,87.3\" style=\"fill:none;fill-rule:evenodd;stroke:#0000FF;stroke-width:1.0px;stroke-linecap:butt;stroke-linejoin:miter;stroke-opacity:1\"/>\n",
       "<path class=\"bond-19 atom-15 atom-16\" d=\"M 112.5,87.3 L 113.8,87.7\" style=\"fill:none;fill-rule:evenodd;stroke:#CCCC00;stroke-width:1.0px;stroke-linecap:butt;stroke-linejoin:miter;stroke-opacity:1\"/>\n",
       "<path class=\"bond-20 atom-15 atom-25\" d=\"M 103.8,82.0 L 102.6,76.9\" style=\"fill:none;fill-rule:evenodd;stroke:#0000FF;stroke-width:1.0px;stroke-linecap:butt;stroke-linejoin:miter;stroke-opacity:1\"/>\n",
       "<path class=\"bond-20 atom-15 atom-25\" d=\"M 102.6,76.9 L 101.4,71.8\" style=\"fill:none;fill-rule:evenodd;stroke:#000000;stroke-width:1.0px;stroke-linecap:butt;stroke-linejoin:miter;stroke-opacity:1\"/>\n",
       "<path class=\"bond-21 atom-16 atom-17\" d=\"M 122.1,87.1 L 123.6,82.2\" style=\"fill:none;fill-rule:evenodd;stroke:#CCCC00;stroke-width:1.0px;stroke-linecap:butt;stroke-linejoin:miter;stroke-opacity:1\"/>\n",
       "<path class=\"bond-21 atom-16 atom-17\" d=\"M 123.6,82.2 L 125.1,77.2\" style=\"fill:none;fill-rule:evenodd;stroke:#FF0000;stroke-width:1.0px;stroke-linecap:butt;stroke-linejoin:miter;stroke-opacity:1\"/>\n",
       "<path class=\"bond-21 atom-16 atom-17\" d=\"M 119.8,86.4 L 121.3,81.5\" style=\"fill:none;fill-rule:evenodd;stroke:#CCCC00;stroke-width:1.0px;stroke-linecap:butt;stroke-linejoin:miter;stroke-opacity:1\"/>\n",
       "<path class=\"bond-21 atom-16 atom-17\" d=\"M 121.3,81.5 L 122.8,76.5\" style=\"fill:none;fill-rule:evenodd;stroke:#FF0000;stroke-width:1.0px;stroke-linecap:butt;stroke-linejoin:miter;stroke-opacity:1\"/>\n",
       "<path class=\"bond-22 atom-16 atom-18\" d=\"M 117.8,92.9 L 116.4,97.5\" style=\"fill:none;fill-rule:evenodd;stroke:#CCCC00;stroke-width:1.0px;stroke-linecap:butt;stroke-linejoin:miter;stroke-opacity:1\"/>\n",
       "<path class=\"bond-22 atom-16 atom-18\" d=\"M 116.4,97.5 L 115.0,102.0\" style=\"fill:none;fill-rule:evenodd;stroke:#FF0000;stroke-width:1.0px;stroke-linecap:butt;stroke-linejoin:miter;stroke-opacity:1\"/>\n",
       "<path class=\"bond-22 atom-16 atom-18\" d=\"M 120.2,93.6 L 118.8,98.2\" style=\"fill:none;fill-rule:evenodd;stroke:#CCCC00;stroke-width:1.0px;stroke-linecap:butt;stroke-linejoin:miter;stroke-opacity:1\"/>\n",
       "<path class=\"bond-22 atom-16 atom-18\" d=\"M 118.8,98.2 L 117.4,102.7\" style=\"fill:none;fill-rule:evenodd;stroke:#FF0000;stroke-width:1.0px;stroke-linecap:butt;stroke-linejoin:miter;stroke-opacity:1\"/>\n",
       "<path class=\"bond-23 atom-16 atom-19\" d=\"M 126.4,91.5 L 127.6,91.9\" style=\"fill:none;fill-rule:evenodd;stroke:#CCCC00;stroke-width:1.0px;stroke-linecap:butt;stroke-linejoin:miter;stroke-opacity:1\"/>\n",
       "<path class=\"bond-23 atom-16 atom-19\" d=\"M 127.6,91.9 L 128.9,92.3\" style=\"fill:none;fill-rule:evenodd;stroke:#000000;stroke-width:1.0px;stroke-linecap:butt;stroke-linejoin:miter;stroke-opacity:1\"/>\n",
       "<path class=\"bond-24 atom-19 atom-20\" d=\"M 137.9,92.7 L 144.9,87.4\" style=\"fill:none;fill-rule:evenodd;stroke:#000000;stroke-width:1.0px;stroke-linecap:butt;stroke-linejoin:miter;stroke-opacity:1\"/>\n",
       "<path class=\"bond-24 atom-19 atom-20\" d=\"M 139.4,94.7 L 146.4,89.4\" style=\"fill:none;fill-rule:evenodd;stroke:#000000;stroke-width:1.0px;stroke-linecap:butt;stroke-linejoin:miter;stroke-opacity:1\"/>\n",
       "<path class=\"bond-25 atom-19 atom-24\" d=\"M 136.8,97.3 L 140.1,107.0\" style=\"fill:none;fill-rule:evenodd;stroke:#000000;stroke-width:1.0px;stroke-linecap:butt;stroke-linejoin:miter;stroke-opacity:1\"/>\n",
       "<path class=\"bond-26 atom-20 atom-21\" d=\"M 153.0,87.4 L 156.5,89.8\" style=\"fill:none;fill-rule:evenodd;stroke:#000000;stroke-width:1.0px;stroke-linecap:butt;stroke-linejoin:miter;stroke-opacity:1\"/>\n",
       "<path class=\"bond-26 atom-20 atom-21\" d=\"M 156.5,89.8 L 160.0,92.2\" style=\"fill:none;fill-rule:evenodd;stroke:#0000FF;stroke-width:1.0px;stroke-linecap:butt;stroke-linejoin:miter;stroke-opacity:1\"/>\n",
       "<path class=\"bond-27 atom-21 atom-22\" d=\"M 170.5,91.0 L 172.9,90.1\" style=\"fill:none;fill-rule:evenodd;stroke:#0000FF;stroke-width:1.0px;stroke-linecap:butt;stroke-linejoin:miter;stroke-opacity:1\"/>\n",
       "<path class=\"bond-27 atom-21 atom-22\" d=\"M 172.9,90.1 L 175.4,89.3\" style=\"fill:none;fill-rule:evenodd;stroke:#000000;stroke-width:1.0px;stroke-linecap:butt;stroke-linejoin:miter;stroke-opacity:1\"/>\n",
       "<path class=\"bond-28 atom-21 atom-23\" d=\"M 161.4,96.7 L 159.9,101.7\" style=\"fill:none;fill-rule:evenodd;stroke:#0000FF;stroke-width:1.0px;stroke-linecap:butt;stroke-linejoin:miter;stroke-opacity:1\"/>\n",
       "<path class=\"bond-28 atom-21 atom-23\" d=\"M 159.9,101.7 L 158.4,106.6\" style=\"fill:none;fill-rule:evenodd;stroke:#000000;stroke-width:1.0px;stroke-linecap:butt;stroke-linejoin:miter;stroke-opacity:1\"/>\n",
       "<path class=\"bond-29 atom-23 atom-24\" d=\"M 155.2,109.5 L 143.5,109.8\" style=\"fill:none;fill-rule:evenodd;stroke:#000000;stroke-width:1.0px;stroke-linecap:butt;stroke-linejoin:miter;stroke-opacity:1\"/>\n",
       "<path class=\"bond-29 atom-23 atom-24\" d=\"M 155.1,107.1 L 143.4,107.3\" style=\"fill:none;fill-rule:evenodd;stroke:#000000;stroke-width:1.0px;stroke-linecap:butt;stroke-linejoin:miter;stroke-opacity:1\"/>\n",
       "<path class=\"bond-30 atom-25 atom-26\" d=\"M 98.4,68.2 L 91.8,66.2\" style=\"fill:none;fill-rule:evenodd;stroke:#000000;stroke-width:1.0px;stroke-linecap:butt;stroke-linejoin:miter;stroke-opacity:1\"/>\n",
       "<path class=\"bond-31 atom-27 atom-28\" d=\"M 55.9,99.8 L 62.5,101.8\" style=\"fill:none;fill-rule:evenodd;stroke:#000000;stroke-width:1.0px;stroke-linecap:butt;stroke-linejoin:miter;stroke-opacity:1\"/>\n",
       "<path class=\"atom-1\" d=\"M 82.1 123.2 Q 82.1 122.1, 82.7 121.5 Q 83.2 120.8, 84.3 120.8 Q 85.3 120.8, 85.8 121.5 Q 86.4 122.1, 86.4 123.2 Q 86.4 124.3, 85.8 125.0 Q 85.3 125.6, 84.3 125.6 Q 83.2 125.6, 82.7 125.0 Q 82.1 124.3, 82.1 123.2 M 84.3 125.1 Q 85.0 125.1, 85.3 124.6 Q 85.7 124.1, 85.7 123.2 Q 85.7 122.3, 85.3 121.8 Q 85.0 121.4, 84.3 121.4 Q 83.5 121.4, 83.2 121.8 Q 82.8 122.3, 82.8 123.2 Q 82.8 124.1, 83.2 124.6 Q 83.5 125.1, 84.3 125.1 \" fill=\"#FF0000\"/>\n",
       "<path class=\"atom-1\" d=\"M 87.0 124.8 L 87.6 124.8 L 87.6 125.4 L 87.0 125.4 L 87.0 124.8 M 87.0 122.5 L 87.6 122.5 L 87.6 123.2 L 87.0 123.2 L 87.0 122.5 \" fill=\"#FF0000\"/>\n",
       "<path class=\"atom-1\" d=\"M 88.6 125.0 L 89.6 125.0 L 89.6 121.5 L 88.5 121.9 L 88.4 121.5 L 89.8 120.9 L 90.3 120.9 L 90.3 125.0 L 91.2 125.0 L 91.2 125.5 L 88.6 125.5 L 88.6 125.0 \" fill=\"#FF0000\"/>\n",
       "<path class=\"atom-2\" d=\"M 64.3 118.4 Q 64.3 117.3, 64.8 116.7 Q 65.4 116.1, 66.4 116.1 Q 67.4 116.1, 67.9 116.8 L 67.4 117.1 Q 67.1 116.6, 66.4 116.6 Q 65.7 116.6, 65.3 117.1 Q 65.0 117.6, 65.0 118.4 Q 65.0 119.4, 65.3 119.8 Q 65.7 120.3, 66.5 120.3 Q 67.0 120.3, 67.6 120.0 L 67.8 120.5 Q 67.5 120.6, 67.2 120.7 Q 66.8 120.8, 66.4 120.8 Q 65.4 120.8, 64.8 120.2 Q 64.3 119.6, 64.3 118.4 \" fill=\"#000000\"/>\n",
       "<path class=\"atom-2\" d=\"M 68.4 120.0 L 69.0 120.0 L 69.0 120.7 L 68.4 120.7 L 68.4 120.0 M 68.4 117.7 L 69.0 117.7 L 69.0 118.4 L 68.4 118.4 L 68.4 117.7 \" fill=\"#000000\"/>\n",
       "<path class=\"atom-2\" d=\"M 69.8 117.0 Q 69.9 116.6, 70.4 116.3 Q 70.8 116.1, 71.3 116.1 Q 72.0 116.1, 72.4 116.5 Q 72.8 116.8, 72.8 117.5 Q 72.8 118.2, 72.3 118.8 Q 71.8 119.5, 70.7 120.2 L 72.9 120.2 L 72.9 120.8 L 69.8 120.8 L 69.8 120.3 Q 70.6 119.7, 71.1 119.3 Q 71.7 118.8, 71.9 118.4 Q 72.2 118.0, 72.2 117.5 Q 72.2 117.1, 71.9 116.9 Q 71.7 116.6, 71.3 116.6 Q 70.9 116.6, 70.7 116.8 Q 70.4 116.9, 70.3 117.2 L 69.8 117.0 \" fill=\"#000000\"/>\n",
       "<path class=\"atom-3\" d=\"M 52.3 129.6 Q 52.3 128.5, 52.9 127.9 Q 53.4 127.3, 54.5 127.3 Q 55.4 127.3, 55.9 127.9 L 55.5 128.3 Q 55.1 127.8, 54.5 127.8 Q 53.8 127.8, 53.4 128.3 Q 53.0 128.7, 53.0 129.6 Q 53.0 130.6, 53.4 131.0 Q 53.8 131.5, 54.5 131.5 Q 55.0 131.5, 55.6 131.2 L 55.8 131.7 Q 55.6 131.8, 55.2 131.9 Q 54.8 132.0, 54.4 132.0 Q 53.4 132.0, 52.9 131.4 Q 52.3 130.8, 52.3 129.6 \" fill=\"#000000\"/>\n",
       "<path class=\"atom-3\" d=\"M 56.4 131.2 L 57.1 131.2 L 57.1 131.8 L 56.4 131.8 L 56.4 131.2 M 56.4 128.9 L 57.1 128.9 L 57.1 129.6 L 56.4 129.6 L 56.4 128.9 \" fill=\"#000000\"/>\n",
       "<path class=\"atom-3\" d=\"M 60.0 129.5 Q 60.5 129.6, 60.7 129.9 Q 60.9 130.2, 60.9 130.7 Q 60.9 131.1, 60.7 131.4 Q 60.5 131.7, 60.2 131.9 Q 59.8 132.0, 59.3 132.0 Q 58.9 132.0, 58.5 131.9 Q 58.1 131.7, 57.8 131.3 L 58.2 130.9 Q 58.5 131.3, 58.7 131.4 Q 59.0 131.5, 59.3 131.5 Q 59.8 131.5, 60.0 131.3 Q 60.3 131.0, 60.3 130.7 Q 60.3 130.2, 60.0 130.0 Q 59.7 129.8, 59.2 129.8 L 58.8 129.8 L 58.8 129.3 L 59.1 129.3 Q 59.6 129.3, 59.9 129.1 Q 60.2 128.9, 60.2 128.5 Q 60.2 128.2, 60.0 128.0 Q 59.7 127.8, 59.4 127.8 Q 59.0 127.8, 58.7 127.9 Q 58.5 128.1, 58.3 128.4 L 57.9 128.2 Q 58.0 127.8, 58.4 127.5 Q 58.8 127.3, 59.4 127.3 Q 60.0 127.3, 60.4 127.6 Q 60.8 127.9, 60.8 128.5 Q 60.8 128.8, 60.6 129.1 Q 60.4 129.4, 60.0 129.5 \" fill=\"#000000\"/>\n",
       "<path class=\"atom-4\" d=\"M 33.7 124.9 Q 33.7 123.7, 34.2 123.1 Q 34.8 122.5, 35.8 122.5 Q 36.7 122.5, 37.3 123.2 L 36.8 123.5 Q 36.5 123.1, 35.8 123.1 Q 35.1 123.1, 34.7 123.5 Q 34.4 124.0, 34.4 124.9 Q 34.4 125.8, 34.7 126.3 Q 35.1 126.7, 35.9 126.7 Q 36.4 126.7, 37.0 126.4 L 37.2 126.9 Q 36.9 127.1, 36.5 127.2 Q 36.2 127.3, 35.8 127.3 Q 34.8 127.3, 34.2 126.7 Q 33.7 126.0, 33.7 124.9 \" fill=\"#000000\"/>\n",
       "<path class=\"atom-4\" d=\"M 37.8 126.4 L 38.4 126.4 L 38.4 127.1 L 37.8 127.1 L 37.8 126.4 M 37.8 124.2 L 38.4 124.2 L 38.4 124.8 L 37.8 124.8 L 37.8 124.2 \" fill=\"#000000\"/>\n",
       "<path class=\"atom-4\" d=\"M 42.2 125.6 L 42.8 125.6 L 42.8 126.1 L 42.2 126.1 L 42.2 127.2 L 41.6 127.2 L 41.6 126.1 L 39.2 126.1 L 39.2 125.7 L 41.2 122.6 L 42.2 122.6 L 42.2 125.6 M 39.9 125.6 L 41.6 125.6 L 41.6 123.0 L 39.9 125.6 \" fill=\"#000000\"/>\n",
       "<path class=\"atom-5\" d=\"M 32.9 108.9 Q 32.9 107.8, 33.5 107.2 Q 34.0 106.6, 35.1 106.6 Q 36.0 106.6, 36.5 107.2 L 36.1 107.6 Q 35.7 107.1, 35.1 107.1 Q 34.4 107.1, 34.0 107.6 Q 33.6 108.0, 33.6 108.9 Q 33.6 109.9, 34.0 110.3 Q 34.4 110.8, 35.1 110.8 Q 35.6 110.8, 36.2 110.5 L 36.4 111.0 Q 36.2 111.1, 35.8 111.2 Q 35.4 111.3, 35.0 111.3 Q 34.0 111.3, 33.5 110.7 Q 32.9 110.1, 32.9 108.9 \" fill=\"#000000\"/>\n",
       "<path class=\"atom-5\" d=\"M 37.0 110.5 L 37.7 110.5 L 37.7 111.2 L 37.0 111.2 L 37.0 110.5 M 37.0 108.2 L 37.7 108.2 L 37.7 108.9 L 37.0 108.9 L 37.0 108.2 \" fill=\"#000000\"/>\n",
       "<path class=\"atom-5\" d=\"M 40.1 108.4 Q 40.5 108.4, 40.8 108.5 Q 41.2 108.7, 41.4 109.0 Q 41.6 109.4, 41.6 109.8 Q 41.6 110.3, 41.3 110.6 Q 41.1 111.0, 40.7 111.1 Q 40.3 111.3, 39.9 111.3 Q 39.5 111.3, 39.1 111.2 Q 38.7 111.0, 38.4 110.7 L 38.8 110.3 Q 39.0 110.5, 39.3 110.7 Q 39.6 110.8, 39.9 110.8 Q 40.3 110.8, 40.6 110.5 Q 40.9 110.3, 40.9 109.8 Q 40.9 109.3, 40.6 109.1 Q 40.3 108.9, 39.9 108.9 Q 39.5 108.9, 39.0 109.0 L 38.7 108.9 L 38.9 106.6 L 41.3 106.6 L 41.2 107.2 L 39.4 107.2 L 39.3 108.5 Q 39.7 108.4, 40.1 108.4 \" fill=\"#000000\"/>\n",
       "<path class=\"atom-6\" d=\"M 14.5 104.2 Q 14.5 103.0, 15.0 102.4 Q 15.6 101.8, 16.6 101.8 Q 17.6 101.8, 18.1 102.5 L 17.6 102.9 Q 17.3 102.4, 16.6 102.4 Q 15.9 102.4, 15.5 102.8 Q 15.2 103.3, 15.2 104.2 Q 15.2 105.1, 15.5 105.6 Q 15.9 106.0, 16.7 106.0 Q 17.2 106.0, 17.8 105.7 L 18.0 106.2 Q 17.7 106.4, 17.4 106.5 Q 17.0 106.6, 16.6 106.6 Q 15.6 106.6, 15.0 106.0 Q 14.5 105.3, 14.5 104.2 \" fill=\"#000000\"/>\n",
       "<path class=\"atom-6\" d=\"M 18.6 105.7 L 19.2 105.7 L 19.2 106.4 L 18.6 106.4 L 18.6 105.7 M 18.6 103.5 L 19.2 103.5 L 19.2 104.1 L 18.6 104.1 L 18.6 103.5 \" fill=\"#000000\"/>\n",
       "<path class=\"atom-6\" d=\"M 21.8 103.6 Q 22.2 103.6, 22.5 103.8 Q 22.8 104.0, 23.0 104.3 Q 23.2 104.6, 23.2 105.0 Q 23.2 105.5, 23.0 105.8 Q 22.8 106.2, 22.4 106.4 Q 22.1 106.6, 21.6 106.6 Q 20.8 106.6, 20.4 106.0 Q 20.0 105.4, 20.0 104.3 Q 20.0 103.1, 20.5 102.5 Q 21.0 101.8, 22.0 101.8 Q 22.3 101.8, 22.5 101.9 Q 22.8 102.0, 23.0 102.1 L 22.8 102.5 Q 22.4 102.3, 22.0 102.3 Q 21.3 102.3, 21.0 102.8 Q 20.7 103.2, 20.6 104.1 Q 20.9 103.8, 21.2 103.7 Q 21.5 103.6, 21.8 103.6 M 21.6 106.0 Q 21.9 106.0, 22.1 105.9 Q 22.3 105.8, 22.4 105.5 Q 22.5 105.3, 22.5 105.0 Q 22.5 104.6, 22.3 104.4 Q 22.1 104.1, 21.7 104.1 Q 21.4 104.1, 21.1 104.3 Q 20.8 104.4, 20.6 104.6 Q 20.7 105.3, 20.9 105.7 Q 21.2 106.0, 21.6 106.0 \" fill=\"#000000\"/>\n",
       "<path class=\"atom-7\" d=\"M 10.9 88.2 Q 10.9 87.1, 11.4 86.5 Q 11.9 85.9, 13.0 85.9 Q 13.9 85.9, 14.4 86.6 L 14.0 86.9 Q 13.6 86.4, 13.0 86.4 Q 12.3 86.4, 11.9 86.9 Q 11.5 87.4, 11.5 88.2 Q 11.5 89.2, 11.9 89.6 Q 12.3 90.1, 13.0 90.1 Q 13.6 90.1, 14.1 89.8 L 14.3 90.3 Q 14.1 90.4, 13.7 90.5 Q 13.4 90.6, 13.0 90.6 Q 11.9 90.6, 11.4 90.0 Q 10.9 89.4, 10.9 88.2 \" fill=\"#000000\"/>\n",
       "<path class=\"atom-7\" d=\"M 14.9 89.8 L 15.6 89.8 L 15.6 90.5 L 14.9 90.5 L 14.9 89.8 M 14.9 87.5 L 15.6 87.5 L 15.6 88.2 L 14.9 88.2 L 14.9 87.5 \" fill=\"#000000\"/>\n",
       "<path class=\"atom-7\" d=\"M 18.8 86.5 L 16.3 86.5 L 16.3 85.9 L 19.4 85.9 L 19.4 86.4 L 17.5 90.6 L 16.9 90.6 L 18.8 86.5 \" fill=\"#000000\"/>\n",
       "<path class=\"atom-8\" d=\"M 25.4 77.1 Q 25.4 75.9, 26.0 75.3 Q 26.5 74.7, 27.5 74.7 Q 28.5 74.7, 29.0 75.4 L 28.6 75.7 Q 28.2 75.2, 27.5 75.2 Q 26.8 75.2, 26.5 75.7 Q 26.1 76.2, 26.1 77.1 Q 26.1 78.0, 26.5 78.4 Q 26.9 78.9, 27.6 78.9 Q 28.1 78.9, 28.7 78.6 L 28.9 79.1 Q 28.7 79.3, 28.3 79.3 Q 27.9 79.4, 27.5 79.4 Q 26.5 79.4, 26.0 78.8 Q 25.4 78.2, 25.4 77.1 \" fill=\"#000000\"/>\n",
       "<path class=\"atom-8\" d=\"M 29.5 78.6 L 30.2 78.6 L 30.2 79.3 L 29.5 79.3 L 29.5 78.6 M 29.5 76.4 L 30.2 76.4 L 30.2 77.0 L 29.5 77.0 L 29.5 76.4 \" fill=\"#000000\"/>\n",
       "<path class=\"atom-8\" d=\"M 33.3 76.9 Q 33.7 77.1, 34.0 77.4 Q 34.2 77.6, 34.2 78.1 Q 34.2 78.5, 34.0 78.8 Q 33.8 79.1, 33.4 79.3 Q 33.1 79.4, 32.6 79.4 Q 31.8 79.4, 31.4 79.1 Q 30.9 78.7, 30.9 78.1 Q 30.9 77.7, 31.1 77.4 Q 31.3 77.2, 31.7 76.9 Q 31.4 76.8, 31.3 76.5 Q 31.1 76.3, 31.1 75.9 Q 31.1 75.3, 31.5 75.0 Q 31.9 74.7, 32.6 74.7 Q 33.2 74.7, 33.6 75.0 Q 34.0 75.3, 34.0 75.9 Q 34.0 76.2, 33.8 76.5 Q 33.7 76.7, 33.3 76.9 M 32.6 75.2 Q 32.2 75.2, 32.0 75.4 Q 31.7 75.5, 31.7 75.9 Q 31.7 76.1, 31.9 76.3 Q 32.0 76.4, 32.2 76.5 Q 32.5 76.6, 32.8 76.8 Q 33.1 76.6, 33.2 76.4 Q 33.4 76.1, 33.4 75.9 Q 33.4 75.5, 33.2 75.4 Q 32.9 75.2, 32.6 75.2 M 32.6 79.0 Q 33.0 79.0, 33.3 78.7 Q 33.5 78.5, 33.5 78.1 Q 33.5 77.9, 33.4 77.7 Q 33.3 77.5, 33.1 77.4 Q 32.9 77.4, 32.5 77.2 L 32.2 77.1 Q 31.9 77.3, 31.7 77.6 Q 31.6 77.8, 31.6 78.1 Q 31.6 78.5, 31.9 78.7 Q 32.1 79.0, 32.6 79.0 \" fill=\"#000000\"/>\n",
       "<path class=\"atom-9\" d=\"M 24.0 61.1 Q 24.0 60.0, 24.5 59.4 Q 25.1 58.7, 26.1 58.7 Q 27.1 58.7, 27.7 59.4 Q 28.2 60.0, 28.2 61.1 Q 28.2 62.2, 27.7 62.9 Q 27.1 63.5, 26.1 63.5 Q 25.1 63.5, 24.5 62.9 Q 24.0 62.2, 24.0 61.1 M 26.1 63.0 Q 26.8 63.0, 27.2 62.5 Q 27.6 62.0, 27.6 61.1 Q 27.6 60.2, 27.2 59.7 Q 26.8 59.3, 26.1 59.3 Q 25.4 59.3, 25.0 59.7 Q 24.6 60.2, 24.6 61.1 Q 24.6 62.0, 25.0 62.5 Q 25.4 63.0, 26.1 63.0 \" fill=\"#FF0000\"/>\n",
       "<path class=\"atom-9\" d=\"M 28.9 62.7 L 29.5 62.7 L 29.5 63.3 L 28.9 63.3 L 28.9 62.7 M 28.9 60.4 L 29.5 60.4 L 29.5 61.1 L 28.9 61.1 L 28.9 60.4 \" fill=\"#FF0000\"/>\n",
       "<path class=\"atom-9\" d=\"M 31.8 58.7 Q 32.7 58.7, 33.1 59.3 Q 33.5 59.9, 33.5 61.0 Q 33.5 62.2, 33.0 62.9 Q 32.5 63.5, 31.5 63.5 Q 31.2 63.5, 31.0 63.4 Q 30.7 63.4, 30.5 63.2 L 30.7 62.8 Q 31.1 63.0, 31.5 63.0 Q 32.1 63.0, 32.5 62.5 Q 32.8 62.1, 32.8 61.2 Q 32.6 61.5, 32.3 61.6 Q 32.0 61.7, 31.7 61.7 Q 31.3 61.7, 31.0 61.5 Q 30.6 61.3, 30.5 61.0 Q 30.3 60.7, 30.3 60.3 Q 30.3 59.8, 30.5 59.5 Q 30.7 59.1, 31.0 58.9 Q 31.4 58.7, 31.8 58.7 M 30.9 60.3 Q 30.9 60.7, 31.2 60.9 Q 31.4 61.2, 31.8 61.2 Q 32.1 61.2, 32.4 61.1 Q 32.6 60.9, 32.8 60.7 Q 32.8 60.0, 32.6 59.6 Q 32.3 59.3, 31.8 59.3 Q 31.6 59.3, 31.4 59.4 Q 31.2 59.5, 31.1 59.8 Q 30.9 60.0, 30.9 60.3 \" fill=\"#FF0000\"/>\n",
       "<path class=\"atom-9\" d=\"M 34.2 58.8 L 34.9 58.8 L 34.9 60.8 L 37.2 60.8 L 37.2 58.8 L 37.9 58.8 L 37.9 63.4 L 37.2 63.4 L 37.2 61.3 L 34.9 61.3 L 34.9 63.4 L 34.2 63.4 L 34.2 58.8 \" fill=\"#FF0000\"/>\n",
       "<path class=\"atom-10\" d=\"M 39.4 81.8 Q 39.4 80.7, 39.9 80.0 Q 40.5 79.4, 41.5 79.4 Q 42.4 79.4, 42.9 80.1 L 42.5 80.5 Q 42.1 80.0, 41.5 80.0 Q 40.8 80.0, 40.4 80.4 Q 40.0 80.9, 40.0 81.8 Q 40.0 82.7, 40.4 83.2 Q 40.8 83.7, 41.6 83.7 Q 42.1 83.7, 42.7 83.4 L 42.8 83.8 Q 42.6 84.0, 42.2 84.1 Q 41.9 84.2, 41.5 84.2 Q 40.5 84.2, 39.9 83.6 Q 39.4 83.0, 39.4 81.8 \" fill=\"#000000\"/>\n",
       "<path class=\"atom-10\" d=\"M 43.5 83.4 L 44.1 83.4 L 44.1 84.0 L 43.5 84.0 L 43.5 83.4 M 43.5 81.1 L 44.1 81.1 L 44.1 81.8 L 43.5 81.8 L 43.5 81.1 \" fill=\"#000000\"/>\n",
       "<path class=\"atom-10\" d=\"M 45.1 83.6 L 46.1 83.6 L 46.1 80.1 L 45.0 80.5 L 44.9 80.1 L 46.3 79.5 L 46.8 79.5 L 46.8 83.6 L 47.7 83.6 L 47.7 84.1 L 45.1 84.1 L 45.1 83.6 \" fill=\"#000000\"/>\n",
       "<path class=\"atom-10\" d=\"M 49.9 84.2 Q 49.1 84.2, 48.6 83.6 Q 48.2 82.9, 48.2 81.8 Q 48.2 80.7, 48.6 80.1 Q 49.0 79.4, 49.9 79.4 Q 50.8 79.4, 51.2 80.1 Q 51.6 80.7, 51.6 81.8 Q 51.6 82.9, 51.2 83.6 Q 50.8 84.2, 49.9 84.2 M 49.9 83.7 Q 50.4 83.7, 50.7 83.2 Q 50.9 82.7, 50.9 81.8 Q 50.9 80.9, 50.7 80.4 Q 50.4 80.0, 49.9 80.0 Q 49.4 80.0, 49.1 80.4 Q 48.9 80.9, 48.9 81.8 Q 48.9 82.7, 49.1 83.2 Q 49.4 83.7, 49.9 83.7 \" fill=\"#000000\"/>\n",
       "<path class=\"atom-11\" d=\"M 51.6 70.6 Q 51.6 69.5, 52.2 68.9 Q 52.7 68.2, 53.7 68.2 Q 54.7 68.2, 55.2 68.9 L 54.8 69.3 Q 54.4 68.8, 53.7 68.8 Q 53.0 68.8, 52.7 69.3 Q 52.3 69.7, 52.3 70.6 Q 52.3 71.5, 52.7 72.0 Q 53.1 72.5, 53.8 72.5 Q 54.3 72.5, 54.9 72.2 L 55.1 72.7 Q 54.9 72.8, 54.5 72.9 Q 54.1 73.0, 53.7 73.0 Q 52.7 73.0, 52.2 72.4 Q 51.6 71.8, 51.6 70.6 \" fill=\"#000000\"/>\n",
       "<path class=\"atom-11\" d=\"M 55.7 72.2 L 56.4 72.2 L 56.4 72.8 L 55.7 72.8 L 55.7 72.2 M 55.7 69.9 L 56.4 69.9 L 56.4 70.6 L 55.7 70.6 L 55.7 69.9 \" fill=\"#000000\"/>\n",
       "<path class=\"atom-11\" d=\"M 57.4 72.4 L 58.4 72.4 L 58.4 68.9 L 57.3 69.3 L 57.1 68.9 L 58.5 68.3 L 59.0 68.4 L 59.0 72.4 L 59.9 72.4 L 59.9 72.9 L 57.4 72.9 L 57.4 72.4 \" fill=\"#000000\"/>\n",
       "<path class=\"atom-11\" d=\"M 60.7 72.4 L 61.7 72.4 L 61.7 68.9 L 60.6 69.3 L 60.4 68.9 L 61.9 68.3 L 62.3 68.4 L 62.3 72.4 L 63.2 72.4 L 63.2 72.9 L 60.7 72.9 L 60.7 72.4 \" fill=\"#000000\"/>\n",
       "<path class=\"atom-12\" d=\"M 67.8 73.1 L 69.3 75.5 Q 69.4 75.8, 69.7 76.2 Q 69.9 76.6, 69.9 76.7 L 69.9 73.1 L 70.5 73.1 L 70.5 77.7 L 69.9 77.7 L 68.3 75.0 Q 68.1 74.7, 67.9 74.3 Q 67.7 74.0, 67.6 73.9 L 67.6 77.7 L 67.0 77.7 L 67.0 73.1 L 67.8 73.1 \" fill=\"#0000FF\"/>\n",
       "<path class=\"atom-12\" d=\"M 71.3 76.9 L 72.0 76.9 L 72.0 77.6 L 71.3 77.6 L 71.3 76.9 M 71.3 74.7 L 72.0 74.7 L 72.0 75.3 L 71.3 75.3 L 71.3 74.7 \" fill=\"#0000FF\"/>\n",
       "<path class=\"atom-12\" d=\"M 73.0 77.2 L 74.0 77.2 L 74.0 73.7 L 72.9 74.0 L 72.7 73.7 L 74.2 73.0 L 74.6 73.1 L 74.6 77.2 L 75.5 77.2 L 75.5 77.7 L 73.0 77.7 L 73.0 77.2 \" fill=\"#0000FF\"/>\n",
       "<path class=\"atom-12\" d=\"M 76.1 73.9 Q 76.2 73.5, 76.6 73.2 Q 77.1 73.0, 77.6 73.0 Q 78.3 73.0, 78.7 73.4 Q 79.1 73.8, 79.1 74.4 Q 79.1 75.1, 78.6 75.8 Q 78.1 76.4, 77.0 77.2 L 79.2 77.2 L 79.2 77.7 L 76.1 77.7 L 76.1 77.3 Q 76.9 76.6, 77.4 76.2 Q 77.9 75.7, 78.2 75.3 Q 78.4 74.9, 78.4 74.5 Q 78.4 74.0, 78.2 73.8 Q 78.0 73.5, 77.6 73.5 Q 77.2 73.5, 77.0 73.7 Q 76.7 73.8, 76.6 74.2 L 76.1 73.9 \" fill=\"#0000FF\"/>\n",
       "<path class=\"atom-13\" d=\"M 66.4 91.3 Q 66.4 90.2, 67.0 89.6 Q 67.5 88.9, 68.6 88.9 Q 69.5 88.9, 70.0 89.6 L 69.6 90.0 Q 69.2 89.5, 68.6 89.5 Q 67.9 89.5, 67.5 90.0 Q 67.1 90.4, 67.1 91.3 Q 67.1 92.2, 67.5 92.7 Q 67.9 93.2, 68.6 93.2 Q 69.1 93.2, 69.7 92.9 L 69.9 93.4 Q 69.7 93.5, 69.3 93.6 Q 68.9 93.7, 68.5 93.7 Q 67.5 93.7, 67.0 93.1 Q 66.4 92.5, 66.4 91.3 \" fill=\"#000000\"/>\n",
       "<path class=\"atom-13\" d=\"M 70.5 92.9 L 71.2 92.9 L 71.2 93.5 L 70.5 93.5 L 70.5 92.9 M 70.5 90.6 L 71.2 90.6 L 71.2 91.3 L 70.5 91.3 L 70.5 90.6 \" fill=\"#000000\"/>\n",
       "<path class=\"atom-13\" d=\"M 72.2 93.1 L 73.2 93.1 L 73.2 89.6 L 72.1 90.0 L 71.9 89.6 L 73.4 89.0 L 73.8 89.0 L 73.8 93.1 L 74.7 93.1 L 74.7 93.6 L 72.2 93.6 L 72.2 93.1 \" fill=\"#000000\"/>\n",
       "<path class=\"atom-13\" d=\"M 77.5 91.2 Q 77.9 91.3, 78.2 91.6 Q 78.4 91.9, 78.4 92.4 Q 78.4 92.8, 78.2 93.1 Q 78.0 93.4, 77.6 93.5 Q 77.3 93.7, 76.8 93.7 Q 76.3 93.7, 75.9 93.5 Q 75.6 93.4, 75.3 93.0 L 75.6 92.6 Q 75.9 92.9, 76.2 93.1 Q 76.4 93.2, 76.8 93.2 Q 77.2 93.2, 77.5 93.0 Q 77.7 92.7, 77.7 92.4 Q 77.7 91.9, 77.5 91.7 Q 77.2 91.5, 76.6 91.5 L 76.3 91.5 L 76.3 91.0 L 76.6 91.0 Q 77.1 91.0, 77.4 90.8 Q 77.6 90.5, 77.6 90.1 Q 77.6 89.8, 77.4 89.7 Q 77.2 89.5, 76.8 89.5 Q 76.4 89.5, 76.2 89.6 Q 75.9 89.7, 75.8 90.1 L 75.3 89.8 Q 75.5 89.5, 75.9 89.2 Q 76.2 88.9, 76.8 88.9 Q 77.5 88.9, 77.9 89.3 Q 78.3 89.6, 78.3 90.1 Q 78.3 90.5, 78.1 90.8 Q 77.9 91.0, 77.5 91.2 \" fill=\"#000000\"/>\n",
       "<path class=\"atom-14\" d=\"M 86.3 96.1 Q 86.3 94.9, 86.8 94.3 Q 87.4 93.7, 88.4 93.7 Q 89.3 93.7, 89.9 94.4 L 89.4 94.7 Q 89.0 94.2, 88.4 94.2 Q 87.7 94.2, 87.3 94.7 Q 86.9 95.2, 86.9 96.1 Q 86.9 97.0, 87.3 97.4 Q 87.7 97.9, 88.5 97.9 Q 89.0 97.9, 89.6 97.6 L 89.7 98.1 Q 89.5 98.3, 89.1 98.4 Q 88.8 98.4, 88.4 98.4 Q 87.4 98.4, 86.8 97.8 Q 86.3 97.2, 86.3 96.1 \" fill=\"#000000\"/>\n",
       "<path class=\"atom-14\" d=\"M 90.4 97.6 L 91.0 97.6 L 91.0 98.3 L 90.4 98.3 L 90.4 97.6 M 90.4 95.4 L 91.0 95.4 L 91.0 96.0 L 90.4 96.0 L 90.4 95.4 \" fill=\"#000000\"/>\n",
       "<path class=\"atom-14\" d=\"M 92.0 97.9 L 93.1 97.9 L 93.1 94.4 L 91.9 94.7 L 91.8 94.4 L 93.2 93.7 L 93.7 93.8 L 93.7 97.9 L 94.6 97.9 L 94.6 98.4 L 92.0 98.4 L 92.0 97.9 \" fill=\"#000000\"/>\n",
       "<path class=\"atom-14\" d=\"M 98.1 96.8 L 98.7 96.8 L 98.7 97.3 L 98.1 97.3 L 98.1 98.4 L 97.5 98.4 L 97.5 97.3 L 95.1 97.3 L 95.1 96.9 L 97.2 93.7 L 98.1 93.7 L 98.1 96.8 M 95.9 96.8 L 97.5 96.8 L 97.5 94.2 L 95.9 96.8 \" fill=\"#000000\"/>\n",
       "<path class=\"atom-15\" d=\"M 99.1 82.5 L 100.6 85.0 Q 100.8 85.2, 101.0 85.7 Q 101.2 86.1, 101.2 86.1 L 101.2 82.5 L 101.9 82.5 L 101.9 87.2 L 101.2 87.2 L 99.6 84.5 Q 99.4 84.2, 99.2 83.8 Q 99.0 83.5, 98.9 83.4 L 98.9 87.2 L 98.3 87.2 L 98.3 82.5 L 99.1 82.5 \" fill=\"#0000FF\"/>\n",
       "<path class=\"atom-15\" d=\"M 102.7 86.4 L 103.3 86.4 L 103.3 87.1 L 102.7 87.1 L 102.7 86.4 M 102.7 84.2 L 103.3 84.2 L 103.3 84.8 L 102.7 84.8 L 102.7 84.2 \" fill=\"#0000FF\"/>\n",
       "<path class=\"atom-15\" d=\"M 104.3 86.7 L 105.3 86.7 L 105.3 83.2 L 104.2 83.5 L 104.1 83.2 L 105.5 82.5 L 105.9 82.6 L 105.9 86.7 L 106.9 86.7 L 106.9 87.2 L 104.3 87.2 L 104.3 86.7 \" fill=\"#0000FF\"/>\n",
       "<path class=\"atom-15\" d=\"M 109.1 84.3 Q 109.5 84.3, 109.8 84.5 Q 110.1 84.6, 110.3 85.0 Q 110.5 85.3, 110.5 85.7 Q 110.5 86.2, 110.3 86.5 Q 110.1 86.9, 109.7 87.1 Q 109.3 87.2, 108.9 87.2 Q 108.4 87.2, 108.0 87.1 Q 107.7 86.9, 107.4 86.6 L 107.8 86.2 Q 108.0 86.4, 108.3 86.6 Q 108.6 86.7, 108.9 86.7 Q 109.3 86.7, 109.6 86.4 Q 109.9 86.2, 109.9 85.7 Q 109.9 85.2, 109.6 85.0 Q 109.3 84.8, 108.8 84.8 Q 108.4 84.8, 108.0 84.9 L 107.6 84.8 L 107.8 82.5 L 110.2 82.5 L 110.2 83.1 L 108.4 83.1 L 108.2 84.4 Q 108.7 84.3, 109.1 84.3 \" fill=\"#0000FF\"/>\n",
       "<path class=\"atom-16\" d=\"M 114.6 91.2 Q 114.6 91.2, 114.8 91.3 Q 115.0 91.4, 115.3 91.5 Q 115.5 91.5, 115.8 91.5 Q 116.2 91.5, 116.5 91.3 Q 116.7 91.1, 116.7 90.7 Q 116.7 90.5, 116.6 90.3 Q 116.5 90.2, 116.3 90.1 Q 116.1 90.0, 115.7 89.9 Q 115.3 89.8, 115.1 89.7 Q 114.8 89.5, 114.6 89.3 Q 114.5 89.0, 114.5 88.6 Q 114.5 88.0, 114.9 87.7 Q 115.3 87.3, 116.1 87.3 Q 116.6 87.3, 117.2 87.6 L 117.1 88.1 Q 116.5 87.9, 116.1 87.9 Q 115.6 87.9, 115.4 88.0 Q 115.1 88.2, 115.1 88.5 Q 115.1 88.8, 115.3 88.9 Q 115.4 89.1, 115.6 89.2 Q 115.8 89.3, 116.1 89.4 Q 116.5 89.5, 116.7 89.6 Q 117.0 89.8, 117.2 90.0 Q 117.4 90.3, 117.4 90.7 Q 117.4 91.4, 116.9 91.7 Q 116.5 92.1, 115.8 92.1 Q 115.4 92.1, 115.1 92.0 Q 114.7 91.9, 114.4 91.7 L 114.6 91.2 \" fill=\"#CCCC00\"/>\n",
       "<path class=\"atom-16\" d=\"M 117.9 91.2 L 118.6 91.2 L 118.6 91.8 L 117.9 91.8 L 117.9 91.2 M 117.9 88.9 L 118.6 88.9 L 118.6 89.6 L 117.9 89.6 L 117.9 88.9 \" fill=\"#CCCC00\"/>\n",
       "<path class=\"atom-16\" d=\"M 119.5 91.4 L 120.6 91.4 L 120.6 88.0 L 119.4 88.3 L 119.3 87.9 L 120.7 87.3 L 121.2 87.4 L 121.2 91.4 L 122.1 91.4 L 122.1 91.9 L 119.5 91.9 L 119.5 91.4 \" fill=\"#CCCC00\"/>\n",
       "<path class=\"atom-16\" d=\"M 124.4 89.1 Q 124.8 89.1, 125.1 89.2 Q 125.5 89.4, 125.6 89.7 Q 125.8 90.0, 125.8 90.5 Q 125.8 90.9, 125.6 91.3 Q 125.4 91.6, 125.1 91.8 Q 124.7 92.0, 124.3 92.0 Q 123.4 92.0, 123.0 91.4 Q 122.6 90.9, 122.6 89.8 Q 122.6 88.5, 123.1 87.9 Q 123.6 87.3, 124.6 87.3 Q 124.9 87.3, 125.1 87.3 Q 125.4 87.4, 125.6 87.5 L 125.4 88.0 Q 125.0 87.8, 124.6 87.8 Q 124.0 87.8, 123.6 88.2 Q 123.3 88.6, 123.3 89.5 Q 123.5 89.3, 123.8 89.2 Q 124.1 89.1, 124.4 89.1 M 124.3 91.5 Q 124.5 91.5, 124.7 91.3 Q 124.9 91.2, 125.0 91.0 Q 125.2 90.7, 125.2 90.5 Q 125.2 90.0, 124.9 89.8 Q 124.7 89.6, 124.3 89.6 Q 124.0 89.6, 123.7 89.7 Q 123.5 89.8, 123.3 90.0 Q 123.3 90.8, 123.5 91.1 Q 123.8 91.5, 124.3 91.5 \" fill=\"#CCCC00\"/>\n",
       "<path class=\"atom-17\" d=\"M 122.7 73.9 Q 122.7 72.8, 123.3 72.2 Q 123.8 71.6, 124.9 71.6 Q 125.9 71.6, 126.4 72.2 Q 127.0 72.8, 127.0 73.9 Q 127.0 75.1, 126.4 75.7 Q 125.9 76.4, 124.9 76.4 Q 123.8 76.4, 123.3 75.7 Q 122.7 75.1, 122.7 73.9 M 124.9 75.8 Q 125.6 75.8, 125.9 75.4 Q 126.3 74.9, 126.3 73.9 Q 126.3 73.0, 125.9 72.6 Q 125.6 72.1, 124.9 72.1 Q 124.1 72.1, 123.8 72.6 Q 123.4 73.0, 123.4 73.9 Q 123.4 74.9, 123.8 75.4 Q 124.1 75.8, 124.9 75.8 \" fill=\"#FF0000\"/>\n",
       "<path class=\"atom-17\" d=\"M 127.6 75.5 L 128.2 75.5 L 128.2 76.2 L 127.6 76.2 L 127.6 75.5 M 127.6 73.3 L 128.2 73.3 L 128.2 73.9 L 127.6 73.9 L 127.6 73.3 \" fill=\"#FF0000\"/>\n",
       "<path class=\"atom-17\" d=\"M 129.2 75.8 L 130.3 75.8 L 130.3 72.3 L 129.1 72.6 L 129.0 72.3 L 130.4 71.6 L 130.9 71.7 L 130.9 75.8 L 131.8 75.8 L 131.8 76.3 L 129.2 76.3 L 129.2 75.8 \" fill=\"#FF0000\"/>\n",
       "<path class=\"atom-17\" d=\"M 134.8 72.2 L 132.3 72.2 L 132.3 71.6 L 135.4 71.6 L 135.4 72.1 L 133.5 76.3 L 132.9 76.3 L 134.8 72.2 \" fill=\"#FF0000\"/>\n",
       "<path class=\"atom-18\" d=\"M 113.2 105.3 Q 113.2 104.2, 113.8 103.5 Q 114.3 102.9, 115.3 102.9 Q 116.4 102.9, 116.9 103.5 Q 117.5 104.2, 117.5 105.3 Q 117.5 106.4, 116.9 107.0 Q 116.4 107.7, 115.3 107.7 Q 114.3 107.7, 113.8 107.0 Q 113.2 106.4, 113.2 105.3 M 115.3 107.2 Q 116.1 107.2, 116.4 106.7 Q 116.8 106.2, 116.8 105.3 Q 116.8 104.4, 116.4 103.9 Q 116.1 103.4, 115.3 103.4 Q 114.6 103.4, 114.3 103.9 Q 113.9 104.4, 113.9 105.3 Q 113.9 106.2, 114.3 106.7 Q 114.6 107.2, 115.3 107.2 \" fill=\"#FF0000\"/>\n",
       "<path class=\"atom-18\" d=\"M 118.1 106.8 L 118.7 106.8 L 118.7 107.5 L 118.1 107.5 L 118.1 106.8 M 118.1 104.6 L 118.7 104.6 L 118.7 105.2 L 118.1 105.2 L 118.1 104.6 \" fill=\"#FF0000\"/>\n",
       "<path class=\"atom-18\" d=\"M 119.8 107.1 L 120.8 107.1 L 120.8 103.6 L 119.6 104.0 L 119.5 103.6 L 120.9 103.0 L 121.4 103.0 L 121.4 107.1 L 122.3 107.1 L 122.3 107.6 L 119.8 107.6 L 119.8 107.1 \" fill=\"#FF0000\"/>\n",
       "<path class=\"atom-18\" d=\"M 125.2 105.2 Q 125.6 105.3, 125.9 105.6 Q 126.1 105.9, 126.1 106.3 Q 126.1 106.7, 125.9 107.0 Q 125.7 107.3, 125.3 107.5 Q 125.0 107.7, 124.5 107.7 Q 123.7 107.7, 123.3 107.3 Q 122.8 107.0, 122.8 106.3 Q 122.8 106.0, 123.0 105.7 Q 123.2 105.4, 123.6 105.2 Q 123.3 105.0, 123.2 104.8 Q 123.0 104.5, 123.0 104.1 Q 123.0 103.6, 123.4 103.2 Q 123.8 102.9, 124.5 102.9 Q 125.2 102.9, 125.5 103.2 Q 125.9 103.6, 125.9 104.1 Q 125.9 104.4, 125.8 104.7 Q 125.6 105.0, 125.2 105.2 M 124.5 103.4 Q 124.1 103.4, 123.9 103.6 Q 123.7 103.8, 123.7 104.1 Q 123.7 104.4, 123.8 104.5 Q 124.0 104.7, 124.2 104.8 Q 124.4 104.9, 124.8 105.0 Q 125.1 104.8, 125.2 104.6 Q 125.3 104.4, 125.3 104.1 Q 125.3 103.8, 125.1 103.6 Q 124.9 103.4, 124.5 103.4 M 124.5 107.2 Q 124.9 107.2, 125.2 107.0 Q 125.5 106.7, 125.5 106.3 Q 125.5 106.1, 125.3 105.9 Q 125.2 105.8, 125.0 105.7 Q 124.8 105.6, 124.4 105.5 L 124.1 105.4 Q 123.8 105.6, 123.6 105.8 Q 123.5 106.0, 123.5 106.3 Q 123.5 106.7, 123.8 107.0 Q 124.0 107.2, 124.5 107.2 \" fill=\"#FF0000\"/>\n",
       "<path class=\"atom-19\" d=\"M 125.3 94.4 Q 125.3 93.2, 125.9 92.6 Q 126.4 92.0, 127.4 92.0 Q 128.4 92.0, 128.9 92.7 L 128.5 93.0 Q 128.1 92.5, 127.4 92.5 Q 126.7 92.5, 126.4 93.0 Q 126.0 93.5, 126.0 94.4 Q 126.0 95.3, 126.4 95.8 Q 126.8 96.2, 127.5 96.2 Q 128.0 96.2, 128.6 95.9 L 128.8 96.4 Q 128.6 96.6, 128.2 96.7 Q 127.8 96.8, 127.4 96.8 Q 126.4 96.8, 125.9 96.1 Q 125.3 95.5, 125.3 94.4 \" fill=\"#000000\"/>\n",
       "<path class=\"atom-19\" d=\"M 129.4 95.9 L 130.1 95.9 L 130.1 96.6 L 129.4 96.6 L 129.4 95.9 M 129.4 93.7 L 130.1 93.7 L 130.1 94.3 L 129.4 94.3 L 129.4 93.7 \" fill=\"#000000\"/>\n",
       "<path class=\"atom-19\" d=\"M 131.1 96.2 L 132.1 96.2 L 132.1 92.7 L 131.0 93.1 L 130.8 92.7 L 132.3 92.0 L 132.7 92.1 L 132.7 96.2 L 133.6 96.2 L 133.6 96.7 L 131.1 96.7 L 131.1 96.2 \" fill=\"#000000\"/>\n",
       "<path class=\"atom-19\" d=\"M 135.7 92.0 Q 136.5 92.0, 137.0 92.6 Q 137.4 93.1, 137.4 94.2 Q 137.4 95.5, 136.9 96.1 Q 136.3 96.8, 135.4 96.8 Q 135.1 96.8, 134.8 96.7 Q 134.6 96.6, 134.3 96.5 L 134.6 96.0 Q 134.9 96.2, 135.3 96.2 Q 136.0 96.2, 136.3 95.8 Q 136.7 95.4, 136.7 94.5 Q 136.5 94.7, 136.2 94.8 Q 135.9 95.0, 135.6 95.0 Q 135.2 95.0, 134.8 94.8 Q 134.5 94.6, 134.3 94.3 Q 134.2 94.0, 134.2 93.6 Q 134.2 93.1, 134.4 92.8 Q 134.6 92.4, 134.9 92.2 Q 135.3 92.0, 135.7 92.0 M 134.8 93.5 Q 134.8 94.0, 135.0 94.2 Q 135.3 94.4, 135.7 94.4 Q 136.0 94.4, 136.2 94.3 Q 136.5 94.2, 136.7 94.0 Q 136.7 93.2, 136.4 92.9 Q 136.2 92.5, 135.7 92.5 Q 135.5 92.5, 135.3 92.7 Q 135.0 92.8, 134.9 93.0 Q 134.8 93.3, 134.8 93.5 \" fill=\"#000000\"/>\n",
       "<path class=\"atom-20\" d=\"M 142.5 84.5 Q 142.5 83.3, 143.0 82.7 Q 143.6 82.1, 144.6 82.1 Q 145.5 82.1, 146.0 82.8 L 145.6 83.2 Q 145.2 82.7, 144.6 82.7 Q 143.9 82.7, 143.5 83.1 Q 143.1 83.6, 143.1 84.5 Q 143.1 85.4, 143.5 85.9 Q 143.9 86.4, 144.7 86.4 Q 145.2 86.4, 145.8 86.0 L 145.9 86.5 Q 145.7 86.7, 145.3 86.8 Q 145.0 86.9, 144.6 86.9 Q 143.6 86.9, 143.0 86.3 Q 142.5 85.6, 142.5 84.5 \" fill=\"#000000\"/>\n",
       "<path class=\"atom-20\" d=\"M 146.6 86.1 L 147.2 86.1 L 147.2 86.7 L 146.6 86.7 L 146.6 86.1 M 146.6 83.8 L 147.2 83.8 L 147.2 84.5 L 146.6 84.5 L 146.6 83.8 \" fill=\"#000000\"/>\n",
       "<path class=\"atom-20\" d=\"M 148.0 83.1 Q 148.2 82.6, 148.6 82.4 Q 149.0 82.1, 149.5 82.1 Q 150.2 82.1, 150.6 82.5 Q 151.0 82.9, 151.0 83.6 Q 151.0 84.3, 150.5 84.9 Q 150.0 85.5, 149.0 86.3 L 151.1 86.3 L 151.1 86.8 L 148.0 86.8 L 148.0 86.4 Q 148.9 85.8, 149.4 85.3 Q 149.9 84.8, 150.1 84.4 Q 150.4 84.0, 150.4 83.6 Q 150.4 83.2, 150.2 82.9 Q 149.9 82.7, 149.5 82.7 Q 149.2 82.7, 148.9 82.8 Q 148.7 83.0, 148.5 83.3 L 148.0 83.1 \" fill=\"#000000\"/>\n",
       "<path class=\"atom-20\" d=\"M 153.5 86.9 Q 152.6 86.9, 152.2 86.2 Q 151.8 85.6, 151.8 84.5 Q 151.8 83.4, 152.2 82.8 Q 152.6 82.1, 153.5 82.1 Q 154.3 82.1, 154.7 82.8 Q 155.2 83.4, 155.2 84.5 Q 155.2 85.6, 154.7 86.2 Q 154.3 86.9, 153.5 86.9 M 153.5 86.3 Q 154.0 86.3, 154.2 85.9 Q 154.5 85.4, 154.5 84.5 Q 154.5 83.6, 154.2 83.1 Q 154.0 82.7, 153.5 82.7 Q 153.0 82.7, 152.7 83.1 Q 152.4 83.6, 152.4 84.5 Q 152.4 85.4, 152.7 85.9 Q 153.0 86.3, 153.5 86.3 \" fill=\"#000000\"/>\n",
       "<path class=\"atom-21\" d=\"M 161.2 91.5 L 162.7 94.0 Q 162.9 94.2, 163.1 94.7 Q 163.4 95.1, 163.4 95.1 L 163.4 91.5 L 164.0 91.5 L 164.0 96.2 L 163.4 96.2 L 161.7 93.5 Q 161.6 93.2, 161.3 92.8 Q 161.2 92.5, 161.1 92.3 L 161.1 96.2 L 160.5 96.2 L 160.5 91.5 L 161.2 91.5 \" fill=\"#0000FF\"/>\n",
       "<path class=\"atom-21\" d=\"M 164.8 95.4 L 165.5 95.4 L 165.5 96.1 L 164.8 96.1 L 164.8 95.4 M 164.8 93.2 L 165.5 93.2 L 165.5 93.8 L 164.8 93.8 L 164.8 93.2 \" fill=\"#0000FF\"/>\n",
       "<path class=\"atom-21\" d=\"M 166.2 92.4 Q 166.4 92.0, 166.8 91.7 Q 167.2 91.5, 167.8 91.5 Q 168.5 91.5, 168.9 91.9 Q 169.2 92.2, 169.2 92.9 Q 169.2 93.6, 168.7 94.3 Q 168.2 94.9, 167.2 95.7 L 169.3 95.7 L 169.3 96.2 L 166.2 96.2 L 166.2 95.7 Q 167.1 95.1, 167.6 94.7 Q 168.1 94.2, 168.3 93.8 Q 168.6 93.4, 168.6 93.0 Q 168.6 92.5, 168.4 92.3 Q 168.1 92.0, 167.8 92.0 Q 167.4 92.0, 167.1 92.2 Q 166.9 92.3, 166.7 92.6 L 166.2 92.4 \" fill=\"#0000FF\"/>\n",
       "<path class=\"atom-21\" d=\"M 170.2 95.7 L 171.2 95.7 L 171.2 92.2 L 170.1 92.5 L 170.0 92.2 L 171.4 91.5 L 171.9 91.6 L 171.9 95.7 L 172.8 95.7 L 172.8 96.2 L 170.2 96.2 L 170.2 95.7 \" fill=\"#0000FF\"/>\n",
       "<path class=\"atom-22\" d=\"M 175.9 88.5 Q 175.9 87.3, 176.5 86.7 Q 177.0 86.1, 178.0 86.1 Q 179.0 86.1, 179.5 86.8 L 179.1 87.2 Q 178.7 86.7, 178.0 86.7 Q 177.3 86.7, 177.0 87.1 Q 176.6 87.6, 176.6 88.5 Q 176.6 89.4, 177.0 89.9 Q 177.4 90.3, 178.1 90.3 Q 178.6 90.3, 179.2 90.0 L 179.4 90.5 Q 179.2 90.7, 178.8 90.8 Q 178.4 90.9, 178.0 90.9 Q 177.0 90.9, 176.5 90.3 Q 175.9 89.6, 175.9 88.5 \" fill=\"#000000\"/>\n",
       "<path class=\"atom-22\" d=\"M 180.0 90.0 L 180.7 90.0 L 180.7 90.7 L 180.0 90.7 L 180.0 90.0 M 180.0 87.8 L 180.7 87.8 L 180.7 88.5 L 180.0 88.5 L 180.0 87.8 \" fill=\"#000000\"/>\n",
       "<path class=\"atom-22\" d=\"M 181.5 87.1 Q 181.6 86.6, 182.0 86.4 Q 182.4 86.1, 183.0 86.1 Q 183.7 86.1, 184.1 86.5 Q 184.5 86.9, 184.5 87.6 Q 184.5 88.2, 184.0 88.9 Q 183.5 89.5, 182.4 90.3 L 184.6 90.3 L 184.6 90.8 L 181.4 90.8 L 181.4 90.4 Q 182.3 89.8, 182.8 89.3 Q 183.3 88.8, 183.6 88.4 Q 183.8 88.0, 183.8 87.6 Q 183.8 87.1, 183.6 86.9 Q 183.4 86.7, 183.0 86.7 Q 182.6 86.7, 182.4 86.8 Q 182.1 87.0, 181.9 87.3 L 181.5 87.1 \" fill=\"#000000\"/>\n",
       "<path class=\"atom-22\" d=\"M 185.2 87.1 Q 185.4 86.6, 185.8 86.4 Q 186.2 86.1, 186.8 86.1 Q 187.5 86.1, 187.9 86.5 Q 188.3 86.9, 188.3 87.6 Q 188.3 88.2, 187.7 88.9 Q 187.2 89.5, 186.2 90.3 L 188.3 90.3 L 188.3 90.8 L 185.2 90.8 L 185.2 90.4 Q 186.1 89.8, 186.6 89.3 Q 187.1 88.8, 187.4 88.4 Q 187.6 88.0, 187.6 87.6 Q 187.6 87.1, 187.4 86.9 Q 187.2 86.7, 186.8 86.7 Q 186.4 86.7, 186.2 86.8 Q 185.9 87.0, 185.7 87.3 L 185.2 87.1 \" fill=\"#000000\"/>\n",
       "<path class=\"atom-23\" d=\"M 155.7 109.5 Q 155.7 108.4, 156.2 107.8 Q 156.8 107.2, 157.8 107.2 Q 158.8 107.2, 159.3 107.8 L 158.9 108.2 Q 158.5 107.7, 157.8 107.7 Q 157.1 107.7, 156.7 108.2 Q 156.4 108.6, 156.4 109.5 Q 156.4 110.4, 156.8 110.9 Q 157.1 111.4, 157.9 111.4 Q 158.4 111.4, 159.0 111.1 L 159.2 111.6 Q 158.9 111.7, 158.6 111.8 Q 158.2 111.9, 157.8 111.9 Q 156.8 111.9, 156.2 111.3 Q 155.7 110.7, 155.7 109.5 \" fill=\"#000000\"/>\n",
       "<path class=\"atom-23\" d=\"M 159.8 111.1 L 160.5 111.1 L 160.5 111.7 L 159.8 111.7 L 159.8 111.1 M 159.8 108.8 L 160.5 108.8 L 160.5 109.5 L 159.8 109.5 L 159.8 108.8 \" fill=\"#000000\"/>\n",
       "<path class=\"atom-23\" d=\"M 161.2 108.1 Q 161.4 107.6, 161.8 107.4 Q 162.2 107.2, 162.8 107.2 Q 163.5 107.2, 163.9 107.5 Q 164.3 107.9, 164.3 108.6 Q 164.3 109.3, 163.8 109.9 Q 163.2 110.6, 162.2 111.3 L 164.3 111.3 L 164.3 111.8 L 161.2 111.8 L 161.2 111.4 Q 162.1 110.8, 162.6 110.3 Q 163.1 109.9, 163.4 109.5 Q 163.6 109.0, 163.6 108.6 Q 163.6 108.2, 163.4 107.9 Q 163.2 107.7, 162.8 107.7 Q 162.4 107.7, 162.2 107.8 Q 161.9 108.0, 161.7 108.3 L 161.2 108.1 \" fill=\"#000000\"/>\n",
       "<path class=\"atom-23\" d=\"M 167.2 109.4 Q 167.7 109.5, 167.9 109.8 Q 168.1 110.1, 168.1 110.6 Q 168.1 111.0, 167.9 111.3 Q 167.7 111.6, 167.4 111.7 Q 167.0 111.9, 166.5 111.9 Q 166.0 111.9, 165.7 111.7 Q 165.3 111.6, 165.0 111.2 L 165.4 110.8 Q 165.7 111.1, 165.9 111.3 Q 166.1 111.4, 166.5 111.4 Q 166.9 111.4, 167.2 111.2 Q 167.5 110.9, 167.5 110.6 Q 167.5 110.1, 167.2 109.9 Q 166.9 109.7, 166.4 109.7 L 166.0 109.7 L 166.0 109.2 L 166.3 109.2 Q 166.8 109.2, 167.1 109.0 Q 167.4 108.8, 167.4 108.3 Q 167.4 108.0, 167.1 107.9 Q 166.9 107.7, 166.5 107.7 Q 166.1 107.7, 165.9 107.8 Q 165.7 108.0, 165.5 108.3 L 165.0 108.1 Q 165.2 107.7, 165.6 107.4 Q 166.0 107.2, 166.5 107.2 Q 167.2 107.2, 167.6 107.5 Q 168.0 107.8, 168.0 108.3 Q 168.0 108.7, 167.8 109.0 Q 167.6 109.3, 167.2 109.4 \" fill=\"#000000\"/>\n",
       "<path class=\"atom-24\" d=\"M 130.0 109.8 Q 130.0 108.7, 130.6 108.1 Q 131.1 107.5, 132.1 107.5 Q 133.1 107.5, 133.6 108.2 L 133.2 108.5 Q 132.8 108.0, 132.1 108.0 Q 131.4 108.0, 131.1 108.5 Q 130.7 109.0, 130.7 109.8 Q 130.7 110.8, 131.1 111.2 Q 131.5 111.7, 132.2 111.7 Q 132.7 111.7, 133.3 111.4 L 133.5 111.9 Q 133.3 112.0, 132.9 112.1 Q 132.5 112.2, 132.1 112.2 Q 131.1 112.2, 130.6 111.6 Q 130.0 111.0, 130.0 109.8 \" fill=\"#000000\"/>\n",
       "<path class=\"atom-24\" d=\"M 134.1 111.4 L 134.8 111.4 L 134.8 112.1 L 134.1 112.1 L 134.1 111.4 M 134.1 109.1 L 134.8 109.1 L 134.8 109.8 L 134.1 109.8 L 134.1 109.1 \" fill=\"#000000\"/>\n",
       "<path class=\"atom-24\" d=\"M 135.6 108.4 Q 135.7 108.0, 136.1 107.7 Q 136.6 107.5, 137.1 107.5 Q 137.8 107.5, 138.2 107.9 Q 138.6 108.2, 138.6 108.9 Q 138.6 109.6, 138.1 110.2 Q 137.6 110.9, 136.5 111.6 L 138.7 111.6 L 138.7 112.2 L 135.6 112.2 L 135.6 111.7 Q 136.4 111.1, 136.9 110.7 Q 137.4 110.2, 137.7 109.8 Q 137.9 109.4, 137.9 108.9 Q 137.9 108.5, 137.7 108.3 Q 137.5 108.0, 137.1 108.0 Q 136.7 108.0, 136.5 108.2 Q 136.2 108.3, 136.1 108.6 L 135.6 108.4 \" fill=\"#000000\"/>\n",
       "<path class=\"atom-24\" d=\"M 142.4 110.6 L 142.9 110.6 L 142.9 111.1 L 142.4 111.1 L 142.4 112.2 L 141.7 112.2 L 141.7 111.1 L 139.3 111.1 L 139.3 110.7 L 141.4 107.5 L 142.4 107.5 L 142.4 110.6 M 140.1 110.6 L 141.7 110.6 L 141.7 107.9 L 140.1 110.6 \" fill=\"#000000\"/>\n",
       "<path class=\"atom-25\" d=\"M 98.9 68.9 Q 98.9 67.8, 99.5 67.2 Q 100.0 66.6, 101.0 66.6 Q 102.0 66.6, 102.5 67.2 L 102.1 67.6 Q 101.7 67.1, 101.0 67.1 Q 100.3 67.1, 100.0 67.6 Q 99.6 68.0, 99.6 68.9 Q 99.6 69.8, 100.0 70.3 Q 100.4 70.8, 101.1 70.8 Q 101.6 70.8, 102.2 70.5 L 102.4 71.0 Q 102.2 71.1, 101.8 71.2 Q 101.4 71.3, 101.0 71.3 Q 100.0 71.3, 99.5 70.7 Q 98.9 70.1, 98.9 68.9 \" fill=\"#000000\"/>\n",
       "<path class=\"atom-25\" d=\"M 103.0 70.5 L 103.7 70.5 L 103.7 71.1 L 103.0 71.1 L 103.0 70.5 M 103.0 68.2 L 103.7 68.2 L 103.7 68.9 L 103.0 68.9 L 103.0 68.2 \" fill=\"#000000\"/>\n",
       "<path class=\"atom-25\" d=\"M 104.4 67.5 Q 104.6 67.1, 105.0 66.8 Q 105.4 66.6, 106.0 66.6 Q 106.7 66.6, 107.1 66.9 Q 107.5 67.3, 107.5 68.0 Q 107.5 68.7, 107.0 69.3 Q 106.5 70.0, 105.4 70.7 L 107.6 70.7 L 107.6 71.3 L 104.4 71.3 L 104.4 70.8 Q 105.3 70.2, 105.8 69.7 Q 106.3 69.3, 106.6 68.9 Q 106.8 68.5, 106.8 68.0 Q 106.8 67.6, 106.6 67.3 Q 106.4 67.1, 106.0 67.1 Q 105.6 67.1, 105.4 67.2 Q 105.1 67.4, 104.9 67.7 L 104.4 67.5 \" fill=\"#000000\"/>\n",
       "<path class=\"atom-25\" d=\"M 109.9 68.3 Q 110.3 68.3, 110.6 68.5 Q 111.0 68.7, 111.2 69.0 Q 111.4 69.3, 111.4 69.8 Q 111.4 70.3, 111.1 70.6 Q 110.9 70.9, 110.5 71.1 Q 110.1 71.3, 109.7 71.3 Q 109.3 71.3, 108.9 71.1 Q 108.5 71.0, 108.2 70.7 L 108.6 70.3 Q 108.8 70.5, 109.1 70.6 Q 109.4 70.8, 109.7 70.8 Q 110.1 70.8, 110.4 70.5 Q 110.7 70.3, 110.7 69.8 Q 110.7 69.3, 110.4 69.1 Q 110.1 68.8, 109.7 68.8 Q 109.3 68.8, 108.8 69.0 L 108.5 68.8 L 108.7 66.6 L 111.1 66.6 L 111.0 67.1 L 109.2 67.1 L 109.1 68.5 Q 109.5 68.3, 109.9 68.3 \" fill=\"#000000\"/>\n",
       "<path class=\"atom-26\" d=\"M 78.8 64.2 Q 78.8 63.0, 79.3 62.4 Q 79.9 61.8, 80.9 61.8 Q 81.9 61.8, 82.4 62.5 L 81.9 62.8 Q 81.6 62.3, 80.9 62.3 Q 80.2 62.3, 79.8 62.8 Q 79.5 63.3, 79.5 64.2 Q 79.5 65.1, 79.8 65.6 Q 80.2 66.0, 81.0 66.0 Q 81.5 66.0, 82.1 65.7 L 82.3 66.2 Q 82.0 66.4, 81.7 66.5 Q 81.3 66.6, 80.9 66.6 Q 79.9 66.6, 79.3 65.9 Q 78.8 65.3, 78.8 64.2 \" fill=\"#000000\"/>\n",
       "<path class=\"atom-26\" d=\"M 82.9 65.7 L 83.6 65.7 L 83.6 66.4 L 82.9 66.4 L 82.9 65.7 M 82.9 63.5 L 83.6 63.5 L 83.6 64.1 L 82.9 64.1 L 82.9 63.5 \" fill=\"#000000\"/>\n",
       "<path class=\"atom-26\" d=\"M 84.3 62.7 Q 84.5 62.3, 84.9 62.1 Q 85.3 61.8, 85.9 61.8 Q 86.6 61.8, 87.0 62.2 Q 87.4 62.6, 87.4 63.2 Q 87.4 63.9, 86.8 64.6 Q 86.3 65.2, 85.3 66.0 L 87.4 66.0 L 87.4 66.5 L 84.3 66.5 L 84.3 66.1 Q 85.2 65.4, 85.7 65.0 Q 86.2 64.5, 86.4 64.1 Q 86.7 63.7, 86.7 63.3 Q 86.7 62.8, 86.5 62.6 Q 86.3 62.3, 85.9 62.3 Q 85.5 62.3, 85.2 62.5 Q 85.0 62.6, 84.8 63.0 L 84.3 62.7 \" fill=\"#000000\"/>\n",
       "<path class=\"atom-26\" d=\"M 89.9 63.6 Q 90.3 63.6, 90.6 63.8 Q 90.9 64.0, 91.1 64.3 Q 91.3 64.6, 91.3 65.0 Q 91.3 65.5, 91.1 65.8 Q 90.9 66.2, 90.6 66.4 Q 90.2 66.6, 89.7 66.6 Q 88.9 66.6, 88.5 66.0 Q 88.1 65.4, 88.1 64.3 Q 88.1 63.1, 88.6 62.5 Q 89.1 61.8, 90.1 61.8 Q 90.4 61.8, 90.6 61.9 Q 90.9 61.9, 91.1 62.1 L 90.9 62.5 Q 90.5 62.3, 90.1 62.3 Q 89.5 62.3, 89.1 62.8 Q 88.8 63.2, 88.7 64.0 Q 89.0 63.8, 89.3 63.7 Q 89.6 63.6, 89.9 63.6 M 89.8 66.0 Q 90.0 66.0, 90.2 65.9 Q 90.4 65.8, 90.5 65.5 Q 90.6 65.3, 90.6 65.0 Q 90.6 64.6, 90.4 64.4 Q 90.2 64.1, 89.8 64.1 Q 89.5 64.1, 89.2 64.2 Q 88.9 64.4, 88.7 64.6 Q 88.8 65.3, 89.0 65.7 Q 89.3 66.0, 89.8 66.0 \" fill=\"#000000\"/>\n",
       "<path class=\"atom-27\" d=\"M 43.0 97.7 Q 43.0 96.6, 43.6 96.0 Q 44.1 95.4, 45.1 95.4 Q 46.1 95.4, 46.6 96.1 L 46.2 96.4 Q 45.8 95.9, 45.1 95.9 Q 44.4 95.9, 44.1 96.4 Q 43.7 96.9, 43.7 97.7 Q 43.7 98.7, 44.1 99.1 Q 44.5 99.6, 45.2 99.6 Q 45.7 99.6, 46.3 99.3 L 46.5 99.8 Q 46.3 99.9, 45.9 100.0 Q 45.5 100.1, 45.1 100.1 Q 44.1 100.1, 43.6 99.5 Q 43.0 98.9, 43.0 97.7 \" fill=\"#000000\"/>\n",
       "<path class=\"atom-27\" d=\"M 47.1 99.3 L 47.8 99.3 L 47.8 100.0 L 47.1 100.0 L 47.1 99.3 M 47.1 97.1 L 47.8 97.1 L 47.8 97.7 L 47.1 97.7 L 47.1 97.1 \" fill=\"#000000\"/>\n",
       "<path class=\"atom-27\" d=\"M 48.5 96.3 Q 48.7 95.9, 49.1 95.6 Q 49.5 95.4, 50.1 95.4 Q 50.8 95.4, 51.2 95.8 Q 51.6 96.1, 51.6 96.8 Q 51.6 97.5, 51.1 98.1 Q 50.6 98.8, 49.5 99.5 L 51.7 99.5 L 51.7 100.1 L 48.5 100.1 L 48.5 99.6 Q 49.4 99.0, 49.9 98.6 Q 50.4 98.1, 50.7 97.7 Q 50.9 97.3, 50.9 96.9 Q 50.9 96.4, 50.7 96.2 Q 50.5 95.9, 50.1 95.9 Q 49.7 95.9, 49.5 96.1 Q 49.2 96.2, 49.0 96.5 L 48.5 96.3 \" fill=\"#000000\"/>\n",
       "<path class=\"atom-27\" d=\"M 54.7 96.0 L 52.3 96.0 L 52.3 95.4 L 55.4 95.4 L 55.4 95.9 L 53.5 100.1 L 52.9 100.1 L 54.7 96.0 \" fill=\"#000000\"/>\n",
       "<path class=\"atom-28\" d=\"M 63.1 102.5 Q 63.1 101.3, 63.6 100.7 Q 64.2 100.1, 65.2 100.1 Q 66.1 100.1, 66.7 100.8 L 66.2 101.2 Q 65.9 100.7, 65.2 100.7 Q 64.5 100.7, 64.1 101.1 Q 63.7 101.6, 63.7 102.5 Q 63.7 103.4, 64.1 103.9 Q 64.5 104.4, 65.3 104.4 Q 65.8 104.4, 66.4 104.1 L 66.6 104.5 Q 66.3 104.7, 65.9 104.8 Q 65.6 104.9, 65.2 104.9 Q 64.2 104.9, 63.6 104.3 Q 63.1 103.7, 63.1 102.5 \" fill=\"#000000\"/>\n",
       "<path class=\"atom-28\" d=\"M 67.2 104.1 L 67.8 104.1 L 67.8 104.7 L 67.2 104.7 L 67.2 104.1 M 67.2 101.8 L 67.8 101.8 L 67.8 102.5 L 67.2 102.5 L 67.2 101.8 \" fill=\"#000000\"/>\n",
       "<path class=\"atom-28\" d=\"M 68.6 101.1 Q 68.8 100.6, 69.2 100.4 Q 69.6 100.1, 70.2 100.1 Q 70.9 100.1, 71.2 100.5 Q 71.6 100.9, 71.6 101.6 Q 71.6 102.3, 71.1 102.9 Q 70.6 103.5, 69.6 104.3 L 71.7 104.3 L 71.7 104.8 L 68.6 104.8 L 68.6 104.4 Q 69.5 103.8, 70.0 103.3 Q 70.5 102.9, 70.7 102.4 Q 71.0 102.0, 71.0 101.6 Q 71.0 101.2, 70.8 100.9 Q 70.5 100.7, 70.2 100.7 Q 69.8 100.7, 69.5 100.8 Q 69.3 101.0, 69.1 101.3 L 68.6 101.1 \" fill=\"#000000\"/>\n",
       "<path class=\"atom-28\" d=\"M 74.7 102.4 Q 75.2 102.6, 75.4 102.8 Q 75.7 103.1, 75.7 103.6 Q 75.7 103.9, 75.5 104.3 Q 75.2 104.6, 74.9 104.7 Q 74.5 104.9, 74.0 104.9 Q 73.3 104.9, 72.8 104.5 Q 72.4 104.2, 72.4 103.6 Q 72.4 103.2, 72.6 102.9 Q 72.8 102.6, 73.2 102.4 Q 72.9 102.2, 72.7 102.0 Q 72.5 101.7, 72.5 101.3 Q 72.5 100.8, 72.9 100.5 Q 73.3 100.1, 74.0 100.1 Q 74.7 100.1, 75.1 100.5 Q 75.5 100.8, 75.5 101.3 Q 75.5 101.7, 75.3 101.9 Q 75.1 102.2, 74.7 102.4 M 74.0 100.6 Q 73.6 100.6, 73.4 100.8 Q 73.2 101.0, 73.2 101.3 Q 73.2 101.6, 73.3 101.7 Q 73.5 101.9, 73.7 102.0 Q 73.9 102.1, 74.3 102.2 Q 74.6 102.0, 74.7 101.8 Q 74.8 101.6, 74.8 101.3 Q 74.8 101.0, 74.6 100.8 Q 74.4 100.6, 74.0 100.6 M 74.0 104.4 Q 74.5 104.4, 74.7 104.2 Q 75.0 103.9, 75.0 103.5 Q 75.0 103.3, 74.9 103.1 Q 74.7 103.0, 74.5 102.9 Q 74.3 102.8, 73.9 102.7 L 73.6 102.6 Q 73.3 102.8, 73.2 103.0 Q 73.0 103.2, 73.0 103.5 Q 73.0 103.9, 73.3 104.2 Q 73.6 104.4, 74.0 104.4 \" fill=\"#000000\"/>\n",
       "</svg>"
      ],
      "text/plain": [
       "<IPython.core.display.SVG object>"
      ]
     },
     "execution_count": 32,
     "metadata": {},
     "output_type": "execute_result"
    }
   ],
   "source": [
    "from IPython.display import SVG\n",
    "from visualization.visualize_molecules import to_SVG\n",
    "SVG(to_SVG(magnet(data[0]), add_idx=True))"
   ]
  },
  {
   "cell_type": "code",
   "execution_count": null,
   "metadata": {},
   "outputs": [],
   "source": [
    "magnet"
   ]
  },
  {
   "cell_type": "code",
   "execution_count": 26,
   "metadata": {},
   "outputs": [
    {
     "ename": "TypeError",
     "evalue": "expected str, bytes or os.PathLike object, not list",
     "output_type": "error",
     "traceback": [
      "\u001b[0;31m---------------------------------------------------------------------------\u001b[0m",
      "\u001b[0;31mTypeError\u001b[0m                                 Traceback (most recent call last)",
      "Cell \u001b[0;32mIn[26], line 1\u001b[0m\n\u001b[0;32m----> 1\u001b[0m psm \u001b[39m=\u001b[39m frag\u001b[39m.\u001b[39;49mPSM(vocab)\n",
      "File \u001b[0;32m~/substructure-gnns/datasets/fragmentations/fragmentations.py:142\u001b[0m, in \u001b[0;36mPSM.__init__\u001b[0;34m(self, vocab)\u001b[0m\n\u001b[1;32m    140\u001b[0m \u001b[39mdef\u001b[39;00m \u001b[39m__init__\u001b[39m(\u001b[39mself\u001b[39m, vocab: \u001b[39mstr\u001b[39m) \u001b[39m-\u001b[39m\u001b[39m>\u001b[39m \u001b[39mNone\u001b[39;00m:\n\u001b[1;32m    141\u001b[0m     \u001b[39mself\u001b[39m\u001b[39m.\u001b[39mvocab \u001b[39m=\u001b[39m vocab\n\u001b[0;32m--> 142\u001b[0m     \u001b[39mself\u001b[39m\u001b[39m.\u001b[39mtokenizer \u001b[39m=\u001b[39m Tokenizer(\u001b[39mself\u001b[39;49m\u001b[39m.\u001b[39;49mvocab)\n\u001b[1;32m    143\u001b[0m     \u001b[39mself\u001b[39m\u001b[39m.\u001b[39mvocab_size \u001b[39m=\u001b[39m \u001b[39mlen\u001b[39m(\u001b[39mself\u001b[39m\u001b[39m.\u001b[39mtokenizer\u001b[39m.\u001b[39midx2subgraph) \u001b[39m-\u001b[39m \u001b[39m2\u001b[39m\n",
      "File \u001b[0;32m~/substructure-gnns/datasets/fragmentations/mol_bpe.py:232\u001b[0m, in \u001b[0;36mTokenizer.__init__\u001b[0;34m(self, vocab_path)\u001b[0m\n\u001b[1;32m    231\u001b[0m \u001b[39mdef\u001b[39;00m \u001b[39m__init__\u001b[39m(\u001b[39mself\u001b[39m, vocab_path):\n\u001b[0;32m--> 232\u001b[0m     \u001b[39mwith\u001b[39;00m \u001b[39mopen\u001b[39;49m(vocab_path, \u001b[39m'\u001b[39;49m\u001b[39mr\u001b[39;49m\u001b[39m'\u001b[39;49m) \u001b[39mas\u001b[39;00m fin:\n\u001b[1;32m    233\u001b[0m         lines \u001b[39m=\u001b[39m fin\u001b[39m.\u001b[39mread()\u001b[39m.\u001b[39mstrip()\u001b[39m.\u001b[39msplit(\u001b[39m'\u001b[39m\u001b[39m\\n\u001b[39;00m\u001b[39m'\u001b[39m)\n\u001b[1;32m    234\u001b[0m     \u001b[39m# load kekulize config\u001b[39;00m\n",
      "\u001b[0;31mTypeError\u001b[0m: expected str, bytes or os.PathLike object, not list"
     ]
    }
   ],
   "source": [
    "psm = frag.PSM(vocab)\n",
    "\n"
   ]
  },
  {
   "cell_type": "code",
   "execution_count": 35,
   "metadata": {},
   "outputs": [],
   "source": [
    "frags = frag.FragmentRepresentation(20)"
   ]
  },
  {
   "cell_type": "code",
   "execution_count": 19,
   "metadata": {},
   "outputs": [
    {
     "data": {
      "image/png": "[encoded data removed]",
      "text/plain": [
       "<rdkit.Chem.rdchem.RWMol at 0x7ff1e2df9040>"
      ]
     },
     "execution_count": 19,
     "metadata": {},
     "output_type": "execute_result"
    }
   ],
   "source": [
    "mol = data[3].mol\n",
    "mol"
   ]
  },
  {
   "cell_type": "code",
   "execution_count": 46,
   "metadata": {},
   "outputs": [
    {
     "data": {
      "text/plain": [
       "FragmentData(x=[29, 1], edge_index=[2, 64], edge_attr=[64], y=[1], mol=<rdkit.Chem.rdchem.RWMol object at 0x7f422f0dd8b0>, substructures=[29], fragments=[14, 20], fragments_edge_index=[2, 29])"
      ]
     },
     "execution_count": 46,
     "metadata": {},
     "output_type": "execute_result"
    }
   ],
   "source": [
    "frags(psm(data[0]))"
   ]
  },
  {
   "cell_type": "code",
   "execution_count": 47,
   "metadata": {},
   "outputs": [
    {
     "data": {
      "text/plain": [
       "FragmentDataBatch(x=[55, 1], x_batch=[55], x_ptr=[3], edge_index=[2, 120], edge_attr=[120], y=[2], mol=[2], substructures=[2], fragments=[25, 20], fragments_batch=[25], fragments_ptr=[3], fragments_edge_index=[2, 55], batch=[55], ptr=[3])"
      ]
     },
     "execution_count": 47,
     "metadata": {},
     "output_type": "execute_result"
    }
   ],
   "source": [
    "from torch_geometric.loader import DataLoader\n",
    "loader = DataLoader([frags(psm(data[i])) for i in range(2)], batch_size=2, follow_batch = [\"x\", \"fragments\"])\n",
    "batch = next(iter(loader))\n",
    "batch"
   ]
  },
  {
   "cell_type": "code",
   "execution_count": 45,
   "metadata": {},
   "outputs": [
    {
     "data": {
      "text/plain": [
       "55"
      ]
     },
     "execution_count": 45,
     "metadata": {},
     "output_type": "execute_result"
    }
   ],
   "source": [
    "batch.num_nodes"
   ]
  },
  {
   "cell_type": "code",
   "execution_count": 12,
   "metadata": {},
   "outputs": [
    {
     "data": {
      "text/plain": [
       "[[(0, 12)],\n",
       " [(9, 5)],\n",
       " [(9, 5)],\n",
       " [(1, 12)],\n",
       " [(15, 8)],\n",
       " [(12, 6)],\n",
       " [(12, 6)],\n",
       " [(13, 6)],\n",
       " [(13, 6)],\n",
       " [(14, 6)],\n",
       " [(14, 6)],\n",
       " [(15, 8)],\n",
       " [(2, 19)],\n",
       " [(3, 12)],\n",
       " [(11, 5)],\n",
       " [(4, 16)],\n",
       " [(10, 5)],\n",
       " [(10, 5)],\n",
       " [(5, 12)],\n",
       " [(6, 16)],\n",
       " [(16, 8)],\n",
       " [(16, 8)],\n",
       " [(17, 8)],\n",
       " [(17, 8)],\n",
       " [(7, 17)],\n",
       " [(11, 5)],\n",
       " [(8, 16)]]"
      ]
     },
     "execution_count": 12,
     "metadata": {},
     "output_type": "execute_result"
    }
   ],
   "source": [
    "psm(data[3]).substructures"
   ]
  },
  {
   "cell_type": "code",
   "execution_count": 23,
   "metadata": {},
   "outputs": [
    {
     "data": {
      "text/plain": [
       "[[(0, 12)],\n",
       " [(1, 12)],\n",
       " [(15, 3)],\n",
       " [(15, 3)],\n",
       " [(15, 3)],\n",
       " [(2, 16)],\n",
       " [(3, 16)],\n",
       " [(12, 1)],\n",
       " [(12, 1)],\n",
       " [(12, 1)],\n",
       " [(12, 1)],\n",
       " [(4, 16)],\n",
       " [(11, 5)],\n",
       " [(11, 5)],\n",
       " [(14, 8)],\n",
       " [(14, 8)],\n",
       " [(5, 16)],\n",
       " [(6, 16)],\n",
       " [(13, 0)],\n",
       " [(13, 0)],\n",
       " [(13, 0)],\n",
       " [(13, 0)],\n",
       " [(13, 0)],\n",
       " [(13, 0)],\n",
       " [(7, 12)],\n",
       " [(8, 14)],\n",
       " [(9, 14)],\n",
       " [(10, 14)]]"
      ]
     },
     "execution_count": 23,
     "metadata": {},
     "output_type": "execute_result"
    }
   ],
   "source": [
    "psm(data[5]).substructures"
   ]
  },
  {
   "cell_type": "code",
   "execution_count": 29,
   "metadata": {},
   "outputs": [
    {
     "data": {
      "image/svg+xml": [
       "<svg xmlns=\"http://www.w3.org/2000/svg\" xmlns:rdkit=\"http://www.rdkit.org/xml\" xmlns:xlink=\"http://www.w3.org/1999/xlink\" version=\"1.1\" baseProfile=\"full\" xml:space=\"preserve\" width=\"200px\" height=\"200px\" viewBox=\"0 0 200 200\">\n",
       "<!-- END OF HEADER -->\n",
       "<rect style=\"opacity:1.0;fill:#FFFFFF;stroke:none\" width=\"200.0\" height=\"200.0\" x=\"0.0\" y=\"0.0\"> </rect>\n",
       "<path class=\"bond-0 atom-0 atom-1\" d=\"M 64.3,59.9 L 75.9,77.8 L 71.1,80.9 L 59.5,63.0 Z\" style=\"fill:#8B9790;fill-rule:evenodd;fill-opacity:1;stroke:#8B9790;stroke-width:0.0px;stroke-linecap:butt;stroke-linejoin:miter;stroke-opacity:1;\"/>\n",
       "<path class=\"bond-2 atom-2 atom-3\" d=\"M 61.2,97.0 L 66.3,99.6 L 55.8,120.1 L 52.2,114.6 Z\" style=\"fill:#ECA4B4;fill-rule:evenodd;fill-opacity:1;stroke:#ECA4B4;stroke-width:0.0px;stroke-linecap:butt;stroke-linejoin:miter;stroke-opacity:1;\"/>\n",
       "<path class=\"bond-5 atom-3 atom-4\" d=\"M 52.2,114.6 L 55.8,120.1 L 32.8,121.2 L 32.6,115.5 Z\" style=\"fill:#ECA4B4;fill-rule:evenodd;fill-opacity:1;stroke:#ECA4B4;stroke-width:0.0px;stroke-linecap:butt;stroke-linejoin:miter;stroke-opacity:1;\"/>\n",
       "<path class=\"bond-7 atom-5 atom-7\" d=\"M 99.1,94.1 L 102.2,98.9 L 84.3,110.5 L 81.2,105.7 Z\" style=\"fill:#8B9790;fill-rule:evenodd;fill-opacity:1;stroke:#8B9790;stroke-width:0.0px;stroke-linecap:butt;stroke-linejoin:miter;stroke-opacity:1;\"/>\n",
       "<path class=\"bond-9 atom-8 atom-9\" d=\"M 122.5,106.1 L 123.4,125.8 L 117.9,129.3 L 116.8,106.4 Z\" style=\"fill:#8AD5AB;fill-rule:evenodd;fill-opacity:1;stroke:#8AD5AB;stroke-width:0.0px;stroke-linecap:butt;stroke-linejoin:miter;stroke-opacity:1;\"/>\n",
       "<path class=\"bond-11 atom-9 atom-10\" d=\"M 123.4,125.8 L 139.5,134.0 L 139.8,140.6 L 117.9,129.3 Z\" style=\"fill:#8AD5AB;fill-rule:evenodd;fill-opacity:1;stroke:#8AD5AB;stroke-width:0.0px;stroke-linecap:butt;stroke-linejoin:miter;stroke-opacity:1;\"/>\n",
       "<path class=\"bond-12 atom-10 atom-11\" d=\"M 156.1,123.4 L 159.1,128.1 L 139.8,140.6 L 139.5,134.0 Z\" style=\"fill:#8AD5AB;fill-rule:evenodd;fill-opacity:1;stroke:#8AD5AB;stroke-width:0.0px;stroke-linecap:butt;stroke-linejoin:miter;stroke-opacity:1;\"/>\n",
       "<path class=\"bond-14 atom-12 atom-13\" d=\"M 171.5,91.4 L 177.4,94.4 L 156.7,107.7 L 156.4,101.2 Z\" style=\"fill:#81A2F6;fill-rule:evenodd;fill-opacity:1;stroke:#81A2F6;stroke-width:0.0px;stroke-linecap:butt;stroke-linejoin:miter;stroke-opacity:1;\"/>\n",
       "<path class=\"bond-15 atom-12 atom-17\" d=\"M 140.3,92.9 L 156.4,101.2 L 156.7,107.7 L 134.8,96.5 Z\" style=\"fill:#81A2F6;fill-rule:evenodd;fill-opacity:1;stroke:#81A2F6;stroke-width:0.0px;stroke-linecap:butt;stroke-linejoin:miter;stroke-opacity:1;\"/>\n",
       "<path class=\"bond-16 atom-13 atom-14\" d=\"M 176.2,69.8 L 177.4,94.4 L 171.5,91.4 L 170.7,73.4 Z\" style=\"fill:#81A2F6;fill-rule:evenodd;fill-opacity:1;stroke:#81A2F6;stroke-width:0.0px;stroke-linecap:butt;stroke-linejoin:miter;stroke-opacity:1;\"/>\n",
       "<path class=\"bond-17 atom-14 atom-15\" d=\"M 154.3,58.5 L 176.2,69.8 L 170.7,73.4 L 154.6,65.1 Z\" style=\"fill:#81A2F6;fill-rule:evenodd;fill-opacity:1;stroke:#81A2F6;stroke-width:0.0px;stroke-linecap:butt;stroke-linejoin:miter;stroke-opacity:1;\"/>\n",
       "<path class=\"bond-18 atom-15 atom-16\" d=\"M 154.3,58.5 L 154.6,65.1 L 139.4,74.9 L 133.6,71.9 Z\" style=\"fill:#81A2F6;fill-rule:evenodd;fill-opacity:1;stroke:#81A2F6;stroke-width:0.0px;stroke-linecap:butt;stroke-linejoin:miter;stroke-opacity:1;\"/>\n",
       "<path class=\"bond-19 atom-16 atom-17\" d=\"M 133.6,71.9 L 139.4,74.9 L 140.3,92.9 L 134.8,96.5 Z\" style=\"fill:#81A2F6;fill-rule:evenodd;fill-opacity:1;stroke:#81A2F6;stroke-width:0.0px;stroke-linecap:butt;stroke-linejoin:miter;stroke-opacity:1;\"/>\n",
       "<ellipse cx=\"61.9\" cy=\"61.4\" rx=\"4.3\" ry=\"4.3\" class=\"atom-0\" style=\"fill:#8B9790;fill-rule:evenodd;stroke:#8B9790;stroke-width:1.0px;stroke-linecap:butt;stroke-linejoin:miter;stroke-opacity:1\"/>\n",
       "<ellipse cx=\"76.5\" cy=\"79.9\" rx=\"7.6\" ry=\"5.0\" class=\"atom-1\" style=\"fill:#8B9790;fill-rule:evenodd;stroke:#8B9790;stroke-width:1.0px;stroke-linecap:butt;stroke-linejoin:miter;stroke-opacity:1\"/>\n",
       "<ellipse cx=\"63.8\" cy=\"98.8\" rx=\"7.9\" ry=\"5.0\" class=\"atom-2\" style=\"fill:#ECA4B4;fill-rule:evenodd;stroke:#ECA4B4;stroke-width:1.0px;stroke-linecap:butt;stroke-linejoin:miter;stroke-opacity:1\"/>\n",
       "<ellipse cx=\"57.3\" cy=\"117.8\" rx=\"7.9\" ry=\"5.1\" class=\"atom-3\" style=\"fill:#ECA4B4;fill-rule:evenodd;stroke:#ECA4B4;stroke-width:1.0px;stroke-linecap:butt;stroke-linejoin:miter;stroke-opacity:1\"/>\n",
       "<ellipse cx=\"29.1\" cy=\"118.9\" rx=\"8.4\" ry=\"5.0\" class=\"atom-4\" style=\"fill:#ECA4B4;fill-rule:evenodd;stroke:#ECA4B4;stroke-width:1.0px;stroke-linecap:butt;stroke-linejoin:miter;stroke-opacity:1\"/>\n",
       "<ellipse cx=\"82.7\" cy=\"108.6\" rx=\"7.9\" ry=\"5.0\" class=\"atom-5\" style=\"fill:#8B9790;fill-rule:evenodd;stroke:#8B9790;stroke-width:1.0px;stroke-linecap:butt;stroke-linejoin:miter;stroke-opacity:1\"/>\n",
       "<ellipse cx=\"87.2\" cy=\"129.9\" rx=\"8.7\" ry=\"5.1\" class=\"atom-6\" style=\"fill:#B4C98B;fill-rule:evenodd;stroke:#B4C98B;stroke-width:1.0px;stroke-linecap:butt;stroke-linejoin:miter;stroke-opacity:1\"/>\n",
       "<ellipse cx=\"100.7\" cy=\"97.0\" rx=\"7.9\" ry=\"5.0\" class=\"atom-7\" style=\"fill:#8B9790;fill-rule:evenodd;stroke:#8B9790;stroke-width:1.0px;stroke-linecap:butt;stroke-linejoin:miter;stroke-opacity:1\"/>\n",
       "<ellipse cx=\"119.6\" cy=\"106.8\" rx=\"8.1\" ry=\"5.1\" class=\"atom-8\" style=\"fill:#8AD5AB;fill-rule:evenodd;stroke:#8AD5AB;stroke-width:1.0px;stroke-linecap:butt;stroke-linejoin:miter;stroke-opacity:1\"/>\n",
       "<ellipse cx=\"117.1\" cy=\"128.1\" rx=\"8.0\" ry=\"5.1\" class=\"atom-9\" style=\"fill:#8AD5AB;fill-rule:evenodd;stroke:#8AD5AB;stroke-width:1.0px;stroke-linecap:butt;stroke-linejoin:miter;stroke-opacity:1\"/>\n",
       "<ellipse cx=\"139.7\" cy=\"137.8\" rx=\"11.3\" ry=\"5.0\" class=\"atom-10\" style=\"fill:#8AD5AB;fill-rule:evenodd;stroke:#8AD5AB;stroke-width:1.0px;stroke-linecap:butt;stroke-linejoin:miter;stroke-opacity:1\"/>\n",
       "<ellipse cx=\"162.8\" cy=\"126.2\" rx=\"10.7\" ry=\"5.0\" class=\"atom-11\" style=\"fill:#8AD5AB;fill-rule:evenodd;stroke:#8AD5AB;stroke-width:1.0px;stroke-linecap:butt;stroke-linejoin:miter;stroke-opacity:1\"/>\n",
       "<ellipse cx=\"156.5\" cy=\"104.9\" rx=\"11.0\" ry=\"5.0\" class=\"atom-12\" style=\"fill:#81A2F6;fill-rule:evenodd;stroke:#81A2F6;stroke-width:1.0px;stroke-linecap:butt;stroke-linejoin:miter;stroke-opacity:1\"/>\n",
       "<ellipse cx=\"179.9\" cy=\"93.4\" rx=\"11.0\" ry=\"5.0\" class=\"atom-13\" style=\"fill:#81A2F6;fill-rule:evenodd;stroke:#81A2F6;stroke-width:1.0px;stroke-linecap:butt;stroke-linejoin:miter;stroke-opacity:1\"/>\n",
       "<ellipse cx=\"179.2\" cy=\"72.1\" rx=\"11.4\" ry=\"5.0\" class=\"atom-14\" style=\"fill:#81A2F6;fill-rule:evenodd;stroke:#81A2F6;stroke-width:1.0px;stroke-linecap:butt;stroke-linejoin:miter;stroke-opacity:1\"/>\n",
       "<ellipse cx=\"154.4\" cy=\"62.3\" rx=\"11.0\" ry=\"5.0\" class=\"atom-15\" style=\"fill:#81A2F6;fill-rule:evenodd;stroke:#81A2F6;stroke-width:1.0px;stroke-linecap:butt;stroke-linejoin:miter;stroke-opacity:1\"/>\n",
       "<ellipse cx=\"130.8\" cy=\"73.9\" rx=\"11.1\" ry=\"5.0\" class=\"atom-16\" style=\"fill:#81A2F6;fill-rule:evenodd;stroke:#81A2F6;stroke-width:1.0px;stroke-linecap:butt;stroke-linejoin:miter;stroke-opacity:1\"/>\n",
       "<ellipse cx=\"137.6\" cy=\"95.2\" rx=\"11.0\" ry=\"5.0\" class=\"atom-17\" style=\"fill:#81A2F6;fill-rule:evenodd;stroke:#81A2F6;stroke-width:1.0px;stroke-linecap:butt;stroke-linejoin:miter;stroke-opacity:1\"/>\n",
       "<ellipse cx=\"44.8\" cy=\"85.7\" rx=\"11.4\" ry=\"9.8\" class=\"atom-18\" style=\"fill:#D5DDB9;fill-rule:evenodd;stroke:#D5DDB9;stroke-width:1.0px;stroke-linecap:butt;stroke-linejoin:miter;stroke-opacity:1\"/>\n",
       "<ellipse cx=\"49.2\" cy=\"67.8\" rx=\"11.1\" ry=\"5.0\" class=\"atom-19\" style=\"fill:#B7B5B3;fill-rule:evenodd;stroke:#B7B5B3;stroke-width:1.0px;stroke-linecap:butt;stroke-linejoin:miter;stroke-opacity:1\"/>\n",
       "<ellipse cx=\"20.8\" cy=\"100.7\" rx=\"11.7\" ry=\"5.0\" class=\"atom-20\" style=\"fill:#B7B5B3;fill-rule:evenodd;stroke:#B7B5B3;stroke-width:1.0px;stroke-linecap:butt;stroke-linejoin:miter;stroke-opacity:1\"/>\n",
       "<path class=\"bond-0 atom-0 atom-1\" d=\"M 61.9,61.4 L 71.1,75.6\" style=\"fill:none;fill-rule:evenodd;stroke:#000000;stroke-width:1.0px;stroke-linecap:butt;stroke-linejoin:miter;stroke-opacity:1\"/>\n",
       "<path class=\"bond-1 atom-1 atom-2\" d=\"M 71.5,83.2 L 65.7,94.6\" style=\"fill:none;fill-rule:evenodd;stroke:#000000;stroke-width:1.0px;stroke-linecap:butt;stroke-linejoin:miter;stroke-opacity:1\"/>\n",
       "<path class=\"bond-2 atom-2 atom-3\" d=\"M 61.8,102.2 L 55.9,113.6\" style=\"fill:none;fill-rule:evenodd;stroke:#000000;stroke-width:1.0px;stroke-linecap:butt;stroke-linejoin:miter;stroke-opacity:1\"/>\n",
       "<path class=\"bond-3 atom-2 atom-5\" d=\"M 70.1,101.6 L 76.4,104.8\" style=\"fill:none;fill-rule:evenodd;stroke:#000000;stroke-width:1.0px;stroke-linecap:butt;stroke-linejoin:miter;stroke-opacity:1\"/>\n",
       "<path class=\"bond-4 atom-2 atom-18\" d=\"M 57.5,95.1 L 54.9,93.8\" style=\"fill:none;fill-rule:evenodd;stroke:#000000;stroke-width:1.0px;stroke-linecap:butt;stroke-linejoin:miter;stroke-opacity:1\"/>\n",
       "<path class=\"bond-4 atom-2 atom-18\" d=\"M 54.9,93.8 L 52.3,92.4\" style=\"fill:none;fill-rule:evenodd;stroke:#0000FF;stroke-width:1.0px;stroke-linecap:butt;stroke-linejoin:miter;stroke-opacity:1\"/>\n",
       "<path class=\"bond-5 atom-3 atom-4\" d=\"M 51.0,117.5 L 35.7,118.2\" style=\"fill:none;fill-rule:evenodd;stroke:#000000;stroke-width:1.0px;stroke-linecap:butt;stroke-linejoin:miter;stroke-opacity:1\"/>\n",
       "<path class=\"bond-6 atom-5 atom-6\" d=\"M 81.4,112.9 L 81.7,119.3\" style=\"fill:none;fill-rule:evenodd;stroke:#000000;stroke-width:1.0px;stroke-linecap:butt;stroke-linejoin:miter;stroke-opacity:1\"/>\n",
       "<path class=\"bond-6 atom-5 atom-6\" d=\"M 81.7,119.3 L 82.0,125.7\" style=\"fill:none;fill-rule:evenodd;stroke:#FF0000;stroke-width:1.0px;stroke-linecap:butt;stroke-linejoin:miter;stroke-opacity:1\"/>\n",
       "<path class=\"bond-6 atom-5 atom-6\" d=\"M 84.6,112.8 L 84.9,119.2\" style=\"fill:none;fill-rule:evenodd;stroke:#000000;stroke-width:1.0px;stroke-linecap:butt;stroke-linejoin:miter;stroke-opacity:1\"/>\n",
       "<path class=\"bond-6 atom-5 atom-6\" d=\"M 84.9,119.2 L 85.2,125.5\" style=\"fill:none;fill-rule:evenodd;stroke:#FF0000;stroke-width:1.0px;stroke-linecap:butt;stroke-linejoin:miter;stroke-opacity:1\"/>\n",
       "<path class=\"bond-7 atom-5 atom-7\" d=\"M 88.5,104.4 L 94.7,100.4\" style=\"fill:none;fill-rule:evenodd;stroke:#000000;stroke-width:1.0px;stroke-linecap:butt;stroke-linejoin:miter;stroke-opacity:1\"/>\n",
       "<path class=\"bond-8 atom-7 atom-8\" d=\"M 106.9,99.7 L 113.2,103.0\" style=\"fill:none;fill-rule:evenodd;stroke:#000000;stroke-width:1.0px;stroke-linecap:butt;stroke-linejoin:miter;stroke-opacity:1\"/>\n",
       "<path class=\"bond-9 atom-8 atom-9\" d=\"M 119.9,111.1 L 120.5,123.8\" style=\"fill:none;fill-rule:evenodd;stroke:#000000;stroke-width:1.0px;stroke-linecap:butt;stroke-linejoin:miter;stroke-opacity:1\"/>\n",
       "<path class=\"bond-10 atom-8 atom-17\" d=\"M 125.5,102.5 L 131.6,98.5\" style=\"fill:none;fill-rule:evenodd;stroke:#000000;stroke-width:1.0px;stroke-linecap:butt;stroke-linejoin:miter;stroke-opacity:1\"/>\n",
       "<path class=\"bond-10 atom-8 atom-17\" d=\"M 123.7,99.8 L 129.9,95.8\" style=\"fill:none;fill-rule:evenodd;stroke:#000000;stroke-width:1.0px;stroke-linecap:butt;stroke-linejoin:miter;stroke-opacity:1\"/>\n",
       "<path class=\"bond-11 atom-9 atom-10\" d=\"M 123.5,129.0 L 132.3,133.6\" style=\"fill:none;fill-rule:evenodd;stroke:#000000;stroke-width:1.0px;stroke-linecap:butt;stroke-linejoin:miter;stroke-opacity:1\"/>\n",
       "<path class=\"bond-11 atom-9 atom-10\" d=\"M 124.9,126.2 L 133.8,130.7\" style=\"fill:none;fill-rule:evenodd;stroke:#000000;stroke-width:1.0px;stroke-linecap:butt;stroke-linejoin:miter;stroke-opacity:1\"/>\n",
       "<path class=\"bond-12 atom-10 atom-11\" d=\"M 145.5,133.6 L 154.6,127.7\" style=\"fill:none;fill-rule:evenodd;stroke:#000000;stroke-width:1.0px;stroke-linecap:butt;stroke-linejoin:miter;stroke-opacity:1\"/>\n",
       "<path class=\"bond-13 atom-11 atom-12\" d=\"M 157.4,122.0 L 156.7,108.2\" style=\"fill:none;fill-rule:evenodd;stroke:#000000;stroke-width:1.0px;stroke-linecap:butt;stroke-linejoin:miter;stroke-opacity:1\"/>\n",
       "<path class=\"bond-13 atom-11 atom-12\" d=\"M 154.2,122.1 L 153.5,108.4\" style=\"fill:none;fill-rule:evenodd;stroke:#000000;stroke-width:1.0px;stroke-linecap:butt;stroke-linejoin:miter;stroke-opacity:1\"/>\n",
       "<path class=\"bond-14 atom-12 atom-13\" d=\"M 162.4,100.7 L 171.4,94.8\" style=\"fill:none;fill-rule:evenodd;stroke:#000000;stroke-width:1.0px;stroke-linecap:butt;stroke-linejoin:miter;stroke-opacity:1\"/>\n",
       "<path class=\"bond-15 atom-12 atom-17\" d=\"M 149.2,100.7 L 144.9,98.5\" style=\"fill:none;fill-rule:evenodd;stroke:#000000;stroke-width:1.0px;stroke-linecap:butt;stroke-linejoin:miter;stroke-opacity:1\"/>\n",
       "<path class=\"bond-16 atom-13 atom-14\" d=\"M 174.3,89.1 L 173.6,75.4\" style=\"fill:none;fill-rule:evenodd;stroke:#000000;stroke-width:1.0px;stroke-linecap:butt;stroke-linejoin:miter;stroke-opacity:1\"/>\n",
       "<path class=\"bond-16 atom-13 atom-14\" d=\"M 171.1,89.3 L 170.4,75.6\" style=\"fill:none;fill-rule:evenodd;stroke:#000000;stroke-width:1.0px;stroke-linecap:butt;stroke-linejoin:miter;stroke-opacity:1\"/>\n",
       "<path class=\"bond-17 atom-14 atom-15\" d=\"M 170.4,70.0 L 161.9,65.7\" style=\"fill:none;fill-rule:evenodd;stroke:#000000;stroke-width:1.0px;stroke-linecap:butt;stroke-linejoin:miter;stroke-opacity:1\"/>\n",
       "<path class=\"bond-18 atom-15 atom-16\" d=\"M 148.5,65.7 L 139.3,71.6\" style=\"fill:none;fill-rule:evenodd;stroke:#000000;stroke-width:1.0px;stroke-linecap:butt;stroke-linejoin:miter;stroke-opacity:1\"/>\n",
       "<path class=\"bond-18 atom-15 atom-16\" d=\"M 150.2,68.4 L 141.0,74.3\" style=\"fill:none;fill-rule:evenodd;stroke:#000000;stroke-width:1.0px;stroke-linecap:butt;stroke-linejoin:miter;stroke-opacity:1\"/>\n",
       "<path class=\"bond-19 atom-16 atom-17\" d=\"M 136.7,77.2 L 137.4,91.0\" style=\"fill:none;fill-rule:evenodd;stroke:#000000;stroke-width:1.0px;stroke-linecap:butt;stroke-linejoin:miter;stroke-opacity:1\"/>\n",
       "<path class=\"bond-20 atom-18 atom-19\" d=\"M 44.3,78.1 L 44.1,74.6\" style=\"fill:none;fill-rule:evenodd;stroke:#0000FF;stroke-width:1.0px;stroke-linecap:butt;stroke-linejoin:miter;stroke-opacity:1\"/>\n",
       "<path class=\"bond-20 atom-18 atom-19\" d=\"M 44.1,74.6 L 43.9,71.1\" style=\"fill:none;fill-rule:evenodd;stroke:#000000;stroke-width:1.0px;stroke-linecap:butt;stroke-linejoin:miter;stroke-opacity:1\"/>\n",
       "<path class=\"bond-21 atom-18 atom-20\" d=\"M 39.0,92.3 L 34.4,95.3\" style=\"fill:none;fill-rule:evenodd;stroke:#0000FF;stroke-width:1.0px;stroke-linecap:butt;stroke-linejoin:miter;stroke-opacity:1\"/>\n",
       "<path class=\"bond-21 atom-18 atom-20\" d=\"M 34.4,95.3 L 29.8,98.3\" style=\"fill:none;fill-rule:evenodd;stroke:#000000;stroke-width:1.0px;stroke-linecap:butt;stroke-linejoin:miter;stroke-opacity:1\"/>\n",
       "<path class=\"atom-1\" d=\"M 71.2 79.4 Q 71.2 77.9, 71.9 77.1 Q 72.6 76.3, 73.9 76.3 Q 75.2 76.3, 75.8 77.2 L 75.3 77.6 Q 74.8 77.0, 73.9 77.0 Q 73.0 77.0, 72.5 77.6 Q 72.0 78.2, 72.0 79.4 Q 72.0 80.6, 72.5 81.2 Q 73.0 81.8, 74.0 81.8 Q 74.7 81.8, 75.5 81.4 L 75.7 82.0 Q 75.4 82.2, 74.9 82.4 Q 74.4 82.5, 73.9 82.5 Q 72.6 82.5, 71.9 81.7 Q 71.2 80.9, 71.2 79.4 \" fill=\"#000000\"/>\n",
       "<path class=\"atom-1\" d=\"M 76.5 81.4 L 77.3 81.4 L 77.3 82.3 L 76.5 82.3 L 76.5 81.4 M 76.5 78.5 L 77.3 78.5 L 77.3 79.3 L 76.5 79.3 L 76.5 78.5 \" fill=\"#000000\"/>\n",
       "<path class=\"atom-1\" d=\"M 78.6 81.7 L 79.9 81.7 L 79.9 77.2 L 78.5 77.7 L 78.3 77.2 L 80.1 76.3 L 80.7 76.4 L 80.7 81.7 L 81.9 81.7 L 81.9 82.4 L 78.6 82.4 L 78.6 81.7 \" fill=\"#000000\"/>\n",
       "<path class=\"atom-2\" d=\"M 58.2 98.4 Q 58.2 96.9, 58.9 96.1 Q 59.6 95.3, 60.9 95.3 Q 62.1 95.3, 62.8 96.2 L 62.3 96.6 Q 61.8 96.0, 60.9 96.0 Q 60.0 96.0, 59.5 96.6 Q 59.0 97.2, 59.0 98.4 Q 59.0 99.6, 59.5 100.2 Q 60.0 100.8, 61.0 100.8 Q 61.7 100.8, 62.4 100.4 L 62.7 101.0 Q 62.4 101.2, 61.9 101.3 Q 61.4 101.5, 60.9 101.5 Q 59.6 101.5, 58.9 100.7 Q 58.2 99.9, 58.2 98.4 \" fill=\"#000000\"/>\n",
       "<path class=\"atom-2\" d=\"M 63.5 100.4 L 64.3 100.4 L 64.3 101.2 L 63.5 101.2 L 63.5 100.4 M 63.5 97.5 L 64.3 97.5 L 64.3 98.3 L 63.5 98.3 L 63.5 97.5 \" fill=\"#000000\"/>\n",
       "<path class=\"atom-2\" d=\"M 65.3 96.5 Q 65.5 95.9, 66.1 95.6 Q 66.6 95.3, 67.3 95.3 Q 68.2 95.3, 68.7 95.8 Q 69.3 96.3, 69.3 97.1 Q 69.3 98.0, 68.6 98.9 Q 67.9 99.7, 66.6 100.7 L 69.4 100.7 L 69.4 101.4 L 65.3 101.4 L 65.3 100.8 Q 66.4 100.0, 67.1 99.4 Q 67.8 98.8, 68.1 98.3 Q 68.4 97.7, 68.4 97.2 Q 68.4 96.6, 68.1 96.3 Q 67.8 96.0, 67.3 96.0 Q 66.8 96.0, 66.5 96.2 Q 66.2 96.4, 66.0 96.8 L 65.3 96.5 \" fill=\"#000000\"/>\n",
       "<path class=\"atom-3\" d=\"M 51.7 117.3 Q 51.7 115.8, 52.4 115.0 Q 53.1 114.3, 54.4 114.3 Q 55.7 114.3, 56.3 115.1 L 55.8 115.6 Q 55.3 115.0, 54.4 115.0 Q 53.5 115.0, 53.0 115.6 Q 52.6 116.2, 52.6 117.3 Q 52.6 118.5, 53.0 119.1 Q 53.6 119.8, 54.5 119.8 Q 55.2 119.8, 56.0 119.4 L 56.2 120.0 Q 55.9 120.2, 55.4 120.3 Q 54.9 120.4, 54.4 120.4 Q 53.1 120.4, 52.4 119.6 Q 51.7 118.8, 51.7 117.3 \" fill=\"#000000\"/>\n",
       "<path class=\"atom-3\" d=\"M 57.0 119.4 L 57.9 119.4 L 57.9 120.2 L 57.0 120.2 L 57.0 119.4 M 57.0 116.4 L 57.9 116.4 L 57.9 117.3 L 57.0 117.3 L 57.0 116.4 \" fill=\"#000000\"/>\n",
       "<path class=\"atom-3\" d=\"M 61.7 117.2 Q 62.3 117.4, 62.6 117.7 Q 62.9 118.1, 62.9 118.7 Q 62.9 119.2, 62.6 119.6 Q 62.4 120.0, 61.9 120.2 Q 61.4 120.5, 60.8 120.5 Q 60.2 120.5, 59.7 120.2 Q 59.2 120.0, 58.8 119.5 L 59.3 119.0 Q 59.7 119.5, 60.0 119.6 Q 60.3 119.8, 60.8 119.8 Q 61.4 119.8, 61.7 119.5 Q 62.0 119.2, 62.0 118.7 Q 62.0 118.1, 61.7 117.8 Q 61.3 117.5, 60.6 117.5 L 60.2 117.5 L 60.2 116.9 L 60.5 116.9 Q 61.2 116.9, 61.5 116.6 Q 61.9 116.3, 61.9 115.8 Q 61.9 115.4, 61.6 115.2 Q 61.3 114.9, 60.8 114.9 Q 60.3 114.9, 60.0 115.1 Q 59.7 115.3, 59.5 115.7 L 58.9 115.4 Q 59.1 114.9, 59.6 114.6 Q 60.1 114.3, 60.8 114.3 Q 61.7 114.3, 62.2 114.7 Q 62.7 115.1, 62.7 115.8 Q 62.7 116.3, 62.5 116.6 Q 62.2 117.0, 61.7 117.2 \" fill=\"#000000\"/>\n",
       "<path class=\"atom-4\" d=\"M 23.2 118.4 Q 23.2 116.9, 23.9 116.1 Q 24.6 115.3, 26.0 115.3 Q 27.2 115.3, 27.9 116.2 L 27.3 116.6 Q 26.8 116.0, 26.0 116.0 Q 25.0 116.0, 24.6 116.6 Q 24.1 117.2, 24.1 118.4 Q 24.1 119.6, 24.6 120.2 Q 25.1 120.8, 26.1 120.8 Q 26.7 120.8, 27.5 120.4 L 27.7 121.0 Q 27.4 121.3, 26.9 121.4 Q 26.5 121.5, 25.9 121.5 Q 24.6 121.5, 23.9 120.7 Q 23.2 119.9, 23.2 118.4 \" fill=\"#000000\"/>\n",
       "<path class=\"atom-4\" d=\"M 28.5 120.4 L 29.4 120.4 L 29.4 121.3 L 28.5 121.3 L 28.5 120.4 M 28.5 117.5 L 29.4 117.5 L 29.4 118.3 L 28.5 118.3 L 28.5 117.5 \" fill=\"#000000\"/>\n",
       "<path class=\"atom-4\" d=\"M 34.3 119.3 L 35.0 119.3 L 35.0 120.0 L 34.3 120.0 L 34.3 121.4 L 33.5 121.4 L 33.5 120.0 L 30.4 120.0 L 30.4 119.5 L 33.0 115.4 L 34.3 115.4 L 34.3 119.3 M 31.4 119.3 L 33.5 119.3 L 33.5 115.9 L 31.4 119.3 \" fill=\"#000000\"/>\n",
       "<path class=\"atom-5\" d=\"M 77.1 108.1 Q 77.1 106.6, 77.8 105.8 Q 78.5 105.0, 79.9 105.0 Q 81.1 105.0, 81.8 105.9 L 81.2 106.4 Q 80.7 105.7, 79.9 105.7 Q 79.0 105.7, 78.5 106.3 Q 78.0 106.9, 78.0 108.1 Q 78.0 109.3, 78.5 109.9 Q 79.0 110.5, 80.0 110.5 Q 80.6 110.5, 81.4 110.1 L 81.6 110.8 Q 81.3 111.0, 80.9 111.1 Q 80.4 111.2, 79.8 111.2 Q 78.5 111.2, 77.8 110.4 Q 77.1 109.6, 77.1 108.1 \" fill=\"#000000\"/>\n",
       "<path class=\"atom-5\" d=\"M 82.4 110.1 L 83.3 110.1 L 83.3 111.0 L 82.4 111.0 L 82.4 110.1 M 82.4 107.2 L 83.3 107.2 L 83.3 108.1 L 82.4 108.1 L 82.4 107.2 \" fill=\"#000000\"/>\n",
       "<path class=\"atom-5\" d=\"M 86.5 107.4 Q 87.0 107.4, 87.4 107.6 Q 87.9 107.8, 88.1 108.2 Q 88.3 108.6, 88.3 109.2 Q 88.3 109.8, 88.0 110.3 Q 87.7 110.7, 87.2 111.0 Q 86.7 111.2, 86.2 111.2 Q 85.6 111.2, 85.1 111.0 Q 84.6 110.8, 84.3 110.4 L 84.8 109.9 Q 85.1 110.2, 85.4 110.3 Q 85.8 110.5, 86.2 110.5 Q 86.7 110.5, 87.1 110.2 Q 87.5 109.8, 87.5 109.2 Q 87.5 108.6, 87.1 108.3 Q 86.7 108.0, 86.2 108.0 Q 85.6 108.0, 85.0 108.2 L 84.6 108.0 L 84.9 105.1 L 88.0 105.1 L 87.9 105.8 L 85.6 105.8 L 85.4 107.6 Q 85.9 107.4, 86.5 107.4 \" fill=\"#000000\"/>\n",
       "<path class=\"atom-6\" d=\"M 81.0 129.4 Q 81.0 128.0, 81.7 127.1 Q 82.4 126.3, 83.8 126.3 Q 85.1 126.3, 85.8 127.1 Q 86.6 128.0, 86.6 129.4 Q 86.6 130.9, 85.8 131.7 Q 85.1 132.5, 83.8 132.5 Q 82.5 132.5, 81.7 131.7 Q 81.0 130.9, 81.0 129.4 M 83.8 131.9 Q 84.7 131.9, 85.2 131.2 Q 85.7 130.6, 85.7 129.4 Q 85.7 128.2, 85.2 127.6 Q 84.7 127.0, 83.8 127.0 Q 82.9 127.0, 82.4 127.6 Q 81.9 128.2, 81.9 129.4 Q 81.9 130.6, 82.4 131.2 Q 82.9 131.9, 83.8 131.9 \" fill=\"#FF0000\"/>\n",
       "<path class=\"atom-6\" d=\"M 87.3 131.4 L 88.2 131.4 L 88.2 132.3 L 87.3 132.3 L 87.3 131.4 M 87.3 128.5 L 88.2 128.5 L 88.2 129.4 L 87.3 129.4 L 87.3 128.5 \" fill=\"#FF0000\"/>\n",
       "<path class=\"atom-6\" d=\"M 91.5 128.7 Q 92.1 128.7, 92.5 128.9 Q 92.9 129.1, 93.1 129.5 Q 93.4 130.0, 93.4 130.5 Q 93.4 131.1, 93.1 131.5 Q 92.9 132.0, 92.4 132.3 Q 91.9 132.5, 91.3 132.5 Q 90.3 132.5, 89.7 131.8 Q 89.2 131.0, 89.2 129.6 Q 89.2 128.0, 89.8 127.2 Q 90.5 126.3, 91.8 126.3 Q 92.2 126.3, 92.5 126.4 Q 92.8 126.5, 93.1 126.7 L 92.8 127.3 Q 92.4 127.0, 91.8 127.0 Q 91.0 127.0, 90.5 127.6 Q 90.1 128.1, 90.0 129.2 Q 90.4 129.0, 90.7 128.8 Q 91.1 128.7, 91.5 128.7 M 91.4 131.8 Q 91.7 131.8, 91.9 131.6 Q 92.2 131.5, 92.4 131.2 Q 92.5 130.9, 92.5 130.5 Q 92.5 130.0, 92.2 129.7 Q 91.9 129.4, 91.4 129.4 Q 91.0 129.4, 90.7 129.5 Q 90.3 129.6, 90.0 129.9 Q 90.1 130.9, 90.4 131.4 Q 90.7 131.8, 91.4 131.8 \" fill=\"#FF0000\"/>\n",
       "<path class=\"atom-7\" d=\"M 95.1 96.5 Q 95.1 95.0, 95.8 94.3 Q 96.5 93.5, 97.8 93.5 Q 99.1 93.5, 99.8 94.3 L 99.2 94.8 Q 98.7 94.2, 97.8 94.2 Q 96.9 94.2, 96.4 94.8 Q 96.0 95.4, 96.0 96.5 Q 96.0 97.7, 96.5 98.4 Q 97.0 99.0, 97.9 99.0 Q 98.6 99.0, 99.4 98.6 L 99.6 99.2 Q 99.3 99.4, 98.8 99.5 Q 98.3 99.6, 97.8 99.6 Q 96.5 99.6, 95.8 98.8 Q 95.1 98.0, 95.1 96.5 \" fill=\"#000000\"/>\n",
       "<path class=\"atom-7\" d=\"M 100.4 98.6 L 101.3 98.6 L 101.3 99.4 L 100.4 99.4 L 100.4 98.6 M 100.4 95.6 L 101.3 95.6 L 101.3 96.5 L 100.4 96.5 L 100.4 95.6 \" fill=\"#000000\"/>\n",
       "<path class=\"atom-7\" d=\"M 105.4 94.2 L 102.2 94.2 L 102.2 93.5 L 106.2 93.5 L 106.2 94.1 L 103.8 99.6 L 103.0 99.6 L 105.4 94.2 \" fill=\"#000000\"/>\n",
       "<path class=\"atom-8\" d=\"M 113.9 106.3 Q 113.9 104.8, 114.6 104.0 Q 115.3 103.2, 116.7 103.2 Q 117.9 103.2, 118.6 104.1 L 118.0 104.5 Q 117.5 103.9, 116.7 103.9 Q 115.8 103.9, 115.3 104.5 Q 114.8 105.1, 114.8 106.3 Q 114.8 107.5, 115.3 108.1 Q 115.8 108.7, 116.8 108.7 Q 117.4 108.7, 118.2 108.3 L 118.5 108.9 Q 118.1 109.2, 117.7 109.3 Q 117.2 109.4, 116.7 109.4 Q 115.3 109.4, 114.6 108.6 Q 113.9 107.8, 113.9 106.3 \" fill=\"#000000\"/>\n",
       "<path class=\"atom-8\" d=\"M 119.3 108.3 L 120.1 108.3 L 120.1 109.2 L 119.3 109.2 L 119.3 108.3 M 119.3 105.4 L 120.1 105.4 L 120.1 106.2 L 119.3 106.2 L 119.3 105.4 \" fill=\"#000000\"/>\n",
       "<path class=\"atom-8\" d=\"M 124.2 106.1 Q 124.7 106.4, 125.0 106.7 Q 125.3 107.1, 125.3 107.7 Q 125.3 108.2, 125.1 108.6 Q 124.8 109.0, 124.3 109.2 Q 123.9 109.4, 123.2 109.4 Q 122.2 109.4, 121.7 108.9 Q 121.1 108.5, 121.1 107.7 Q 121.1 107.2, 121.3 106.8 Q 121.6 106.4, 122.1 106.1 Q 121.7 105.9, 121.5 105.6 Q 121.3 105.3, 121.3 104.8 Q 121.3 104.0, 121.8 103.6 Q 122.3 103.2, 123.2 103.2 Q 124.1 103.2, 124.6 103.6 Q 125.1 104.0, 125.1 104.8 Q 125.1 105.2, 124.9 105.5 Q 124.6 105.9, 124.2 106.1 M 123.2 103.8 Q 122.7 103.8, 122.4 104.1 Q 122.2 104.3, 122.2 104.8 Q 122.2 105.1, 122.3 105.3 Q 122.5 105.5, 122.8 105.6 Q 123.1 105.7, 123.6 105.9 Q 124.0 105.6, 124.1 105.4 Q 124.3 105.1, 124.3 104.8 Q 124.3 104.3, 124.0 104.1 Q 123.7 103.8, 123.2 103.8 M 123.2 108.8 Q 123.8 108.8, 124.1 108.5 Q 124.5 108.2, 124.5 107.7 Q 124.5 107.3, 124.3 107.1 Q 124.1 106.9, 123.9 106.8 Q 123.6 106.7, 123.1 106.5 L 122.7 106.4 Q 122.3 106.7, 122.1 107.0 Q 121.9 107.3, 121.9 107.7 Q 121.9 108.2, 122.3 108.5 Q 122.6 108.8, 123.2 108.8 \" fill=\"#000000\"/>\n",
       "<path class=\"atom-9\" d=\"M 111.5 127.6 Q 111.5 126.1, 112.2 125.3 Q 112.9 124.5, 114.2 124.5 Q 115.4 124.5, 116.1 125.4 L 115.5 125.9 Q 115.1 125.2, 114.2 125.2 Q 113.3 125.2, 112.8 125.8 Q 112.3 126.4, 112.3 127.6 Q 112.3 128.8, 112.8 129.4 Q 113.3 130.0, 114.3 130.0 Q 115.0 130.0, 115.7 129.6 L 116.0 130.3 Q 115.7 130.5, 115.2 130.6 Q 114.7 130.7, 114.2 130.7 Q 112.9 130.7, 112.2 129.9 Q 111.5 129.1, 111.5 127.6 \" fill=\"#000000\"/>\n",
       "<path class=\"atom-9\" d=\"M 116.8 129.6 L 117.6 129.6 L 117.6 130.5 L 116.8 130.5 L 116.8 129.6 M 116.8 126.7 L 117.6 126.7 L 117.6 127.5 L 116.8 127.5 L 116.8 126.7 \" fill=\"#000000\"/>\n",
       "<path class=\"atom-9\" d=\"M 120.6 124.5 Q 121.7 124.5, 122.2 125.2 Q 122.8 126.0, 122.8 127.4 Q 122.8 129.0, 122.1 129.9 Q 121.4 130.7, 120.2 130.7 Q 119.8 130.7, 119.5 130.6 Q 119.1 130.5, 118.8 130.3 L 119.2 129.8 Q 119.6 130.0, 120.1 130.0 Q 121.0 130.0, 121.4 129.5 Q 121.9 128.9, 121.9 127.8 Q 121.6 128.1, 121.2 128.2 Q 120.8 128.4, 120.4 128.4 Q 119.9 128.4, 119.5 128.1 Q 119.1 127.9, 118.8 127.5 Q 118.6 127.1, 118.6 126.5 Q 118.6 125.9, 118.8 125.5 Q 119.1 125.0, 119.6 124.8 Q 120.0 124.5, 120.6 124.5 M 119.4 126.5 Q 119.4 127.1, 119.7 127.4 Q 120.0 127.7, 120.6 127.7 Q 120.9 127.7, 121.3 127.5 Q 121.7 127.4, 121.9 127.1 Q 121.9 126.1, 121.6 125.7 Q 121.3 125.2, 120.6 125.2 Q 120.3 125.2, 120.0 125.4 Q 119.8 125.6, 119.6 125.9 Q 119.4 126.2, 119.4 126.5 \" fill=\"#000000\"/>\n",
       "<path class=\"atom-10\" d=\"M 131.7 137.3 Q 131.7 135.8, 132.4 135.1 Q 133.1 134.3, 134.4 134.3 Q 135.7 134.3, 136.4 135.1 L 135.8 135.6 Q 135.3 135.0, 134.4 135.0 Q 133.5 135.0, 133.0 135.6 Q 132.6 136.2, 132.6 137.3 Q 132.6 138.5, 133.1 139.1 Q 133.6 139.8, 134.5 139.8 Q 135.2 139.8, 136.0 139.4 L 136.2 140.0 Q 135.9 140.2, 135.4 140.3 Q 134.9 140.4, 134.4 140.4 Q 133.1 140.4, 132.4 139.6 Q 131.7 138.8, 131.7 137.3 \" fill=\"#000000\"/>\n",
       "<path class=\"atom-10\" d=\"M 137.0 139.4 L 137.9 139.4 L 137.9 140.2 L 137.0 140.2 L 137.0 139.4 M 137.0 136.4 L 137.9 136.4 L 137.9 137.3 L 137.0 137.3 L 137.0 136.4 \" fill=\"#000000\"/>\n",
       "<path class=\"atom-10\" d=\"M 139.2 139.7 L 140.5 139.7 L 140.5 135.2 L 139.1 135.6 L 138.9 135.1 L 140.7 134.3 L 141.3 134.4 L 141.3 139.7 L 142.5 139.7 L 142.5 140.4 L 139.2 140.4 L 139.2 139.7 \" fill=\"#000000\"/>\n",
       "<path class=\"atom-10\" d=\"M 145.4 140.4 Q 144.3 140.4, 143.8 139.6 Q 143.2 138.8, 143.2 137.3 Q 143.2 135.9, 143.8 135.1 Q 144.3 134.3, 145.4 134.3 Q 146.5 134.3, 147.1 135.1 Q 147.6 135.9, 147.6 137.3 Q 147.6 138.8, 147.1 139.6 Q 146.5 140.4, 145.4 140.4 M 145.4 139.8 Q 146.1 139.8, 146.4 139.1 Q 146.8 138.5, 146.8 137.3 Q 146.8 136.2, 146.4 135.5 Q 146.1 134.9, 145.4 134.9 Q 144.8 134.9, 144.4 135.5 Q 144.1 136.2, 144.1 137.3 Q 144.1 138.5, 144.4 139.1 Q 144.8 139.8, 145.4 139.8 \" fill=\"#000000\"/>\n",
       "<path class=\"atom-11\" d=\"M 155.3 125.8 Q 155.3 124.3, 156.0 123.5 Q 156.7 122.7, 158.0 122.7 Q 159.3 122.7, 159.9 123.6 L 159.4 124.0 Q 158.9 123.4, 158.0 123.4 Q 157.1 123.4, 156.6 124.0 Q 156.1 124.6, 156.1 125.8 Q 156.1 127.0, 156.6 127.6 Q 157.1 128.2, 158.1 128.2 Q 158.8 128.2, 159.5 127.8 L 159.8 128.4 Q 159.5 128.6, 159.0 128.8 Q 158.5 128.9, 158.0 128.9 Q 156.7 128.9, 156.0 128.1 Q 155.3 127.3, 155.3 125.8 \" fill=\"#000000\"/>\n",
       "<path class=\"atom-11\" d=\"M 160.6 127.8 L 161.4 127.8 L 161.4 128.7 L 160.6 128.7 L 160.6 127.8 M 160.6 124.9 L 161.4 124.9 L 161.4 125.7 L 160.6 125.7 L 160.6 124.9 \" fill=\"#000000\"/>\n",
       "<path class=\"atom-11\" d=\"M 162.7 128.1 L 164.1 128.1 L 164.1 123.6 L 162.6 124.1 L 162.4 123.6 L 164.2 122.7 L 164.9 122.8 L 164.9 128.1 L 166.0 128.1 L 166.0 128.8 L 162.7 128.8 L 162.7 128.1 \" fill=\"#000000\"/>\n",
       "<path class=\"atom-11\" d=\"M 167.1 128.1 L 168.4 128.1 L 168.4 123.6 L 166.9 124.1 L 166.7 123.6 L 168.6 122.7 L 169.2 122.8 L 169.2 128.1 L 170.4 128.1 L 170.4 128.8 L 167.1 128.8 L 167.1 128.1 \" fill=\"#000000\"/>\n",
       "<path class=\"atom-12\" d=\"M 148.8 104.5 Q 148.8 103.0, 149.5 102.2 Q 150.2 101.4, 151.5 101.4 Q 152.8 101.4, 153.4 102.3 L 152.9 102.7 Q 152.4 102.1, 151.5 102.1 Q 150.6 102.1, 150.1 102.7 Q 149.6 103.3, 149.6 104.5 Q 149.6 105.7, 150.1 106.3 Q 150.6 106.9, 151.6 106.9 Q 152.3 106.9, 153.0 106.5 L 153.3 107.1 Q 153.0 107.3, 152.5 107.5 Q 152.0 107.6, 151.5 107.6 Q 150.2 107.6, 149.5 106.8 Q 148.8 106.0, 148.8 104.5 \" fill=\"#000000\"/>\n",
       "<path class=\"atom-12\" d=\"M 154.1 106.5 L 154.9 106.5 L 154.9 107.4 L 154.1 107.4 L 154.1 106.5 M 154.1 103.6 L 154.9 103.6 L 154.9 104.4 L 154.1 104.4 L 154.1 103.6 \" fill=\"#000000\"/>\n",
       "<path class=\"atom-12\" d=\"M 156.3 106.8 L 157.6 106.8 L 157.6 102.3 L 156.1 102.8 L 155.9 102.2 L 157.8 101.4 L 158.4 101.5 L 158.4 106.8 L 159.6 106.8 L 159.6 107.5 L 156.3 107.5 L 156.3 106.8 \" fill=\"#000000\"/>\n",
       "<path class=\"atom-12\" d=\"M 160.3 102.6 Q 160.5 102.0, 161.0 101.7 Q 161.5 101.4, 162.3 101.4 Q 163.2 101.4, 163.7 101.9 Q 164.2 102.4, 164.2 103.3 Q 164.2 104.2, 163.6 105.0 Q 162.9 105.8, 161.5 106.8 L 164.3 106.8 L 164.3 107.5 L 160.3 107.5 L 160.3 106.9 Q 161.4 106.1, 162.0 105.5 Q 162.7 104.9, 163.0 104.4 Q 163.4 103.9, 163.4 103.3 Q 163.4 102.7, 163.1 102.4 Q 162.8 102.1, 162.3 102.1 Q 161.8 102.1, 161.5 102.3 Q 161.1 102.5, 160.9 102.9 L 160.3 102.6 \" fill=\"#000000\"/>\n",
       "<path class=\"atom-13\" d=\"M 172.1 92.9 Q 172.1 91.4, 172.8 90.6 Q 173.5 89.8, 174.9 89.8 Q 176.1 89.8, 176.8 90.7 L 176.2 91.2 Q 175.7 90.5, 174.9 90.5 Q 174.0 90.5, 173.5 91.1 Q 173.0 91.7, 173.0 92.9 Q 173.0 94.1, 173.5 94.7 Q 174.0 95.3, 175.0 95.3 Q 175.6 95.3, 176.4 94.9 L 176.7 95.6 Q 176.3 95.8, 175.9 95.9 Q 175.4 96.0, 174.9 96.0 Q 173.5 96.0, 172.8 95.2 Q 172.1 94.4, 172.1 92.9 \" fill=\"#000000\"/>\n",
       "<path class=\"atom-13\" d=\"M 177.5 94.9 L 178.3 94.9 L 178.3 95.8 L 177.5 95.8 L 177.5 94.9 M 177.5 92.0 L 178.3 92.0 L 178.3 92.9 L 177.5 92.9 L 177.5 92.0 \" fill=\"#000000\"/>\n",
       "<path class=\"atom-13\" d=\"M 179.6 95.3 L 181.0 95.3 L 181.0 90.7 L 179.5 91.2 L 179.3 90.7 L 181.1 89.9 L 181.8 90.0 L 181.8 95.3 L 182.9 95.3 L 182.9 95.9 L 179.6 95.9 L 179.6 95.3 \" fill=\"#000000\"/>\n",
       "<path class=\"atom-13\" d=\"M 186.5 92.8 Q 187.1 92.9, 187.4 93.3 Q 187.7 93.7, 187.7 94.3 Q 187.7 94.8, 187.4 95.2 Q 187.2 95.6, 186.7 95.8 Q 186.2 96.0, 185.6 96.0 Q 185.0 96.0, 184.5 95.8 Q 184.0 95.6, 183.6 95.1 L 184.1 94.6 Q 184.5 95.0, 184.8 95.2 Q 185.1 95.3, 185.6 95.3 Q 186.2 95.3, 186.5 95.0 Q 186.8 94.7, 186.8 94.3 Q 186.8 93.7, 186.5 93.4 Q 186.1 93.1, 185.4 93.1 L 185.0 93.1 L 185.0 92.5 L 185.4 92.5 Q 186.0 92.5, 186.4 92.2 Q 186.7 91.9, 186.7 91.4 Q 186.7 91.0, 186.4 90.7 Q 186.1 90.5, 185.6 90.5 Q 185.1 90.5, 184.8 90.7 Q 184.5 90.9, 184.3 91.3 L 183.7 91.0 Q 183.9 90.5, 184.4 90.2 Q 184.9 89.8, 185.6 89.8 Q 186.5 89.8, 187.0 90.2 Q 187.6 90.7, 187.6 91.4 Q 187.6 91.9, 187.3 92.2 Q 187.0 92.6, 186.5 92.8 \" fill=\"#000000\"/>\n",
       "<path class=\"atom-14\" d=\"M 171.1 71.6 Q 171.1 70.1, 171.8 69.3 Q 172.5 68.5, 173.8 68.5 Q 175.1 68.5, 175.7 69.4 L 175.2 69.9 Q 174.7 69.2, 173.8 69.2 Q 172.9 69.2, 172.4 69.8 Q 172.0 70.4, 172.0 71.6 Q 172.0 72.8, 172.5 73.4 Q 173.0 74.0, 173.9 74.0 Q 174.6 74.0, 175.4 73.6 L 175.6 74.3 Q 175.3 74.5, 174.8 74.6 Q 174.3 74.7, 173.8 74.7 Q 172.5 74.7, 171.8 73.9 Q 171.1 73.1, 171.1 71.6 \" fill=\"#000000\"/>\n",
       "<path class=\"atom-14\" d=\"M 176.4 73.6 L 177.3 73.6 L 177.3 74.5 L 176.4 74.5 L 176.4 73.6 M 176.4 70.7 L 177.3 70.7 L 177.3 71.5 L 176.4 71.5 L 176.4 70.7 \" fill=\"#000000\"/>\n",
       "<path class=\"atom-14\" d=\"M 178.6 73.9 L 179.9 73.9 L 179.9 69.4 L 178.5 69.9 L 178.3 69.4 L 180.1 68.6 L 180.7 68.7 L 180.7 73.9 L 181.9 73.9 L 181.9 74.6 L 178.6 74.6 L 178.6 73.9 \" fill=\"#000000\"/>\n",
       "<path class=\"atom-14\" d=\"M 186.5 72.6 L 187.3 72.6 L 187.3 73.2 L 186.5 73.2 L 186.5 74.6 L 185.7 74.6 L 185.7 73.2 L 182.6 73.2 L 182.6 72.7 L 185.3 68.6 L 186.5 68.6 L 186.5 72.6 M 183.6 72.6 L 185.7 72.6 L 185.7 69.1 L 183.6 72.6 \" fill=\"#000000\"/>\n",
       "<path class=\"atom-15\" d=\"M 146.7 61.9 Q 146.7 60.4, 147.4 59.6 Q 148.1 58.8, 149.4 58.8 Q 150.6 58.8, 151.3 59.7 L 150.8 60.1 Q 150.3 59.5, 149.4 59.5 Q 148.5 59.5, 148.0 60.1 Q 147.5 60.7, 147.5 61.9 Q 147.5 63.0, 148.0 63.7 Q 148.5 64.3, 149.5 64.3 Q 150.2 64.3, 150.9 63.9 L 151.2 64.5 Q 150.9 64.7, 150.4 64.8 Q 149.9 65.0, 149.4 65.0 Q 148.1 65.0, 147.4 64.2 Q 146.7 63.4, 146.7 61.9 \" fill=\"#000000\"/>\n",
       "<path class=\"atom-15\" d=\"M 152.0 63.9 L 152.8 63.9 L 152.8 64.7 L 152.0 64.7 L 152.0 63.9 M 152.0 61.0 L 152.8 61.0 L 152.8 61.8 L 152.0 61.8 L 152.0 61.0 \" fill=\"#000000\"/>\n",
       "<path class=\"atom-15\" d=\"M 154.1 64.2 L 155.5 64.2 L 155.5 59.7 L 154.0 60.1 L 153.8 59.6 L 155.7 58.8 L 156.3 58.9 L 156.3 64.2 L 157.5 64.2 L 157.5 64.9 L 154.1 64.9 L 154.1 64.2 \" fill=\"#000000\"/>\n",
       "<path class=\"atom-15\" d=\"M 160.3 61.1 Q 160.9 61.1, 161.3 61.3 Q 161.7 61.6, 162.0 62.0 Q 162.2 62.4, 162.2 63.0 Q 162.2 63.6, 161.9 64.0 Q 161.6 64.5, 161.1 64.7 Q 160.6 65.0, 160.1 65.0 Q 159.5 65.0, 159.0 64.7 Q 158.5 64.5, 158.1 64.2 L 158.7 63.6 Q 158.9 63.9, 159.3 64.1 Q 159.7 64.3, 160.1 64.3 Q 160.6 64.3, 161.0 63.9 Q 161.4 63.6, 161.4 63.0 Q 161.4 62.4, 161.0 62.1 Q 160.6 61.7, 160.0 61.7 Q 159.5 61.7, 158.9 62.0 L 158.5 61.8 L 158.8 58.8 L 161.9 58.8 L 161.8 59.5 L 159.4 59.5 L 159.3 61.3 Q 159.8 61.1, 160.3 61.1 \" fill=\"#000000\"/>\n",
       "<path class=\"atom-16\" d=\"M 122.9 73.4 Q 122.9 71.9, 123.6 71.1 Q 124.3 70.3, 125.7 70.3 Q 126.9 70.3, 127.6 71.2 L 127.0 71.7 Q 126.5 71.0, 125.7 71.0 Q 124.8 71.0, 124.3 71.7 Q 123.8 72.3, 123.8 73.4 Q 123.8 74.6, 124.3 75.2 Q 124.8 75.8, 125.8 75.8 Q 126.4 75.8, 127.2 75.4 L 127.4 76.1 Q 127.1 76.3, 126.7 76.4 Q 126.2 76.5, 125.6 76.5 Q 124.3 76.5, 123.6 75.7 Q 122.9 74.9, 122.9 73.4 \" fill=\"#000000\"/>\n",
       "<path class=\"atom-16\" d=\"M 128.3 75.4 L 129.1 75.4 L 129.1 76.3 L 128.3 76.3 L 128.3 75.4 M 128.3 72.5 L 129.1 72.5 L 129.1 73.4 L 128.3 73.4 L 128.3 72.5 \" fill=\"#000000\"/>\n",
       "<path class=\"atom-16\" d=\"M 130.4 75.8 L 131.7 75.8 L 131.7 71.2 L 130.3 71.7 L 130.1 71.2 L 131.9 70.4 L 132.5 70.5 L 132.5 75.8 L 133.7 75.8 L 133.7 76.4 L 130.4 76.4 L 130.4 75.8 \" fill=\"#000000\"/>\n",
       "<path class=\"atom-16\" d=\"M 136.8 72.7 Q 137.3 72.7, 137.7 72.9 Q 138.2 73.1, 138.4 73.6 Q 138.6 74.0, 138.6 74.5 Q 138.6 75.1, 138.3 75.6 Q 138.1 76.0, 137.6 76.3 Q 137.2 76.5, 136.6 76.5 Q 135.5 76.5, 135.0 75.8 Q 134.4 75.1, 134.4 73.6 Q 134.4 72.0, 135.1 71.2 Q 135.8 70.3, 137.0 70.3 Q 137.4 70.3, 137.7 70.4 Q 138.1 70.5, 138.4 70.7 L 138.0 71.3 Q 137.6 71.0, 137.1 71.0 Q 136.2 71.0, 135.8 71.6 Q 135.3 72.1, 135.3 73.3 Q 135.6 73.0, 136.0 72.8 Q 136.4 72.7, 136.8 72.7 M 136.6 75.8 Q 136.9 75.8, 137.2 75.6 Q 137.5 75.5, 137.6 75.2 Q 137.8 74.9, 137.8 74.5 Q 137.8 74.0, 137.5 73.7 Q 137.2 73.4, 136.6 73.4 Q 136.3 73.4, 135.9 73.5 Q 135.5 73.7, 135.3 73.9 Q 135.3 74.9, 135.6 75.4 Q 135.9 75.8, 136.6 75.8 \" fill=\"#000000\"/>\n",
       "<path class=\"atom-17\" d=\"M 129.8 94.7 Q 129.8 93.2, 130.5 92.4 Q 131.2 91.6, 132.6 91.6 Q 133.8 91.6, 134.5 92.5 L 133.9 93.0 Q 133.4 92.3, 132.6 92.3 Q 131.7 92.3, 131.2 93.0 Q 130.7 93.6, 130.7 94.7 Q 130.7 95.9, 131.2 96.5 Q 131.7 97.1, 132.7 97.1 Q 133.3 97.1, 134.1 96.7 L 134.3 97.4 Q 134.0 97.6, 133.5 97.7 Q 133.1 97.8, 132.5 97.8 Q 131.2 97.8, 130.5 97.0 Q 129.8 96.2, 129.8 94.7 \" fill=\"#000000\"/>\n",
       "<path class=\"atom-17\" d=\"M 135.1 96.8 L 136.0 96.8 L 136.0 97.6 L 135.1 97.6 L 135.1 96.8 M 135.1 93.8 L 136.0 93.8 L 136.0 94.7 L 135.1 94.7 L 135.1 93.8 \" fill=\"#000000\"/>\n",
       "<path class=\"atom-17\" d=\"M 137.3 97.1 L 138.6 97.1 L 138.6 92.6 L 137.2 93.0 L 137.0 92.5 L 138.8 91.7 L 139.4 91.8 L 139.4 97.1 L 140.6 97.1 L 140.6 97.8 L 137.3 97.8 L 137.3 97.1 \" fill=\"#000000\"/>\n",
       "<path class=\"atom-17\" d=\"M 144.5 92.4 L 141.3 92.4 L 141.3 91.7 L 145.3 91.7 L 145.3 92.3 L 142.9 97.8 L 142.1 97.8 L 144.5 92.4 \" fill=\"#000000\"/>\n",
       "<path class=\"atom-18\" d=\"M 37.7 85.6 L 39.7 88.8 Q 39.9 89.1, 40.2 89.7 Q 40.5 90.3, 40.5 90.3 L 40.5 85.6 L 41.3 85.6 L 41.3 91.6 L 40.5 91.6 L 38.4 88.1 Q 38.1 87.7, 37.9 87.3 Q 37.6 86.8, 37.5 86.7 L 37.5 91.6 L 36.8 91.6 L 36.8 85.6 L 37.7 85.6 \" fill=\"#0000FF\"/>\n",
       "<path class=\"atom-18\" d=\"M 42.4 90.6 L 43.2 90.6 L 43.2 91.5 L 42.4 91.5 L 42.4 90.6 M 42.4 87.7 L 43.2 87.7 L 43.2 88.6 L 42.4 88.6 L 42.4 87.7 \" fill=\"#0000FF\"/>\n",
       "<path class=\"atom-18\" d=\"M 44.5 91.0 L 45.9 91.0 L 45.9 86.4 L 44.4 86.9 L 44.2 86.4 L 46.1 85.6 L 46.7 85.7 L 46.7 91.0 L 47.8 91.0 L 47.8 91.6 L 44.5 91.6 L 44.5 91.0 \" fill=\"#0000FF\"/>\n",
       "<path class=\"atom-18\" d=\"M 51.6 88.4 Q 52.2 88.7, 52.5 89.0 Q 52.8 89.4, 52.8 90.0 Q 52.8 90.5, 52.5 90.9 Q 52.3 91.3, 51.8 91.5 Q 51.3 91.7, 50.7 91.7 Q 49.7 91.7, 49.1 91.3 Q 48.5 90.8, 48.5 90.0 Q 48.5 89.5, 48.8 89.1 Q 49.1 88.8, 49.6 88.5 Q 49.2 88.2, 49.0 87.9 Q 48.8 87.6, 48.8 87.1 Q 48.8 86.4, 49.3 86.0 Q 49.8 85.5, 50.7 85.5 Q 51.6 85.5, 52.1 86.0 Q 52.6 86.4, 52.6 87.1 Q 52.6 87.5, 52.3 87.9 Q 52.1 88.2, 51.6 88.4 M 50.7 86.2 Q 50.2 86.2, 49.9 86.4 Q 49.6 86.7, 49.6 87.1 Q 49.6 87.4, 49.8 87.6 Q 50.0 87.8, 50.3 87.9 Q 50.5 88.1, 51.0 88.2 Q 51.4 88.0, 51.6 87.7 Q 51.7 87.4, 51.7 87.1 Q 51.7 86.7, 51.5 86.4 Q 51.2 86.2, 50.7 86.2 M 50.7 91.1 Q 51.3 91.1, 51.6 90.8 Q 52.0 90.5, 52.0 90.0 Q 52.0 89.7, 51.8 89.5 Q 51.6 89.2, 51.3 89.1 Q 51.1 89.0, 50.6 88.9 L 50.2 88.7 Q 49.8 89.0, 49.6 89.3 Q 49.4 89.6, 49.4 90.0 Q 49.4 90.5, 49.8 90.8 Q 50.1 91.1, 50.7 91.1 \" fill=\"#0000FF\"/>\n",
       "<path class=\"atom-18\" d=\"M 42.4 78.8 L 43.2 78.8 L 43.2 81.3 L 46.3 81.3 L 46.3 78.8 L 47.1 78.8 L 47.1 84.8 L 46.3 84.8 L 46.3 82.0 L 43.2 82.0 L 43.2 84.8 L 42.4 84.8 L 42.4 78.8 \" fill=\"#0000FF\"/>\n",
       "<path class=\"atom-18\" d=\"M 48.3 79.8 L 49.4 79.8 L 49.4 78.7 L 49.8 78.7 L 49.8 79.8 L 50.9 79.8 L 50.9 80.2 L 49.8 80.2 L 49.8 81.4 L 49.4 81.4 L 49.4 80.2 L 48.3 80.2 L 48.3 79.8 \" fill=\"#0000FF\"/>\n",
       "<path class=\"atom-19\" d=\"M 41.4 67.3 Q 41.4 65.8, 42.1 65.0 Q 42.8 64.2, 44.1 64.2 Q 45.4 64.2, 46.1 65.1 L 45.5 65.6 Q 45.0 64.9, 44.1 64.9 Q 43.2 64.9, 42.8 65.5 Q 42.3 66.1, 42.3 67.3 Q 42.3 68.5, 42.8 69.1 Q 43.3 69.7, 44.2 69.7 Q 44.9 69.7, 45.7 69.3 L 45.9 70.0 Q 45.6 70.2, 45.1 70.3 Q 44.7 70.4, 44.1 70.4 Q 42.8 70.4, 42.1 69.6 Q 41.4 68.8, 41.4 67.3 \" fill=\"#000000\"/>\n",
       "<path class=\"atom-19\" d=\"M 46.7 69.3 L 47.6 69.3 L 47.6 70.2 L 46.7 70.2 L 46.7 69.3 M 46.7 66.4 L 47.6 66.4 L 47.6 67.3 L 46.7 67.3 L 46.7 66.4 \" fill=\"#000000\"/>\n",
       "<path class=\"atom-19\" d=\"M 48.9 69.7 L 50.2 69.7 L 50.2 65.1 L 48.8 65.6 L 48.6 65.1 L 50.4 64.3 L 51.0 64.4 L 51.0 69.7 L 52.2 69.7 L 52.2 70.3 L 48.9 70.3 L 48.9 69.7 \" fill=\"#000000\"/>\n",
       "<path class=\"atom-19\" d=\"M 54.9 64.2 Q 56.0 64.2, 56.5 65.0 Q 57.1 65.7, 57.1 67.1 Q 57.1 68.7, 56.4 69.6 Q 55.7 70.4, 54.5 70.4 Q 54.1 70.4, 53.8 70.3 Q 53.4 70.2, 53.1 70.1 L 53.5 69.5 Q 53.9 69.7, 54.5 69.7 Q 55.3 69.7, 55.7 69.2 Q 56.2 68.6, 56.2 67.5 Q 55.9 67.8, 55.5 67.9 Q 55.1 68.1, 54.7 68.1 Q 54.2 68.1, 53.8 67.8 Q 53.4 67.6, 53.1 67.2 Q 52.9 66.8, 52.9 66.2 Q 52.9 65.7, 53.2 65.2 Q 53.4 64.7, 53.9 64.5 Q 54.3 64.2, 54.9 64.2 M 53.8 66.2 Q 53.8 66.8, 54.1 67.1 Q 54.3 67.4, 54.9 67.4 Q 55.2 67.4, 55.6 67.2 Q 56.0 67.1, 56.2 66.8 Q 56.2 65.8, 55.9 65.4 Q 55.6 64.9, 54.9 64.9 Q 54.6 64.9, 54.3 65.1 Q 54.1 65.3, 53.9 65.6 Q 53.8 65.9, 53.8 66.2 \" fill=\"#000000\"/>\n",
       "<path class=\"atom-20\" d=\"M 12.5 100.2 Q 12.5 98.7, 13.2 97.9 Q 13.9 97.1, 15.3 97.1 Q 16.5 97.1, 17.2 98.0 L 16.6 98.4 Q 16.1 97.8, 15.3 97.8 Q 14.4 97.8, 13.9 98.4 Q 13.4 99.0, 13.4 100.2 Q 13.4 101.4, 13.9 102.0 Q 14.4 102.6, 15.4 102.6 Q 16.0 102.6, 16.8 102.2 L 17.0 102.8 Q 16.7 103.0, 16.2 103.2 Q 15.8 103.3, 15.2 103.3 Q 13.9 103.3, 13.2 102.5 Q 12.5 101.7, 12.5 100.2 \" fill=\"#000000\"/>\n",
       "<path class=\"atom-20\" d=\"M 17.9 102.2 L 18.7 102.2 L 18.7 103.1 L 17.9 103.1 L 17.9 102.2 M 17.9 99.3 L 18.7 99.3 L 18.7 100.1 L 17.9 100.1 L 17.9 99.3 \" fill=\"#000000\"/>\n",
       "<path class=\"atom-20\" d=\"M 19.7 98.3 Q 20.0 97.7, 20.5 97.4 Q 21.0 97.1, 21.7 97.1 Q 22.7 97.1, 23.2 97.6 Q 23.7 98.1, 23.7 99.0 Q 23.7 99.9, 23.0 100.7 Q 22.4 101.5, 21.0 102.5 L 23.8 102.5 L 23.8 103.2 L 19.7 103.2 L 19.7 102.6 Q 20.8 101.8, 21.5 101.2 Q 22.2 100.6, 22.5 100.1 Q 22.8 99.6, 22.8 99.0 Q 22.8 98.4, 22.5 98.1 Q 22.2 97.8, 21.7 97.8 Q 21.3 97.8, 20.9 98.0 Q 20.6 98.2, 20.4 98.6 L 19.7 98.3 \" fill=\"#000000\"/>\n",
       "<path class=\"atom-20\" d=\"M 26.9 103.3 Q 25.7 103.3, 25.2 102.5 Q 24.6 101.6, 24.6 100.2 Q 24.6 98.7, 25.2 97.9 Q 25.7 97.1, 26.9 97.1 Q 28.0 97.1, 28.5 97.9 Q 29.1 98.7, 29.1 100.2 Q 29.1 101.6, 28.5 102.5 Q 28.0 103.3, 26.9 103.3 M 26.9 102.6 Q 27.5 102.6, 27.9 102.0 Q 28.2 101.4, 28.2 100.2 Q 28.2 99.0, 27.9 98.4 Q 27.5 97.8, 26.9 97.8 Q 26.2 97.8, 25.8 98.4 Q 25.5 99.0, 25.5 100.2 Q 25.5 101.4, 25.8 102.0 Q 26.2 102.6, 26.9 102.6 \" fill=\"#000000\"/>\n",
       "</svg>"
      ],
      "text/plain": [
       "<IPython.core.display.SVG object>"
      ]
     },
     "execution_count": 29,
     "metadata": {},
     "output_type": "execute_result"
    }
   ],
   "source": [
    "from IPython.display import SVG\n",
    "from visualization.visualize_molecules import to_SVG\n",
    "SVG(to_SVG(psm(data[4]), add_idx=True))"
   ]
  },
  {
   "cell_type": "code",
   "execution_count": 17,
   "metadata": {},
   "outputs": [
    {
     "data": {
      "image/png": "[encoded data removed]",
      "text/plain": [
       "<rdkit.Chem.rdchem.RWMol at 0x7f4248827e00>"
      ]
     },
     "execution_count": 17,
     "metadata": {},
     "output_type": "execute_result"
    }
   ],
   "source": [
    "data[3].mol"
   ]
  },
  {
   "cell_type": "code",
   "execution_count": null,
   "metadata": {},
   "outputs": [],
   "source": []
  }
 ],
 "metadata": {
  "kernelspec": {
   "display_name": "substructureML2",
   "language": "python",
   "name": "python3"
  },
  "language_info": {
   "codemirror_mode": {
    "name": "ipython",
    "version": 3
   },
   "file_extension": ".py",
   "mimetype": "text/x-python",
   "name": "python",
   "nbconvert_exporter": "python",
   "pygments_lexer": "ipython3",
   "version": "3.8.17"
  },
  "orig_nbformat": 4
 },
 "nbformat": 4,
 "nbformat_minor": 2
}
